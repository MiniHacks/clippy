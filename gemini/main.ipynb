{
 "cells": [
  {
   "cell_type": "code",
   "execution_count": 1,
   "metadata": {},
   "outputs": [
    {
     "name": "stdout",
     "output_type": "stream",
     "text": [
      "Requirement already satisfied: opencv-python in /Users/shy/Projects/clippy/env/lib/python3.10/site-packages (4.9.0.80)\n",
      "Requirement already satisfied: numpy>=1.21.2 in /Users/shy/Projects/clippy/env/lib/python3.10/site-packages (from opencv-python) (1.26.4)\n",
      "\n",
      "\u001b[1m[\u001b[0m\u001b[34;49mnotice\u001b[0m\u001b[1;39;49m]\u001b[0m\u001b[39;49m A new release of pip available: \u001b[0m\u001b[31;49m22.3.1\u001b[0m\u001b[39;49m -> \u001b[0m\u001b[32;49m24.0\u001b[0m\n",
      "\u001b[1m[\u001b[0m\u001b[34;49mnotice\u001b[0m\u001b[1;39;49m]\u001b[0m\u001b[39;49m To update, run: \u001b[0m\u001b[32;49m/Users/shy/Projects/clippy/env/bin/python -m pip install --upgrade pip\u001b[0m\n"
     ]
    }
   ],
   "source": [
    "import sys\n",
    "!{sys.executable} -m pip install opencv-python"
   ]
  },
  {
   "cell_type": "code",
   "execution_count": 9,
   "metadata": {},
   "outputs": [],
   "source": [
    "import pathlib\n",
    "import textwrap\n",
    "\n",
    "import google.generativeai as genai\n",
    "\n",
    "from IPython.display import display\n",
    "from IPython.display import Markdown\n",
    "import cv2\n",
    "import shutil\n",
    "import ffmpeg\n",
    "import subprocess\n",
    "import os\n",
    "\n",
    "def to_markdown(text):\n",
    "  text = text.replace('•', '  *')\n",
    "  return Markdown(textwrap.indent(text, '> ', predicate=lambda _: True))"
   ]
  },
  {
   "cell_type": "code",
   "execution_count": 3,
   "metadata": {},
   "outputs": [],
   "source": [
    "import os\n",
    "\n",
    "GOOGLE_API_KEY= os.environ['GOOGLE_API_KEY']\n",
    "genai.configure(api_key=GOOGLE_API_KEY)"
   ]
  },
  {
   "cell_type": "code",
   "execution_count": 4,
   "metadata": {},
   "outputs": [
    {
     "name": "stdout",
     "output_type": "stream",
     "text": [
      "models/gemini-1.0-pro\n",
      "models/gemini-1.0-pro-001\n",
      "models/gemini-1.0-pro-latest\n",
      "models/gemini-1.0-pro-vision-latest\n",
      "models/gemini-1.5-pro-latest\n",
      "models/gemini-pro\n",
      "models/gemini-pro-vision\n"
     ]
    }
   ],
   "source": [
    "for m in genai.list_models():\n",
    "  if 'generateContent' in m.supported_generation_methods:\n",
    "    print(m.name)\n"
   ]
  },
  {
   "cell_type": "code",
   "execution_count": 5,
   "metadata": {},
   "outputs": [],
   "source": [
    "model = genai.GenerativeModel('gemini-pro')"
   ]
  },
  {
   "cell_type": "code",
   "execution_count": 9,
   "metadata": {},
   "outputs": [],
   "source": [
    "response = model.generate_content(\"What is the meaning of life?\")"
   ]
  },
  {
   "cell_type": "code",
   "execution_count": 10,
   "metadata": {},
   "outputs": [
    {
     "data": {
      "text/markdown": [
       "> The meaning of life is a deeply philosophical question that has been pondered by humans for centuries. There is no single, universally agreed-upon answer, and different people and cultures have come up with varying perspectives on this topic. Some common themes that emerge in discussions about the meaning of life include:\n",
       "> \n",
       "> 1. Purpose and Fulfillment: Many people find meaning in their lives by pursuing goals, passions, or activities that give them a sense of purpose and fulfillment. This could involve contributing to a cause, raising a family, pursuing a career, or engaging in creative endeavors.\n",
       "> \n",
       "> 2. Values and Ethics: Some individuals derive meaning from adhering to certain values and ethical principles. They may believe that their life is meaningful when they live in accordance with their values, such as kindness, integrity, honesty, or compassion.\n",
       "> \n",
       "> 3. Relationships and Connections: For many, the meaning of life is found in the relationships and connections they have with others. They experience love, joy, and a sense of belonging when surrounded by people they care about and who care about them.\n",
       "> \n",
       "> 4. Contribution and Legacy: Some people find meaning in making a contribution to the world or leaving a legacy behind them. They may work to improve their community, advance knowledge, or create something that will benefit future generations.\n",
       "> \n",
       "> 5. Meaningful Experiences: Others believe that the meaning of life lies in the experiences themselves. They seek out activities, moments, or adventures that bring them joy, wonder, awe, or a sense of transcendence.\n",
       "> \n",
       "> It's important to note that the meaning of life is subjective and can vary depending on individual beliefs, values, and experiences. What gives one person a sense of purpose may not resonate with another. The search for meaning is an ongoing journey, and there may be different layers or aspects of meaning that become more or less significant at different stages of a person's life.\n",
       "> \n",
       "> Ultimately, the meaning of life is not something that can be definitively defined or imposed upon others. It is a personal and deeply introspective question that each individual must explore and answer for themselves throughout their lifetime."
      ],
      "text/plain": [
       "<IPython.core.display.Markdown object>"
      ]
     },
     "execution_count": 10,
     "metadata": {},
     "output_type": "execute_result"
    }
   ],
   "source": [
    "to_markdown(response.text)"
   ]
  },
  {
   "cell_type": "code",
   "execution_count": null,
   "metadata": {},
   "outputs": [
    {
     "data": {
      "text/plain": []
     },
     "execution_count": 8,
     "metadata": {},
     "output_type": "execute_result"
    }
   ],
   "source": [
    "response.prompt_feedback"
   ]
  },
  {
   "cell_type": "code",
   "execution_count": null,
   "metadata": {},
   "outputs": [
    {
     "data": {
      "text/plain": [
       "[index: 0\n",
       "content {\n",
       "  parts {\n",
       "    text: \"**Philosophical Perspectives:**\\n\\n* **Existentialism:** Life has no inherent meaning, but individuals create their own meaning through choices and actions.\\n* **Absurdism:** Life is inherently meaningless, and the search for meaning is futile.\\n* **Stoicism:** Life is full of challenges and suffering, but meaning can be found by accepting one\\'s fate and living a virtuous life.\\n* **Epicureanism:** The meaning of life lies in seeking pleasure and avoiding pain.\\n* **Buddhism:** Life is a cycle of suffering caused by desire and attachment. Liberation from suffering (nirvana) is the ultimate goal.\\n* **Hinduism:** Life is a journey through multiple reincarnations, with the ultimate goal of reaching moksha (liberation from the cycle of birth and death).\\n\\n**Scientific Perspectives:**\\n\\n* **Evolutionary biology:** The purpose of life is to pass on genes through reproduction.\\n* **Neuroscience:** Meaning is a subjective experience created by the brain through the integration of thoughts, emotions, and experiences.\\n\\n**Personal Perspectives:**\\n\\n* **Values-based:** Meaning is derived from living in accordance with one\\'s values, pursuing goals, and making a contribution to the world.\\n* **Experiential:** Meaning is found in moments of joy, love, connection, and fulfillment.\\n* **Purpose-driven:** Meaning is centered around a higher purpose or calling in life, such as raising a family, pursuing a career, or helping others.\\n\\n**Other Perspectives:**\\n\\n* **Religious:** The meaning of life is determined by a divine creator or higher power.\\n* **Cultural:** Different cultures have their own socially constructed views on the meaning of life.\\n* **Nihilism:** There is no meaning to life.\\n\\n**Conclusion:**\\n\\nThe meaning of life is a highly subjective and multifaceted question. Ultimately, each individual must define their own meaning through their experiences, values, and beliefs.\"\n",
       "  }\n",
       "  role: \"model\"\n",
       "}\n",
       "finish_reason: STOP\n",
       "safety_ratings {\n",
       "  category: HARM_CATEGORY_SEXUALLY_EXPLICIT\n",
       "  probability: NEGLIGIBLE\n",
       "}\n",
       "safety_ratings {\n",
       "  category: HARM_CATEGORY_HATE_SPEECH\n",
       "  probability: NEGLIGIBLE\n",
       "}\n",
       "safety_ratings {\n",
       "  category: HARM_CATEGORY_HARASSMENT\n",
       "  probability: NEGLIGIBLE\n",
       "}\n",
       "safety_ratings {\n",
       "  category: HARM_CATEGORY_DANGEROUS_CONTENT\n",
       "  probability: NEGLIGIBLE\n",
       "}\n",
       "]"
      ]
     },
     "execution_count": 9,
     "metadata": {},
     "output_type": "execute_result"
    }
   ],
   "source": [
    "response.candidates\n"
   ]
  },
  {
   "cell_type": "code",
   "execution_count": null,
   "metadata": {},
   "outputs": [],
   "source": [
    "response = model.generate_content(\"What is the meaning of life?\", stream=True)"
   ]
  },
  {
   "cell_type": "markdown",
   "metadata": {},
   "source": [
    "## Pro-Vision Video!"
   ]
  },
  {
   "cell_type": "code",
   "execution_count": 11,
   "metadata": {},
   "outputs": [],
   "source": [
    "model = genai.GenerativeModel('gemini-pro-vision')\n"
   ]
  },
  {
   "cell_type": "code",
   "execution_count": null,
   "metadata": {},
   "outputs": [
    {
     "name": "stdout",
     "output_type": "stream",
     "text": [
      "\u001b[36m/Users/shy/Desktop/\u001b[1;32m4-19-Sasha-blocked.MP4\u001b[0m\n"
     ]
    }
   ],
   "source": [
    "!ls /Users/shy/Desktop/4-19-Sasha-blocked.MP4   "
   ]
  },
  {
   "cell_type": "code",
   "execution_count": 15,
   "metadata": {},
   "outputs": [
    {
     "name": "stderr",
     "output_type": "stream",
     "text": [
      "ffmpeg version 6.1.1 Copyright (c) 2000-2023 the FFmpeg developers\n",
      "  built with Apple clang version 15.0.0 (clang-1500.1.0.2.5)\n",
      "  configuration: --prefix=/opt/homebrew/Cellar/ffmpeg/6.1.1_4 --enable-shared --enable-pthreads --enable-version3 --cc=clang --host-cflags= --host-ldflags='-Wl,-ld_classic' --enable-ffplay --enable-gnutls --enable-gpl --enable-libaom --enable-libaribb24 --enable-libbluray --enable-libdav1d --enable-libharfbuzz --enable-libjxl --enable-libmp3lame --enable-libopus --enable-librav1e --enable-librist --enable-librubberband --enable-libsnappy --enable-libsrt --enable-libssh --enable-libsvtav1 --enable-libtesseract --enable-libtheora --enable-libvidstab --enable-libvmaf --enable-libvorbis --enable-libvpx --enable-libwebp --enable-libx264 --enable-libx265 --enable-libxml2 --enable-libxvid --enable-lzma --enable-libfontconfig --enable-libfreetype --enable-frei0r --enable-libass --enable-libopencore-amrnb --enable-libopencore-amrwb --enable-libopenjpeg --enable-libopenvino --enable-libspeex --enable-libsoxr --enable-libzmq --enable-libzimg --disable-libjack --disable-indev=jack --enable-videotoolbox --enable-audiotoolbox --enable-neon\n",
      "  libavutil      58. 29.100 / 58. 29.100\n",
      "  libavcodec     60. 31.102 / 60. 31.102\n",
      "  libavformat    60. 16.100 / 60. 16.100\n",
      "  libavdevice    60.  3.100 / 60.  3.100\n",
      "  libavfilter     9. 12.100 /  9. 12.100\n",
      "  libswscale      7.  5.100 /  7.  5.100\n",
      "  libswresample   4. 12.100 /  4. 12.100\n",
      "  libpostproc    57.  3.100 / 57.  3.100\n",
      "Input #0, mov,mp4,m4a,3gp,3g2,mj2, from '/Users/shy/Desktop/4-19-Sasha-blocked.MP4':\n",
      "  Metadata:\n",
      "    major_brand     : mp41\n",
      "    minor_version   : 538120216\n",
      "    compatible_brands: mp41\n",
      "    creation_time   : 2024-04-20T02:12:46.000000Z\n",
      "    firmware        : H23.01.02.20.00\n",
      "  Duration: 00:00:07.47, start: 0.000000, bitrate: 2451 kb/s\n",
      "  Stream #0:0[0x1](eng): Video: hevc (Main) (hvc1 / 0x31637668), yuvj420p(pc, bt709), 3840x2160 [SAR 1:1 DAR 16:9], 2165 kb/s, 29.97 fps, 29.97 tbr, 30k tbn (default)\n",
      "    Metadata:\n",
      "      creation_time   : 2024-04-20T02:12:46.000000Z\n",
      "      handler_name    : GoPro H.265\n",
      "      vendor_id       : [0][0][0][0]\n",
      "      encoder         : GoPro H.265 encoder\n",
      "      timecode        : 19:12:46;16\n",
      "  Stream #0:1[0x2]: Audio: aac (LC) (mp4a / 0x6134706D), 48000 Hz, stereo, fltp, 189 kb/s (default)\n",
      "    Metadata:\n",
      "      creation_time   : 2024-04-20T02:12:46.000000Z\n",
      "      handler_name    : GoPro AAC\n",
      "      vendor_id       : [0][0][0][0]\n",
      "      timecode        : 19:12:46;16\n",
      "  Stream #0:2[0x3](eng): Data: none (tmcd / 0x64636D74), 0 kb/s (default)\n",
      "    Metadata:\n",
      "      creation_time   : 2024-04-20T02:12:46.000000Z\n",
      "      handler_name    : GoPro TCD\n",
      "      timecode        : 19:12:46;16\n",
      "  Stream #0:3[0x4](eng): Data: bin_data (gpmd / 0x646D7067), 50 kb/s (default)\n",
      "    Metadata:\n",
      "      creation_time   : 2024-04-20T02:12:46.000000Z\n",
      "      handler_name    : GoPro MET\n",
      "Stream mapping:\n",
      "  Stream #0:1 -> #0:0 (aac (native) -> mp3 (libmp3lame))\n",
      "Press [q] to stop, [?] for help\n",
      "Output #0, mp3, to '/Users/shy/Desktop/4-19-Sasha-blocked.mp3':\n",
      "  Metadata:\n",
      "    major_brand     : mp41\n",
      "    minor_version   : 538120216\n",
      "    compatible_brands: mp41\n",
      "    firmware        : H23.01.02.20.00\n",
      "    TSSE            : Lavf60.16.100\n",
      "  Stream #0:0: Audio: mp3, 48000 Hz, stereo, fltp (default)\n",
      "    Metadata:\n",
      "      creation_time   : 2024-04-20T02:12:46.000000Z\n",
      "      handler_name    : GoPro AAC\n",
      "      vendor_id       : [0][0][0][0]\n",
      "      timecode        : 19:12:46;16\n",
      "      encoder         : Lavc60.31.102 libmp3lame\n",
      "[out#0/mp3 @ 0x128e0a920] video:0kB audio:117kB subtitle:0kB other streams:0kB global headers:0kB muxing overhead: 0.309820%\n",
      "size=     117kB time=00:00:07.41 bitrate= 129.2kbits/s speed=64.1x    \n"
     ]
    }
   ],
   "source": [
    "video_file_name = \"/Users/shy/Desktop/4-19-Sasha-blocked.MP4\"\n",
    "\n",
    "audio_file_name = \"/Users/shy/Desktop/4-19-Sasha-blocked.mp3\"\n",
    "\n",
    "subprocess.call([\"ffmpeg\", \"-i\", video_file_name, audio_file_name, \"-y\"])\n",
    "\n",
    "audio_file = genai.upload_file(path=audio_file_name)"
   ]
  },
  {
   "cell_type": "code",
   "execution_count": 10,
   "metadata": {},
   "outputs": [
    {
     "name": "stdout",
     "output_type": "stream",
     "text": [
      "Extracting /Users/shy/Desktop/4-19-Sasha-blocked.MP4 at 1 frame per second. This might take a bit...\n",
      "Completed video frame extraction!\n",
      "\n",
      "Extracted: 8 frames\n"
     ]
    }
   ],
   "source": [
    "\n",
    "# Create or cleanup existing extracted image frames directory.\n",
    "FRAME_EXTRACTION_DIRECTORY = \"frames\"\n",
    "FRAME_PREFIX = \"_frame\"\n",
    "def create_frame_output_dir(output_dir):\n",
    "  if not os.path.exists(output_dir):\n",
    "    os.makedirs(output_dir)\n",
    "  else:\n",
    "    shutil.rmtree(output_dir)\n",
    "    os.makedirs(output_dir)\n",
    "\n",
    "def extract_frame_from_video(video_file_path):\n",
    "  print(f\"Extracting {video_file_path} at 1 frame per second. This might take a bit...\")\n",
    "  create_frame_output_dir(FRAME_EXTRACTION_DIRECTORY)\n",
    "  vidcap = cv2.VideoCapture(video_file_path)\n",
    "  fps = vidcap.get(cv2.CAP_PROP_FPS)\n",
    "  frame_duration = 1 / fps  # Time interval between frames (in seconds)\n",
    "  output_file_prefix = os.path.basename(video_file_path).replace('.', '_')\n",
    "  frame_count = 0\n",
    "  count = 0\n",
    "  while vidcap.isOpened():\n",
    "      success, frame = vidcap.read()\n",
    "      if not success: # End of video\n",
    "          break\n",
    "      if int(count / fps) == frame_count: # Extract a frame every second\n",
    "          min = frame_count // 60\n",
    "          sec = frame_count % 60\n",
    "          time_string = f\"{min:02d}:{sec:02d}\"\n",
    "          image_name = f\"{output_file_prefix}{FRAME_PREFIX}{time_string}.jpg\"\n",
    "          output_filename = os.path.join(FRAME_EXTRACTION_DIRECTORY, image_name)\n",
    "          cv2.imwrite(output_filename, frame)\n",
    "          frame_count += 1\n",
    "      count += 1\n",
    "  vidcap.release() # Release the capture object\\n\",\n",
    "  print(f\"Completed video frame extraction!\\n\\nExtracted: {frame_count} frames\")\n",
    "\n",
    "extract_frame_from_video(video_file_name)"
   ]
  },
  {
   "cell_type": "code",
   "execution_count": 11,
   "metadata": {},
   "outputs": [
    {
     "name": "stdout",
     "output_type": "stream",
     "text": [
      "Uploading 8 files. This might take a bit...\n",
      "Uploading: frames/4-19-Sasha-blocked_MP4_frame00:00.jpg...\n",
      "Uploading: frames/4-19-Sasha-blocked_MP4_frame00:01.jpg...\n",
      "Uploading: frames/4-19-Sasha-blocked_MP4_frame00:02.jpg...\n",
      "Uploading: frames/4-19-Sasha-blocked_MP4_frame00:03.jpg...\n",
      "Uploading: frames/4-19-Sasha-blocked_MP4_frame00:04.jpg...\n",
      "Uploading: frames/4-19-Sasha-blocked_MP4_frame00:05.jpg...\n",
      "Uploading: frames/4-19-Sasha-blocked_MP4_frame00:06.jpg...\n",
      "Uploading: frames/4-19-Sasha-blocked_MP4_frame00:07.jpg...\n",
      "Completed file uploads!\n",
      "\n",
      "Uploaded: 8 files\n"
     ]
    }
   ],
   "source": [
    "class File:\n",
    "  def __init__(self, file_path: str, display_name: str = None):\n",
    "    self.file_path = file_path\n",
    "    if display_name:\n",
    "      self.display_name = display_name\n",
    "    self.timestamp = get_timestamp(file_path)\n",
    "\n",
    "  def set_file_response(self, response):\n",
    "    self.response = response\n",
    "\n",
    "def get_timestamp(filename):\n",
    "  \"\"\"Extracts the frame count (as an integer) from a filename with the format\n",
    "     'output_file_prefix_frame00:00.jpg'.\n",
    "  \"\"\"\n",
    "  parts = filename.split(FRAME_PREFIX)\n",
    "  if len(parts) != 2:\n",
    "      return None  # Indicates the filename might be incorrectly formatted\n",
    "  return parts[1].split('.')[0]\n",
    "\n",
    "# Process each frame in the output directory\n",
    "files = os.listdir(FRAME_EXTRACTION_DIRECTORY)\n",
    "files = sorted(files)\n",
    "files_to_upload = []\n",
    "for file in files:\n",
    "  files_to_upload.append(\n",
    "      File(file_path=os.path.join(FRAME_EXTRACTION_DIRECTORY, file)))\n",
    "\n",
    "# Upload the files to the API\n",
    "uploaded_files = []\n",
    "print(f'Uploading {len(files_to_upload)} files. This might take a bit...')\n",
    "\n",
    "for file in files_to_upload:\n",
    "  print(f'Uploading: {file.file_path}...')\n",
    "  response = genai.upload_file(path=file.file_path)\n",
    "  file.set_file_response(response)\n",
    "  uploaded_files.append(file)\n",
    "\n",
    "print(f\"Completed file uploads!\\n\\nUploaded: {len(uploaded_files)} files\")\n",
    "     "
   ]
  },
  {
   "cell_type": "code",
   "execution_count": 12,
   "metadata": {},
   "outputs": [
    {
     "name": "stdout",
     "output_type": "stream",
     "text": [
      "https://generativelanguage.googleapis.com/v1beta/files/jlsp82dqvm0e\n",
      "https://generativelanguage.googleapis.com/v1beta/files/rrz4cbk64vnb\n",
      "https://generativelanguage.googleapis.com/v1beta/files/ljpl8398vjro\n",
      "https://generativelanguage.googleapis.com/v1beta/files/uvwqs6o38j75\n",
      "https://generativelanguage.googleapis.com/v1beta/files/bgyf1nf3w6o8\n",
      "https://generativelanguage.googleapis.com/v1beta/files/6s8ferghwpnf\n",
      "https://generativelanguage.googleapis.com/v1beta/files/7grp1u6hwvz7\n",
      "https://generativelanguage.googleapis.com/v1beta/files/rc643fgkbjo0\n"
     ]
    }
   ],
   "source": [
    "# List files uploaded in the API\n",
    "for n, f in zip(range(len(uploaded_files)), genai.list_files()):\n",
    "  print(f.uri)"
   ]
  },
  {
   "cell_type": "code",
   "execution_count": 16,
   "metadata": {},
   "outputs": [
    {
     "name": "stdout",
     "output_type": "stream",
     "text": [
      "A person is talking about using the \"magic of Gemini\" to create a highlight reel.\n"
     ]
    }
   ],
   "source": [
    "# Create the prompt.\n",
    "prompt = \"Describe this video.\"\n",
    "\n",
    "# Set the model to Gemini 1.5 Pro.\n",
    "model = genai.GenerativeModel(model_name=\"models/gemini-1.5-pro-latest\")\n",
    "\n",
    "# Make GenerateContent request with the structure described above.\n",
    "def make_request(prompt, files):\n",
    "  request = [prompt]\n",
    "  for file in files:\n",
    "    request.append(file.timestamp)\n",
    "    request.append(file.response)\n",
    "  return request\n",
    "\n",
    "# Make the LLM request.\n",
    "request = make_request(prompt, uploaded_files) + [audio_file]\n",
    "response = model.generate_content(request,\n",
    "                                  request_options={\"timeout\": 600})\n",
    "print(response.text)"
   ]
  },
  {
   "cell_type": "code",
   "execution_count": null,
   "metadata": {},
   "outputs": [
    {
     "name": "stdout",
     "output_type": "stream",
     "text": [
      "Deleting 8 images. This might take a bit...\n",
      "Deleted frames/4-19-Sasha-blocked_MP4_frame00:00.jpg at URI https://generativelanguage.googleapis.com/v1beta/files/8z7zppxtdqox\n",
      "Deleted frames/4-19-Sasha-blocked_MP4_frame00:01.jpg at URI https://generativelanguage.googleapis.com/v1beta/files/mx54h3r1s3n2\n",
      "Deleted frames/4-19-Sasha-blocked_MP4_frame00:02.jpg at URI https://generativelanguage.googleapis.com/v1beta/files/olakdz0bwtwn\n",
      "Deleted frames/4-19-Sasha-blocked_MP4_frame00:03.jpg at URI https://generativelanguage.googleapis.com/v1beta/files/yz7sr6msgvye\n",
      "Deleted frames/4-19-Sasha-blocked_MP4_frame00:04.jpg at URI https://generativelanguage.googleapis.com/v1beta/files/fnvdut3okxeq\n",
      "Deleted frames/4-19-Sasha-blocked_MP4_frame00:05.jpg at URI https://generativelanguage.googleapis.com/v1beta/files/cu85rdj4fws2\n",
      "Deleted frames/4-19-Sasha-blocked_MP4_frame00:06.jpg at URI https://generativelanguage.googleapis.com/v1beta/files/8dphby54g4gp\n",
      "Deleted frames/4-19-Sasha-blocked_MP4_frame00:07.jpg at URI https://generativelanguage.googleapis.com/v1beta/files/qy3tmch23gzr\n",
      "Completed deleting files!\n",
      "\n",
      "Deleted: 8 files\n"
     ]
    }
   ],
   "source": [
    "print(f'Deleting {len(uploaded_files)} images. This might take a bit...')\n",
    "for file in uploaded_files:\n",
    "  genai.delete_file(file.response.name)\n",
    "  print(f'Deleted {file.file_path} at URI {file.response.uri}')\n",
    "print(f\"Completed deleting files!\\n\\nDeleted: {len(uploaded_files)} files\")"
   ]
  },
  {
   "cell_type": "code",
   "execution_count": null,
   "metadata": {},
   "outputs": [],
   "source": []
  }
 ],
 "metadata": {
  "kernelspec": {
   "display_name": "env",
   "language": "python",
   "name": "python3"
  },
  "language_info": {
   "codemirror_mode": {
    "name": "ipython",
    "version": 3
   },
   "file_extension": ".py",
   "mimetype": "text/x-python",
   "name": "python",
   "nbconvert_exporter": "python",
   "pygments_lexer": "ipython3",
   "version": "3.10.10"
  }
 },
 "nbformat": 4,
 "nbformat_minor": 2
}
