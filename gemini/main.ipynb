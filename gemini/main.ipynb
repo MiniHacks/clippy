{
 "cells": [
  {
   "cell_type": "code",
   "execution_count": 4,
   "metadata": {},
   "outputs": [],
   "source": [
    "import pathlib\n",
    "import textwrap\n",
    "\n",
    "import google.generativeai as genai\n",
    "\n",
    "from IPython.display import display\n",
    "from IPython.display import Markdown\n",
    "\n",
    "\n",
    "def to_markdown(text):\n",
    "  text = text.replace('•', '  *')\n",
    "  return Markdown(textwrap.indent(text, '> ', predicate=lambda _: True))"
   ]
  },
  {
   "cell_type": "code",
   "execution_count": 9,
   "metadata": {},
   "outputs": [],
   "source": [
    "import os\n",
    "\n",
    "GOOGLE_API_KEY= os.environ['GOOGLE_API_KEY']\n",
    "genai.configure(api_key=GOOGLE_API_KEY)"
   ]
  },
  {
   "cell_type": "code",
   "execution_count": 10,
   "metadata": {},
   "outputs": [
    {
     "name": "stdout",
     "output_type": "stream",
     "text": [
      "models/gemini-1.0-pro\n",
      "models/gemini-1.0-pro-001\n",
      "models/gemini-1.0-pro-latest\n",
      "models/gemini-1.0-pro-vision-latest\n",
      "models/gemini-1.5-pro-latest\n",
      "models/gemini-pro\n",
      "models/gemini-pro-vision\n"
     ]
    }
   ],
   "source": [
    "for m in genai.list_models():\n",
    "  if 'generateContent' in m.supported_generation_methods:\n",
    "    print(m.name)\n"
   ]
  },
  {
   "cell_type": "code",
   "execution_count": 11,
   "metadata": {},
   "outputs": [],
   "source": [
    "model = genai.GenerativeModel('gemini-pro')"
   ]
  },
  {
   "cell_type": "code",
   "execution_count": 19,
   "metadata": {},
   "outputs": [],
   "source": [
    "response = model.generate_content(\"What is the meaning of life?\")"
   ]
  },
  {
   "cell_type": "code",
   "execution_count": 20,
   "metadata": {},
   "outputs": [
    {
     "data": {
      "text/markdown": [
       "> The meaning of life is a deeply personal and philosophical question that has been pondered by humans for centuries. There is no one definitive answer, as the meaning of life can vary depending on individual beliefs, values, and experiences. However, some common themes that emerge in discussions about the meaning of life include:\n",
       "> \n",
       "> * **Purpose:** Many people believe that life has a purpose, whether it is to raise a family, make a difference in the world, or simply to enjoy the experience of being alive.\n",
       "> * **Growth:** Life can be seen as a journey of self-discovery and growth. Through experiences, both positive and negative, we learn and evolve as individuals.\n",
       "> * **Connection:** We are social beings, and our relationships with others play a vital role in our sense of meaning and purpose.\n",
       "> * **Contribution:** Feeling like we are making a positive contribution to the world can give us a sense of purpose and fulfillment.\n",
       "> * **Legacy:** What we leave behind after we are gone can also contribute to the meaning of our lives. This can include our children, our work, or our impact on the world.\n",
       "> \n",
       "> Ultimately, the meaning of life is something that each individual must discover for themselves. There is no right or wrong answer, and the journey of finding meaning can be an ongoing process."
      ],
      "text/plain": [
       "<IPython.core.display.Markdown object>"
      ]
     },
     "execution_count": 20,
     "metadata": {},
     "output_type": "execute_result"
    }
   ],
   "source": [
    "to_markdown(response.text)"
   ]
  },
  {
   "cell_type": "code",
   "execution_count": 21,
   "metadata": {},
   "outputs": [
    {
     "data": {
      "text/plain": []
     },
     "execution_count": 21,
     "metadata": {},
     "output_type": "execute_result"
    }
   ],
   "source": [
    "response.prompt_feedback"
   ]
  },
  {
   "cell_type": "code",
   "execution_count": 22,
   "metadata": {},
   "outputs": [
    {
     "data": {
      "text/plain": [
       "[index: 0\n",
       "content {\n",
       "  parts {\n",
       "    text: \"The meaning of life is a deeply personal and philosophical question that has been pondered by humans for centuries. There is no one definitive answer, as the meaning of life can vary depending on individual beliefs, values, and experiences. However, some common themes that emerge in discussions about the meaning of life include:\\n\\n* **Purpose:** Many people believe that life has a purpose, whether it is to raise a family, make a difference in the world, or simply to enjoy the experience of being alive.\\n* **Growth:** Life can be seen as a journey of self-discovery and growth. Through experiences, both positive and negative, we learn and evolve as individuals.\\n* **Connection:** We are social beings, and our relationships with others play a vital role in our sense of meaning and purpose.\\n* **Contribution:** Feeling like we are making a positive contribution to the world can give us a sense of purpose and fulfillment.\\n* **Legacy:** What we leave behind after we are gone can also contribute to the meaning of our lives. This can include our children, our work, or our impact on the world.\\n\\nUltimately, the meaning of life is something that each individual must discover for themselves. There is no right or wrong answer, and the journey of finding meaning can be an ongoing process.\"\n",
       "  }\n",
       "  role: \"model\"\n",
       "}\n",
       "finish_reason: STOP\n",
       "safety_ratings {\n",
       "  category: HARM_CATEGORY_SEXUALLY_EXPLICIT\n",
       "  probability: NEGLIGIBLE\n",
       "}\n",
       "safety_ratings {\n",
       "  category: HARM_CATEGORY_HATE_SPEECH\n",
       "  probability: NEGLIGIBLE\n",
       "}\n",
       "safety_ratings {\n",
       "  category: HARM_CATEGORY_HARASSMENT\n",
       "  probability: NEGLIGIBLE\n",
       "}\n",
       "safety_ratings {\n",
       "  category: HARM_CATEGORY_DANGEROUS_CONTENT\n",
       "  probability: NEGLIGIBLE\n",
       "}\n",
       "]"
      ]
     },
     "execution_count": 22,
     "metadata": {},
     "output_type": "execute_result"
    }
   ],
   "source": [
    "response.candidates\n"
   ]
  },
  {
   "cell_type": "code",
   "execution_count": 23,
   "metadata": {},
   "outputs": [],
   "source": [
    "response = model.generate_content(\"What is the meaning of life?\", stream=True)"
   ]
  },
  {
   "cell_type": "code",
   "execution_count": 24,
   "metadata": {},
   "outputs": [
    {
     "name": "stdout",
     "output_type": "stream",
     "text": [
      "There is no universally accepted answer to the question \"What is the meaning of life\n",
      "________________________________________________________________________________\n",
      "?\". Different people may have different beliefs and perspectives on this matter, and there may be multiple valid interpretations. Some common views include:\n",
      "\n",
      "**Purpose and Fulfillment:**\n",
      "________________________________________________________________________________\n",
      "\n",
      "* Finding a sense of purpose and meaning through personal goals, relationships, work, or making a positive impact on the world.\n",
      "* Identifying one's values and living a life that aligns with them, pursuing fulfillment and happiness.\n",
      "\n",
      "**Experiences and Connections:**\n",
      "* Embracing the present moment and cherishing\n",
      "________________________________________________________________________________\n",
      " the experiences life offers, both joyful and challenging.\n",
      "* Connecting with others, building meaningful relationships, and sharing love.\n",
      "\n",
      "**Personal Growth and Self-Understanding:**\n",
      "* Continuously learning, growing, and evolving as an individual.\n",
      "* Understanding oneself, their strengths, weaknesses, and aspirations.\n",
      "\n",
      "**Service and Contribution:**\n",
      "* Using one's skills, resources, or time to help others, make a difference in the community, or support causes that matter.\n",
      "* Contributing to the greater good and leaving a positive legacy.\n",
      "\n",
      "**Spiritual or Existential Perspectives:**\n",
      "* Exploring spiritual beliefs and practices to find meaning and purpose\n",
      "________________________________________________________________________________\n",
      " in life.\n",
      "* Contemplating the nature of existence, death, and the universe, seeking a deeper understanding of one's place in it.\n",
      "\n",
      "**Subjective Perspective:**\n",
      "* The meaning of life is unique to each individual and may change over time.\n",
      "* It is a personal journey of exploration and discovery, finding what brings joy, fulfillment, and a sense of purpose to one's life.\n",
      "\n",
      "Ultimately, the meaning of life is often multifaceted and can be shaped by personal experiences, beliefs, and values. It is an ongoing process of seeking understanding and finding purpose in the human experience.\n",
      "________________________________________________________________________________\n"
     ]
    }
   ],
   "source": [
    "for chunk in response:\n",
    "  print(chunk.text)\n",
    "  print(\"_\"*80)"
   ]
  },
  {
   "cell_type": "markdown",
   "metadata": {},
   "source": [
    "## Pro-Vision Video!"
   ]
  },
  {
   "cell_type": "code",
   "execution_count": 25,
   "metadata": {},
   "outputs": [],
   "source": [
    "model = genai.GenerativeModel('gemini-pro-vision')\n"
   ]
  },
  {
   "cell_type": "code",
   "execution_count": null,
   "metadata": {},
   "outputs": [],
   "source": []
  }
 ],
 "metadata": {
  "kernelspec": {
   "display_name": "env",
   "language": "python",
   "name": "python3"
  },
  "language_info": {
   "codemirror_mode": {
    "name": "ipython",
    "version": 3
   },
   "file_extension": ".py",
   "mimetype": "text/x-python",
   "name": "python",
   "nbconvert_exporter": "python",
   "pygments_lexer": "ipython3",
   "version": "3.10.10"
  }
 },
 "nbformat": 4,
 "nbformat_minor": 2
}
