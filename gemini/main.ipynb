{
    "cells": [
        {
            "cell_type": "markdown",
            "metadata": {},
            "source": [
                "## Testing"
            ]
        },
        {
            "cell_type": "code",
            "execution_count": 1,
            "metadata": {
                "ExecuteTime": {
                    "end_time": "2024-04-20T18:36:06.856418Z",
                    "start_time": "2024-04-20T18:36:05.223218Z"
                }
            },
            "outputs": [
                {
                    "name": "stdout",
                    "output_type": "stream",
                    "text": [
                        "Requirement already satisfied: opencv-python in /Users/shy/Projects/clippy/env/lib/python3.10/site-packages (4.9.0.80)\n",
                        "Requirement already satisfied: IPython in /Users/shy/Projects/clippy/env/lib/python3.10/site-packages (8.23.0)\n",
                        "Requirement already satisfied: ffmpeg in /Users/shy/Projects/clippy/env/lib/python3.10/site-packages (1.4)\n",
                        "Requirement already satisfied: tqdm in /Users/shy/Projects/clippy/env/lib/python3.10/site-packages (4.66.2)\n",
                        "Requirement already satisfied: google-generativeai in /Users/shy/Projects/clippy/env/lib/python3.10/site-packages (0.5.2)\n",
                        "Collecting google\n",
                        "  Downloading google-3.0.0-py2.py3-none-any.whl (45 kB)\n",
                        "\u001b[2K     \u001b[38;2;114;156;31m━━━━━━━━━━━━━━━━━━━━━━━━━━━━━━━━━━━━━━━━\u001b[0m \u001b[32m45.3/45.3 kB\u001b[0m \u001b[31m1.6 MB/s\u001b[0m eta \u001b[36m0:00:00\u001b[0m\n",
                        "\u001b[?25h\u001b[31mERROR: Could not find a version that satisfies the requirement cv2 (from versions: none)\u001b[0m\u001b[31m\n",
                        "\u001b[0m\u001b[31mERROR: No matching distribution found for cv2\u001b[0m\u001b[31m\n",
                        "\u001b[0m\n",
                        "\u001b[1m[\u001b[0m\u001b[34;49mnotice\u001b[0m\u001b[1;39;49m]\u001b[0m\u001b[39;49m A new release of pip available: \u001b[0m\u001b[31;49m22.3.1\u001b[0m\u001b[39;49m -> \u001b[0m\u001b[32;49m24.0\u001b[0m\n",
                        "\u001b[1m[\u001b[0m\u001b[34;49mnotice\u001b[0m\u001b[1;39;49m]\u001b[0m\u001b[39;49m To update, run: \u001b[0m\u001b[32;49m/Users/shy/Projects/clippy/env/bin/python -m pip install --upgrade pip\u001b[0m\n"
                    ]
                }
            ],
            "source": [
                "import sys\n",
                "!{sys.executable} -m pip install opencv-python IPython ffmpeg tqdm google-generativeai google cv2"
            ]
        },
        {
            "cell_type": "code",
            "execution_count": 2,
            "metadata": {},
            "outputs": [
                {
                    "name": "stderr",
                    "output_type": "stream",
                    "text": [
                        "/Users/shy/Projects/clippy/env/lib/python3.10/site-packages/tqdm/auto.py:21: TqdmWarning: IProgress not found. Please update jupyter and ipywidgets. See https://ipywidgets.readthedocs.io/en/stable/user_install.html\n",
                        "  from .autonotebook import tqdm as notebook_tqdm\n"
                    ]
                }
            ],
            "source": [
                "from pathlib import Path\n",
                "import textwrap\n",
                "\n",
                "import google.generativeai as genai\n",
                "\n",
                "from IPython.display import display\n",
                "from IPython.display import Markdown\n",
                "import cv2\n",
                "import shutil\n",
                "import ffmpeg\n",
                "import subprocess\n",
                "import os\n",
                "from tqdm import tqdm\n",
                "\n",
                "def to_markdown(text):\n",
                "  text = text.replace('•', '  *')\n",
                "  return Markdown(textwrap.indent(text, '> ', predicate=lambda _: True))"
            ]
        },
        {
            "cell_type": "code",
            "execution_count": 3,
            "metadata": {
                "ExecuteTime": {
                    "end_time": "2024-04-20T19:14:09.312055Z",
                    "start_time": "2024-04-20T19:14:09.305171Z"
                }
            },
            "outputs": [],
            "source": [
                "import os\n",
                "\n",
                "genai.configure(api_key=os.environ['GOOGLE_API_KEY'])"
            ]
        },
        {
            "cell_type": "code",
            "execution_count": 4,
            "metadata": {
                "ExecuteTime": {
                    "end_time": "2024-04-20T18:45:26.457375Z",
                    "start_time": "2024-04-20T18:45:26.358655Z"
                }
            },
            "outputs": [
                {
                    "name": "stdout",
                    "output_type": "stream",
                    "text": [
                        "models/gemini-1.0-pro\n",
                        "models/gemini-1.0-pro-001\n",
                        "models/gemini-1.0-pro-latest\n",
                        "models/gemini-1.0-pro-vision-latest\n",
                        "models/gemini-1.5-pro-latest\n",
                        "models/gemini-pro\n",
                        "models/gemini-pro-vision\n"
                    ]
                }
            ],
            "source": [
                "for m in genai.list_models():\n",
                "  if 'generateContent' in m.supported_generation_methods:\n",
                "    print(m.name)\n"
            ]
        },
        {
            "cell_type": "code",
            "execution_count": 5,
            "metadata": {
                "ExecuteTime": {
                    "end_time": "2024-04-20T18:43:51.607177Z",
                    "start_time": "2024-04-20T18:43:51.605133Z"
                }
            },
            "outputs": [],
            "source": [
                "model = genai.GenerativeModel('gemini-pro')"
            ]
        },
        {
            "cell_type": "code",
            "execution_count": null,
            "metadata": {},
            "outputs": [],
            "source": []
        },
        {
            "cell_type": "code",
            "execution_count": 6,
            "metadata": {
                "ExecuteTime": {
                    "end_time": "2024-04-20T18:45:35.201801Z",
                    "start_time": "2024-04-20T18:45:29.787377Z"
                }
            },
            "outputs": [],
            "source": [
                "response = model.generate_content(\"What is the meaning of life?\")"
            ]
        },
        {
            "cell_type": "code",
            "execution_count": 7,
            "metadata": {
                "ExecuteTime": {
                    "end_time": "2024-04-20T18:45:37.870101Z",
                    "start_time": "2024-04-20T18:45:37.856484Z"
                }
            },
            "outputs": [
                {
                    "name": "stdout",
                    "output_type": "stream",
                    "text": [
                        "response:\n",
                        "GenerateContentResponse(\n",
                        "    done=True,\n",
                        "    iterator=None,\n",
                        "    result=glm.GenerateContentResponse({'candidates': [{'finish_reason': 4, 'index': 0, 'safety_ratings': [], 'token_count': 0, 'grounding_attributions': []}]}),\n",
                        ")\n"
                    ]
                },
                {
                    "ename": "ValueError",
                    "evalue": "The `response.text` quick accessor only works when the response contains a valid `Part`, but none was returned. Check the `candidate.safety_ratings` to see if the response was blocked.",
                    "output_type": "error",
                    "traceback": [
                        "\u001b[0;31m---------------------------------------------------------------------------\u001b[0m",
                        "\u001b[0;31mValueError\u001b[0m                                Traceback (most recent call last)",
                        "Cell \u001b[0;32mIn[7], line 2\u001b[0m\n\u001b[1;32m      1\u001b[0m \u001b[38;5;28mprint\u001b[39m(response)\n\u001b[0;32m----> 2\u001b[0m to_markdown(\u001b[43mresponse\u001b[49m\u001b[38;5;241;43m.\u001b[39;49m\u001b[43mtext\u001b[49m)\n",
                        "File \u001b[0;32m~/Projects/clippy/env/lib/python3.10/site-packages/google/generativeai/types/generation_types.py:356\u001b[0m, in \u001b[0;36mBaseGenerateContentResponse.text\u001b[0;34m(self)\u001b[0m\n\u001b[1;32m    354\u001b[0m parts \u001b[38;5;241m=\u001b[39m \u001b[38;5;28mself\u001b[39m\u001b[38;5;241m.\u001b[39mparts\n\u001b[1;32m    355\u001b[0m \u001b[38;5;28;01mif\u001b[39;00m \u001b[38;5;129;01mnot\u001b[39;00m parts:\n\u001b[0;32m--> 356\u001b[0m     \u001b[38;5;28;01mraise\u001b[39;00m \u001b[38;5;167;01mValueError\u001b[39;00m(\n\u001b[1;32m    357\u001b[0m         \u001b[38;5;124m\"\u001b[39m\u001b[38;5;124mThe `response.text` quick accessor only works when the response contains a valid \u001b[39m\u001b[38;5;124m\"\u001b[39m\n\u001b[1;32m    358\u001b[0m         \u001b[38;5;124m\"\u001b[39m\u001b[38;5;124m`Part`, but none was returned. Check the `candidate.safety_ratings` to see if the \u001b[39m\u001b[38;5;124m\"\u001b[39m\n\u001b[1;32m    359\u001b[0m         \u001b[38;5;124m\"\u001b[39m\u001b[38;5;124mresponse was blocked.\u001b[39m\u001b[38;5;124m\"\u001b[39m\n\u001b[1;32m    360\u001b[0m     )\n\u001b[1;32m    362\u001b[0m \u001b[38;5;28;01mif\u001b[39;00m \u001b[38;5;28mlen\u001b[39m(parts) \u001b[38;5;241m!=\u001b[39m \u001b[38;5;241m1\u001b[39m \u001b[38;5;129;01mor\u001b[39;00m \u001b[38;5;124m\"\u001b[39m\u001b[38;5;124mtext\u001b[39m\u001b[38;5;124m\"\u001b[39m \u001b[38;5;129;01mnot\u001b[39;00m \u001b[38;5;129;01min\u001b[39;00m parts[\u001b[38;5;241m0\u001b[39m]:\n\u001b[1;32m    363\u001b[0m     \u001b[38;5;28;01mraise\u001b[39;00m \u001b[38;5;167;01mValueError\u001b[39;00m(\n\u001b[1;32m    364\u001b[0m         \u001b[38;5;124m\"\u001b[39m\u001b[38;5;124mThe `response.text` quick accessor only works for \u001b[39m\u001b[38;5;124m\"\u001b[39m\n\u001b[1;32m    365\u001b[0m         \u001b[38;5;124m\"\u001b[39m\u001b[38;5;124msimple (single-`Part`) text responses. This response is not simple text. \u001b[39m\u001b[38;5;124m\"\u001b[39m\n\u001b[0;32m   (...)\u001b[0m\n\u001b[1;32m    368\u001b[0m         \u001b[38;5;124m\"\u001b[39m\u001b[38;5;124minstead.\u001b[39m\u001b[38;5;124m\"\u001b[39m\n\u001b[1;32m    369\u001b[0m     )\n",
                        "\u001b[0;31mValueError\u001b[0m: The `response.text` quick accessor only works when the response contains a valid `Part`, but none was returned. Check the `candidate.safety_ratings` to see if the response was blocked."
                    ]
                }
            ],
            "source": [
                "print(response)\n",
                "to_markdown(response.text)"
            ]
        },
        {
            "cell_type": "code",
            "execution_count": null,
            "metadata": {},
            "outputs": [],
            "source": [
                "response.prompt_feedback"
            ]
        },
        {
            "cell_type": "code",
            "execution_count": null,
            "metadata": {},
            "outputs": [],
            "source": [
                "response.candidates\n"
            ]
        },
        {
            "cell_type": "code",
            "execution_count": null,
            "metadata": {},
            "outputs": [],
            "source": [
                "response = model.generate_content(\"hi man how are you\", stream=True)"
            ]
        },
        {
            "cell_type": "markdown",
            "metadata": {},
            "source": [
                "## Pro-Vision Video!"
            ]
        },
        {
            "cell_type": "code",
            "execution_count": 8,
            "metadata": {
                "ExecuteTime": {
                    "end_time": "2024-04-20T19:14:15.469145Z",
                    "start_time": "2024-04-20T19:14:15.465707Z"
                }
            },
            "outputs": [],
            "source": [
                "model = genai.GenerativeModel('gemini-pro-vision')\n"
            ]
        },
        {
            "cell_type": "code",
            "execution_count": 9,
            "metadata": {},
            "outputs": [
                {
                    "name": "stdout",
                    "output_type": "stream",
                    "text": [
                        "\u001b[36m/Users/shy/Desktop/\u001b[1;32m4-19-Sasha-blocked.MP4\u001b[0m\n"
                    ]
                }
            ],
            "source": [
                "!ls /Users/shy/Desktop/4-19-Sasha-blocked.MP4   "
            ]
        },
        {
            "cell_type": "code",
            "execution_count": 10,
            "metadata": {},
            "outputs": [],
            "source": [
                "FRAME_EXTRACTION_DIRECTORY = \"frames\"\n",
                "FRAME_PREFIX = \"_frame\"\n",
                "\n",
                "video_file_name = Path(\"/Users/shy/Desktop/4-19-Sasha-blocked.MP4\")\n",
                "video_file_name = Path(\"/Users/shy/Desktop/4-19-Sasha-dinner.MP4\")\n",
                "video_file_name = Path(\"/Users/shy/Desktop/test_clip.mp4\")\n",
                "video_file_name = Path(\"/Users/shy/Desktop/intros.mp4\")\n",
                "\n",
                "audio_file_name = Path(f\"{FRAME_EXTRACTION_DIRECTORY}/{video_file_name.stem}.mp3\")\n",
                "\n",
                "def call_ffmpeg(arg_string):\n",
                "    subprocess.call(['ffmpeg', \"-hide_banner\", \"-loglevel\", \"error\", \"-y\"] + arg_string.split())\n",
                "    \n",
                "def extract_mp3_from_mp4(video_file_name, audio_file_name):\n",
                "    call_ffmpeg(f\"-i {video_file_name} {audio_file_name}\")\n",
                "\n",
                "def convert_to_mp4(video_file_name):\n",
                "    mkv_name = video_file_name.with_suffix(\".mkv\")\n",
                "    call_ffmpeg(f\"-i {video_file_name} -c copy {mkv_name}\")\n",
                "\n",
                "\n",
                "extract_mp3_from_mp4(video_file_name, audio_file_name)\n",
                "convert_to_mp4(video_file_name)\n",
                "\n",
                "audio_file = genai.upload_file(path=audio_file_name)"
            ]
        },
        {
            "cell_type": "code",
            "execution_count": null,
            "metadata": {},
            "outputs": [],
            "source": []
        },
        {
            "cell_type": "code",
            "execution_count": 11,
            "metadata": {},
            "outputs": [
                {
                    "name": "stdout",
                    "output_type": "stream",
                    "text": [
                        "Uploading 285 files. This might take a bit...\n"
                    ]
                },
                {
                    "name": "stderr",
                    "output_type": "stream",
                    "text": [
                        "  0%|          | 0/285 [00:00<?, ?it/s]"
                    ]
                },
                {
                    "name": "stdout",
                    "output_type": "stream",
                    "text": [
                        "Uploading: frames/intros_mp4_frame00:00.jpg...\n"
                    ]
                },
                {
                    "name": "stderr",
                    "output_type": "stream",
                    "text": [
                        "  0%|          | 1/285 [00:01<05:01,  1.06s/it]"
                    ]
                },
                {
                    "name": "stdout",
                    "output_type": "stream",
                    "text": [
                        "Uploading: frames/intros_mp4_frame00:01.jpg...\n"
                    ]
                },
                {
                    "name": "stderr",
                    "output_type": "stream",
                    "text": [
                        "  1%|          | 2/285 [00:02<04:58,  1.06s/it]"
                    ]
                },
                {
                    "name": "stdout",
                    "output_type": "stream",
                    "text": [
                        "Uploading: frames/intros_mp4_frame00:02.jpg...\n"
                    ]
                },
                {
                    "name": "stderr",
                    "output_type": "stream",
                    "text": [
                        "  1%|          | 3/285 [00:03<05:06,  1.09s/it]"
                    ]
                },
                {
                    "name": "stdout",
                    "output_type": "stream",
                    "text": [
                        "Uploading: frames/intros_mp4_frame00:03.jpg...\n"
                    ]
                },
                {
                    "name": "stderr",
                    "output_type": "stream",
                    "text": [
                        "  1%|▏         | 4/285 [00:04<05:12,  1.11s/it]"
                    ]
                },
                {
                    "name": "stdout",
                    "output_type": "stream",
                    "text": [
                        "Uploading: frames/intros_mp4_frame00:04.jpg...\n"
                    ]
                },
                {
                    "name": "stderr",
                    "output_type": "stream",
                    "text": [
                        "  2%|▏         | 5/285 [00:05<05:12,  1.11s/it]"
                    ]
                },
                {
                    "name": "stdout",
                    "output_type": "stream",
                    "text": [
                        "Uploading: frames/intros_mp4_frame00:05.jpg...\n"
                    ]
                },
                {
                    "name": "stderr",
                    "output_type": "stream",
                    "text": [
                        "  2%|▏         | 6/285 [00:06<05:19,  1.15s/it]"
                    ]
                },
                {
                    "name": "stdout",
                    "output_type": "stream",
                    "text": [
                        "Uploading: frames/intros_mp4_frame00:06.jpg...\n"
                    ]
                },
                {
                    "name": "stderr",
                    "output_type": "stream",
                    "text": [
                        "  2%|▏         | 7/285 [00:07<05:13,  1.13s/it]"
                    ]
                },
                {
                    "name": "stdout",
                    "output_type": "stream",
                    "text": [
                        "Uploading: frames/intros_mp4_frame00:07.jpg...\n"
                    ]
                },
                {
                    "name": "stderr",
                    "output_type": "stream",
                    "text": [
                        "  3%|▎         | 8/285 [00:08<05:09,  1.12s/it]"
                    ]
                },
                {
                    "name": "stdout",
                    "output_type": "stream",
                    "text": [
                        "Uploading: frames/intros_mp4_frame00:08.jpg...\n"
                    ]
                },
                {
                    "name": "stderr",
                    "output_type": "stream",
                    "text": [
                        "  3%|▎         | 9/285 [00:09<05:04,  1.10s/it]"
                    ]
                },
                {
                    "name": "stdout",
                    "output_type": "stream",
                    "text": [
                        "Uploading: frames/intros_mp4_frame00:09.jpg...\n"
                    ]
                },
                {
                    "name": "stderr",
                    "output_type": "stream",
                    "text": [
                        "  4%|▎         | 10/285 [00:11<04:58,  1.08s/it]"
                    ]
                },
                {
                    "name": "stdout",
                    "output_type": "stream",
                    "text": [
                        "Uploading: frames/intros_mp4_frame00:10.jpg...\n"
                    ]
                },
                {
                    "name": "stderr",
                    "output_type": "stream",
                    "text": [
                        "  4%|▍         | 11/285 [00:12<05:00,  1.10s/it]"
                    ]
                },
                {
                    "name": "stdout",
                    "output_type": "stream",
                    "text": [
                        "Uploading: frames/intros_mp4_frame00:11.jpg...\n"
                    ]
                },
                {
                    "name": "stderr",
                    "output_type": "stream",
                    "text": [
                        "  4%|▍         | 12/285 [00:13<05:05,  1.12s/it]"
                    ]
                },
                {
                    "name": "stdout",
                    "output_type": "stream",
                    "text": [
                        "Uploading: frames/intros_mp4_frame00:12.jpg...\n"
                    ]
                },
                {
                    "name": "stderr",
                    "output_type": "stream",
                    "text": [
                        "  5%|▍         | 13/285 [00:14<04:59,  1.10s/it]"
                    ]
                },
                {
                    "name": "stdout",
                    "output_type": "stream",
                    "text": [
                        "Uploading: frames/intros_mp4_frame00:13.jpg...\n"
                    ]
                },
                {
                    "name": "stderr",
                    "output_type": "stream",
                    "text": [
                        "  5%|▍         | 14/285 [00:15<04:55,  1.09s/it]"
                    ]
                },
                {
                    "name": "stdout",
                    "output_type": "stream",
                    "text": [
                        "Uploading: frames/intros_mp4_frame00:14.jpg...\n"
                    ]
                },
                {
                    "name": "stderr",
                    "output_type": "stream",
                    "text": [
                        "  5%|▌         | 15/285 [00:16<04:55,  1.10s/it]"
                    ]
                },
                {
                    "name": "stdout",
                    "output_type": "stream",
                    "text": [
                        "Uploading: frames/intros_mp4_frame00:15.jpg...\n"
                    ]
                },
                {
                    "name": "stderr",
                    "output_type": "stream",
                    "text": [
                        "  6%|▌         | 16/285 [00:17<04:53,  1.09s/it]"
                    ]
                },
                {
                    "name": "stdout",
                    "output_type": "stream",
                    "text": [
                        "Uploading: frames/intros_mp4_frame00:16.jpg...\n"
                    ]
                },
                {
                    "name": "stderr",
                    "output_type": "stream",
                    "text": [
                        "  6%|▌         | 17/285 [00:18<04:58,  1.11s/it]"
                    ]
                },
                {
                    "name": "stdout",
                    "output_type": "stream",
                    "text": [
                        "Uploading: frames/intros_mp4_frame00:17.jpg...\n"
                    ]
                },
                {
                    "name": "stderr",
                    "output_type": "stream",
                    "text": [
                        "  6%|▋         | 18/285 [00:19<04:56,  1.11s/it]"
                    ]
                },
                {
                    "name": "stdout",
                    "output_type": "stream",
                    "text": [
                        "Uploading: frames/intros_mp4_frame00:18.jpg...\n"
                    ]
                },
                {
                    "name": "stderr",
                    "output_type": "stream",
                    "text": [
                        "  7%|▋         | 19/285 [00:21<05:08,  1.16s/it]"
                    ]
                },
                {
                    "name": "stdout",
                    "output_type": "stream",
                    "text": [
                        "Uploading: frames/intros_mp4_frame00:19.jpg...\n"
                    ]
                },
                {
                    "name": "stderr",
                    "output_type": "stream",
                    "text": [
                        "  7%|▋         | 20/285 [00:22<05:03,  1.15s/it]"
                    ]
                },
                {
                    "name": "stdout",
                    "output_type": "stream",
                    "text": [
                        "Uploading: frames/intros_mp4_frame00:20.jpg...\n"
                    ]
                },
                {
                    "name": "stderr",
                    "output_type": "stream",
                    "text": [
                        "  7%|▋         | 21/285 [00:23<04:52,  1.11s/it]"
                    ]
                },
                {
                    "name": "stdout",
                    "output_type": "stream",
                    "text": [
                        "Uploading: frames/intros_mp4_frame00:21.jpg...\n"
                    ]
                },
                {
                    "name": "stderr",
                    "output_type": "stream",
                    "text": [
                        "  8%|▊         | 22/285 [00:24<04:48,  1.10s/it]"
                    ]
                },
                {
                    "name": "stdout",
                    "output_type": "stream",
                    "text": [
                        "Uploading: frames/intros_mp4_frame00:22.jpg...\n"
                    ]
                },
                {
                    "name": "stderr",
                    "output_type": "stream",
                    "text": [
                        "  8%|▊         | 23/285 [00:25<04:42,  1.08s/it]"
                    ]
                },
                {
                    "name": "stdout",
                    "output_type": "stream",
                    "text": [
                        "Uploading: frames/intros_mp4_frame00:23.jpg...\n"
                    ]
                },
                {
                    "name": "stderr",
                    "output_type": "stream",
                    "text": [
                        "  8%|▊         | 24/285 [00:26<04:42,  1.08s/it]"
                    ]
                },
                {
                    "name": "stdout",
                    "output_type": "stream",
                    "text": [
                        "Uploading: frames/intros_mp4_frame00:24.jpg...\n"
                    ]
                },
                {
                    "name": "stderr",
                    "output_type": "stream",
                    "text": [
                        "  9%|▉         | 25/285 [00:27<04:38,  1.07s/it]"
                    ]
                },
                {
                    "name": "stdout",
                    "output_type": "stream",
                    "text": [
                        "Uploading: frames/intros_mp4_frame00:25.jpg...\n"
                    ]
                },
                {
                    "name": "stderr",
                    "output_type": "stream",
                    "text": [
                        "  9%|▉         | 26/285 [00:28<04:46,  1.11s/it]"
                    ]
                },
                {
                    "name": "stdout",
                    "output_type": "stream",
                    "text": [
                        "Uploading: frames/intros_mp4_frame00:26.jpg...\n"
                    ]
                },
                {
                    "name": "stderr",
                    "output_type": "stream",
                    "text": [
                        "  9%|▉         | 27/285 [00:29<04:41,  1.09s/it]"
                    ]
                },
                {
                    "name": "stdout",
                    "output_type": "stream",
                    "text": [
                        "Uploading: frames/intros_mp4_frame00:27.jpg...\n"
                    ]
                },
                {
                    "name": "stderr",
                    "output_type": "stream",
                    "text": [
                        " 10%|▉         | 28/285 [00:30<04:40,  1.09s/it]"
                    ]
                },
                {
                    "name": "stdout",
                    "output_type": "stream",
                    "text": [
                        "Uploading: frames/intros_mp4_frame00:28.jpg...\n"
                    ]
                },
                {
                    "name": "stderr",
                    "output_type": "stream",
                    "text": [
                        " 10%|█         | 29/285 [00:32<04:43,  1.11s/it]"
                    ]
                },
                {
                    "name": "stdout",
                    "output_type": "stream",
                    "text": [
                        "Uploading: frames/intros_mp4_frame00:29.jpg...\n"
                    ]
                },
                {
                    "name": "stderr",
                    "output_type": "stream",
                    "text": [
                        " 11%|█         | 30/285 [00:33<04:42,  1.11s/it]"
                    ]
                },
                {
                    "name": "stdout",
                    "output_type": "stream",
                    "text": [
                        "Uploading: frames/intros_mp4_frame00:30.jpg...\n"
                    ]
                },
                {
                    "name": "stderr",
                    "output_type": "stream",
                    "text": [
                        " 11%|█         | 31/285 [00:34<04:44,  1.12s/it]"
                    ]
                },
                {
                    "name": "stdout",
                    "output_type": "stream",
                    "text": [
                        "Uploading: frames/intros_mp4_frame00:31.jpg...\n"
                    ]
                },
                {
                    "name": "stderr",
                    "output_type": "stream",
                    "text": [
                        " 11%|█         | 32/285 [00:35<04:40,  1.11s/it]"
                    ]
                },
                {
                    "name": "stdout",
                    "output_type": "stream",
                    "text": [
                        "Uploading: frames/intros_mp4_frame00:32.jpg...\n"
                    ]
                },
                {
                    "name": "stderr",
                    "output_type": "stream",
                    "text": [
                        " 12%|█▏        | 33/285 [00:36<04:34,  1.09s/it]"
                    ]
                },
                {
                    "name": "stdout",
                    "output_type": "stream",
                    "text": [
                        "Uploading: frames/intros_mp4_frame00:33.jpg...\n"
                    ]
                },
                {
                    "name": "stderr",
                    "output_type": "stream",
                    "text": [
                        " 12%|█▏        | 34/285 [00:37<04:43,  1.13s/it]"
                    ]
                },
                {
                    "name": "stdout",
                    "output_type": "stream",
                    "text": [
                        "Uploading: frames/intros_mp4_frame00:34.jpg...\n"
                    ]
                },
                {
                    "name": "stderr",
                    "output_type": "stream",
                    "text": [
                        " 12%|█▏        | 35/285 [00:38<04:38,  1.11s/it]"
                    ]
                },
                {
                    "name": "stdout",
                    "output_type": "stream",
                    "text": [
                        "Uploading: frames/intros_mp4_frame00:35.jpg...\n"
                    ]
                },
                {
                    "name": "stderr",
                    "output_type": "stream",
                    "text": [
                        " 13%|█▎        | 36/285 [00:39<04:33,  1.10s/it]"
                    ]
                },
                {
                    "name": "stdout",
                    "output_type": "stream",
                    "text": [
                        "Uploading: frames/intros_mp4_frame00:36.jpg...\n"
                    ]
                },
                {
                    "name": "stderr",
                    "output_type": "stream",
                    "text": [
                        " 13%|█▎        | 37/285 [00:40<04:31,  1.09s/it]"
                    ]
                },
                {
                    "name": "stdout",
                    "output_type": "stream",
                    "text": [
                        "Uploading: frames/intros_mp4_frame00:37.jpg...\n"
                    ]
                },
                {
                    "name": "stderr",
                    "output_type": "stream",
                    "text": [
                        " 13%|█▎        | 38/285 [00:42<04:46,  1.16s/it]"
                    ]
                },
                {
                    "name": "stdout",
                    "output_type": "stream",
                    "text": [
                        "Uploading: frames/intros_mp4_frame00:38.jpg...\n"
                    ]
                },
                {
                    "name": "stderr",
                    "output_type": "stream",
                    "text": [
                        " 14%|█▎        | 39/285 [00:43<04:37,  1.13s/it]"
                    ]
                },
                {
                    "name": "stdout",
                    "output_type": "stream",
                    "text": [
                        "Uploading: frames/intros_mp4_frame00:39.jpg...\n"
                    ]
                },
                {
                    "name": "stderr",
                    "output_type": "stream",
                    "text": [
                        " 14%|█▍        | 40/285 [00:44<04:27,  1.09s/it]"
                    ]
                },
                {
                    "name": "stdout",
                    "output_type": "stream",
                    "text": [
                        "Uploading: frames/intros_mp4_frame00:40.jpg...\n"
                    ]
                },
                {
                    "name": "stderr",
                    "output_type": "stream",
                    "text": [
                        " 14%|█▍        | 41/285 [00:45<04:25,  1.09s/it]"
                    ]
                },
                {
                    "name": "stdout",
                    "output_type": "stream",
                    "text": [
                        "Uploading: frames/intros_mp4_frame00:41.jpg...\n"
                    ]
                },
                {
                    "name": "stderr",
                    "output_type": "stream",
                    "text": [
                        " 15%|█▍        | 42/285 [00:46<04:21,  1.08s/it]"
                    ]
                },
                {
                    "name": "stdout",
                    "output_type": "stream",
                    "text": [
                        "Uploading: frames/intros_mp4_frame00:42.jpg...\n"
                    ]
                },
                {
                    "name": "stderr",
                    "output_type": "stream",
                    "text": [
                        " 15%|█▌        | 43/285 [00:47<04:22,  1.09s/it]"
                    ]
                },
                {
                    "name": "stdout",
                    "output_type": "stream",
                    "text": [
                        "Uploading: frames/intros_mp4_frame00:43.jpg...\n"
                    ]
                },
                {
                    "name": "stderr",
                    "output_type": "stream",
                    "text": [
                        " 15%|█▌        | 44/285 [00:48<04:32,  1.13s/it]"
                    ]
                },
                {
                    "name": "stdout",
                    "output_type": "stream",
                    "text": [
                        "Uploading: frames/intros_mp4_frame00:44.jpg...\n"
                    ]
                },
                {
                    "name": "stderr",
                    "output_type": "stream",
                    "text": [
                        " 16%|█▌        | 45/285 [00:49<04:23,  1.10s/it]"
                    ]
                },
                {
                    "name": "stdout",
                    "output_type": "stream",
                    "text": [
                        "Uploading: frames/intros_mp4_frame00:45.jpg...\n"
                    ]
                },
                {
                    "name": "stderr",
                    "output_type": "stream",
                    "text": [
                        " 16%|█▌        | 46/285 [00:50<04:22,  1.10s/it]"
                    ]
                },
                {
                    "name": "stdout",
                    "output_type": "stream",
                    "text": [
                        "Uploading: frames/intros_mp4_frame00:46.jpg...\n"
                    ]
                },
                {
                    "name": "stderr",
                    "output_type": "stream",
                    "text": [
                        " 16%|█▋        | 47/285 [00:51<04:22,  1.10s/it]"
                    ]
                },
                {
                    "name": "stdout",
                    "output_type": "stream",
                    "text": [
                        "Uploading: frames/intros_mp4_frame00:47.jpg...\n"
                    ]
                },
                {
                    "name": "stderr",
                    "output_type": "stream",
                    "text": [
                        " 17%|█▋        | 48/285 [00:53<04:20,  1.10s/it]"
                    ]
                },
                {
                    "name": "stdout",
                    "output_type": "stream",
                    "text": [
                        "Uploading: frames/intros_mp4_frame00:48.jpg...\n"
                    ]
                },
                {
                    "name": "stderr",
                    "output_type": "stream",
                    "text": [
                        " 17%|█▋        | 49/285 [00:54<04:24,  1.12s/it]"
                    ]
                },
                {
                    "name": "stdout",
                    "output_type": "stream",
                    "text": [
                        "Uploading: frames/intros_mp4_frame00:49.jpg...\n"
                    ]
                },
                {
                    "name": "stderr",
                    "output_type": "stream",
                    "text": [
                        " 18%|█▊        | 50/285 [00:55<04:22,  1.12s/it]"
                    ]
                },
                {
                    "name": "stdout",
                    "output_type": "stream",
                    "text": [
                        "Uploading: frames/intros_mp4_frame00:50.jpg...\n"
                    ]
                },
                {
                    "name": "stderr",
                    "output_type": "stream",
                    "text": [
                        " 18%|█▊        | 51/285 [00:56<04:25,  1.13s/it]"
                    ]
                },
                {
                    "name": "stdout",
                    "output_type": "stream",
                    "text": [
                        "Uploading: frames/intros_mp4_frame00:51.jpg...\n"
                    ]
                },
                {
                    "name": "stderr",
                    "output_type": "stream",
                    "text": [
                        " 18%|█▊        | 52/285 [00:57<04:12,  1.08s/it]"
                    ]
                },
                {
                    "name": "stdout",
                    "output_type": "stream",
                    "text": [
                        "Uploading: frames/intros_mp4_frame00:52.jpg...\n"
                    ]
                },
                {
                    "name": "stderr",
                    "output_type": "stream",
                    "text": [
                        " 19%|█▊        | 53/285 [00:58<04:08,  1.07s/it]"
                    ]
                },
                {
                    "name": "stdout",
                    "output_type": "stream",
                    "text": [
                        "Uploading: frames/intros_mp4_frame00:53.jpg...\n"
                    ]
                },
                {
                    "name": "stderr",
                    "output_type": "stream",
                    "text": [
                        " 19%|█▉        | 54/285 [00:59<04:07,  1.07s/it]"
                    ]
                },
                {
                    "name": "stdout",
                    "output_type": "stream",
                    "text": [
                        "Uploading: frames/intros_mp4_frame00:54.jpg...\n"
                    ]
                },
                {
                    "name": "stderr",
                    "output_type": "stream",
                    "text": [
                        " 19%|█▉        | 55/285 [01:00<04:07,  1.08s/it]"
                    ]
                },
                {
                    "name": "stdout",
                    "output_type": "stream",
                    "text": [
                        "Uploading: frames/intros_mp4_frame00:55.jpg...\n"
                    ]
                },
                {
                    "name": "stderr",
                    "output_type": "stream",
                    "text": [
                        " 20%|█▉        | 56/285 [01:01<04:12,  1.10s/it]"
                    ]
                },
                {
                    "name": "stdout",
                    "output_type": "stream",
                    "text": [
                        "Uploading: frames/intros_mp4_frame00:56.jpg...\n"
                    ]
                },
                {
                    "name": "stderr",
                    "output_type": "stream",
                    "text": [
                        " 20%|██        | 57/285 [01:03<04:26,  1.17s/it]"
                    ]
                },
                {
                    "name": "stdout",
                    "output_type": "stream",
                    "text": [
                        "Uploading: frames/intros_mp4_frame00:57.jpg...\n"
                    ]
                },
                {
                    "name": "stderr",
                    "output_type": "stream",
                    "text": [
                        " 20%|██        | 58/285 [01:04<04:17,  1.13s/it]"
                    ]
                },
                {
                    "name": "stdout",
                    "output_type": "stream",
                    "text": [
                        "Uploading: frames/intros_mp4_frame00:58.jpg...\n"
                    ]
                },
                {
                    "name": "stderr",
                    "output_type": "stream",
                    "text": [
                        " 21%|██        | 59/285 [01:05<04:08,  1.10s/it]"
                    ]
                },
                {
                    "name": "stdout",
                    "output_type": "stream",
                    "text": [
                        "Uploading: frames/intros_mp4_frame00:59.jpg...\n"
                    ]
                },
                {
                    "name": "stderr",
                    "output_type": "stream",
                    "text": [
                        " 21%|██        | 60/285 [01:06<04:09,  1.11s/it]"
                    ]
                },
                {
                    "name": "stdout",
                    "output_type": "stream",
                    "text": [
                        "Uploading: frames/intros_mp4_frame01:00.jpg...\n"
                    ]
                },
                {
                    "name": "stderr",
                    "output_type": "stream",
                    "text": [
                        " 21%|██▏       | 61/285 [01:07<04:01,  1.08s/it]"
                    ]
                },
                {
                    "name": "stdout",
                    "output_type": "stream",
                    "text": [
                        "Uploading: frames/intros_mp4_frame01:01.jpg...\n"
                    ]
                },
                {
                    "name": "stderr",
                    "output_type": "stream",
                    "text": [
                        " 22%|██▏       | 62/285 [01:08<04:03,  1.09s/it]"
                    ]
                },
                {
                    "name": "stdout",
                    "output_type": "stream",
                    "text": [
                        "Uploading: frames/intros_mp4_frame01:02.jpg...\n"
                    ]
                },
                {
                    "name": "stderr",
                    "output_type": "stream",
                    "text": [
                        " 22%|██▏       | 63/285 [01:09<04:11,  1.13s/it]"
                    ]
                },
                {
                    "name": "stdout",
                    "output_type": "stream",
                    "text": [
                        "Uploading: frames/intros_mp4_frame01:03.jpg...\n"
                    ]
                },
                {
                    "name": "stderr",
                    "output_type": "stream",
                    "text": [
                        " 22%|██▏       | 64/285 [01:10<04:06,  1.12s/it]"
                    ]
                },
                {
                    "name": "stdout",
                    "output_type": "stream",
                    "text": [
                        "Uploading: frames/intros_mp4_frame01:04.jpg...\n"
                    ]
                },
                {
                    "name": "stderr",
                    "output_type": "stream",
                    "text": [
                        " 23%|██▎       | 65/285 [01:11<04:02,  1.10s/it]"
                    ]
                },
                {
                    "name": "stdout",
                    "output_type": "stream",
                    "text": [
                        "Uploading: frames/intros_mp4_frame01:05.jpg...\n"
                    ]
                },
                {
                    "name": "stderr",
                    "output_type": "stream",
                    "text": [
                        " 23%|██▎       | 66/285 [01:12<03:57,  1.09s/it]"
                    ]
                },
                {
                    "name": "stdout",
                    "output_type": "stream",
                    "text": [
                        "Uploading: frames/intros_mp4_frame01:06.jpg...\n"
                    ]
                },
                {
                    "name": "stderr",
                    "output_type": "stream",
                    "text": [
                        " 24%|██▎       | 67/285 [01:13<03:48,  1.05s/it]"
                    ]
                },
                {
                    "name": "stdout",
                    "output_type": "stream",
                    "text": [
                        "Uploading: frames/intros_mp4_frame01:07.jpg...\n"
                    ]
                },
                {
                    "name": "stderr",
                    "output_type": "stream",
                    "text": [
                        " 24%|██▍       | 68/285 [01:14<03:46,  1.04s/it]"
                    ]
                },
                {
                    "name": "stdout",
                    "output_type": "stream",
                    "text": [
                        "Uploading: frames/intros_mp4_frame01:08.jpg...\n"
                    ]
                },
                {
                    "name": "stderr",
                    "output_type": "stream",
                    "text": [
                        " 24%|██▍       | 69/285 [01:15<03:45,  1.04s/it]"
                    ]
                },
                {
                    "name": "stdout",
                    "output_type": "stream",
                    "text": [
                        "Uploading: frames/intros_mp4_frame01:09.jpg...\n"
                    ]
                },
                {
                    "name": "stderr",
                    "output_type": "stream",
                    "text": [
                        " 25%|██▍       | 70/285 [01:16<03:43,  1.04s/it]"
                    ]
                },
                {
                    "name": "stdout",
                    "output_type": "stream",
                    "text": [
                        "Uploading: frames/intros_mp4_frame01:10.jpg...\n"
                    ]
                },
                {
                    "name": "stderr",
                    "output_type": "stream",
                    "text": [
                        " 25%|██▍       | 71/285 [01:17<03:42,  1.04s/it]"
                    ]
                },
                {
                    "name": "stdout",
                    "output_type": "stream",
                    "text": [
                        "Uploading: frames/intros_mp4_frame01:11.jpg...\n"
                    ]
                },
                {
                    "name": "stderr",
                    "output_type": "stream",
                    "text": [
                        " 25%|██▌       | 72/285 [01:19<03:43,  1.05s/it]"
                    ]
                },
                {
                    "name": "stdout",
                    "output_type": "stream",
                    "text": [
                        "Uploading: frames/intros_mp4_frame01:12.jpg...\n"
                    ]
                },
                {
                    "name": "stderr",
                    "output_type": "stream",
                    "text": [
                        " 26%|██▌       | 73/285 [01:20<03:50,  1.09s/it]"
                    ]
                },
                {
                    "name": "stdout",
                    "output_type": "stream",
                    "text": [
                        "Uploading: frames/intros_mp4_frame01:13.jpg...\n"
                    ]
                },
                {
                    "name": "stderr",
                    "output_type": "stream",
                    "text": [
                        " 26%|██▌       | 74/285 [01:21<03:45,  1.07s/it]"
                    ]
                },
                {
                    "name": "stdout",
                    "output_type": "stream",
                    "text": [
                        "Uploading: frames/intros_mp4_frame01:14.jpg...\n"
                    ]
                },
                {
                    "name": "stderr",
                    "output_type": "stream",
                    "text": [
                        " 26%|██▋       | 75/285 [01:22<03:47,  1.09s/it]"
                    ]
                },
                {
                    "name": "stdout",
                    "output_type": "stream",
                    "text": [
                        "Uploading: frames/intros_mp4_frame01:15.jpg...\n"
                    ]
                },
                {
                    "name": "stderr",
                    "output_type": "stream",
                    "text": [
                        " 27%|██▋       | 76/285 [01:23<03:55,  1.13s/it]"
                    ]
                },
                {
                    "name": "stdout",
                    "output_type": "stream",
                    "text": [
                        "Uploading: frames/intros_mp4_frame01:16.jpg...\n"
                    ]
                },
                {
                    "name": "stderr",
                    "output_type": "stream",
                    "text": [
                        " 27%|██▋       | 77/285 [01:24<03:49,  1.10s/it]"
                    ]
                },
                {
                    "name": "stdout",
                    "output_type": "stream",
                    "text": [
                        "Uploading: frames/intros_mp4_frame01:17.jpg...\n"
                    ]
                },
                {
                    "name": "stderr",
                    "output_type": "stream",
                    "text": [
                        " 27%|██▋       | 78/285 [01:25<03:43,  1.08s/it]"
                    ]
                },
                {
                    "name": "stdout",
                    "output_type": "stream",
                    "text": [
                        "Uploading: frames/intros_mp4_frame01:18.jpg...\n"
                    ]
                },
                {
                    "name": "stderr",
                    "output_type": "stream",
                    "text": [
                        " 28%|██▊       | 79/285 [01:26<03:42,  1.08s/it]"
                    ]
                },
                {
                    "name": "stdout",
                    "output_type": "stream",
                    "text": [
                        "Uploading: frames/intros_mp4_frame01:19.jpg...\n"
                    ]
                },
                {
                    "name": "stderr",
                    "output_type": "stream",
                    "text": [
                        " 28%|██▊       | 80/285 [01:27<03:40,  1.08s/it]"
                    ]
                },
                {
                    "name": "stdout",
                    "output_type": "stream",
                    "text": [
                        "Uploading: frames/intros_mp4_frame01:20.jpg...\n"
                    ]
                },
                {
                    "name": "stderr",
                    "output_type": "stream",
                    "text": [
                        " 28%|██▊       | 81/285 [01:28<03:33,  1.05s/it]"
                    ]
                },
                {
                    "name": "stdout",
                    "output_type": "stream",
                    "text": [
                        "Uploading: frames/intros_mp4_frame01:21.jpg...\n"
                    ]
                },
                {
                    "name": "stderr",
                    "output_type": "stream",
                    "text": [
                        " 29%|██▉       | 82/285 [01:29<03:39,  1.08s/it]"
                    ]
                },
                {
                    "name": "stdout",
                    "output_type": "stream",
                    "text": [
                        "Uploading: frames/intros_mp4_frame01:22.jpg...\n"
                    ]
                },
                {
                    "name": "stderr",
                    "output_type": "stream",
                    "text": [
                        " 29%|██▉       | 83/285 [01:30<03:32,  1.05s/it]"
                    ]
                },
                {
                    "name": "stdout",
                    "output_type": "stream",
                    "text": [
                        "Uploading: frames/intros_mp4_frame01:23.jpg...\n"
                    ]
                },
                {
                    "name": "stderr",
                    "output_type": "stream",
                    "text": [
                        " 29%|██▉       | 84/285 [01:32<03:32,  1.06s/it]"
                    ]
                },
                {
                    "name": "stdout",
                    "output_type": "stream",
                    "text": [
                        "Uploading: frames/intros_mp4_frame01:24.jpg...\n"
                    ]
                },
                {
                    "name": "stderr",
                    "output_type": "stream",
                    "text": [
                        " 30%|██▉       | 85/285 [01:33<03:39,  1.10s/it]"
                    ]
                },
                {
                    "name": "stdout",
                    "output_type": "stream",
                    "text": [
                        "Uploading: frames/intros_mp4_frame01:25.jpg...\n"
                    ]
                },
                {
                    "name": "stderr",
                    "output_type": "stream",
                    "text": [
                        " 30%|███       | 86/285 [01:34<03:32,  1.07s/it]"
                    ]
                },
                {
                    "name": "stdout",
                    "output_type": "stream",
                    "text": [
                        "Uploading: frames/intros_mp4_frame01:26.jpg...\n"
                    ]
                },
                {
                    "name": "stderr",
                    "output_type": "stream",
                    "text": [
                        " 31%|███       | 87/285 [01:35<03:37,  1.10s/it]"
                    ]
                },
                {
                    "name": "stdout",
                    "output_type": "stream",
                    "text": [
                        "Uploading: frames/intros_mp4_frame01:27.jpg...\n"
                    ]
                },
                {
                    "name": "stderr",
                    "output_type": "stream",
                    "text": [
                        " 31%|███       | 88/285 [01:36<03:46,  1.15s/it]"
                    ]
                },
                {
                    "name": "stdout",
                    "output_type": "stream",
                    "text": [
                        "Uploading: frames/intros_mp4_frame01:28.jpg...\n"
                    ]
                },
                {
                    "name": "stderr",
                    "output_type": "stream",
                    "text": [
                        " 31%|███       | 89/285 [01:37<03:43,  1.14s/it]"
                    ]
                },
                {
                    "name": "stdout",
                    "output_type": "stream",
                    "text": [
                        "Uploading: frames/intros_mp4_frame01:29.jpg...\n"
                    ]
                },
                {
                    "name": "stderr",
                    "output_type": "stream",
                    "text": [
                        " 32%|███▏      | 90/285 [01:38<03:36,  1.11s/it]"
                    ]
                },
                {
                    "name": "stdout",
                    "output_type": "stream",
                    "text": [
                        "Uploading: frames/intros_mp4_frame01:30.jpg...\n"
                    ]
                },
                {
                    "name": "stderr",
                    "output_type": "stream",
                    "text": [
                        " 32%|███▏      | 91/285 [01:39<03:36,  1.12s/it]"
                    ]
                },
                {
                    "name": "stdout",
                    "output_type": "stream",
                    "text": [
                        "Uploading: frames/intros_mp4_frame01:31.jpg...\n"
                    ]
                },
                {
                    "name": "stderr",
                    "output_type": "stream",
                    "text": [
                        " 32%|███▏      | 92/285 [01:41<03:32,  1.10s/it]"
                    ]
                },
                {
                    "name": "stdout",
                    "output_type": "stream",
                    "text": [
                        "Uploading: frames/intros_mp4_frame01:32.jpg...\n"
                    ]
                },
                {
                    "name": "stderr",
                    "output_type": "stream",
                    "text": [
                        " 33%|███▎      | 93/285 [01:42<03:33,  1.11s/it]"
                    ]
                },
                {
                    "name": "stdout",
                    "output_type": "stream",
                    "text": [
                        "Uploading: frames/intros_mp4_frame01:33.jpg...\n"
                    ]
                },
                {
                    "name": "stderr",
                    "output_type": "stream",
                    "text": [
                        " 33%|███▎      | 94/285 [01:43<03:50,  1.21s/it]"
                    ]
                },
                {
                    "name": "stdout",
                    "output_type": "stream",
                    "text": [
                        "Uploading: frames/intros_mp4_frame01:34.jpg...\n"
                    ]
                },
                {
                    "name": "stderr",
                    "output_type": "stream",
                    "text": [
                        " 33%|███▎      | 95/285 [01:44<03:44,  1.18s/it]"
                    ]
                },
                {
                    "name": "stdout",
                    "output_type": "stream",
                    "text": [
                        "Uploading: frames/intros_mp4_frame01:35.jpg...\n"
                    ]
                },
                {
                    "name": "stderr",
                    "output_type": "stream",
                    "text": [
                        " 34%|███▎      | 96/285 [01:45<03:36,  1.14s/it]"
                    ]
                },
                {
                    "name": "stdout",
                    "output_type": "stream",
                    "text": [
                        "Uploading: frames/intros_mp4_frame01:36.jpg...\n"
                    ]
                },
                {
                    "name": "stderr",
                    "output_type": "stream",
                    "text": [
                        " 34%|███▍      | 97/285 [01:46<03:28,  1.11s/it]"
                    ]
                },
                {
                    "name": "stdout",
                    "output_type": "stream",
                    "text": [
                        "Uploading: frames/intros_mp4_frame01:37.jpg...\n"
                    ]
                },
                {
                    "name": "stderr",
                    "output_type": "stream",
                    "text": [
                        " 34%|███▍      | 98/285 [01:47<03:23,  1.09s/it]"
                    ]
                },
                {
                    "name": "stdout",
                    "output_type": "stream",
                    "text": [
                        "Uploading: frames/intros_mp4_frame01:38.jpg...\n"
                    ]
                },
                {
                    "name": "stderr",
                    "output_type": "stream",
                    "text": [
                        " 35%|███▍      | 99/285 [01:48<03:22,  1.09s/it]"
                    ]
                },
                {
                    "name": "stdout",
                    "output_type": "stream",
                    "text": [
                        "Uploading: frames/intros_mp4_frame01:39.jpg...\n"
                    ]
                },
                {
                    "name": "stderr",
                    "output_type": "stream",
                    "text": [
                        " 35%|███▌      | 100/285 [01:50<03:22,  1.10s/it]"
                    ]
                },
                {
                    "name": "stdout",
                    "output_type": "stream",
                    "text": [
                        "Uploading: frames/intros_mp4_frame01:40.jpg...\n"
                    ]
                },
                {
                    "name": "stderr",
                    "output_type": "stream",
                    "text": [
                        " 35%|███▌      | 101/285 [01:51<03:34,  1.17s/it]"
                    ]
                },
                {
                    "name": "stdout",
                    "output_type": "stream",
                    "text": [
                        "Uploading: frames/intros_mp4_frame01:41.jpg...\n"
                    ]
                },
                {
                    "name": "stderr",
                    "output_type": "stream",
                    "text": [
                        " 36%|███▌      | 102/285 [01:52<03:31,  1.16s/it]"
                    ]
                },
                {
                    "name": "stdout",
                    "output_type": "stream",
                    "text": [
                        "Uploading: frames/intros_mp4_frame01:42.jpg...\n"
                    ]
                },
                {
                    "name": "stderr",
                    "output_type": "stream",
                    "text": [
                        " 36%|███▌      | 103/285 [01:53<03:23,  1.12s/it]"
                    ]
                },
                {
                    "name": "stdout",
                    "output_type": "stream",
                    "text": [
                        "Uploading: frames/intros_mp4_frame01:43.jpg...\n"
                    ]
                },
                {
                    "name": "stderr",
                    "output_type": "stream",
                    "text": [
                        " 36%|███▋      | 104/285 [01:54<03:27,  1.15s/it]"
                    ]
                },
                {
                    "name": "stdout",
                    "output_type": "stream",
                    "text": [
                        "Uploading: frames/intros_mp4_frame01:44.jpg...\n"
                    ]
                },
                {
                    "name": "stderr",
                    "output_type": "stream",
                    "text": [
                        " 37%|███▋      | 105/285 [01:56<03:41,  1.23s/it]"
                    ]
                },
                {
                    "name": "stdout",
                    "output_type": "stream",
                    "text": [
                        "Uploading: frames/intros_mp4_frame01:45.jpg...\n"
                    ]
                },
                {
                    "name": "stderr",
                    "output_type": "stream",
                    "text": [
                        " 37%|███▋      | 106/285 [01:57<03:39,  1.23s/it]"
                    ]
                },
                {
                    "name": "stdout",
                    "output_type": "stream",
                    "text": [
                        "Uploading: frames/intros_mp4_frame01:46.jpg...\n"
                    ]
                },
                {
                    "name": "stderr",
                    "output_type": "stream",
                    "text": [
                        " 38%|███▊      | 107/285 [01:58<03:45,  1.26s/it]"
                    ]
                },
                {
                    "name": "stdout",
                    "output_type": "stream",
                    "text": [
                        "Uploading: frames/intros_mp4_frame01:47.jpg...\n"
                    ]
                },
                {
                    "name": "stderr",
                    "output_type": "stream",
                    "text": [
                        " 38%|███▊      | 108/285 [01:59<03:39,  1.24s/it]"
                    ]
                },
                {
                    "name": "stdout",
                    "output_type": "stream",
                    "text": [
                        "Uploading: frames/intros_mp4_frame01:48.jpg...\n"
                    ]
                },
                {
                    "name": "stderr",
                    "output_type": "stream",
                    "text": [
                        " 38%|███▊      | 109/285 [02:01<03:51,  1.31s/it]"
                    ]
                },
                {
                    "name": "stdout",
                    "output_type": "stream",
                    "text": [
                        "Uploading: frames/intros_mp4_frame01:49.jpg...\n"
                    ]
                },
                {
                    "name": "stderr",
                    "output_type": "stream",
                    "text": [
                        " 39%|███▊      | 110/285 [02:02<04:04,  1.40s/it]"
                    ]
                },
                {
                    "name": "stdout",
                    "output_type": "stream",
                    "text": [
                        "Uploading: frames/intros_mp4_frame01:50.jpg...\n"
                    ]
                },
                {
                    "name": "stderr",
                    "output_type": "stream",
                    "text": [
                        " 39%|███▉      | 111/285 [02:04<04:11,  1.45s/it]"
                    ]
                },
                {
                    "name": "stdout",
                    "output_type": "stream",
                    "text": [
                        "Uploading: frames/intros_mp4_frame01:51.jpg...\n"
                    ]
                },
                {
                    "name": "stderr",
                    "output_type": "stream",
                    "text": [
                        " 39%|███▉      | 112/285 [02:05<04:03,  1.41s/it]"
                    ]
                },
                {
                    "name": "stdout",
                    "output_type": "stream",
                    "text": [
                        "Uploading: frames/intros_mp4_frame01:52.jpg...\n"
                    ]
                },
                {
                    "name": "stderr",
                    "output_type": "stream",
                    "text": [
                        " 40%|███▉      | 113/285 [02:07<04:00,  1.40s/it]"
                    ]
                },
                {
                    "name": "stdout",
                    "output_type": "stream",
                    "text": [
                        "Uploading: frames/intros_mp4_frame01:53.jpg...\n"
                    ]
                },
                {
                    "name": "stderr",
                    "output_type": "stream",
                    "text": [
                        " 40%|████      | 114/285 [02:08<04:02,  1.42s/it]"
                    ]
                },
                {
                    "name": "stdout",
                    "output_type": "stream",
                    "text": [
                        "Uploading: frames/intros_mp4_frame01:54.jpg...\n"
                    ]
                },
                {
                    "name": "stderr",
                    "output_type": "stream",
                    "text": [
                        " 40%|████      | 115/285 [02:10<04:09,  1.47s/it]"
                    ]
                },
                {
                    "name": "stdout",
                    "output_type": "stream",
                    "text": [
                        "Uploading: frames/intros_mp4_frame01:55.jpg...\n"
                    ]
                },
                {
                    "name": "stderr",
                    "output_type": "stream",
                    "text": [
                        " 41%|████      | 116/285 [02:11<04:01,  1.43s/it]"
                    ]
                },
                {
                    "name": "stdout",
                    "output_type": "stream",
                    "text": [
                        "Uploading: frames/intros_mp4_frame01:56.jpg...\n"
                    ]
                },
                {
                    "name": "stderr",
                    "output_type": "stream",
                    "text": [
                        " 41%|████      | 117/285 [02:12<03:53,  1.39s/it]"
                    ]
                },
                {
                    "name": "stdout",
                    "output_type": "stream",
                    "text": [
                        "Uploading: frames/intros_mp4_frame01:57.jpg...\n"
                    ]
                },
                {
                    "name": "stderr",
                    "output_type": "stream",
                    "text": [
                        " 41%|████▏     | 118/285 [02:14<03:41,  1.33s/it]"
                    ]
                },
                {
                    "name": "stdout",
                    "output_type": "stream",
                    "text": [
                        "Uploading: frames/intros_mp4_frame01:58.jpg...\n"
                    ]
                },
                {
                    "name": "stderr",
                    "output_type": "stream",
                    "text": [
                        " 42%|████▏     | 119/285 [02:15<03:34,  1.29s/it]"
                    ]
                },
                {
                    "name": "stdout",
                    "output_type": "stream",
                    "text": [
                        "Uploading: frames/intros_mp4_frame01:59.jpg...\n"
                    ]
                },
                {
                    "name": "stderr",
                    "output_type": "stream",
                    "text": [
                        " 42%|████▏     | 120/285 [02:16<03:29,  1.27s/it]"
                    ]
                },
                {
                    "name": "stdout",
                    "output_type": "stream",
                    "text": [
                        "Uploading: frames/intros_mp4_frame02:00.jpg...\n"
                    ]
                },
                {
                    "name": "stderr",
                    "output_type": "stream",
                    "text": [
                        " 42%|████▏     | 121/285 [02:17<03:21,  1.23s/it]"
                    ]
                },
                {
                    "name": "stdout",
                    "output_type": "stream",
                    "text": [
                        "Uploading: frames/intros_mp4_frame02:01.jpg...\n"
                    ]
                },
                {
                    "name": "stderr",
                    "output_type": "stream",
                    "text": [
                        " 43%|████▎     | 122/285 [02:18<03:16,  1.21s/it]"
                    ]
                },
                {
                    "name": "stdout",
                    "output_type": "stream",
                    "text": [
                        "Uploading: frames/intros_mp4_frame02:02.jpg...\n"
                    ]
                },
                {
                    "name": "stderr",
                    "output_type": "stream",
                    "text": [
                        " 43%|████▎     | 123/285 [02:19<03:07,  1.16s/it]"
                    ]
                },
                {
                    "name": "stdout",
                    "output_type": "stream",
                    "text": [
                        "Uploading: frames/intros_mp4_frame02:03.jpg...\n"
                    ]
                },
                {
                    "name": "stderr",
                    "output_type": "stream",
                    "text": [
                        " 44%|████▎     | 124/285 [02:20<03:01,  1.13s/it]"
                    ]
                },
                {
                    "name": "stdout",
                    "output_type": "stream",
                    "text": [
                        "Uploading: frames/intros_mp4_frame02:04.jpg...\n"
                    ]
                },
                {
                    "name": "stderr",
                    "output_type": "stream",
                    "text": [
                        " 44%|████▍     | 125/285 [02:22<02:58,  1.11s/it]"
                    ]
                },
                {
                    "name": "stdout",
                    "output_type": "stream",
                    "text": [
                        "Uploading: frames/intros_mp4_frame02:05.jpg...\n"
                    ]
                },
                {
                    "name": "stderr",
                    "output_type": "stream",
                    "text": [
                        " 44%|████▍     | 126/285 [02:23<02:55,  1.11s/it]"
                    ]
                },
                {
                    "name": "stdout",
                    "output_type": "stream",
                    "text": [
                        "Uploading: frames/intros_mp4_frame02:06.jpg...\n"
                    ]
                },
                {
                    "name": "stderr",
                    "output_type": "stream",
                    "text": [
                        " 45%|████▍     | 127/285 [02:24<02:48,  1.06s/it]"
                    ]
                },
                {
                    "name": "stdout",
                    "output_type": "stream",
                    "text": [
                        "Uploading: frames/intros_mp4_frame02:07.jpg...\n"
                    ]
                },
                {
                    "name": "stderr",
                    "output_type": "stream",
                    "text": [
                        " 45%|████▍     | 128/285 [02:25<02:55,  1.12s/it]"
                    ]
                },
                {
                    "name": "stdout",
                    "output_type": "stream",
                    "text": [
                        "Uploading: frames/intros_mp4_frame02:08.jpg...\n"
                    ]
                },
                {
                    "name": "stderr",
                    "output_type": "stream",
                    "text": [
                        " 45%|████▌     | 129/285 [02:26<02:57,  1.14s/it]"
                    ]
                },
                {
                    "name": "stdout",
                    "output_type": "stream",
                    "text": [
                        "Uploading: frames/intros_mp4_frame02:09.jpg...\n"
                    ]
                },
                {
                    "name": "stderr",
                    "output_type": "stream",
                    "text": [
                        " 46%|████▌     | 130/285 [02:27<03:05,  1.20s/it]"
                    ]
                },
                {
                    "name": "stdout",
                    "output_type": "stream",
                    "text": [
                        "Uploading: frames/intros_mp4_frame02:10.jpg...\n"
                    ]
                },
                {
                    "name": "stderr",
                    "output_type": "stream",
                    "text": [
                        " 46%|████▌     | 131/285 [02:29<03:13,  1.26s/it]"
                    ]
                },
                {
                    "name": "stdout",
                    "output_type": "stream",
                    "text": [
                        "Uploading: frames/intros_mp4_frame02:11.jpg...\n"
                    ]
                },
                {
                    "name": "stderr",
                    "output_type": "stream",
                    "text": [
                        " 46%|████▋     | 132/285 [02:30<03:20,  1.31s/it]"
                    ]
                },
                {
                    "name": "stdout",
                    "output_type": "stream",
                    "text": [
                        "Uploading: frames/intros_mp4_frame02:12.jpg...\n"
                    ]
                },
                {
                    "name": "stderr",
                    "output_type": "stream",
                    "text": [
                        " 47%|████▋     | 133/285 [02:32<03:34,  1.41s/it]"
                    ]
                },
                {
                    "name": "stdout",
                    "output_type": "stream",
                    "text": [
                        "Uploading: frames/intros_mp4_frame02:13.jpg...\n"
                    ]
                },
                {
                    "name": "stderr",
                    "output_type": "stream",
                    "text": [
                        " 47%|████▋     | 134/285 [02:33<03:23,  1.34s/it]"
                    ]
                },
                {
                    "name": "stdout",
                    "output_type": "stream",
                    "text": [
                        "Uploading: frames/intros_mp4_frame02:14.jpg...\n"
                    ]
                },
                {
                    "name": "stderr",
                    "output_type": "stream",
                    "text": [
                        " 47%|████▋     | 135/285 [02:34<03:16,  1.31s/it]"
                    ]
                },
                {
                    "name": "stdout",
                    "output_type": "stream",
                    "text": [
                        "Uploading: frames/intros_mp4_frame02:15.jpg...\n"
                    ]
                },
                {
                    "name": "stderr",
                    "output_type": "stream",
                    "text": [
                        " 48%|████▊     | 136/285 [02:35<03:10,  1.28s/it]"
                    ]
                },
                {
                    "name": "stdout",
                    "output_type": "stream",
                    "text": [
                        "Uploading: frames/intros_mp4_frame02:16.jpg...\n"
                    ]
                },
                {
                    "name": "stderr",
                    "output_type": "stream",
                    "text": [
                        " 48%|████▊     | 137/285 [02:37<03:02,  1.23s/it]"
                    ]
                },
                {
                    "name": "stdout",
                    "output_type": "stream",
                    "text": [
                        "Uploading: frames/intros_mp4_frame02:17.jpg...\n"
                    ]
                },
                {
                    "name": "stderr",
                    "output_type": "stream",
                    "text": [
                        " 48%|████▊     | 138/285 [02:38<02:56,  1.20s/it]"
                    ]
                },
                {
                    "name": "stdout",
                    "output_type": "stream",
                    "text": [
                        "Uploading: frames/intros_mp4_frame02:18.jpg...\n"
                    ]
                },
                {
                    "name": "stderr",
                    "output_type": "stream",
                    "text": [
                        " 49%|████▉     | 139/285 [02:39<02:59,  1.23s/it]"
                    ]
                },
                {
                    "name": "stdout",
                    "output_type": "stream",
                    "text": [
                        "Uploading: frames/intros_mp4_frame02:19.jpg...\n"
                    ]
                },
                {
                    "name": "stderr",
                    "output_type": "stream",
                    "text": [
                        " 49%|████▉     | 140/285 [02:40<02:55,  1.21s/it]"
                    ]
                },
                {
                    "name": "stdout",
                    "output_type": "stream",
                    "text": [
                        "Uploading: frames/intros_mp4_frame02:20.jpg...\n"
                    ]
                },
                {
                    "name": "stderr",
                    "output_type": "stream",
                    "text": [
                        " 49%|████▉     | 141/285 [02:41<02:53,  1.21s/it]"
                    ]
                },
                {
                    "name": "stdout",
                    "output_type": "stream",
                    "text": [
                        "Uploading: frames/intros_mp4_frame02:21.jpg...\n"
                    ]
                },
                {
                    "name": "stderr",
                    "output_type": "stream",
                    "text": [
                        " 50%|████▉     | 142/285 [02:43<03:02,  1.27s/it]"
                    ]
                },
                {
                    "name": "stdout",
                    "output_type": "stream",
                    "text": [
                        "Uploading: frames/intros_mp4_frame02:22.jpg...\n"
                    ]
                },
                {
                    "name": "stderr",
                    "output_type": "stream",
                    "text": [
                        " 50%|█████     | 143/285 [02:44<03:07,  1.32s/it]"
                    ]
                },
                {
                    "name": "stdout",
                    "output_type": "stream",
                    "text": [
                        "Uploading: frames/intros_mp4_frame02:23.jpg...\n"
                    ]
                },
                {
                    "name": "stderr",
                    "output_type": "stream",
                    "text": [
                        " 51%|█████     | 144/285 [02:45<03:02,  1.30s/it]"
                    ]
                },
                {
                    "name": "stdout",
                    "output_type": "stream",
                    "text": [
                        "Uploading: frames/intros_mp4_frame02:24.jpg...\n"
                    ]
                },
                {
                    "name": "stderr",
                    "output_type": "stream",
                    "text": [
                        " 51%|█████     | 145/285 [02:47<03:11,  1.37s/it]"
                    ]
                },
                {
                    "name": "stdout",
                    "output_type": "stream",
                    "text": [
                        "Uploading: frames/intros_mp4_frame02:25.jpg...\n"
                    ]
                },
                {
                    "name": "stderr",
                    "output_type": "stream",
                    "text": [
                        " 51%|█████     | 146/285 [02:49<03:21,  1.45s/it]"
                    ]
                },
                {
                    "name": "stdout",
                    "output_type": "stream",
                    "text": [
                        "Uploading: frames/intros_mp4_frame02:26.jpg...\n"
                    ]
                },
                {
                    "name": "stderr",
                    "output_type": "stream",
                    "text": [
                        " 52%|█████▏    | 147/285 [02:50<03:14,  1.41s/it]"
                    ]
                },
                {
                    "name": "stdout",
                    "output_type": "stream",
                    "text": [
                        "Uploading: frames/intros_mp4_frame02:27.jpg...\n"
                    ]
                },
                {
                    "name": "stderr",
                    "output_type": "stream",
                    "text": [
                        " 52%|█████▏    | 148/285 [02:51<03:12,  1.40s/it]"
                    ]
                },
                {
                    "name": "stdout",
                    "output_type": "stream",
                    "text": [
                        "Uploading: frames/intros_mp4_frame02:28.jpg...\n"
                    ]
                },
                {
                    "name": "stderr",
                    "output_type": "stream",
                    "text": [
                        " 52%|█████▏    | 149/285 [02:52<03:00,  1.33s/it]"
                    ]
                },
                {
                    "name": "stdout",
                    "output_type": "stream",
                    "text": [
                        "Uploading: frames/intros_mp4_frame02:29.jpg...\n"
                    ]
                },
                {
                    "name": "stderr",
                    "output_type": "stream",
                    "text": [
                        " 53%|█████▎    | 150/285 [02:54<02:52,  1.28s/it]"
                    ]
                },
                {
                    "name": "stdout",
                    "output_type": "stream",
                    "text": [
                        "Uploading: frames/intros_mp4_frame02:30.jpg...\n"
                    ]
                },
                {
                    "name": "stderr",
                    "output_type": "stream",
                    "text": [
                        " 53%|█████▎    | 151/285 [02:55<02:48,  1.25s/it]"
                    ]
                },
                {
                    "name": "stdout",
                    "output_type": "stream",
                    "text": [
                        "Uploading: frames/intros_mp4_frame02:31.jpg...\n"
                    ]
                },
                {
                    "name": "stderr",
                    "output_type": "stream",
                    "text": [
                        " 53%|█████▎    | 152/285 [02:56<02:40,  1.21s/it]"
                    ]
                },
                {
                    "name": "stdout",
                    "output_type": "stream",
                    "text": [
                        "Uploading: frames/intros_mp4_frame02:32.jpg...\n"
                    ]
                },
                {
                    "name": "stderr",
                    "output_type": "stream",
                    "text": [
                        " 54%|█████▎    | 153/285 [02:58<02:56,  1.34s/it]"
                    ]
                },
                {
                    "name": "stdout",
                    "output_type": "stream",
                    "text": [
                        "Uploading: frames/intros_mp4_frame02:33.jpg...\n"
                    ]
                },
                {
                    "name": "stderr",
                    "output_type": "stream",
                    "text": [
                        " 54%|█████▍    | 154/285 [02:59<02:46,  1.27s/it]"
                    ]
                },
                {
                    "name": "stdout",
                    "output_type": "stream",
                    "text": [
                        "Uploading: frames/intros_mp4_frame02:34.jpg...\n"
                    ]
                },
                {
                    "name": "stderr",
                    "output_type": "stream",
                    "text": [
                        " 54%|█████▍    | 155/285 [03:00<02:49,  1.30s/it]"
                    ]
                },
                {
                    "name": "stdout",
                    "output_type": "stream",
                    "text": [
                        "Uploading: frames/intros_mp4_frame02:35.jpg...\n"
                    ]
                },
                {
                    "name": "stderr",
                    "output_type": "stream",
                    "text": [
                        " 55%|█████▍    | 156/285 [03:01<02:45,  1.28s/it]"
                    ]
                },
                {
                    "name": "stdout",
                    "output_type": "stream",
                    "text": [
                        "Uploading: frames/intros_mp4_frame02:36.jpg...\n"
                    ]
                },
                {
                    "name": "stderr",
                    "output_type": "stream",
                    "text": [
                        " 55%|█████▌    | 157/285 [03:02<02:37,  1.23s/it]"
                    ]
                },
                {
                    "name": "stdout",
                    "output_type": "stream",
                    "text": [
                        "Uploading: frames/intros_mp4_frame02:37.jpg...\n"
                    ]
                },
                {
                    "name": "stderr",
                    "output_type": "stream",
                    "text": [
                        " 55%|█████▌    | 158/285 [03:04<02:33,  1.21s/it]"
                    ]
                },
                {
                    "name": "stdout",
                    "output_type": "stream",
                    "text": [
                        "Uploading: frames/intros_mp4_frame02:38.jpg...\n"
                    ]
                },
                {
                    "name": "stderr",
                    "output_type": "stream",
                    "text": [
                        " 56%|█████▌    | 159/285 [03:05<02:32,  1.21s/it]"
                    ]
                },
                {
                    "name": "stdout",
                    "output_type": "stream",
                    "text": [
                        "Uploading: frames/intros_mp4_frame02:39.jpg...\n"
                    ]
                },
                {
                    "name": "stderr",
                    "output_type": "stream",
                    "text": [
                        " 56%|█████▌    | 160/285 [03:06<02:28,  1.18s/it]"
                    ]
                },
                {
                    "name": "stdout",
                    "output_type": "stream",
                    "text": [
                        "Uploading: frames/intros_mp4_frame02:40.jpg...\n"
                    ]
                },
                {
                    "name": "stderr",
                    "output_type": "stream",
                    "text": [
                        " 56%|█████▋    | 161/285 [03:07<02:25,  1.17s/it]"
                    ]
                },
                {
                    "name": "stdout",
                    "output_type": "stream",
                    "text": [
                        "Uploading: frames/intros_mp4_frame02:41.jpg...\n"
                    ]
                },
                {
                    "name": "stderr",
                    "output_type": "stream",
                    "text": [
                        " 57%|█████▋    | 162/285 [03:08<02:21,  1.15s/it]"
                    ]
                },
                {
                    "name": "stdout",
                    "output_type": "stream",
                    "text": [
                        "Uploading: frames/intros_mp4_frame02:42.jpg...\n"
                    ]
                },
                {
                    "name": "stderr",
                    "output_type": "stream",
                    "text": [
                        " 57%|█████▋    | 163/285 [03:09<02:24,  1.18s/it]"
                    ]
                },
                {
                    "name": "stdout",
                    "output_type": "stream",
                    "text": [
                        "Uploading: frames/intros_mp4_frame02:43.jpg...\n"
                    ]
                },
                {
                    "name": "stderr",
                    "output_type": "stream",
                    "text": [
                        " 58%|█████▊    | 164/285 [03:11<02:24,  1.19s/it]"
                    ]
                },
                {
                    "name": "stdout",
                    "output_type": "stream",
                    "text": [
                        "Uploading: frames/intros_mp4_frame02:44.jpg...\n"
                    ]
                },
                {
                    "name": "stderr",
                    "output_type": "stream",
                    "text": [
                        " 58%|█████▊    | 165/285 [03:12<02:16,  1.14s/it]"
                    ]
                },
                {
                    "name": "stdout",
                    "output_type": "stream",
                    "text": [
                        "Uploading: frames/intros_mp4_frame02:45.jpg...\n"
                    ]
                },
                {
                    "name": "stderr",
                    "output_type": "stream",
                    "text": [
                        " 58%|█████▊    | 166/285 [03:13<02:19,  1.18s/it]"
                    ]
                },
                {
                    "name": "stdout",
                    "output_type": "stream",
                    "text": [
                        "Uploading: frames/intros_mp4_frame02:46.jpg...\n"
                    ]
                },
                {
                    "name": "stderr",
                    "output_type": "stream",
                    "text": [
                        " 59%|█████▊    | 167/285 [03:14<02:23,  1.22s/it]"
                    ]
                },
                {
                    "name": "stdout",
                    "output_type": "stream",
                    "text": [
                        "Uploading: frames/intros_mp4_frame02:47.jpg...\n"
                    ]
                },
                {
                    "name": "stderr",
                    "output_type": "stream",
                    "text": [
                        " 59%|█████▉    | 168/285 [03:16<02:30,  1.28s/it]"
                    ]
                },
                {
                    "name": "stdout",
                    "output_type": "stream",
                    "text": [
                        "Uploading: frames/intros_mp4_frame02:48.jpg...\n"
                    ]
                },
                {
                    "name": "stderr",
                    "output_type": "stream",
                    "text": [
                        " 59%|█████▉    | 169/285 [03:17<02:35,  1.34s/it]"
                    ]
                },
                {
                    "name": "stdout",
                    "output_type": "stream",
                    "text": [
                        "Uploading: frames/intros_mp4_frame02:49.jpg...\n"
                    ]
                },
                {
                    "name": "stderr",
                    "output_type": "stream",
                    "text": [
                        " 60%|█████▉    | 170/285 [03:19<02:42,  1.42s/it]"
                    ]
                },
                {
                    "name": "stdout",
                    "output_type": "stream",
                    "text": [
                        "Uploading: frames/intros_mp4_frame02:50.jpg...\n"
                    ]
                },
                {
                    "name": "stderr",
                    "output_type": "stream",
                    "text": [
                        " 60%|██████    | 171/285 [03:20<02:42,  1.42s/it]"
                    ]
                },
                {
                    "name": "stdout",
                    "output_type": "stream",
                    "text": [
                        "Uploading: frames/intros_mp4_frame02:51.jpg...\n"
                    ]
                },
                {
                    "name": "stderr",
                    "output_type": "stream",
                    "text": [
                        " 60%|██████    | 172/285 [03:22<02:41,  1.43s/it]"
                    ]
                },
                {
                    "name": "stdout",
                    "output_type": "stream",
                    "text": [
                        "Uploading: frames/intros_mp4_frame02:52.jpg...\n"
                    ]
                },
                {
                    "name": "stderr",
                    "output_type": "stream",
                    "text": [
                        " 61%|██████    | 173/285 [03:23<02:36,  1.40s/it]"
                    ]
                },
                {
                    "name": "stdout",
                    "output_type": "stream",
                    "text": [
                        "Uploading: frames/intros_mp4_frame02:53.jpg...\n"
                    ]
                },
                {
                    "name": "stderr",
                    "output_type": "stream",
                    "text": [
                        " 61%|██████    | 174/285 [03:24<02:33,  1.38s/it]"
                    ]
                },
                {
                    "name": "stdout",
                    "output_type": "stream",
                    "text": [
                        "Uploading: frames/intros_mp4_frame02:54.jpg...\n"
                    ]
                },
                {
                    "name": "stderr",
                    "output_type": "stream",
                    "text": [
                        " 61%|██████▏   | 175/285 [03:26<02:36,  1.42s/it]"
                    ]
                },
                {
                    "name": "stdout",
                    "output_type": "stream",
                    "text": [
                        "Uploading: frames/intros_mp4_frame02:55.jpg...\n"
                    ]
                },
                {
                    "name": "stderr",
                    "output_type": "stream",
                    "text": [
                        " 62%|██████▏   | 176/285 [03:27<02:34,  1.42s/it]"
                    ]
                },
                {
                    "name": "stdout",
                    "output_type": "stream",
                    "text": [
                        "Uploading: frames/intros_mp4_frame02:56.jpg...\n"
                    ]
                },
                {
                    "name": "stderr",
                    "output_type": "stream",
                    "text": [
                        " 62%|██████▏   | 177/285 [03:29<02:39,  1.47s/it]"
                    ]
                },
                {
                    "name": "stdout",
                    "output_type": "stream",
                    "text": [
                        "Uploading: frames/intros_mp4_frame02:57.jpg...\n"
                    ]
                },
                {
                    "name": "stderr",
                    "output_type": "stream",
                    "text": [
                        " 62%|██████▏   | 178/285 [03:30<02:35,  1.46s/it]"
                    ]
                },
                {
                    "name": "stdout",
                    "output_type": "stream",
                    "text": [
                        "Uploading: frames/intros_mp4_frame02:58.jpg...\n"
                    ]
                },
                {
                    "name": "stderr",
                    "output_type": "stream",
                    "text": [
                        " 63%|██████▎   | 179/285 [03:32<02:40,  1.52s/it]"
                    ]
                },
                {
                    "name": "stdout",
                    "output_type": "stream",
                    "text": [
                        "Uploading: frames/intros_mp4_frame02:59.jpg...\n"
                    ]
                },
                {
                    "name": "stderr",
                    "output_type": "stream",
                    "text": [
                        " 63%|██████▎   | 180/285 [03:33<02:39,  1.52s/it]"
                    ]
                },
                {
                    "name": "stdout",
                    "output_type": "stream",
                    "text": [
                        "Uploading: frames/intros_mp4_frame03:00.jpg...\n"
                    ]
                },
                {
                    "name": "stderr",
                    "output_type": "stream",
                    "text": [
                        " 64%|██████▎   | 181/285 [03:35<02:30,  1.44s/it]"
                    ]
                },
                {
                    "name": "stdout",
                    "output_type": "stream",
                    "text": [
                        "Uploading: frames/intros_mp4_frame03:01.jpg...\n"
                    ]
                },
                {
                    "name": "stderr",
                    "output_type": "stream",
                    "text": [
                        " 64%|██████▍   | 182/285 [03:36<02:19,  1.36s/it]"
                    ]
                },
                {
                    "name": "stdout",
                    "output_type": "stream",
                    "text": [
                        "Uploading: frames/intros_mp4_frame03:02.jpg...\n"
                    ]
                },
                {
                    "name": "stderr",
                    "output_type": "stream",
                    "text": [
                        " 64%|██████▍   | 183/285 [03:37<02:11,  1.29s/it]"
                    ]
                },
                {
                    "name": "stdout",
                    "output_type": "stream",
                    "text": [
                        "Uploading: frames/intros_mp4_frame03:03.jpg...\n"
                    ]
                },
                {
                    "name": "stderr",
                    "output_type": "stream",
                    "text": [
                        " 65%|██████▍   | 184/285 [03:38<02:03,  1.22s/it]"
                    ]
                },
                {
                    "name": "stdout",
                    "output_type": "stream",
                    "text": [
                        "Uploading: frames/intros_mp4_frame03:04.jpg...\n"
                    ]
                },
                {
                    "name": "stderr",
                    "output_type": "stream",
                    "text": [
                        " 65%|██████▍   | 185/285 [03:39<02:01,  1.21s/it]"
                    ]
                },
                {
                    "name": "stdout",
                    "output_type": "stream",
                    "text": [
                        "Uploading: frames/intros_mp4_frame03:05.jpg...\n"
                    ]
                },
                {
                    "name": "stderr",
                    "output_type": "stream",
                    "text": [
                        " 65%|██████▌   | 186/285 [03:40<01:56,  1.18s/it]"
                    ]
                },
                {
                    "name": "stdout",
                    "output_type": "stream",
                    "text": [
                        "Uploading: frames/intros_mp4_frame03:06.jpg...\n"
                    ]
                },
                {
                    "name": "stderr",
                    "output_type": "stream",
                    "text": [
                        " 66%|██████▌   | 187/285 [03:42<01:59,  1.22s/it]"
                    ]
                },
                {
                    "name": "stdout",
                    "output_type": "stream",
                    "text": [
                        "Uploading: frames/intros_mp4_frame03:07.jpg...\n"
                    ]
                },
                {
                    "name": "stderr",
                    "output_type": "stream",
                    "text": [
                        " 66%|██████▌   | 188/285 [03:43<01:57,  1.21s/it]"
                    ]
                },
                {
                    "name": "stdout",
                    "output_type": "stream",
                    "text": [
                        "Uploading: frames/intros_mp4_frame03:08.jpg...\n"
                    ]
                },
                {
                    "name": "stderr",
                    "output_type": "stream",
                    "text": [
                        " 66%|██████▋   | 189/285 [03:44<01:58,  1.24s/it]"
                    ]
                },
                {
                    "name": "stdout",
                    "output_type": "stream",
                    "text": [
                        "Uploading: frames/intros_mp4_frame03:09.jpg...\n"
                    ]
                },
                {
                    "name": "stderr",
                    "output_type": "stream",
                    "text": [
                        " 67%|██████▋   | 190/285 [03:45<01:54,  1.20s/it]"
                    ]
                },
                {
                    "name": "stdout",
                    "output_type": "stream",
                    "text": [
                        "Uploading: frames/intros_mp4_frame03:10.jpg...\n"
                    ]
                },
                {
                    "name": "stderr",
                    "output_type": "stream",
                    "text": [
                        " 67%|██████▋   | 191/285 [03:46<01:54,  1.22s/it]"
                    ]
                },
                {
                    "name": "stdout",
                    "output_type": "stream",
                    "text": [
                        "Uploading: frames/intros_mp4_frame03:11.jpg...\n"
                    ]
                },
                {
                    "name": "stderr",
                    "output_type": "stream",
                    "text": [
                        " 67%|██████▋   | 192/285 [03:48<01:51,  1.19s/it]"
                    ]
                },
                {
                    "name": "stdout",
                    "output_type": "stream",
                    "text": [
                        "Uploading: frames/intros_mp4_frame03:12.jpg...\n"
                    ]
                },
                {
                    "name": "stderr",
                    "output_type": "stream",
                    "text": [
                        " 68%|██████▊   | 193/285 [03:49<01:53,  1.23s/it]"
                    ]
                },
                {
                    "name": "stdout",
                    "output_type": "stream",
                    "text": [
                        "Uploading: frames/intros_mp4_frame03:13.jpg...\n"
                    ]
                },
                {
                    "name": "stderr",
                    "output_type": "stream",
                    "text": [
                        " 68%|██████▊   | 194/285 [03:50<01:50,  1.21s/it]"
                    ]
                },
                {
                    "name": "stdout",
                    "output_type": "stream",
                    "text": [
                        "Uploading: frames/intros_mp4_frame03:14.jpg...\n"
                    ]
                },
                {
                    "name": "stderr",
                    "output_type": "stream",
                    "text": [
                        " 68%|██████▊   | 195/285 [03:51<01:47,  1.19s/it]"
                    ]
                },
                {
                    "name": "stdout",
                    "output_type": "stream",
                    "text": [
                        "Uploading: frames/intros_mp4_frame03:15.jpg...\n"
                    ]
                },
                {
                    "name": "stderr",
                    "output_type": "stream",
                    "text": [
                        " 69%|██████▉   | 196/285 [03:53<01:48,  1.21s/it]"
                    ]
                },
                {
                    "name": "stdout",
                    "output_type": "stream",
                    "text": [
                        "Uploading: frames/intros_mp4_frame03:16.jpg...\n"
                    ]
                },
                {
                    "name": "stderr",
                    "output_type": "stream",
                    "text": [
                        " 69%|██████▉   | 197/285 [03:54<01:44,  1.19s/it]"
                    ]
                },
                {
                    "name": "stdout",
                    "output_type": "stream",
                    "text": [
                        "Uploading: frames/intros_mp4_frame03:17.jpg...\n"
                    ]
                },
                {
                    "name": "stderr",
                    "output_type": "stream",
                    "text": [
                        " 69%|██████▉   | 198/285 [03:55<01:42,  1.18s/it]"
                    ]
                },
                {
                    "name": "stdout",
                    "output_type": "stream",
                    "text": [
                        "Uploading: frames/intros_mp4_frame03:18.jpg...\n"
                    ]
                },
                {
                    "name": "stderr",
                    "output_type": "stream",
                    "text": [
                        " 70%|██████▉   | 199/285 [03:56<01:52,  1.31s/it]"
                    ]
                },
                {
                    "name": "stdout",
                    "output_type": "stream",
                    "text": [
                        "Uploading: frames/intros_mp4_frame03:19.jpg...\n"
                    ]
                },
                {
                    "name": "stderr",
                    "output_type": "stream",
                    "text": [
                        " 70%|███████   | 200/285 [03:58<01:58,  1.40s/it]"
                    ]
                },
                {
                    "name": "stdout",
                    "output_type": "stream",
                    "text": [
                        "Uploading: frames/intros_mp4_frame03:20.jpg...\n"
                    ]
                },
                {
                    "name": "stderr",
                    "output_type": "stream",
                    "text": [
                        " 71%|███████   | 201/285 [03:59<01:54,  1.37s/it]"
                    ]
                },
                {
                    "name": "stdout",
                    "output_type": "stream",
                    "text": [
                        "Uploading: frames/intros_mp4_frame03:21.jpg...\n"
                    ]
                },
                {
                    "name": "stderr",
                    "output_type": "stream",
                    "text": [
                        " 71%|███████   | 202/285 [04:01<01:51,  1.35s/it]"
                    ]
                },
                {
                    "name": "stdout",
                    "output_type": "stream",
                    "text": [
                        "Uploading: frames/intros_mp4_frame03:22.jpg...\n"
                    ]
                },
                {
                    "name": "stderr",
                    "output_type": "stream",
                    "text": [
                        " 71%|███████   | 203/285 [04:02<01:47,  1.31s/it]"
                    ]
                },
                {
                    "name": "stdout",
                    "output_type": "stream",
                    "text": [
                        "Uploading: frames/intros_mp4_frame03:23.jpg...\n"
                    ]
                },
                {
                    "name": "stderr",
                    "output_type": "stream",
                    "text": [
                        " 72%|███████▏  | 204/285 [04:03<01:44,  1.29s/it]"
                    ]
                },
                {
                    "name": "stdout",
                    "output_type": "stream",
                    "text": [
                        "Uploading: frames/intros_mp4_frame03:24.jpg...\n"
                    ]
                },
                {
                    "name": "stderr",
                    "output_type": "stream",
                    "text": [
                        " 72%|███████▏  | 205/285 [04:04<01:41,  1.27s/it]"
                    ]
                },
                {
                    "name": "stdout",
                    "output_type": "stream",
                    "text": [
                        "Uploading: frames/intros_mp4_frame03:25.jpg...\n"
                    ]
                },
                {
                    "name": "stderr",
                    "output_type": "stream",
                    "text": [
                        " 72%|███████▏  | 206/285 [04:05<01:38,  1.24s/it]"
                    ]
                },
                {
                    "name": "stdout",
                    "output_type": "stream",
                    "text": [
                        "Uploading: frames/intros_mp4_frame03:26.jpg...\n"
                    ]
                },
                {
                    "name": "stderr",
                    "output_type": "stream",
                    "text": [
                        " 73%|███████▎  | 207/285 [04:07<01:37,  1.25s/it]"
                    ]
                },
                {
                    "name": "stdout",
                    "output_type": "stream",
                    "text": [
                        "Uploading: frames/intros_mp4_frame03:27.jpg...\n"
                    ]
                },
                {
                    "name": "stderr",
                    "output_type": "stream",
                    "text": [
                        " 73%|███████▎  | 208/285 [04:08<01:35,  1.25s/it]"
                    ]
                },
                {
                    "name": "stdout",
                    "output_type": "stream",
                    "text": [
                        "Uploading: frames/intros_mp4_frame03:28.jpg...\n"
                    ]
                },
                {
                    "name": "stderr",
                    "output_type": "stream",
                    "text": [
                        " 73%|███████▎  | 209/285 [04:09<01:31,  1.21s/it]"
                    ]
                },
                {
                    "name": "stdout",
                    "output_type": "stream",
                    "text": [
                        "Uploading: frames/intros_mp4_frame03:29.jpg...\n"
                    ]
                },
                {
                    "name": "stderr",
                    "output_type": "stream",
                    "text": [
                        " 74%|███████▎  | 210/285 [04:10<01:26,  1.16s/it]"
                    ]
                },
                {
                    "name": "stdout",
                    "output_type": "stream",
                    "text": [
                        "Uploading: frames/intros_mp4_frame03:30.jpg...\n"
                    ]
                },
                {
                    "name": "stderr",
                    "output_type": "stream",
                    "text": [
                        " 74%|███████▍  | 211/285 [04:11<01:23,  1.12s/it]"
                    ]
                },
                {
                    "name": "stdout",
                    "output_type": "stream",
                    "text": [
                        "Uploading: frames/intros_mp4_frame03:31.jpg...\n"
                    ]
                },
                {
                    "name": "stderr",
                    "output_type": "stream",
                    "text": [
                        " 74%|███████▍  | 212/285 [04:12<01:26,  1.18s/it]"
                    ]
                },
                {
                    "name": "stdout",
                    "output_type": "stream",
                    "text": [
                        "Uploading: frames/intros_mp4_frame03:32.jpg...\n"
                    ]
                },
                {
                    "name": "stderr",
                    "output_type": "stream",
                    "text": [
                        " 75%|███████▍  | 213/285 [04:14<01:22,  1.14s/it]"
                    ]
                },
                {
                    "name": "stdout",
                    "output_type": "stream",
                    "text": [
                        "Uploading: frames/intros_mp4_frame03:33.jpg...\n"
                    ]
                },
                {
                    "name": "stderr",
                    "output_type": "stream",
                    "text": [
                        " 75%|███████▌  | 214/285 [04:15<01:21,  1.15s/it]"
                    ]
                },
                {
                    "name": "stdout",
                    "output_type": "stream",
                    "text": [
                        "Uploading: frames/intros_mp4_frame03:34.jpg...\n"
                    ]
                },
                {
                    "name": "stderr",
                    "output_type": "stream",
                    "text": [
                        " 75%|███████▌  | 215/285 [04:16<01:20,  1.15s/it]"
                    ]
                },
                {
                    "name": "stdout",
                    "output_type": "stream",
                    "text": [
                        "Uploading: frames/intros_mp4_frame03:35.jpg...\n"
                    ]
                },
                {
                    "name": "stderr",
                    "output_type": "stream",
                    "text": [
                        " 76%|███████▌  | 216/285 [04:17<01:23,  1.20s/it]"
                    ]
                },
                {
                    "name": "stdout",
                    "output_type": "stream",
                    "text": [
                        "Uploading: frames/intros_mp4_frame03:36.jpg...\n"
                    ]
                },
                {
                    "name": "stderr",
                    "output_type": "stream",
                    "text": [
                        " 76%|███████▌  | 217/285 [04:18<01:22,  1.21s/it]"
                    ]
                },
                {
                    "name": "stdout",
                    "output_type": "stream",
                    "text": [
                        "Uploading: frames/intros_mp4_frame03:37.jpg...\n"
                    ]
                },
                {
                    "name": "stderr",
                    "output_type": "stream",
                    "text": [
                        " 76%|███████▋  | 218/285 [04:20<01:19,  1.18s/it]"
                    ]
                },
                {
                    "name": "stdout",
                    "output_type": "stream",
                    "text": [
                        "Uploading: frames/intros_mp4_frame03:38.jpg...\n"
                    ]
                },
                {
                    "name": "stderr",
                    "output_type": "stream",
                    "text": [
                        " 77%|███████▋  | 219/285 [04:21<01:16,  1.16s/it]"
                    ]
                },
                {
                    "name": "stdout",
                    "output_type": "stream",
                    "text": [
                        "Uploading: frames/intros_mp4_frame03:39.jpg...\n"
                    ]
                },
                {
                    "name": "stderr",
                    "output_type": "stream",
                    "text": [
                        " 77%|███████▋  | 220/285 [04:22<01:16,  1.17s/it]"
                    ]
                },
                {
                    "name": "stdout",
                    "output_type": "stream",
                    "text": [
                        "Uploading: frames/intros_mp4_frame03:40.jpg...\n"
                    ]
                },
                {
                    "name": "stderr",
                    "output_type": "stream",
                    "text": [
                        " 78%|███████▊  | 221/285 [04:23<01:13,  1.14s/it]"
                    ]
                },
                {
                    "name": "stdout",
                    "output_type": "stream",
                    "text": [
                        "Uploading: frames/intros_mp4_frame03:41.jpg...\n"
                    ]
                },
                {
                    "name": "stderr",
                    "output_type": "stream",
                    "text": [
                        " 78%|███████▊  | 222/285 [04:24<01:11,  1.14s/it]"
                    ]
                },
                {
                    "name": "stdout",
                    "output_type": "stream",
                    "text": [
                        "Uploading: frames/intros_mp4_frame03:42.jpg...\n"
                    ]
                },
                {
                    "name": "stderr",
                    "output_type": "stream",
                    "text": [
                        " 78%|███████▊  | 223/285 [04:25<01:12,  1.16s/it]"
                    ]
                },
                {
                    "name": "stdout",
                    "output_type": "stream",
                    "text": [
                        "Uploading: frames/intros_mp4_frame03:43.jpg...\n"
                    ]
                },
                {
                    "name": "stderr",
                    "output_type": "stream",
                    "text": [
                        " 79%|███████▊  | 224/285 [04:26<01:10,  1.15s/it]"
                    ]
                },
                {
                    "name": "stdout",
                    "output_type": "stream",
                    "text": [
                        "Uploading: frames/intros_mp4_frame03:44.jpg...\n"
                    ]
                },
                {
                    "name": "stderr",
                    "output_type": "stream",
                    "text": [
                        " 79%|███████▉  | 225/285 [04:28<01:12,  1.21s/it]"
                    ]
                },
                {
                    "name": "stdout",
                    "output_type": "stream",
                    "text": [
                        "Uploading: frames/intros_mp4_frame03:45.jpg...\n"
                    ]
                },
                {
                    "name": "stderr",
                    "output_type": "stream",
                    "text": [
                        " 79%|███████▉  | 226/285 [04:29<01:11,  1.21s/it]"
                    ]
                },
                {
                    "name": "stdout",
                    "output_type": "stream",
                    "text": [
                        "Uploading: frames/intros_mp4_frame03:46.jpg...\n"
                    ]
                },
                {
                    "name": "stderr",
                    "output_type": "stream",
                    "text": [
                        " 80%|███████▉  | 227/285 [04:30<01:11,  1.23s/it]"
                    ]
                },
                {
                    "name": "stdout",
                    "output_type": "stream",
                    "text": [
                        "Uploading: frames/intros_mp4_frame03:47.jpg...\n"
                    ]
                },
                {
                    "name": "stderr",
                    "output_type": "stream",
                    "text": [
                        " 80%|████████  | 228/285 [04:31<01:09,  1.22s/it]"
                    ]
                },
                {
                    "name": "stdout",
                    "output_type": "stream",
                    "text": [
                        "Uploading: frames/intros_mp4_frame03:48.jpg...\n"
                    ]
                },
                {
                    "name": "stderr",
                    "output_type": "stream",
                    "text": [
                        " 80%|████████  | 229/285 [04:33<01:07,  1.20s/it]"
                    ]
                },
                {
                    "name": "stdout",
                    "output_type": "stream",
                    "text": [
                        "Uploading: frames/intros_mp4_frame03:49.jpg...\n"
                    ]
                },
                {
                    "name": "stderr",
                    "output_type": "stream",
                    "text": [
                        " 81%|████████  | 230/285 [04:34<01:05,  1.20s/it]"
                    ]
                },
                {
                    "name": "stdout",
                    "output_type": "stream",
                    "text": [
                        "Uploading: frames/intros_mp4_frame03:50.jpg...\n"
                    ]
                },
                {
                    "name": "stderr",
                    "output_type": "stream",
                    "text": [
                        " 81%|████████  | 231/285 [04:35<01:04,  1.19s/it]"
                    ]
                },
                {
                    "name": "stdout",
                    "output_type": "stream",
                    "text": [
                        "Uploading: frames/intros_mp4_frame03:51.jpg...\n"
                    ]
                },
                {
                    "name": "stderr",
                    "output_type": "stream",
                    "text": [
                        " 81%|████████▏ | 232/285 [04:36<01:06,  1.25s/it]"
                    ]
                },
                {
                    "name": "stdout",
                    "output_type": "stream",
                    "text": [
                        "Uploading: frames/intros_mp4_frame03:52.jpg...\n"
                    ]
                },
                {
                    "name": "stderr",
                    "output_type": "stream",
                    "text": [
                        " 82%|████████▏ | 233/285 [04:38<01:09,  1.33s/it]"
                    ]
                },
                {
                    "name": "stdout",
                    "output_type": "stream",
                    "text": [
                        "Uploading: frames/intros_mp4_frame03:53.jpg...\n"
                    ]
                },
                {
                    "name": "stderr",
                    "output_type": "stream",
                    "text": [
                        " 82%|████████▏ | 234/285 [04:39<01:10,  1.37s/it]"
                    ]
                },
                {
                    "name": "stdout",
                    "output_type": "stream",
                    "text": [
                        "Uploading: frames/intros_mp4_frame03:54.jpg...\n"
                    ]
                },
                {
                    "name": "stderr",
                    "output_type": "stream",
                    "text": [
                        " 82%|████████▏ | 235/285 [04:41<01:11,  1.43s/it]"
                    ]
                },
                {
                    "name": "stdout",
                    "output_type": "stream",
                    "text": [
                        "Uploading: frames/intros_mp4_frame03:55.jpg...\n"
                    ]
                },
                {
                    "name": "stderr",
                    "output_type": "stream",
                    "text": [
                        " 83%|████████▎ | 236/285 [04:42<01:11,  1.45s/it]"
                    ]
                },
                {
                    "name": "stdout",
                    "output_type": "stream",
                    "text": [
                        "Uploading: frames/intros_mp4_frame03:56.jpg...\n"
                    ]
                },
                {
                    "name": "stderr",
                    "output_type": "stream",
                    "text": [
                        " 83%|████████▎ | 237/285 [04:44<01:07,  1.41s/it]"
                    ]
                },
                {
                    "name": "stdout",
                    "output_type": "stream",
                    "text": [
                        "Uploading: frames/intros_mp4_frame03:57.jpg...\n"
                    ]
                },
                {
                    "name": "stderr",
                    "output_type": "stream",
                    "text": [
                        " 84%|████████▎ | 238/285 [04:45<01:04,  1.37s/it]"
                    ]
                },
                {
                    "name": "stdout",
                    "output_type": "stream",
                    "text": [
                        "Uploading: frames/intros_mp4_frame03:58.jpg...\n"
                    ]
                },
                {
                    "name": "stderr",
                    "output_type": "stream",
                    "text": [
                        " 84%|████████▍ | 239/285 [04:46<01:00,  1.31s/it]"
                    ]
                },
                {
                    "name": "stdout",
                    "output_type": "stream",
                    "text": [
                        "Uploading: frames/intros_mp4_frame03:59.jpg...\n"
                    ]
                },
                {
                    "name": "stderr",
                    "output_type": "stream",
                    "text": [
                        " 84%|████████▍ | 240/285 [04:47<00:58,  1.29s/it]"
                    ]
                },
                {
                    "name": "stdout",
                    "output_type": "stream",
                    "text": [
                        "Uploading: frames/intros_mp4_frame04:00.jpg...\n"
                    ]
                },
                {
                    "name": "stderr",
                    "output_type": "stream",
                    "text": [
                        " 85%|████████▍ | 241/285 [04:49<00:55,  1.27s/it]"
                    ]
                },
                {
                    "name": "stdout",
                    "output_type": "stream",
                    "text": [
                        "Uploading: frames/intros_mp4_frame04:01.jpg...\n"
                    ]
                },
                {
                    "name": "stderr",
                    "output_type": "stream",
                    "text": [
                        " 85%|████████▍ | 242/285 [04:50<00:53,  1.24s/it]"
                    ]
                },
                {
                    "name": "stdout",
                    "output_type": "stream",
                    "text": [
                        "Uploading: frames/intros_mp4_frame04:02.jpg...\n"
                    ]
                },
                {
                    "name": "stderr",
                    "output_type": "stream",
                    "text": [
                        " 85%|████████▌ | 243/285 [04:51<00:52,  1.24s/it]"
                    ]
                },
                {
                    "name": "stdout",
                    "output_type": "stream",
                    "text": [
                        "Uploading: frames/intros_mp4_frame04:03.jpg...\n"
                    ]
                },
                {
                    "name": "stderr",
                    "output_type": "stream",
                    "text": [
                        " 86%|████████▌ | 244/285 [04:52<00:51,  1.26s/it]"
                    ]
                },
                {
                    "name": "stdout",
                    "output_type": "stream",
                    "text": [
                        "Uploading: frames/intros_mp4_frame04:04.jpg...\n"
                    ]
                },
                {
                    "name": "stderr",
                    "output_type": "stream",
                    "text": [
                        " 86%|████████▌ | 245/285 [04:54<00:49,  1.24s/it]"
                    ]
                },
                {
                    "name": "stdout",
                    "output_type": "stream",
                    "text": [
                        "Uploading: frames/intros_mp4_frame04:05.jpg...\n"
                    ]
                },
                {
                    "name": "stderr",
                    "output_type": "stream",
                    "text": [
                        " 86%|████████▋ | 246/285 [04:55<00:46,  1.20s/it]"
                    ]
                },
                {
                    "name": "stdout",
                    "output_type": "stream",
                    "text": [
                        "Uploading: frames/intros_mp4_frame04:06.jpg...\n"
                    ]
                },
                {
                    "name": "stderr",
                    "output_type": "stream",
                    "text": [
                        " 87%|████████▋ | 247/285 [04:56<00:46,  1.23s/it]"
                    ]
                },
                {
                    "name": "stdout",
                    "output_type": "stream",
                    "text": [
                        "Uploading: frames/intros_mp4_frame04:07.jpg...\n"
                    ]
                },
                {
                    "name": "stderr",
                    "output_type": "stream",
                    "text": [
                        " 87%|████████▋ | 248/285 [04:57<00:44,  1.20s/it]"
                    ]
                },
                {
                    "name": "stdout",
                    "output_type": "stream",
                    "text": [
                        "Uploading: frames/intros_mp4_frame04:08.jpg...\n"
                    ]
                },
                {
                    "name": "stderr",
                    "output_type": "stream",
                    "text": [
                        " 87%|████████▋ | 249/285 [04:58<00:43,  1.21s/it]"
                    ]
                },
                {
                    "name": "stdout",
                    "output_type": "stream",
                    "text": [
                        "Uploading: frames/intros_mp4_frame04:09.jpg...\n"
                    ]
                },
                {
                    "name": "stderr",
                    "output_type": "stream",
                    "text": [
                        " 88%|████████▊ | 250/285 [05:00<00:43,  1.24s/it]"
                    ]
                },
                {
                    "name": "stdout",
                    "output_type": "stream",
                    "text": [
                        "Uploading: frames/intros_mp4_frame04:10.jpg...\n"
                    ]
                },
                {
                    "name": "stderr",
                    "output_type": "stream",
                    "text": [
                        " 88%|████████▊ | 251/285 [05:01<00:40,  1.20s/it]"
                    ]
                },
                {
                    "name": "stdout",
                    "output_type": "stream",
                    "text": [
                        "Uploading: frames/intros_mp4_frame04:11.jpg...\n"
                    ]
                },
                {
                    "name": "stderr",
                    "output_type": "stream",
                    "text": [
                        " 88%|████████▊ | 252/285 [05:02<00:39,  1.21s/it]"
                    ]
                },
                {
                    "name": "stdout",
                    "output_type": "stream",
                    "text": [
                        "Uploading: frames/intros_mp4_frame04:12.jpg...\n"
                    ]
                },
                {
                    "name": "stderr",
                    "output_type": "stream",
                    "text": [
                        " 89%|████████▉ | 253/285 [05:03<00:38,  1.21s/it]"
                    ]
                },
                {
                    "name": "stdout",
                    "output_type": "stream",
                    "text": [
                        "Uploading: frames/intros_mp4_frame04:13.jpg...\n"
                    ]
                },
                {
                    "name": "stderr",
                    "output_type": "stream",
                    "text": [
                        " 89%|████████▉ | 254/285 [05:05<00:38,  1.25s/it]"
                    ]
                },
                {
                    "name": "stdout",
                    "output_type": "stream",
                    "text": [
                        "Uploading: frames/intros_mp4_frame04:14.jpg...\n"
                    ]
                },
                {
                    "name": "stderr",
                    "output_type": "stream",
                    "text": [
                        " 89%|████████▉ | 255/285 [05:06<00:36,  1.20s/it]"
                    ]
                },
                {
                    "name": "stdout",
                    "output_type": "stream",
                    "text": [
                        "Uploading: frames/intros_mp4_frame04:15.jpg...\n"
                    ]
                },
                {
                    "name": "stderr",
                    "output_type": "stream",
                    "text": [
                        " 90%|████████▉ | 256/285 [05:07<00:34,  1.19s/it]"
                    ]
                },
                {
                    "name": "stdout",
                    "output_type": "stream",
                    "text": [
                        "Uploading: frames/intros_mp4_frame04:16.jpg...\n"
                    ]
                },
                {
                    "name": "stderr",
                    "output_type": "stream",
                    "text": [
                        " 90%|█████████ | 257/285 [05:08<00:33,  1.20s/it]"
                    ]
                },
                {
                    "name": "stdout",
                    "output_type": "stream",
                    "text": [
                        "Uploading: frames/intros_mp4_frame04:17.jpg...\n"
                    ]
                },
                {
                    "name": "stderr",
                    "output_type": "stream",
                    "text": [
                        " 91%|█████████ | 258/285 [05:09<00:32,  1.21s/it]"
                    ]
                },
                {
                    "name": "stdout",
                    "output_type": "stream",
                    "text": [
                        "Uploading: frames/intros_mp4_frame04:18.jpg...\n"
                    ]
                },
                {
                    "name": "stderr",
                    "output_type": "stream",
                    "text": [
                        " 91%|█████████ | 259/285 [05:10<00:31,  1.22s/it]"
                    ]
                },
                {
                    "name": "stdout",
                    "output_type": "stream",
                    "text": [
                        "Uploading: frames/intros_mp4_frame04:19.jpg...\n"
                    ]
                },
                {
                    "name": "stderr",
                    "output_type": "stream",
                    "text": [
                        " 91%|█████████ | 260/285 [05:12<00:31,  1.28s/it]"
                    ]
                },
                {
                    "name": "stdout",
                    "output_type": "stream",
                    "text": [
                        "Uploading: frames/intros_mp4_frame04:20.jpg...\n"
                    ]
                },
                {
                    "name": "stderr",
                    "output_type": "stream",
                    "text": [
                        " 92%|█████████▏| 261/285 [05:13<00:30,  1.27s/it]"
                    ]
                },
                {
                    "name": "stdout",
                    "output_type": "stream",
                    "text": [
                        "Uploading: frames/intros_mp4_frame04:21.jpg...\n"
                    ]
                },
                {
                    "name": "stderr",
                    "output_type": "stream",
                    "text": [
                        " 92%|█████████▏| 262/285 [05:14<00:29,  1.28s/it]"
                    ]
                },
                {
                    "name": "stdout",
                    "output_type": "stream",
                    "text": [
                        "Uploading: frames/intros_mp4_frame04:22.jpg...\n"
                    ]
                },
                {
                    "name": "stderr",
                    "output_type": "stream",
                    "text": [
                        " 92%|█████████▏| 263/285 [05:16<00:27,  1.25s/it]"
                    ]
                },
                {
                    "name": "stdout",
                    "output_type": "stream",
                    "text": [
                        "Uploading: frames/intros_mp4_frame04:23.jpg...\n"
                    ]
                },
                {
                    "name": "stderr",
                    "output_type": "stream",
                    "text": [
                        " 93%|█████████▎| 264/285 [05:17<00:25,  1.23s/it]"
                    ]
                },
                {
                    "name": "stdout",
                    "output_type": "stream",
                    "text": [
                        "Uploading: frames/intros_mp4_frame04:24.jpg...\n"
                    ]
                },
                {
                    "name": "stderr",
                    "output_type": "stream",
                    "text": [
                        " 93%|█████████▎| 265/285 [05:18<00:25,  1.25s/it]"
                    ]
                },
                {
                    "name": "stdout",
                    "output_type": "stream",
                    "text": [
                        "Uploading: frames/intros_mp4_frame04:25.jpg...\n"
                    ]
                },
                {
                    "name": "stderr",
                    "output_type": "stream",
                    "text": [
                        " 93%|█████████▎| 266/285 [05:19<00:23,  1.22s/it]"
                    ]
                },
                {
                    "name": "stdout",
                    "output_type": "stream",
                    "text": [
                        "Uploading: frames/intros_mp4_frame04:26.jpg...\n"
                    ]
                },
                {
                    "name": "stderr",
                    "output_type": "stream",
                    "text": [
                        " 94%|█████████▎| 267/285 [05:21<00:22,  1.25s/it]"
                    ]
                },
                {
                    "name": "stdout",
                    "output_type": "stream",
                    "text": [
                        "Uploading: frames/intros_mp4_frame04:27.jpg...\n"
                    ]
                },
                {
                    "name": "stderr",
                    "output_type": "stream",
                    "text": [
                        " 94%|█████████▍| 268/285 [05:22<00:22,  1.31s/it]"
                    ]
                },
                {
                    "name": "stdout",
                    "output_type": "stream",
                    "text": [
                        "Uploading: frames/intros_mp4_frame04:28.jpg...\n"
                    ]
                },
                {
                    "name": "stderr",
                    "output_type": "stream",
                    "text": [
                        " 94%|█████████▍| 269/285 [05:23<00:20,  1.30s/it]"
                    ]
                },
                {
                    "name": "stdout",
                    "output_type": "stream",
                    "text": [
                        "Uploading: frames/intros_mp4_frame04:29.jpg...\n"
                    ]
                },
                {
                    "name": "stderr",
                    "output_type": "stream",
                    "text": [
                        " 95%|█████████▍| 270/285 [05:25<00:19,  1.27s/it]"
                    ]
                },
                {
                    "name": "stdout",
                    "output_type": "stream",
                    "text": [
                        "Uploading: frames/intros_mp4_frame04:30.jpg...\n"
                    ]
                },
                {
                    "name": "stderr",
                    "output_type": "stream",
                    "text": [
                        " 95%|█████████▌| 271/285 [05:26<00:18,  1.29s/it]"
                    ]
                },
                {
                    "name": "stdout",
                    "output_type": "stream",
                    "text": [
                        "Uploading: frames/intros_mp4_frame04:31.jpg...\n"
                    ]
                },
                {
                    "name": "stderr",
                    "output_type": "stream",
                    "text": [
                        " 95%|█████████▌| 272/285 [05:27<00:16,  1.25s/it]"
                    ]
                },
                {
                    "name": "stdout",
                    "output_type": "stream",
                    "text": [
                        "Uploading: frames/intros_mp4_frame04:32.jpg...\n"
                    ]
                },
                {
                    "name": "stderr",
                    "output_type": "stream",
                    "text": [
                        " 96%|█████████▌| 273/285 [05:28<00:15,  1.25s/it]"
                    ]
                },
                {
                    "name": "stdout",
                    "output_type": "stream",
                    "text": [
                        "Uploading: frames/intros_mp4_frame04:33.jpg...\n"
                    ]
                },
                {
                    "name": "stderr",
                    "output_type": "stream",
                    "text": [
                        " 96%|█████████▌| 274/285 [05:30<00:14,  1.27s/it]"
                    ]
                },
                {
                    "name": "stdout",
                    "output_type": "stream",
                    "text": [
                        "Uploading: frames/intros_mp4_frame04:34.jpg...\n"
                    ]
                },
                {
                    "name": "stderr",
                    "output_type": "stream",
                    "text": [
                        " 96%|█████████▋| 275/285 [05:31<00:12,  1.24s/it]"
                    ]
                },
                {
                    "name": "stdout",
                    "output_type": "stream",
                    "text": [
                        "Uploading: frames/intros_mp4_frame04:35.jpg...\n"
                    ]
                },
                {
                    "name": "stderr",
                    "output_type": "stream",
                    "text": [
                        " 97%|█████████▋| 276/285 [05:32<00:10,  1.20s/it]"
                    ]
                },
                {
                    "name": "stdout",
                    "output_type": "stream",
                    "text": [
                        "Uploading: frames/intros_mp4_frame04:36.jpg...\n"
                    ]
                },
                {
                    "name": "stderr",
                    "output_type": "stream",
                    "text": [
                        " 97%|█████████▋| 277/285 [05:33<00:09,  1.18s/it]"
                    ]
                },
                {
                    "name": "stdout",
                    "output_type": "stream",
                    "text": [
                        "Uploading: frames/intros_mp4_frame04:37.jpg...\n"
                    ]
                },
                {
                    "name": "stderr",
                    "output_type": "stream",
                    "text": [
                        " 98%|█████████▊| 278/285 [05:34<00:08,  1.22s/it]"
                    ]
                },
                {
                    "name": "stdout",
                    "output_type": "stream",
                    "text": [
                        "Uploading: frames/intros_mp4_frame04:38.jpg...\n"
                    ]
                },
                {
                    "name": "stderr",
                    "output_type": "stream",
                    "text": [
                        " 98%|█████████▊| 279/285 [05:35<00:06,  1.16s/it]"
                    ]
                },
                {
                    "name": "stdout",
                    "output_type": "stream",
                    "text": [
                        "Uploading: frames/intros_mp4_frame04:39.jpg...\n"
                    ]
                },
                {
                    "name": "stderr",
                    "output_type": "stream",
                    "text": [
                        " 98%|█████████▊| 280/285 [05:36<00:05,  1.13s/it]"
                    ]
                },
                {
                    "name": "stdout",
                    "output_type": "stream",
                    "text": [
                        "Uploading: frames/intros_mp4_frame04:40.jpg...\n"
                    ]
                },
                {
                    "name": "stderr",
                    "output_type": "stream",
                    "text": [
                        " 99%|█████████▊| 281/285 [05:37<00:04,  1.12s/it]"
                    ]
                },
                {
                    "name": "stdout",
                    "output_type": "stream",
                    "text": [
                        "Uploading: frames/intros_mp4_frame04:41.jpg...\n"
                    ]
                },
                {
                    "name": "stderr",
                    "output_type": "stream",
                    "text": [
                        " 99%|█████████▉| 282/285 [05:39<00:03,  1.10s/it]"
                    ]
                },
                {
                    "name": "stdout",
                    "output_type": "stream",
                    "text": [
                        "Uploading: frames/intros_mp4_frame04:42.jpg...\n"
                    ]
                },
                {
                    "name": "stderr",
                    "output_type": "stream",
                    "text": [
                        " 99%|█████████▉| 283/285 [05:40<00:02,  1.07s/it]"
                    ]
                },
                {
                    "name": "stdout",
                    "output_type": "stream",
                    "text": [
                        "Uploading: frames/intros_mp4_frame04:43.jpg...\n"
                    ]
                },
                {
                    "name": "stderr",
                    "output_type": "stream",
                    "text": [
                        "100%|█████████▉| 284/285 [05:41<00:01,  1.06s/it]"
                    ]
                },
                {
                    "name": "stdout",
                    "output_type": "stream",
                    "text": [
                        "Uploading: frames/intros_mp4_frame04:44.jpg...\n"
                    ]
                },
                {
                    "name": "stderr",
                    "output_type": "stream",
                    "text": [
                        "100%|██████████| 285/285 [05:42<00:00,  1.20s/it]"
                    ]
                },
                {
                    "name": "stdout",
                    "output_type": "stream",
                    "text": [
                        "Completed file uploads!\n",
                        "\n",
                        "Uploaded: 285 files\n"
                    ]
                },
                {
                    "name": "stderr",
                    "output_type": "stream",
                    "text": [
                        "\n"
                    ]
                }
            ],
            "source": [
                "class File:\n",
                "  def __init__(self, file_path: str, display_name: str = None):\n",
                "    self.file_path = file_path\n",
                "    if display_name:\n",
                "      self.display_name = display_name\n",
                "    self.timestamp = get_timestamp(file_path)\n",
                "\n",
                "  def set_file_response(self, response):\n",
                "    self.response = response\n",
                "\n",
                "def get_timestamp(filename):\n",
                "  \"\"\"Extracts the frame count (as an integer) from a filename with the format\n",
                "     'output_file_prefix_frame00:00.jpg'.\n",
                "  \"\"\"\n",
                "  parts = filename.split(FRAME_PREFIX)\n",
                "  if len(parts) != 2:\n",
                "      return None  # Indicates the filename might be incorrectly formatted\n",
                "  return parts[1].split('.')[0]\n",
                "\n",
                "# Process each frame in the output directory\n",
                "files = os.listdir(FRAME_EXTRACTION_DIRECTORY)\n",
                "files = sorted(files)\n",
                "files_to_upload = []\n",
                "for file in files:\n",
                "  if not file.endswith('.jpg'):\n",
                "    continue\n",
                "  files_to_upload.append(\n",
                "      File(file_path=os.path.join(FRAME_EXTRACTION_DIRECTORY, file)))\n",
                "\n",
                "# Upload the files to the API\n",
                "uploaded_files = []\n",
                "print(f'Uploading {len(files_to_upload)} files. This might take a bit...')\n",
                "\n",
                "for file in tqdm(files_to_upload):\n",
                "  print(f'Uploading: {file.file_path}...')\n",
                "  response = genai.upload_file(path=file.file_path)\n",
                "  file.set_file_response(response)\n",
                "  uploaded_files.append(file)\n",
                "\n",
                "print(f\"Completed file uploads!\\n\\nUploaded: {len(uploaded_files)} files\")\n",
                "     "
            ]
        },
        {
            "cell_type": "code",
            "execution_count": 12,
            "metadata": {},
            "outputs": [
                {
                    "name": "stdout",
                    "output_type": "stream",
                    "text": [
                        "https://generativelanguage.googleapis.com/v1beta/files/22f04sjdq4nu\n",
                        "https://generativelanguage.googleapis.com/v1beta/files/sgygcrbtjea9\n",
                        "https://generativelanguage.googleapis.com/v1beta/files/lyita20l8tua\n",
                        "https://generativelanguage.googleapis.com/v1beta/files/d5z9m8grt2fa\n",
                        "https://generativelanguage.googleapis.com/v1beta/files/n2w13bp33qe7\n",
                        "https://generativelanguage.googleapis.com/v1beta/files/wcieukm9r2gs\n",
                        "https://generativelanguage.googleapis.com/v1beta/files/md2qf4q8unc9\n",
                        "https://generativelanguage.googleapis.com/v1beta/files/tigm183692ha\n",
                        "https://generativelanguage.googleapis.com/v1beta/files/eqjue9iowo4h\n",
                        "https://generativelanguage.googleapis.com/v1beta/files/igar9ixxpyat\n",
                        "https://generativelanguage.googleapis.com/v1beta/files/g3xv8v7auwu3\n",
                        "https://generativelanguage.googleapis.com/v1beta/files/6k6he2mjo8au\n",
                        "https://generativelanguage.googleapis.com/v1beta/files/p531bq093xr8\n",
                        "https://generativelanguage.googleapis.com/v1beta/files/3gaqcppnmgkt\n",
                        "https://generativelanguage.googleapis.com/v1beta/files/jmu8r2q2cpsv\n",
                        "https://generativelanguage.googleapis.com/v1beta/files/nfhkndveka3q\n",
                        "https://generativelanguage.googleapis.com/v1beta/files/2hkcdm7yjtpn\n",
                        "https://generativelanguage.googleapis.com/v1beta/files/ldstgop2mb3n\n",
                        "https://generativelanguage.googleapis.com/v1beta/files/ka0t1rv8f16p\n",
                        "https://generativelanguage.googleapis.com/v1beta/files/wy5xuum750um\n",
                        "https://generativelanguage.googleapis.com/v1beta/files/bdmosc96jmon\n",
                        "https://generativelanguage.googleapis.com/v1beta/files/vigghziwd721\n",
                        "https://generativelanguage.googleapis.com/v1beta/files/utjyzt43407o\n",
                        "https://generativelanguage.googleapis.com/v1beta/files/ud85g4hw1l85\n",
                        "https://generativelanguage.googleapis.com/v1beta/files/xpjf1ttjk2u1\n",
                        "https://generativelanguage.googleapis.com/v1beta/files/qyw6f88t04rz\n",
                        "https://generativelanguage.googleapis.com/v1beta/files/h1vugrrfji09\n",
                        "https://generativelanguage.googleapis.com/v1beta/files/iq4j6noz6gxq\n",
                        "https://generativelanguage.googleapis.com/v1beta/files/i57wqtc4h4ha\n",
                        "https://generativelanguage.googleapis.com/v1beta/files/c6x9w5a4nmv2\n",
                        "https://generativelanguage.googleapis.com/v1beta/files/uw3x85jbvgj1\n",
                        "https://generativelanguage.googleapis.com/v1beta/files/bqd453fnz9wb\n",
                        "https://generativelanguage.googleapis.com/v1beta/files/x44ks2x2wyut\n",
                        "https://generativelanguage.googleapis.com/v1beta/files/gaes2qrjf9ah\n",
                        "https://generativelanguage.googleapis.com/v1beta/files/kwvjsc5zwhsa\n",
                        "https://generativelanguage.googleapis.com/v1beta/files/bcdq2i5sffdp\n",
                        "https://generativelanguage.googleapis.com/v1beta/files/11kg4mzjyff3\n",
                        "https://generativelanguage.googleapis.com/v1beta/files/l99fllt8edk\n",
                        "https://generativelanguage.googleapis.com/v1beta/files/xtg94wqbrxbv\n",
                        "https://generativelanguage.googleapis.com/v1beta/files/9g88dmx8xdw0\n",
                        "https://generativelanguage.googleapis.com/v1beta/files/u3fghxdmxj1w\n",
                        "https://generativelanguage.googleapis.com/v1beta/files/j3dbfc3z29co\n",
                        "https://generativelanguage.googleapis.com/v1beta/files/gkki0lpd8djg\n",
                        "https://generativelanguage.googleapis.com/v1beta/files/q67nrdswf1qj\n",
                        "https://generativelanguage.googleapis.com/v1beta/files/muvlyo58mjg7\n",
                        "https://generativelanguage.googleapis.com/v1beta/files/1smm89cow4c3\n",
                        "https://generativelanguage.googleapis.com/v1beta/files/kb9i5nif3ct7\n",
                        "https://generativelanguage.googleapis.com/v1beta/files/icwnrljbrpch\n",
                        "https://generativelanguage.googleapis.com/v1beta/files/l0u4mobqurnz\n",
                        "https://generativelanguage.googleapis.com/v1beta/files/e8ag1npjungc\n",
                        "https://generativelanguage.googleapis.com/v1beta/files/vvobo77unc28\n",
                        "https://generativelanguage.googleapis.com/v1beta/files/jebo63m30kjq\n",
                        "https://generativelanguage.googleapis.com/v1beta/files/2qo38l0zr3lm\n",
                        "https://generativelanguage.googleapis.com/v1beta/files/1uvci6b7z6e4\n",
                        "https://generativelanguage.googleapis.com/v1beta/files/kp0w1wv0l23h\n",
                        "https://generativelanguage.googleapis.com/v1beta/files/2sckntwf1jyt\n",
                        "https://generativelanguage.googleapis.com/v1beta/files/3bah55k518mg\n",
                        "https://generativelanguage.googleapis.com/v1beta/files/7n4v8ijfqroi\n",
                        "https://generativelanguage.googleapis.com/v1beta/files/9sjql7amcua6\n",
                        "https://generativelanguage.googleapis.com/v1beta/files/1eo9maa0vyh8\n",
                        "https://generativelanguage.googleapis.com/v1beta/files/157blwzb0rg6\n",
                        "https://generativelanguage.googleapis.com/v1beta/files/fysg5mcf819v\n",
                        "https://generativelanguage.googleapis.com/v1beta/files/949390dr2zg2\n",
                        "https://generativelanguage.googleapis.com/v1beta/files/u36siemglwm4\n",
                        "https://generativelanguage.googleapis.com/v1beta/files/jb18453l9il6\n",
                        "https://generativelanguage.googleapis.com/v1beta/files/r6dgjewqea8e\n",
                        "https://generativelanguage.googleapis.com/v1beta/files/pwymnygqhuo9\n",
                        "https://generativelanguage.googleapis.com/v1beta/files/v17sqw9tacbk\n",
                        "https://generativelanguage.googleapis.com/v1beta/files/uwx6oxf1nbxt\n",
                        "https://generativelanguage.googleapis.com/v1beta/files/3u6qlg99bonw\n",
                        "https://generativelanguage.googleapis.com/v1beta/files/pyu35w3qh8kk\n",
                        "https://generativelanguage.googleapis.com/v1beta/files/9glrprbybid5\n",
                        "https://generativelanguage.googleapis.com/v1beta/files/r5wdt6p3sbgd\n",
                        "https://generativelanguage.googleapis.com/v1beta/files/9w9ibulndsg1\n",
                        "https://generativelanguage.googleapis.com/v1beta/files/hxoy5axpzlpp\n",
                        "https://generativelanguage.googleapis.com/v1beta/files/xyqb3lefd9vx\n",
                        "https://generativelanguage.googleapis.com/v1beta/files/fau8o3tmnpbp\n",
                        "https://generativelanguage.googleapis.com/v1beta/files/n2aawtujr9zm\n",
                        "https://generativelanguage.googleapis.com/v1beta/files/hu3hybjv4c6n\n",
                        "https://generativelanguage.googleapis.com/v1beta/files/xjgaxqv00kvc\n",
                        "https://generativelanguage.googleapis.com/v1beta/files/vpo0ur6rx7fr\n",
                        "https://generativelanguage.googleapis.com/v1beta/files/vqgxez4yozqx\n",
                        "https://generativelanguage.googleapis.com/v1beta/files/8xji0ak10eab\n",
                        "https://generativelanguage.googleapis.com/v1beta/files/2witii79phq4\n",
                        "https://generativelanguage.googleapis.com/v1beta/files/fm462ont73uw\n",
                        "https://generativelanguage.googleapis.com/v1beta/files/hdpn7xf7rn29\n",
                        "https://generativelanguage.googleapis.com/v1beta/files/mmlakctywz3k\n",
                        "https://generativelanguage.googleapis.com/v1beta/files/bzzhx8x3tf8x\n",
                        "https://generativelanguage.googleapis.com/v1beta/files/nfqi8spxsm97\n",
                        "https://generativelanguage.googleapis.com/v1beta/files/wpx62e8frtfj\n",
                        "https://generativelanguage.googleapis.com/v1beta/files/waponsokpkqz\n",
                        "https://generativelanguage.googleapis.com/v1beta/files/3de3q16vd725\n",
                        "https://generativelanguage.googleapis.com/v1beta/files/wfopfpalxnd1\n",
                        "https://generativelanguage.googleapis.com/v1beta/files/fg5y8xi35odm\n",
                        "https://generativelanguage.googleapis.com/v1beta/files/zgfxjm9k3mrd\n",
                        "https://generativelanguage.googleapis.com/v1beta/files/j337wooqq5s3\n",
                        "https://generativelanguage.googleapis.com/v1beta/files/y2l1zbhwg2ph\n",
                        "https://generativelanguage.googleapis.com/v1beta/files/mjea0hed4ld9\n",
                        "https://generativelanguage.googleapis.com/v1beta/files/9iif7en7w6yd\n",
                        "https://generativelanguage.googleapis.com/v1beta/files/xopfuqx9wr8x\n",
                        "https://generativelanguage.googleapis.com/v1beta/files/h48m7sucgygt\n",
                        "https://generativelanguage.googleapis.com/v1beta/files/ldx8ouydpxs6\n",
                        "https://generativelanguage.googleapis.com/v1beta/files/muj1pkdq3y0d\n",
                        "https://generativelanguage.googleapis.com/v1beta/files/hzhjo9umav2e\n",
                        "https://generativelanguage.googleapis.com/v1beta/files/w11f02zrucde\n",
                        "https://generativelanguage.googleapis.com/v1beta/files/hhcfymdhb5oh\n",
                        "https://generativelanguage.googleapis.com/v1beta/files/h2muxsa3w4hb\n",
                        "https://generativelanguage.googleapis.com/v1beta/files/u7h2i8mhchaw\n",
                        "https://generativelanguage.googleapis.com/v1beta/files/57pcafih85k7\n",
                        "https://generativelanguage.googleapis.com/v1beta/files/meiya6z2fek8\n",
                        "https://generativelanguage.googleapis.com/v1beta/files/j7j3jb1d0kpn\n",
                        "https://generativelanguage.googleapis.com/v1beta/files/mrig0t1dhwkw\n",
                        "https://generativelanguage.googleapis.com/v1beta/files/wsmiqbmwtp79\n",
                        "https://generativelanguage.googleapis.com/v1beta/files/lrbpsqwapjdd\n",
                        "https://generativelanguage.googleapis.com/v1beta/files/bt7xbk6hnnki\n",
                        "https://generativelanguage.googleapis.com/v1beta/files/9d1wd59w7jvb\n",
                        "https://generativelanguage.googleapis.com/v1beta/files/tfi2h07iaiyi\n",
                        "https://generativelanguage.googleapis.com/v1beta/files/apd4rp7ctmr1\n",
                        "https://generativelanguage.googleapis.com/v1beta/files/7pqs699xfsfl\n",
                        "https://generativelanguage.googleapis.com/v1beta/files/toq91kckbhoh\n",
                        "https://generativelanguage.googleapis.com/v1beta/files/u2qmok4llc7s\n",
                        "https://generativelanguage.googleapis.com/v1beta/files/sha76csf0ukr\n",
                        "https://generativelanguage.googleapis.com/v1beta/files/w44mw99s8e4c\n",
                        "https://generativelanguage.googleapis.com/v1beta/files/ol4uasvwfsuh\n",
                        "https://generativelanguage.googleapis.com/v1beta/files/gii8m69fkrmk\n",
                        "https://generativelanguage.googleapis.com/v1beta/files/1rx7p8bgczu5\n",
                        "https://generativelanguage.googleapis.com/v1beta/files/gep3olat8dqx\n",
                        "https://generativelanguage.googleapis.com/v1beta/files/hvop7xnmu6yg\n",
                        "https://generativelanguage.googleapis.com/v1beta/files/nd8yxtjiuotn\n",
                        "https://generativelanguage.googleapis.com/v1beta/files/k7a001x0k9v2\n",
                        "https://generativelanguage.googleapis.com/v1beta/files/a3t3z652aik9\n",
                        "https://generativelanguage.googleapis.com/v1beta/files/xza03d04a1x\n",
                        "https://generativelanguage.googleapis.com/v1beta/files/1d00f5wmhxq1\n",
                        "https://generativelanguage.googleapis.com/v1beta/files/sdpcmhwsdyqj\n",
                        "https://generativelanguage.googleapis.com/v1beta/files/ojypa0xm3sa3\n",
                        "https://generativelanguage.googleapis.com/v1beta/files/f9ixpn3n5puw\n",
                        "https://generativelanguage.googleapis.com/v1beta/files/ssv41tnqr7v6\n",
                        "https://generativelanguage.googleapis.com/v1beta/files/k28d6ua46n9o\n",
                        "https://generativelanguage.googleapis.com/v1beta/files/hg1n3nctamzc\n",
                        "https://generativelanguage.googleapis.com/v1beta/files/4wtqwutmn22p\n",
                        "https://generativelanguage.googleapis.com/v1beta/files/10rlr24ptm4r\n",
                        "https://generativelanguage.googleapis.com/v1beta/files/emk9y13ttysc\n",
                        "https://generativelanguage.googleapis.com/v1beta/files/x39ii6l6scyi\n",
                        "https://generativelanguage.googleapis.com/v1beta/files/aokoe4gp4r3e\n",
                        "https://generativelanguage.googleapis.com/v1beta/files/1t0dgglkgrlt\n",
                        "https://generativelanguage.googleapis.com/v1beta/files/cpccibtkm3te\n",
                        "https://generativelanguage.googleapis.com/v1beta/files/qh9jzyfi8vm3\n",
                        "https://generativelanguage.googleapis.com/v1beta/files/ioqv7joskusc\n",
                        "https://generativelanguage.googleapis.com/v1beta/files/1m4z7n6m21km\n",
                        "https://generativelanguage.googleapis.com/v1beta/files/eu59o1domrrw\n",
                        "https://generativelanguage.googleapis.com/v1beta/files/mc001fv7wipr\n",
                        "https://generativelanguage.googleapis.com/v1beta/files/l2a8ijio6gnq\n",
                        "https://generativelanguage.googleapis.com/v1beta/files/co2lc7dztg6m\n",
                        "https://generativelanguage.googleapis.com/v1beta/files/dspiylwv84q9\n",
                        "https://generativelanguage.googleapis.com/v1beta/files/vdu2ia5rs6ry\n",
                        "https://generativelanguage.googleapis.com/v1beta/files/9oswfu2zxddq\n",
                        "https://generativelanguage.googleapis.com/v1beta/files/jtjc5tn5cr77\n",
                        "https://generativelanguage.googleapis.com/v1beta/files/56hz45eawn0i\n",
                        "https://generativelanguage.googleapis.com/v1beta/files/d5ka584fisec\n",
                        "https://generativelanguage.googleapis.com/v1beta/files/nv5bhbc5l3pz\n",
                        "https://generativelanguage.googleapis.com/v1beta/files/rvjqz8i6d31n\n",
                        "https://generativelanguage.googleapis.com/v1beta/files/ct4z4hwcqqqa\n",
                        "https://generativelanguage.googleapis.com/v1beta/files/cqo9hznpvz31\n",
                        "https://generativelanguage.googleapis.com/v1beta/files/yjzm25yxjo1h\n",
                        "https://generativelanguage.googleapis.com/v1beta/files/25uwva6ru6tq\n",
                        "https://generativelanguage.googleapis.com/v1beta/files/mrzgzh2z5i0h\n",
                        "https://generativelanguage.googleapis.com/v1beta/files/wqt733fego0l\n",
                        "https://generativelanguage.googleapis.com/v1beta/files/ffp5hyckfiam\n",
                        "https://generativelanguage.googleapis.com/v1beta/files/4vvlgbkbeew7\n",
                        "https://generativelanguage.googleapis.com/v1beta/files/4en09r1ktb0i\n",
                        "https://generativelanguage.googleapis.com/v1beta/files/z4ijs542gam5\n",
                        "https://generativelanguage.googleapis.com/v1beta/files/hrdhcdahci4u\n",
                        "https://generativelanguage.googleapis.com/v1beta/files/3vs4pwrfvjth\n",
                        "https://generativelanguage.googleapis.com/v1beta/files/l5txymoqvr80\n",
                        "https://generativelanguage.googleapis.com/v1beta/files/oave64w6ez4a\n",
                        "https://generativelanguage.googleapis.com/v1beta/files/eh7m13ialm0r\n",
                        "https://generativelanguage.googleapis.com/v1beta/files/yceswwolvtby\n",
                        "https://generativelanguage.googleapis.com/v1beta/files/qy7x1qylpp3b\n",
                        "https://generativelanguage.googleapis.com/v1beta/files/6xk4i3rihr54\n",
                        "https://generativelanguage.googleapis.com/v1beta/files/om5e2p0bc36t\n",
                        "https://generativelanguage.googleapis.com/v1beta/files/5n2e4dv4f41p\n",
                        "https://generativelanguage.googleapis.com/v1beta/files/i9xihvx34g3v\n",
                        "https://generativelanguage.googleapis.com/v1beta/files/jx2q8a9s0nwf\n",
                        "https://generativelanguage.googleapis.com/v1beta/files/kd5fok3qjigo\n",
                        "https://generativelanguage.googleapis.com/v1beta/files/dds028ayqb8z\n",
                        "https://generativelanguage.googleapis.com/v1beta/files/u03ka5bmm69f\n",
                        "https://generativelanguage.googleapis.com/v1beta/files/3lahvggkciau\n",
                        "https://generativelanguage.googleapis.com/v1beta/files/w84e9zp818iu\n",
                        "https://generativelanguage.googleapis.com/v1beta/files/wdxa4vlvok2q\n",
                        "https://generativelanguage.googleapis.com/v1beta/files/l9623ow2x69f\n",
                        "https://generativelanguage.googleapis.com/v1beta/files/rr8tuthk4b1t\n",
                        "https://generativelanguage.googleapis.com/v1beta/files/w4x375pnyvnr\n",
                        "https://generativelanguage.googleapis.com/v1beta/files/roekfzjg6w20\n",
                        "https://generativelanguage.googleapis.com/v1beta/files/cyccmirmaav5\n",
                        "https://generativelanguage.googleapis.com/v1beta/files/71p7a5nvxt97\n",
                        "https://generativelanguage.googleapis.com/v1beta/files/lghuu93sfqxm\n",
                        "https://generativelanguage.googleapis.com/v1beta/files/f7hv25nrafmb\n",
                        "https://generativelanguage.googleapis.com/v1beta/files/nc2xfa3wwpsl\n",
                        "https://generativelanguage.googleapis.com/v1beta/files/8spspovwy0q0\n",
                        "https://generativelanguage.googleapis.com/v1beta/files/f08e4szhpmat\n",
                        "https://generativelanguage.googleapis.com/v1beta/files/vk05ftsy8hum\n",
                        "https://generativelanguage.googleapis.com/v1beta/files/zucbbglqvea7\n",
                        "https://generativelanguage.googleapis.com/v1beta/files/x539p8ex456i\n",
                        "https://generativelanguage.googleapis.com/v1beta/files/y5kh9b1f5nhr\n",
                        "https://generativelanguage.googleapis.com/v1beta/files/ydmcs3v5c7ox\n",
                        "https://generativelanguage.googleapis.com/v1beta/files/mzvcfx7zdc82\n",
                        "https://generativelanguage.googleapis.com/v1beta/files/nepu9ftpznwt\n",
                        "https://generativelanguage.googleapis.com/v1beta/files/tk53zlfvd1pj\n",
                        "https://generativelanguage.googleapis.com/v1beta/files/ouvwsl4jzzok\n",
                        "https://generativelanguage.googleapis.com/v1beta/files/861bqy2zg0gl\n",
                        "https://generativelanguage.googleapis.com/v1beta/files/80mbadraeq70\n",
                        "https://generativelanguage.googleapis.com/v1beta/files/eo12eh2vsten\n",
                        "https://generativelanguage.googleapis.com/v1beta/files/630jdjuzeum2\n",
                        "https://generativelanguage.googleapis.com/v1beta/files/l2pvg9e3513c\n",
                        "https://generativelanguage.googleapis.com/v1beta/files/hmi766g0ybjq\n",
                        "https://generativelanguage.googleapis.com/v1beta/files/zu8ral64nly9\n",
                        "https://generativelanguage.googleapis.com/v1beta/files/xtf319pw0ov8\n",
                        "https://generativelanguage.googleapis.com/v1beta/files/ck1togrwf05i\n",
                        "https://generativelanguage.googleapis.com/v1beta/files/ojcll00o0ewd\n",
                        "https://generativelanguage.googleapis.com/v1beta/files/k9qisxxyp9u7\n",
                        "https://generativelanguage.googleapis.com/v1beta/files/ige7s6a565jv\n",
                        "https://generativelanguage.googleapis.com/v1beta/files/60kuntefe5md\n",
                        "https://generativelanguage.googleapis.com/v1beta/files/6h1c8e4mdog\n",
                        "https://generativelanguage.googleapis.com/v1beta/files/26vo7s98rvl2\n",
                        "https://generativelanguage.googleapis.com/v1beta/files/oqij2yccm0tl\n",
                        "https://generativelanguage.googleapis.com/v1beta/files/sjgjjgmaye30\n",
                        "https://generativelanguage.googleapis.com/v1beta/files/lzefvs3f5s93\n",
                        "https://generativelanguage.googleapis.com/v1beta/files/zpd0z0zxfm01\n",
                        "https://generativelanguage.googleapis.com/v1beta/files/6w8exyso22l8\n",
                        "https://generativelanguage.googleapis.com/v1beta/files/3tp6pk5n3fv7\n",
                        "https://generativelanguage.googleapis.com/v1beta/files/7395n15c9oi7\n",
                        "https://generativelanguage.googleapis.com/v1beta/files/btabwuigif3d\n",
                        "https://generativelanguage.googleapis.com/v1beta/files/qtk1hvg8u428\n",
                        "https://generativelanguage.googleapis.com/v1beta/files/jcd8ctemezkp\n",
                        "https://generativelanguage.googleapis.com/v1beta/files/pz7u14hl5i2x\n",
                        "https://generativelanguage.googleapis.com/v1beta/files/hyqla15yr1ml\n",
                        "https://generativelanguage.googleapis.com/v1beta/files/4uczocawcbnn\n",
                        "https://generativelanguage.googleapis.com/v1beta/files/z3dar4vt2cfr\n",
                        "https://generativelanguage.googleapis.com/v1beta/files/9ae2ap6u28dm\n",
                        "https://generativelanguage.googleapis.com/v1beta/files/28rokf6kgkya\n",
                        "https://generativelanguage.googleapis.com/v1beta/files/clhd6l9pprlu\n",
                        "https://generativelanguage.googleapis.com/v1beta/files/9eyiumm5sdte\n",
                        "https://generativelanguage.googleapis.com/v1beta/files/uxmqahbw628d\n",
                        "https://generativelanguage.googleapis.com/v1beta/files/j5ur15628k4u\n",
                        "https://generativelanguage.googleapis.com/v1beta/files/kh8ekutnz7q6\n",
                        "https://generativelanguage.googleapis.com/v1beta/files/liuuahz87c8o\n",
                        "https://generativelanguage.googleapis.com/v1beta/files/2ixtabpzs4mn\n",
                        "https://generativelanguage.googleapis.com/v1beta/files/soqlp7zhu7ie\n",
                        "https://generativelanguage.googleapis.com/v1beta/files/uzk4ahw70ovg\n",
                        "https://generativelanguage.googleapis.com/v1beta/files/joka8ijlrzil\n",
                        "https://generativelanguage.googleapis.com/v1beta/files/whkhinswq9iw\n",
                        "https://generativelanguage.googleapis.com/v1beta/files/6472pzvng1a5\n",
                        "https://generativelanguage.googleapis.com/v1beta/files/e54rdfv0mx60\n",
                        "https://generativelanguage.googleapis.com/v1beta/files/r5ecewqgcjye\n",
                        "https://generativelanguage.googleapis.com/v1beta/files/ri2t99614xo7\n",
                        "https://generativelanguage.googleapis.com/v1beta/files/yu7nok3q7n08\n",
                        "https://generativelanguage.googleapis.com/v1beta/files/zz0wvr58n5l9\n",
                        "https://generativelanguage.googleapis.com/v1beta/files/473jios5111d\n",
                        "https://generativelanguage.googleapis.com/v1beta/files/b0evct0fchfc\n",
                        "https://generativelanguage.googleapis.com/v1beta/files/qd2cnxpvl7d3\n",
                        "https://generativelanguage.googleapis.com/v1beta/files/gbqjsda2nnyq\n",
                        "https://generativelanguage.googleapis.com/v1beta/files/49lp2yb02479\n",
                        "https://generativelanguage.googleapis.com/v1beta/files/wnd7c7c3nedw\n",
                        "https://generativelanguage.googleapis.com/v1beta/files/rrmnb878hnns\n",
                        "https://generativelanguage.googleapis.com/v1beta/files/bng6h902dld9\n",
                        "https://generativelanguage.googleapis.com/v1beta/files/arexhlbjw3tq\n",
                        "https://generativelanguage.googleapis.com/v1beta/files/y6zicfcebml7\n",
                        "https://generativelanguage.googleapis.com/v1beta/files/ysgl52tjckvg\n",
                        "https://generativelanguage.googleapis.com/v1beta/files/38g48375w1jg\n",
                        "https://generativelanguage.googleapis.com/v1beta/files/ojo6ypzle8o\n",
                        "https://generativelanguage.googleapis.com/v1beta/files/e88qgfrx4oxc\n",
                        "https://generativelanguage.googleapis.com/v1beta/files/4xknbak586dj\n",
                        "https://generativelanguage.googleapis.com/v1beta/files/caw332z6y7lh\n",
                        "https://generativelanguage.googleapis.com/v1beta/files/yjmgx20t8ibo\n",
                        "https://generativelanguage.googleapis.com/v1beta/files/bfyh7s1dh3zu\n",
                        "https://generativelanguage.googleapis.com/v1beta/files/unpibd91liht\n",
                        "https://generativelanguage.googleapis.com/v1beta/files/f1c7pn5atjb\n",
                        "https://generativelanguage.googleapis.com/v1beta/files/meniwvbe061o\n",
                        "https://generativelanguage.googleapis.com/v1beta/files/ibuhlukyzd5z\n",
                        "https://generativelanguage.googleapis.com/v1beta/files/gqob5zstg93r\n",
                        "https://generativelanguage.googleapis.com/v1beta/files/fj1i4lp0pr6s\n",
                        "https://generativelanguage.googleapis.com/v1beta/files/8d2xh0gtdvtn\n",
                        "https://generativelanguage.googleapis.com/v1beta/files/pusl2vxngout\n",
                        "https://generativelanguage.googleapis.com/v1beta/files/uheyyi4ogsyi\n",
                        "https://generativelanguage.googleapis.com/v1beta/files/vuk75dc1uugp\n"
                    ]
                }
            ],
            "source": [
                "# List files uploaded in the API\n",
                "for n, f in zip(range(len(uploaded_files)), genai.list_files()):\n",
                "  print(f.uri)"
            ]
        },
        {
            "cell_type": "code",
            "execution_count": 13,
            "metadata": {},
            "outputs": [
                {
                    "name": "stdout",
                    "output_type": "stream",
                    "text": [
                        "00:00\n",
                        "00:01\n",
                        "00:02\n",
                        "00:03\n",
                        "00:04\n",
                        "00:05\n",
                        "00:06\n",
                        "00:07\n",
                        "00:08\n",
                        "00:09\n",
                        "00:10\n",
                        "00:11\n",
                        "00:12\n",
                        "00:13\n",
                        "00:14\n",
                        "00:15\n",
                        "00:16\n",
                        "00:17\n",
                        "00:18\n",
                        "00:19\n",
                        "00:20\n",
                        "00:21\n",
                        "00:22\n",
                        "00:23\n",
                        "00:24\n",
                        "00:25\n",
                        "00:26\n",
                        "00:27\n",
                        "00:28\n",
                        "00:29\n",
                        "00:30\n",
                        "00:31\n",
                        "00:32\n",
                        "00:33\n",
                        "00:34\n",
                        "00:35\n",
                        "00:36\n",
                        "00:37\n",
                        "00:38\n",
                        "00:39\n",
                        "00:40\n",
                        "00:41\n",
                        "00:42\n",
                        "00:43\n",
                        "00:44\n",
                        "00:45\n",
                        "00:46\n",
                        "00:47\n",
                        "00:48\n",
                        "00:49\n",
                        "00:50\n",
                        "00:51\n",
                        "00:52\n",
                        "00:53\n",
                        "00:54\n",
                        "00:55\n",
                        "00:56\n",
                        "00:57\n",
                        "00:58\n",
                        "00:59\n",
                        "01:00\n",
                        "01:01\n",
                        "01:02\n",
                        "01:03\n",
                        "01:04\n",
                        "01:05\n",
                        "01:06\n",
                        "01:07\n",
                        "01:08\n",
                        "01:09\n",
                        "01:10\n",
                        "01:11\n",
                        "01:12\n",
                        "01:13\n",
                        "01:14\n",
                        "01:15\n",
                        "01:16\n",
                        "01:17\n",
                        "01:18\n",
                        "01:19\n",
                        "01:20\n",
                        "01:21\n",
                        "01:22\n",
                        "01:23\n",
                        "01:24\n",
                        "01:25\n",
                        "01:26\n",
                        "01:27\n",
                        "01:28\n",
                        "01:29\n",
                        "01:30\n",
                        "01:31\n",
                        "01:32\n",
                        "01:33\n",
                        "01:34\n",
                        "01:35\n",
                        "01:36\n",
                        "01:37\n",
                        "01:38\n",
                        "01:39\n",
                        "01:40\n",
                        "01:41\n",
                        "01:42\n",
                        "01:43\n",
                        "01:44\n",
                        "01:45\n",
                        "01:46\n",
                        "01:47\n",
                        "01:48\n",
                        "01:49\n",
                        "01:50\n",
                        "01:51\n",
                        "01:52\n",
                        "01:53\n",
                        "01:54\n",
                        "01:55\n",
                        "01:56\n",
                        "01:57\n",
                        "01:58\n",
                        "01:59\n",
                        "02:00\n",
                        "02:01\n",
                        "02:02\n",
                        "02:03\n",
                        "02:04\n",
                        "02:05\n",
                        "02:06\n",
                        "02:07\n",
                        "02:08\n",
                        "02:09\n",
                        "02:10\n",
                        "02:11\n",
                        "02:12\n",
                        "02:13\n",
                        "02:14\n",
                        "02:15\n",
                        "02:16\n",
                        "02:17\n",
                        "02:18\n",
                        "02:19\n",
                        "02:20\n",
                        "02:21\n",
                        "02:22\n",
                        "02:23\n",
                        "02:24\n",
                        "02:25\n",
                        "02:26\n",
                        "02:27\n",
                        "02:28\n",
                        "02:29\n",
                        "02:30\n",
                        "02:31\n",
                        "02:32\n",
                        "02:33\n",
                        "02:34\n",
                        "02:35\n",
                        "02:36\n",
                        "02:37\n",
                        "02:38\n",
                        "02:39\n",
                        "02:40\n",
                        "02:41\n",
                        "02:42\n",
                        "02:43\n",
                        "02:44\n",
                        "02:45\n",
                        "02:46\n",
                        "02:47\n",
                        "02:48\n",
                        "02:49\n",
                        "02:50\n",
                        "02:51\n",
                        "02:52\n",
                        "02:53\n",
                        "02:54\n",
                        "02:55\n",
                        "02:56\n",
                        "02:57\n",
                        "02:58\n",
                        "02:59\n",
                        "03:00\n",
                        "03:01\n",
                        "03:02\n",
                        "03:03\n",
                        "03:04\n",
                        "03:05\n",
                        "03:06\n",
                        "03:07\n",
                        "03:08\n",
                        "03:09\n",
                        "03:10\n",
                        "03:11\n",
                        "03:12\n",
                        "03:13\n",
                        "03:14\n",
                        "03:15\n",
                        "03:16\n",
                        "03:17\n",
                        "03:18\n",
                        "03:19\n",
                        "03:20\n",
                        "03:21\n",
                        "03:22\n",
                        "03:23\n",
                        "03:24\n",
                        "03:25\n",
                        "03:26\n",
                        "03:27\n",
                        "03:28\n",
                        "03:29\n",
                        "03:30\n",
                        "03:31\n",
                        "03:32\n",
                        "03:33\n",
                        "03:34\n",
                        "03:35\n",
                        "03:36\n",
                        "03:37\n",
                        "03:38\n",
                        "03:39\n",
                        "03:40\n",
                        "03:41\n",
                        "03:42\n",
                        "03:43\n",
                        "03:44\n",
                        "03:45\n",
                        "03:46\n",
                        "03:47\n",
                        "03:48\n",
                        "03:49\n",
                        "03:50\n",
                        "03:51\n",
                        "03:52\n",
                        "03:53\n",
                        "03:54\n",
                        "03:55\n",
                        "03:56\n",
                        "03:57\n",
                        "03:58\n",
                        "03:59\n",
                        "04:00\n",
                        "04:01\n",
                        "04:02\n",
                        "04:03\n",
                        "04:04\n",
                        "04:05\n",
                        "04:06\n",
                        "04:07\n",
                        "04:08\n",
                        "04:09\n",
                        "04:10\n",
                        "04:11\n",
                        "04:12\n",
                        "04:13\n",
                        "04:14\n",
                        "04:15\n",
                        "04:16\n",
                        "04:17\n",
                        "04:18\n",
                        "04:19\n",
                        "04:20\n",
                        "04:21\n",
                        "04:22\n",
                        "04:23\n",
                        "04:24\n",
                        "04:25\n",
                        "04:26\n",
                        "04:27\n",
                        "04:28\n",
                        "04:29\n",
                        "04:30\n",
                        "04:31\n",
                        "04:32\n",
                        "04:33\n",
                        "04:34\n",
                        "04:35\n",
                        "04:36\n",
                        "04:37\n",
                        "04:38\n",
                        "04:39\n",
                        "04:40\n",
                        "04:41\n",
                        "04:42\n",
                        "04:43\n",
                        "04:44\n",
                        "[]\n",
                        "\n",
                        "\n"
                    ]
                }
            ],
            "source": [
                "\n",
                "#Choose only clips that are entertaining or make for good b-roll.\n",
                "prompt = \"\"\"\n",
                "You are an expert video editor, helping us select clips for a video.\n",
                "Select only clips where someone tells us their name.\n",
                "Double check your work to ensure that the timestamps are correct.\n",
                "\n",
                "For each clip, provide a \"start_timestamp\", \"end_timestamp\", \"location\" (point of interest in the frame, either left, middle-left, middle, middle-right, or right), and \"description\" (a brief explanation of why you selected the clip).\n",
                "\"\"\"\n",
                "\n",
                "# Set the model to Gemini 1.5 Pro.\n",
                "model = genai.GenerativeModel(model_name=\"models/gemini-1.5-pro-latest\", generation_config={\"response_mime_type\": \"application/json\"})\n",
                "\n",
                "# Make GenerateContent request with the structure described above.\n",
                "def make_request(prompt, files):\n",
                "  request = [prompt]\n",
                "  for file in files:\n",
                "    request.append(file.timestamp)\n",
                "    print(file.timestamp)\n",
                "    request.append(file.response)\n",
                "  return request\n",
                "\n",
                "# Make the LLM request.\n",
                "request = make_request(prompt, uploaded_files) + [audio_file]\n",
                "response = model.generate_content(request,\n",
                "                                  request_options={\"timeout\": 600})\n",
                "print(response.text)"
            ]
        },
        {
            "cell_type": "code",
            "execution_count": 71,
            "metadata": {},
            "outputs": [],
            "source": [
                "from json import loads\n",
                "\n",
                "clip_details = loads(response.text)\n",
                "\n",
                "def get_seconds(time_string):\n",
                "    denoms = time_string.split(\":\")\n",
                "    secs = 0\n",
                "    for i, val in enumerate(denoms[::-1]):\n",
                "        secs += float(val) * 60 ** i \n",
                "    return secs\n",
                "\n",
                "def clip(start, end, mkv_filename, filename):\n",
                "    call_ffmpeg(f\"-ss {start} -i {mkv_filename} -c copy -t {end - start} {filename}\")\n",
                "\n",
                "for i, details in enumerate(clip_details, start=1):\n",
                "    clip_name = f\"frames/clip_{i}.mkv\"\n",
                "    clip(get_seconds(details['start_timestamp']), get_seconds(details['end_timestamp']), video_file_name, clip_name)"
            ]
        },
        {
            "cell_type": "code",
            "execution_count": null,
            "metadata": {},
            "outputs": [],
            "source": [
                "#print(f'Deleting {len(uploaded_files)} images. This might take a bit...')\n",
                "#for file in uploaded_files:\n",
                "#  genai.delete_file(file.response.name)\n",
                "#  print(f'Deleted {file.file_path} at URI {file.response.uri}')\n",
                "#print(f\"Completed deleting files!\\n\\nDeleted: {len(uploaded_files)} files\")"
            ]
        },
        {
            "cell_type": "code",
            "execution_count": 37,
            "metadata": {},
            "outputs": [
                {
                    "name": "stdout",
                    "output_type": "stream",
                    "text": [
                        "The total size of all files in the frames directory is: 139088916 bytes\n"
                    ]
                }
            ],
            "source": [
                "import os\n",
                "\n",
                "frames_directory = 'frames'\n",
                "total_size = 0\n",
                "\n",
                "for root, dirs, files in os.walk(frames_directory):\n",
                "    for file in files:\n",
                "        file_path = os.path.join(root, file)\n",
                "        total_size += os.path.getsize(file_path)\n",
                "\n",
                "print(f\"The total size of all files in the frames directory is: {total_size} bytes\")\n"
            ]
        }
    ],
    "metadata": {
        "kernelspec": {
            "display_name": "env",
            "language": "python",
            "name": "python3"
        },
        "language_info": {
            "codemirror_mode": {
                "name": "ipython",
                "version": 3
            },
            "file_extension": ".py",
            "mimetype": "text/x-python",
            "name": "python",
            "nbconvert_exporter": "python",
            "pygments_lexer": "ipython3",
            "version": "3.10.10"
        }
    },
    "nbformat": 4,
    "nbformat_minor": 2
}
