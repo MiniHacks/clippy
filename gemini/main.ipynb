{
    "cells": [
        {
            "cell_type": "code",
            "execution_count": 1,
            "metadata": {
                "ExecuteTime": {
                    "end_time": "2024-04-20T18:36:06.856418Z",
                    "start_time": "2024-04-20T18:36:05.223218Z"
                }
            },
            "outputs": [
                {
                    "name": "stdout",
                    "output_type": "stream",
                    "text": [
                        "Requirement already satisfied: opencv-python in /Users/shy/Projects/clippy/env/lib/python3.10/site-packages (4.9.0.80)\n",
                        "Requirement already satisfied: IPython in /Users/shy/Projects/clippy/env/lib/python3.10/site-packages (8.23.0)\n",
                        "Requirement already satisfied: ffmpeg in /Users/shy/Projects/clippy/env/lib/python3.10/site-packages (1.4)\n",
                        "Requirement already satisfied: tqdm in /Users/shy/Projects/clippy/env/lib/python3.10/site-packages (4.66.2)\n",
                        "Requirement already satisfied: google-generativeai in /Users/shy/Projects/clippy/env/lib/python3.10/site-packages (0.5.2)\n",
                        "Collecting google\n",
                        "  Downloading google-3.0.0-py2.py3-none-any.whl (45 kB)\n",
                        "\u001b[2K     \u001b[38;2;114;156;31m━━━━━━━━━━━━━━━━━━━━━━━━━━━━━━━━━━━━━━━━\u001b[0m \u001b[32m45.3/45.3 kB\u001b[0m \u001b[31m1.6 MB/s\u001b[0m eta \u001b[36m0:00:00\u001b[0m\n",
                        "\u001b[?25h\u001b[31mERROR: Could not find a version that satisfies the requirement cv2 (from versions: none)\u001b[0m\u001b[31m\n",
                        "\u001b[0m\u001b[31mERROR: No matching distribution found for cv2\u001b[0m\u001b[31m\n",
                        "\u001b[0m\n",
                        "\u001b[1m[\u001b[0m\u001b[34;49mnotice\u001b[0m\u001b[1;39;49m]\u001b[0m\u001b[39;49m A new release of pip available: \u001b[0m\u001b[31;49m22.3.1\u001b[0m\u001b[39;49m -> \u001b[0m\u001b[32;49m24.0\u001b[0m\n",
                        "\u001b[1m[\u001b[0m\u001b[34;49mnotice\u001b[0m\u001b[1;39;49m]\u001b[0m\u001b[39;49m To update, run: \u001b[0m\u001b[32;49m/Users/shy/Projects/clippy/env/bin/python -m pip install --upgrade pip\u001b[0m\n"
                    ]
                }
            ],
            "source": [
                "import sys\n",
                "!{sys.executable} -m pip install opencv-python IPython ffmpeg tqdm google-generativeai google cv2"
            ]
        },
        {
            "cell_type": "code",
            "execution_count": 2,
            "metadata": {},
            "outputs": [
                {
                    "name": "stderr",
                    "output_type": "stream",
                    "text": [
                        "/Users/shy/Projects/clippy/env/lib/python3.10/site-packages/tqdm/auto.py:21: TqdmWarning: IProgress not found. Please update jupyter and ipywidgets. See https://ipywidgets.readthedocs.io/en/stable/user_install.html\n",
                        "  from .autonotebook import tqdm as notebook_tqdm\n"
                    ]
                }
            ],
            "source": [
                "from pathlib import Path\n",
                "import textwrap\n",
                "\n",
                "import google.generativeai as genai\n",
                "\n",
                "from IPython.display import display\n",
                "from IPython.display import Markdown\n",
                "import cv2\n",
                "import shutil\n",
                "import ffmpeg\n",
                "import subprocess\n",
                "import os\n",
                "from tqdm import tqdm\n",
                "\n",
                "def to_markdown(text):\n",
                "  text = text.replace('•', '  *')\n",
                "  return Markdown(textwrap.indent(text, '> ', predicate=lambda _: True))"
            ]
        },
        {
            "cell_type": "code",
            "execution_count": 3,
            "metadata": {
                "ExecuteTime": {
                    "end_time": "2024-04-20T19:14:09.312055Z",
                    "start_time": "2024-04-20T19:14:09.305171Z"
                }
            },
            "outputs": [],
            "source": [
                "import os\n",
                "\n",
                "genai.configure(api_key=os.environ['GOOGLE_API_KEY'])"
            ]
        },
        {
            "cell_type": "code",
            "execution_count": 4,
            "metadata": {
                "ExecuteTime": {
                    "end_time": "2024-04-20T18:45:26.457375Z",
                    "start_time": "2024-04-20T18:45:26.358655Z"
                }
            },
            "outputs": [
                {
                    "name": "stdout",
                    "output_type": "stream",
                    "text": [
                        "models/gemini-1.0-pro\n",
                        "models/gemini-1.0-pro-001\n",
                        "models/gemini-1.0-pro-latest\n",
                        "models/gemini-1.0-pro-vision-latest\n",
                        "models/gemini-1.5-pro-latest\n",
                        "models/gemini-pro\n",
                        "models/gemini-pro-vision\n"
                    ]
                }
            ],
            "source": [
                "for m in genai.list_models():\n",
                "  if 'generateContent' in m.supported_generation_methods:\n",
                "    print(m.name)\n"
            ]
        },
        {
            "cell_type": "code",
            "execution_count": 5,
            "metadata": {
                "ExecuteTime": {
                    "end_time": "2024-04-20T18:43:51.607177Z",
                    "start_time": "2024-04-20T18:43:51.605133Z"
                }
            },
            "outputs": [],
            "source": [
                "model = genai.GenerativeModel('gemini-pro')"
            ]
        },
        {
            "cell_type": "code",
            "execution_count": null,
            "metadata": {},
            "outputs": [],
            "source": []
        },
        {
            "cell_type": "code",
            "execution_count": 6,
            "metadata": {
                "ExecuteTime": {
                    "end_time": "2024-04-20T18:45:35.201801Z",
                    "start_time": "2024-04-20T18:45:29.787377Z"
                }
            },
            "outputs": [],
            "source": [
                "response = model.generate_content(\"What is the meaning of life?\")"
            ]
        },
        {
            "cell_type": "code",
            "execution_count": 7,
            "metadata": {
                "ExecuteTime": {
                    "end_time": "2024-04-20T18:45:37.870101Z",
                    "start_time": "2024-04-20T18:45:37.856484Z"
                }
            },
            "outputs": [
                {
                    "name": "stdout",
                    "output_type": "stream",
                    "text": [
                        "response:\n",
                        "GenerateContentResponse(\n",
                        "    done=True,\n",
                        "    iterator=None,\n",
                        "    result=glm.GenerateContentResponse({'candidates': [{'finish_reason': 4, 'index': 0, 'safety_ratings': [], 'token_count': 0, 'grounding_attributions': []}]}),\n",
                        ")\n"
                    ]
                },
                {
                    "ename": "ValueError",
                    "evalue": "The `response.text` quick accessor only works when the response contains a valid `Part`, but none was returned. Check the `candidate.safety_ratings` to see if the response was blocked.",
                    "output_type": "error",
                    "traceback": [
                        "\u001b[0;31m---------------------------------------------------------------------------\u001b[0m",
                        "\u001b[0;31mValueError\u001b[0m                                Traceback (most recent call last)",
                        "Cell \u001b[0;32mIn[7], line 2\u001b[0m\n\u001b[1;32m      1\u001b[0m \u001b[38;5;28mprint\u001b[39m(response)\n\u001b[0;32m----> 2\u001b[0m to_markdown(\u001b[43mresponse\u001b[49m\u001b[38;5;241;43m.\u001b[39;49m\u001b[43mtext\u001b[49m)\n",
                        "File \u001b[0;32m~/Projects/clippy/env/lib/python3.10/site-packages/google/generativeai/types/generation_types.py:356\u001b[0m, in \u001b[0;36mBaseGenerateContentResponse.text\u001b[0;34m(self)\u001b[0m\n\u001b[1;32m    354\u001b[0m parts \u001b[38;5;241m=\u001b[39m \u001b[38;5;28mself\u001b[39m\u001b[38;5;241m.\u001b[39mparts\n\u001b[1;32m    355\u001b[0m \u001b[38;5;28;01mif\u001b[39;00m \u001b[38;5;129;01mnot\u001b[39;00m parts:\n\u001b[0;32m--> 356\u001b[0m     \u001b[38;5;28;01mraise\u001b[39;00m \u001b[38;5;167;01mValueError\u001b[39;00m(\n\u001b[1;32m    357\u001b[0m         \u001b[38;5;124m\"\u001b[39m\u001b[38;5;124mThe `response.text` quick accessor only works when the response contains a valid \u001b[39m\u001b[38;5;124m\"\u001b[39m\n\u001b[1;32m    358\u001b[0m         \u001b[38;5;124m\"\u001b[39m\u001b[38;5;124m`Part`, but none was returned. Check the `candidate.safety_ratings` to see if the \u001b[39m\u001b[38;5;124m\"\u001b[39m\n\u001b[1;32m    359\u001b[0m         \u001b[38;5;124m\"\u001b[39m\u001b[38;5;124mresponse was blocked.\u001b[39m\u001b[38;5;124m\"\u001b[39m\n\u001b[1;32m    360\u001b[0m     )\n\u001b[1;32m    362\u001b[0m \u001b[38;5;28;01mif\u001b[39;00m \u001b[38;5;28mlen\u001b[39m(parts) \u001b[38;5;241m!=\u001b[39m \u001b[38;5;241m1\u001b[39m \u001b[38;5;129;01mor\u001b[39;00m \u001b[38;5;124m\"\u001b[39m\u001b[38;5;124mtext\u001b[39m\u001b[38;5;124m\"\u001b[39m \u001b[38;5;129;01mnot\u001b[39;00m \u001b[38;5;129;01min\u001b[39;00m parts[\u001b[38;5;241m0\u001b[39m]:\n\u001b[1;32m    363\u001b[0m     \u001b[38;5;28;01mraise\u001b[39;00m \u001b[38;5;167;01mValueError\u001b[39;00m(\n\u001b[1;32m    364\u001b[0m         \u001b[38;5;124m\"\u001b[39m\u001b[38;5;124mThe `response.text` quick accessor only works for \u001b[39m\u001b[38;5;124m\"\u001b[39m\n\u001b[1;32m    365\u001b[0m         \u001b[38;5;124m\"\u001b[39m\u001b[38;5;124msimple (single-`Part`) text responses. This response is not simple text. \u001b[39m\u001b[38;5;124m\"\u001b[39m\n\u001b[0;32m   (...)\u001b[0m\n\u001b[1;32m    368\u001b[0m         \u001b[38;5;124m\"\u001b[39m\u001b[38;5;124minstead.\u001b[39m\u001b[38;5;124m\"\u001b[39m\n\u001b[1;32m    369\u001b[0m     )\n",
                        "\u001b[0;31mValueError\u001b[0m: The `response.text` quick accessor only works when the response contains a valid `Part`, but none was returned. Check the `candidate.safety_ratings` to see if the response was blocked."
                    ]
                }
            ],
            "source": [
                "print(response)\n",
                "to_markdown(response.text)"
            ]
        },
        {
            "cell_type": "code",
            "execution_count": null,
            "metadata": {},
            "outputs": [],
            "source": [
                "response.prompt_feedback"
            ]
        },
        {
            "cell_type": "code",
            "execution_count": null,
            "metadata": {},
            "outputs": [],
            "source": [
                "response.candidates\n"
            ]
        },
        {
            "cell_type": "code",
            "execution_count": null,
            "metadata": {},
            "outputs": [],
            "source": [
                "response = model.generate_content(\"hi man how are you\", stream=True)"
            ]
        },
        {
            "cell_type": "markdown",
            "metadata": {},
            "source": [
                "## Pro-Vision Video!"
            ]
        },
        {
            "cell_type": "code",
            "execution_count": 8,
            "metadata": {
                "ExecuteTime": {
                    "end_time": "2024-04-20T19:14:15.469145Z",
                    "start_time": "2024-04-20T19:14:15.465707Z"
                }
            },
            "outputs": [],
            "source": [
                "model = genai.GenerativeModel('gemini-pro-vision')\n"
            ]
        },
        {
            "cell_type": "code",
            "execution_count": 9,
            "metadata": {},
            "outputs": [
                {
                    "name": "stdout",
                    "output_type": "stream",
                    "text": [
                        "\u001b[36m/Users/shy/Desktop/\u001b[1;32m4-19-Sasha-blocked.MP4\u001b[0m\n"
                    ]
                }
            ],
            "source": [
                "!ls /Users/shy/Desktop/4-19-Sasha-blocked.MP4   "
            ]
        },
        {
            "cell_type": "code",
            "execution_count": 10,
            "metadata": {},
            "outputs": [],
            "source": [
                "FRAME_EXTRACTION_DIRECTORY = \"frames\"\n",
                "FRAME_PREFIX = \"_frame\"\n",
                "\n",
                "video_file_name = Path(\"/Users/shy/Desktop/4-19-Sasha-blocked.MP4\")\n",
                "video_file_name = Path(\"/Users/shy/Desktop/4-19-Sasha-dinner.MP4\")\n",
                "video_file_name = Path(\"/Users/shy/Desktop/test_clip.mp4\")\n",
                "video_file_name = Path(\"/Users/shy/Desktop/intros.mp4\")\n",
                "\n",
                "audio_file_name = Path(f\"{FRAME_EXTRACTION_DIRECTORY}/{video_file_name.stem}.mp3\")\n",
                "\n",
                "def call_ffmpeg(arg_string):\n",
                "    subprocess.call(['ffmpeg', \"-hide_banner\", \"-loglevel\", \"error\", \"-y\"] + arg_string.split())\n",
                "    \n",
                "def extract_mp3_from_mp4(video_file_name, audio_file_name):\n",
                "    call_ffmpeg(f\"-i {video_file_name} {audio_file_name}\")\n",
                "\n",
                "def convert_to_mp4(video_file_name):\n",
                "    mkv_name = video_file_name.with_suffix(\".mkv\")\n",
                "    call_ffmpeg(f\"-i {video_file_name} -c copy {mkv_name}\")\n",
                "\n",
                "\n",
                "extract_mp3_from_mp4(video_file_name, audio_file_name)\n",
                "convert_to_mp4(video_file_name)\n",
                "\n",
                "audio_file = genai.upload_file(path=audio_file_name)"
            ]
        },
        {
            "cell_type": "code",
            "execution_count": null,
            "metadata": {},
            "outputs": [],
            "source": []
        },
        {
            "cell_type": "code",
            "execution_count": 11,
            "metadata": {},
            "outputs": [
                {
                    "name": "stdout",
                    "output_type": "stream",
                    "text": [
                        "Uploading 285 files. This might take a bit...\n"
                    ]
                },
                {
                    "name": "stderr",
                    "output_type": "stream",
                    "text": [
                        "  0%|          | 0/285 [00:00<?, ?it/s]"
                    ]
                },
                {
                    "name": "stdout",
                    "output_type": "stream",
                    "text": [
                        "Uploading: frames/intros_mp4_frame00:00.jpg...\n"
                    ]
                },
                {
                    "name": "stderr",
                    "output_type": "stream",
                    "text": [
                        "  0%|          | 1/285 [00:01<05:01,  1.06s/it]"
                    ]
                },
                {
                    "name": "stdout",
                    "output_type": "stream",
                    "text": [
                        "Uploading: frames/intros_mp4_frame00:01.jpg...\n"
                    ]
                },
                {
                    "name": "stderr",
                    "output_type": "stream",
                    "text": [
                        "  1%|          | 2/285 [00:02<04:58,  1.06s/it]"
                    ]
                },
                {
                    "name": "stdout",
                    "output_type": "stream",
                    "text": [
                        "Uploading: frames/intros_mp4_frame00:02.jpg...\n"
                    ]
                },
                {
                    "name": "stderr",
                    "output_type": "stream",
                    "text": [
                        "  1%|          | 3/285 [00:03<05:06,  1.09s/it]"
                    ]
                },
                {
                    "name": "stdout",
                    "output_type": "stream",
                    "text": [
                        "Uploading: frames/intros_mp4_frame00:03.jpg...\n"
                    ]
                },
                {
                    "name": "stderr",
                    "output_type": "stream",
                    "text": [
                        "  1%|▏         | 4/285 [00:04<05:12,  1.11s/it]"
                    ]
                },
                {
                    "name": "stdout",
                    "output_type": "stream",
                    "text": [
                        "Uploading: frames/intros_mp4_frame00:04.jpg...\n"
                    ]
                },
                {
                    "name": "stderr",
                    "output_type": "stream",
                    "text": [
                        "  2%|▏         | 5/285 [00:05<05:12,  1.11s/it]"
                    ]
                },
                {
                    "name": "stdout",
                    "output_type": "stream",
                    "text": [
                        "Uploading: frames/intros_mp4_frame00:05.jpg...\n"
                    ]
                },
                {
                    "name": "stderr",
                    "output_type": "stream",
                    "text": [
                        "  2%|▏         | 6/285 [00:06<05:19,  1.15s/it]"
                    ]
                },
                {
                    "name": "stdout",
                    "output_type": "stream",
                    "text": [
                        "Uploading: frames/intros_mp4_frame00:06.jpg...\n"
                    ]
                },
                {
                    "name": "stderr",
                    "output_type": "stream",
                    "text": [
                        "  2%|▏         | 7/285 [00:07<05:13,  1.13s/it]"
                    ]
                },
                {
                    "name": "stdout",
                    "output_type": "stream",
                    "text": [
                        "Uploading: frames/intros_mp4_frame00:07.jpg...\n"
                    ]
                },
                {
                    "name": "stderr",
                    "output_type": "stream",
                    "text": [
                        "  3%|▎         | 8/285 [00:08<05:09,  1.12s/it]"
                    ]
                },
                {
                    "name": "stdout",
                    "output_type": "stream",
                    "text": [
                        "Uploading: frames/intros_mp4_frame00:08.jpg...\n"
                    ]
                },
                {
                    "name": "stderr",
                    "output_type": "stream",
                    "text": [
                        "  3%|▎         | 9/285 [00:09<05:04,  1.10s/it]"
                    ]
                },
                {
                    "name": "stdout",
                    "output_type": "stream",
                    "text": [
                        "Uploading: frames/intros_mp4_frame00:09.jpg...\n"
                    ]
                },
                {
                    "name": "stderr",
                    "output_type": "stream",
                    "text": [
                        "  4%|▎         | 10/285 [00:11<04:58,  1.08s/it]"
                    ]
                },
                {
                    "name": "stdout",
                    "output_type": "stream",
                    "text": [
                        "Uploading: frames/intros_mp4_frame00:10.jpg...\n"
                    ]
                },
                {
                    "name": "stderr",
                    "output_type": "stream",
                    "text": [
                        "  4%|▍         | 11/285 [00:12<05:00,  1.10s/it]"
                    ]
                },
                {
                    "name": "stdout",
                    "output_type": "stream",
                    "text": [
                        "Uploading: frames/intros_mp4_frame00:11.jpg...\n"
                    ]
                },
                {
                    "name": "stderr",
                    "output_type": "stream",
                    "text": [
                        "  4%|▍         | 12/285 [00:13<05:05,  1.12s/it]"
                    ]
                },
                {
                    "name": "stdout",
                    "output_type": "stream",
                    "text": [
                        "Uploading: frames/intros_mp4_frame00:12.jpg...\n"
                    ]
                },
                {
                    "name": "stderr",
                    "output_type": "stream",
                    "text": [
                        "  5%|▍         | 13/285 [00:14<04:59,  1.10s/it]"
                    ]
                },
                {
                    "name": "stdout",
                    "output_type": "stream",
                    "text": [
                        "Uploading: frames/intros_mp4_frame00:13.jpg...\n"
                    ]
                },
                {
                    "name": "stderr",
                    "output_type": "stream",
                    "text": [
                        "  5%|▍         | 14/285 [00:15<04:55,  1.09s/it]"
                    ]
                },
                {
                    "name": "stdout",
                    "output_type": "stream",
                    "text": [
                        "Uploading: frames/intros_mp4_frame00:14.jpg...\n"
                    ]
                },
                {
                    "name": "stderr",
                    "output_type": "stream",
                    "text": [
                        "  5%|▌         | 15/285 [00:16<04:55,  1.10s/it]"
                    ]
                }
            ],
            "source": [
                "class File:\n",
                "  def __init__(self, file_path: str, display_name: str = None):\n",
                "    self.file_path = file_path\n",
                "    if display_name:\n",
                "      self.display_name = display_name\n",
                "    self.timestamp = get_timestamp(file_path)\n",
                "\n",
                "  def set_file_response(self, response):\n",
                "    self.response = response\n",
                "\n",
                "def get_timestamp(filename):\n",
                "  \"\"\"Extracts the frame count (as an integer) from a filename with the format\n",
                "     'output_file_prefix_frame00:00.jpg'.\n",
                "  \"\"\"\n",
                "  parts = filename.split(FRAME_PREFIX)\n",
                "  if len(parts) != 2:\n",
                "      return None  # Indicates the filename might be incorrectly formatted\n",
                "  return parts[1].split('.')[0]\n",
                "\n",
                "# Process each frame in the output directory\n",
                "files = os.listdir(FRAME_EXTRACTION_DIRECTORY)\n",
                "files = sorted(files)\n",
                "files_to_upload = []\n",
                "for file in files:\n",
                "  if not file.endswith('.jpg'):\n",
                "    continue\n",
                "  files_to_upload.append(\n",
                "      File(file_path=os.path.join(FRAME_EXTRACTION_DIRECTORY, file)))\n",
                "\n",
                "# Upload the files to the API\n",
                "uploaded_files = []\n",
                "print(f'Uploading {len(files_to_upload)} files. This might take a bit...')\n",
                "\n",
                "for file in tqdm(files_to_upload):\n",
                "  print(f'Uploading: {file.file_path}...')\n",
                "  response = genai.upload_file(path=file.file_path)\n",
                "  file.set_file_response(response)\n",
                "  uploaded_files.append(file)\n",
                "\n",
                "print(f\"Completed file uploads!\\n\\nUploaded: {len(uploaded_files)} files\")\n",
                "     "
            ]
        },
        {
            "cell_type": "code",
            "execution_count": null,
            "metadata": {},
            "outputs": [
                {
                    "name": "stdout",
                    "output_type": "stream",
                    "text": [
                        "https://generativelanguage.googleapis.com/v1beta/files/azdrk4nqp6h4\n",
                        "https://generativelanguage.googleapis.com/v1beta/files/441sdko7004y\n",
                        "https://generativelanguage.googleapis.com/v1beta/files/ww6t49xai1aq\n",
                        "https://generativelanguage.googleapis.com/v1beta/files/kex2mt6fj95q\n",
                        "https://generativelanguage.googleapis.com/v1beta/files/y6dqer0o1iu\n",
                        "https://generativelanguage.googleapis.com/v1beta/files/nbl1mnisnh3x\n",
                        "https://generativelanguage.googleapis.com/v1beta/files/ipks3dpdtbe0\n",
                        "https://generativelanguage.googleapis.com/v1beta/files/yxbcndrk75gw\n",
                        "https://generativelanguage.googleapis.com/v1beta/files/7lm7qjj8wuz7\n",
                        "https://generativelanguage.googleapis.com/v1beta/files/l7b0ucuerzo6\n",
                        "https://generativelanguage.googleapis.com/v1beta/files/26mv984nqckj\n",
                        "https://generativelanguage.googleapis.com/v1beta/files/k9ja26v70gdh\n",
                        "https://generativelanguage.googleapis.com/v1beta/files/9fj87gr7gepx\n",
                        "https://generativelanguage.googleapis.com/v1beta/files/3hgvph1fzmdj\n",
                        "https://generativelanguage.googleapis.com/v1beta/files/pco06r82ltk7\n",
                        "https://generativelanguage.googleapis.com/v1beta/files/rh7v3jnit6nv\n",
                        "https://generativelanguage.googleapis.com/v1beta/files/qlyepkegeqqv\n",
                        "https://generativelanguage.googleapis.com/v1beta/files/azs7krptnj1x\n",
                        "https://generativelanguage.googleapis.com/v1beta/files/fnm3padj23d0\n",
                        "https://generativelanguage.googleapis.com/v1beta/files/j1e2k32qkgh\n",
                        "https://generativelanguage.googleapis.com/v1beta/files/5bdoyw9xwwxy\n",
                        "https://generativelanguage.googleapis.com/v1beta/files/3xzksksxhsig\n",
                        "https://generativelanguage.googleapis.com/v1beta/files/vkwhl46vixad\n",
                        "https://generativelanguage.googleapis.com/v1beta/files/m0bztd2djc7l\n",
                        "https://generativelanguage.googleapis.com/v1beta/files/278gr39bmaaw\n",
                        "https://generativelanguage.googleapis.com/v1beta/files/ky82ui68mnej\n",
                        "https://generativelanguage.googleapis.com/v1beta/files/fwnzoubi24bm\n",
                        "https://generativelanguage.googleapis.com/v1beta/files/yjk3ww7iui32\n",
                        "https://generativelanguage.googleapis.com/v1beta/files/s5ric1gdgs2j\n",
                        "https://generativelanguage.googleapis.com/v1beta/files/xq7gw5hq4oci\n",
                        "https://generativelanguage.googleapis.com/v1beta/files/485lq9tqewos\n",
                        "https://generativelanguage.googleapis.com/v1beta/files/is3qltmr4o30\n",
                        "https://generativelanguage.googleapis.com/v1beta/files/z9aybin6mlxg\n",
                        "https://generativelanguage.googleapis.com/v1beta/files/v84fex18yvzd\n",
                        "https://generativelanguage.googleapis.com/v1beta/files/u6cjis86exus\n",
                        "https://generativelanguage.googleapis.com/v1beta/files/2wmixl7tfnc7\n",
                        "https://generativelanguage.googleapis.com/v1beta/files/ma8pyab1u2x8\n",
                        "https://generativelanguage.googleapis.com/v1beta/files/243hofkc3pmu\n",
                        "https://generativelanguage.googleapis.com/v1beta/files/jr1ihg3hffqt\n",
                        "https://generativelanguage.googleapis.com/v1beta/files/nvn9ymg3m7o9\n",
                        "https://generativelanguage.googleapis.com/v1beta/files/vpuk4g1flymi\n",
                        "https://generativelanguage.googleapis.com/v1beta/files/phfmzzbu0akr\n",
                        "https://generativelanguage.googleapis.com/v1beta/files/gzh8itkby4v3\n",
                        "https://generativelanguage.googleapis.com/v1beta/files/n36lpys7q6qo\n",
                        "https://generativelanguage.googleapis.com/v1beta/files/mair8nw1fv5k\n",
                        "https://generativelanguage.googleapis.com/v1beta/files/i3mn4as708w9\n",
                        "https://generativelanguage.googleapis.com/v1beta/files/np099frq0pi7\n",
                        "https://generativelanguage.googleapis.com/v1beta/files/msbgtk8stnn4\n",
                        "https://generativelanguage.googleapis.com/v1beta/files/ygkpwjml5z4v\n",
                        "https://generativelanguage.googleapis.com/v1beta/files/5bvsu3ohu3ba\n",
                        "https://generativelanguage.googleapis.com/v1beta/files/mxj5a0mv4uyr\n",
                        "https://generativelanguage.googleapis.com/v1beta/files/g7tgkbnyynhu\n",
                        "https://generativelanguage.googleapis.com/v1beta/files/w88269a9qaae\n",
                        "https://generativelanguage.googleapis.com/v1beta/files/h2nabuajc0qq\n",
                        "https://generativelanguage.googleapis.com/v1beta/files/ziodxi8n084k\n",
                        "https://generativelanguage.googleapis.com/v1beta/files/yepy3thmy73x\n",
                        "https://generativelanguage.googleapis.com/v1beta/files/z16ldiifg2zg\n",
                        "https://generativelanguage.googleapis.com/v1beta/files/q3dfqugridta\n",
                        "https://generativelanguage.googleapis.com/v1beta/files/rauk8x3u6ifa\n",
                        "https://generativelanguage.googleapis.com/v1beta/files/l1iu79qrsiud\n",
                        "https://generativelanguage.googleapis.com/v1beta/files/x6grecgvq3bv\n",
                        "https://generativelanguage.googleapis.com/v1beta/files/mxsj7p103ygs\n",
                        "https://generativelanguage.googleapis.com/v1beta/files/5qyebbea7n0a\n",
                        "https://generativelanguage.googleapis.com/v1beta/files/qxe0vo48i58u\n",
                        "https://generativelanguage.googleapis.com/v1beta/files/hubwtz76ovcz\n",
                        "https://generativelanguage.googleapis.com/v1beta/files/73du1gf8kq41\n",
                        "https://generativelanguage.googleapis.com/v1beta/files/tijgfjxw4h8p\n",
                        "https://generativelanguage.googleapis.com/v1beta/files/xx5bzw60wfeo\n",
                        "https://generativelanguage.googleapis.com/v1beta/files/pccv2eqoi1ng\n",
                        "https://generativelanguage.googleapis.com/v1beta/files/ojjnutu2zayr\n",
                        "https://generativelanguage.googleapis.com/v1beta/files/skhwk9bfh4go\n",
                        "https://generativelanguage.googleapis.com/v1beta/files/dzww8xvppqby\n",
                        "https://generativelanguage.googleapis.com/v1beta/files/8ph4ehevl9k\n",
                        "https://generativelanguage.googleapis.com/v1beta/files/co9h4mfrsdbg\n",
                        "https://generativelanguage.googleapis.com/v1beta/files/s7f9f1wusu1n\n",
                        "https://generativelanguage.googleapis.com/v1beta/files/wzj1k0jwlp94\n",
                        "https://generativelanguage.googleapis.com/v1beta/files/fr36q9b3gqe4\n",
                        "https://generativelanguage.googleapis.com/v1beta/files/1rndlc50yxex\n",
                        "https://generativelanguage.googleapis.com/v1beta/files/y6qy79l1fsp2\n",
                        "https://generativelanguage.googleapis.com/v1beta/files/ftjf0291u8on\n",
                        "https://generativelanguage.googleapis.com/v1beta/files/iy3cx4e80tqr\n",
                        "https://generativelanguage.googleapis.com/v1beta/files/h0uhwf8u6396\n",
                        "https://generativelanguage.googleapis.com/v1beta/files/diook6tvcdte\n",
                        "https://generativelanguage.googleapis.com/v1beta/files/cwlhlp4f8bdx\n",
                        "https://generativelanguage.googleapis.com/v1beta/files/n4e6gbpvppoj\n",
                        "https://generativelanguage.googleapis.com/v1beta/files/s6y2jqx31fu\n",
                        "https://generativelanguage.googleapis.com/v1beta/files/vxyg54dkk3x8\n",
                        "https://generativelanguage.googleapis.com/v1beta/files/jdidt8hlh4m9\n",
                        "https://generativelanguage.googleapis.com/v1beta/files/mf1e3mukvg6b\n",
                        "https://generativelanguage.googleapis.com/v1beta/files/6z6gbfp2x56v\n",
                        "https://generativelanguage.googleapis.com/v1beta/files/ao4m5zwf14xe\n",
                        "https://generativelanguage.googleapis.com/v1beta/files/r8rsf3vyxlhp\n",
                        "https://generativelanguage.googleapis.com/v1beta/files/ulmdqaj2wqt2\n",
                        "https://generativelanguage.googleapis.com/v1beta/files/550pf0swvh8p\n",
                        "https://generativelanguage.googleapis.com/v1beta/files/yklobdb0k5qa\n",
                        "https://generativelanguage.googleapis.com/v1beta/files/rgnoc85pq0er\n",
                        "https://generativelanguage.googleapis.com/v1beta/files/d5rnf4s974tn\n",
                        "https://generativelanguage.googleapis.com/v1beta/files/hsei4q1n6gb3\n",
                        "https://generativelanguage.googleapis.com/v1beta/files/5xr65spys099\n",
                        "https://generativelanguage.googleapis.com/v1beta/files/h45ancjwyxz7\n",
                        "https://generativelanguage.googleapis.com/v1beta/files/4thy37btac0p\n",
                        "https://generativelanguage.googleapis.com/v1beta/files/va4dbe9fm11x\n",
                        "https://generativelanguage.googleapis.com/v1beta/files/znqt7ese20zk\n",
                        "https://generativelanguage.googleapis.com/v1beta/files/n1l8dujobt43\n",
                        "https://generativelanguage.googleapis.com/v1beta/files/khgqwmdzlo4r\n",
                        "https://generativelanguage.googleapis.com/v1beta/files/p1oivuv8b1sj\n",
                        "https://generativelanguage.googleapis.com/v1beta/files/duhztfb9pl7a\n",
                        "https://generativelanguage.googleapis.com/v1beta/files/4kvwmj2foxwl\n",
                        "https://generativelanguage.googleapis.com/v1beta/files/o4biyp4ocmvl\n",
                        "https://generativelanguage.googleapis.com/v1beta/files/15pma9v7hpnm\n",
                        "https://generativelanguage.googleapis.com/v1beta/files/v6728xtg4hc9\n",
                        "https://generativelanguage.googleapis.com/v1beta/files/p9erciv58cto\n",
                        "https://generativelanguage.googleapis.com/v1beta/files/b7p6b543qqha\n",
                        "https://generativelanguage.googleapis.com/v1beta/files/47rgv2l23snf\n",
                        "https://generativelanguage.googleapis.com/v1beta/files/qax2bgfnpz30\n",
                        "https://generativelanguage.googleapis.com/v1beta/files/ne0k8q6z490\n",
                        "https://generativelanguage.googleapis.com/v1beta/files/y3z3n9s0rcvt\n",
                        "https://generativelanguage.googleapis.com/v1beta/files/qpbuwx6t2tp6\n",
                        "https://generativelanguage.googleapis.com/v1beta/files/vwppa9maeduy\n",
                        "https://generativelanguage.googleapis.com/v1beta/files/cxdlkzly1y6f\n",
                        "https://generativelanguage.googleapis.com/v1beta/files/6y9zl4ax1pgk\n",
                        "https://generativelanguage.googleapis.com/v1beta/files/20kol96nhnoo\n",
                        "https://generativelanguage.googleapis.com/v1beta/files/gav4x04uwv9i\n",
                        "https://generativelanguage.googleapis.com/v1beta/files/j9cig8bijszf\n",
                        "https://generativelanguage.googleapis.com/v1beta/files/pngu6f4dqrh5\n",
                        "https://generativelanguage.googleapis.com/v1beta/files/u50ihyycawb8\n",
                        "https://generativelanguage.googleapis.com/v1beta/files/jzmhj1umdbnx\n",
                        "https://generativelanguage.googleapis.com/v1beta/files/va5b7oatdaf0\n",
                        "https://generativelanguage.googleapis.com/v1beta/files/nfukio487boq\n",
                        "https://generativelanguage.googleapis.com/v1beta/files/sbxhvtehji46\n",
                        "https://generativelanguage.googleapis.com/v1beta/files/p377x332p1p9\n",
                        "https://generativelanguage.googleapis.com/v1beta/files/1qigk5gswpbu\n",
                        "https://generativelanguage.googleapis.com/v1beta/files/btyv5x7hcupk\n",
                        "https://generativelanguage.googleapis.com/v1beta/files/khu6y452e0gm\n",
                        "https://generativelanguage.googleapis.com/v1beta/files/2w9pdxr5ujri\n",
                        "https://generativelanguage.googleapis.com/v1beta/files/2hm5nczt1ocx\n",
                        "https://generativelanguage.googleapis.com/v1beta/files/8x6gpq75qysg\n",
                        "https://generativelanguage.googleapis.com/v1beta/files/wzzen8gpo0z5\n",
                        "https://generativelanguage.googleapis.com/v1beta/files/l6pshnb1aexq\n",
                        "https://generativelanguage.googleapis.com/v1beta/files/rtcdtjfkr3fx\n",
                        "https://generativelanguage.googleapis.com/v1beta/files/v916cjq0g3dn\n",
                        "https://generativelanguage.googleapis.com/v1beta/files/eqe3um4xfsln\n",
                        "https://generativelanguage.googleapis.com/v1beta/files/rfq5v685wycn\n",
                        "https://generativelanguage.googleapis.com/v1beta/files/2dlxamho5sxs\n",
                        "https://generativelanguage.googleapis.com/v1beta/files/piod67hpn7c4\n",
                        "https://generativelanguage.googleapis.com/v1beta/files/33yezo2zr2kg\n",
                        "https://generativelanguage.googleapis.com/v1beta/files/1aws3ez1ekv8\n",
                        "https://generativelanguage.googleapis.com/v1beta/files/y58gjd08qpcb\n",
                        "https://generativelanguage.googleapis.com/v1beta/files/kmgcyksffl9t\n",
                        "https://generativelanguage.googleapis.com/v1beta/files/o6q5ao95sak9\n",
                        "https://generativelanguage.googleapis.com/v1beta/files/dpinl1v5z0oh\n",
                        "https://generativelanguage.googleapis.com/v1beta/files/yan194hw6izf\n",
                        "https://generativelanguage.googleapis.com/v1beta/files/us2gxv2mh8s0\n",
                        "https://generativelanguage.googleapis.com/v1beta/files/hnvgp0uo7ueh\n",
                        "https://generativelanguage.googleapis.com/v1beta/files/7vpcwjoihw4g\n",
                        "https://generativelanguage.googleapis.com/v1beta/files/m26hi83lmwu5\n",
                        "https://generativelanguage.googleapis.com/v1beta/files/ln9hskvsjega\n",
                        "https://generativelanguage.googleapis.com/v1beta/files/speugizslb1w\n",
                        "https://generativelanguage.googleapis.com/v1beta/files/lvgfw17pts89\n",
                        "https://generativelanguage.googleapis.com/v1beta/files/um4xrcf34lh2\n",
                        "https://generativelanguage.googleapis.com/v1beta/files/dej37p1ug07f\n",
                        "https://generativelanguage.googleapis.com/v1beta/files/lnujrcekhgui\n",
                        "https://generativelanguage.googleapis.com/v1beta/files/b9q531v0xfvk\n",
                        "https://generativelanguage.googleapis.com/v1beta/files/piqli4q4vkb3\n",
                        "https://generativelanguage.googleapis.com/v1beta/files/jv7yfvnm80wi\n",
                        "https://generativelanguage.googleapis.com/v1beta/files/2ozlekggfa0m\n",
                        "https://generativelanguage.googleapis.com/v1beta/files/xl36uoayfefh\n",
                        "https://generativelanguage.googleapis.com/v1beta/files/h47ugw62dwnj\n",
                        "https://generativelanguage.googleapis.com/v1beta/files/k35tl5g1o2y1\n",
                        "https://generativelanguage.googleapis.com/v1beta/files/umm8laiegb0l\n",
                        "https://generativelanguage.googleapis.com/v1beta/files/uxga29t68ed2\n",
                        "https://generativelanguage.googleapis.com/v1beta/files/8szj52jefhvb\n",
                        "https://generativelanguage.googleapis.com/v1beta/files/i1zrgv3p6urn\n",
                        "https://generativelanguage.googleapis.com/v1beta/files/mun2417w61hp\n",
                        "https://generativelanguage.googleapis.com/v1beta/files/yor9w7j2hlex\n",
                        "https://generativelanguage.googleapis.com/v1beta/files/7h3ijfli2b77\n",
                        "https://generativelanguage.googleapis.com/v1beta/files/2fn7pgvmizm6\n",
                        "https://generativelanguage.googleapis.com/v1beta/files/a2tif8upfvtw\n",
                        "https://generativelanguage.googleapis.com/v1beta/files/5qgx8v3rirxj\n",
                        "https://generativelanguage.googleapis.com/v1beta/files/re6x4wefbohk\n",
                        "https://generativelanguage.googleapis.com/v1beta/files/a8ctnrqdy4j\n",
                        "https://generativelanguage.googleapis.com/v1beta/files/yeujuyhvgn5y\n",
                        "https://generativelanguage.googleapis.com/v1beta/files/5v276idbvuhk\n",
                        "https://generativelanguage.googleapis.com/v1beta/files/151320tufl98\n",
                        "https://generativelanguage.googleapis.com/v1beta/files/nit7tgsrdq0t\n",
                        "https://generativelanguage.googleapis.com/v1beta/files/8whrxwild85p\n",
                        "https://generativelanguage.googleapis.com/v1beta/files/833pdsq8vcq7\n",
                        "https://generativelanguage.googleapis.com/v1beta/files/jcsezox82rvg\n",
                        "https://generativelanguage.googleapis.com/v1beta/files/kb1h0vubnj80\n",
                        "https://generativelanguage.googleapis.com/v1beta/files/9uesxwck5tgl\n",
                        "https://generativelanguage.googleapis.com/v1beta/files/hvry00mb17z2\n",
                        "https://generativelanguage.googleapis.com/v1beta/files/dg5xlxlczck1\n",
                        "https://generativelanguage.googleapis.com/v1beta/files/ux14k6vgqm42\n",
                        "https://generativelanguage.googleapis.com/v1beta/files/rju3dvl0026t\n",
                        "https://generativelanguage.googleapis.com/v1beta/files/3tdgify5xpes\n",
                        "https://generativelanguage.googleapis.com/v1beta/files/xy1j78hk2al2\n",
                        "https://generativelanguage.googleapis.com/v1beta/files/mzz2muzhn1lc\n",
                        "https://generativelanguage.googleapis.com/v1beta/files/r4bsyh6a7sg0\n",
                        "https://generativelanguage.googleapis.com/v1beta/files/dgiqlu5jsw9b\n",
                        "https://generativelanguage.googleapis.com/v1beta/files/rmg1bag90kh7\n",
                        "https://generativelanguage.googleapis.com/v1beta/files/73nwueu69sbo\n",
                        "https://generativelanguage.googleapis.com/v1beta/files/kf9rglhzca5w\n",
                        "https://generativelanguage.googleapis.com/v1beta/files/7rnukbj6rgb8\n",
                        "https://generativelanguage.googleapis.com/v1beta/files/r4r3ghx5qf2z\n",
                        "https://generativelanguage.googleapis.com/v1beta/files/767n905h3o7j\n",
                        "https://generativelanguage.googleapis.com/v1beta/files/c39ltjpvehoh\n",
                        "https://generativelanguage.googleapis.com/v1beta/files/nru3dqlig084\n",
                        "https://generativelanguage.googleapis.com/v1beta/files/cfp10dw5l1qv\n",
                        "https://generativelanguage.googleapis.com/v1beta/files/ynmmq0zwq5zu\n",
                        "https://generativelanguage.googleapis.com/v1beta/files/aw8t110fsx2j\n",
                        "https://generativelanguage.googleapis.com/v1beta/files/avsflkm6kkd9\n",
                        "https://generativelanguage.googleapis.com/v1beta/files/i0di3e5cd8dy\n",
                        "https://generativelanguage.googleapis.com/v1beta/files/fc43yor7zgxb\n",
                        "https://generativelanguage.googleapis.com/v1beta/files/5d59jdncbq5a\n",
                        "https://generativelanguage.googleapis.com/v1beta/files/tjlcrwgru13r\n",
                        "https://generativelanguage.googleapis.com/v1beta/files/wctznbv7u4aj\n",
                        "https://generativelanguage.googleapis.com/v1beta/files/pabl5e0mbgsk\n",
                        "https://generativelanguage.googleapis.com/v1beta/files/m89dutxpqwyd\n",
                        "https://generativelanguage.googleapis.com/v1beta/files/5v78f30p95ad\n",
                        "https://generativelanguage.googleapis.com/v1beta/files/t3eloaal8v7k\n",
                        "https://generativelanguage.googleapis.com/v1beta/files/s94hulmspxj9\n",
                        "https://generativelanguage.googleapis.com/v1beta/files/b3vzlr65icd9\n",
                        "https://generativelanguage.googleapis.com/v1beta/files/4otpuqat7387\n",
                        "https://generativelanguage.googleapis.com/v1beta/files/s7p58anvcvs1\n",
                        "https://generativelanguage.googleapis.com/v1beta/files/mn7jsa5hdk4w\n",
                        "https://generativelanguage.googleapis.com/v1beta/files/cnyan2lzlmq0\n",
                        "https://generativelanguage.googleapis.com/v1beta/files/zpthqe74zppj\n",
                        "https://generativelanguage.googleapis.com/v1beta/files/xaqrzdt6vx0x\n",
                        "https://generativelanguage.googleapis.com/v1beta/files/hdwvdc8oajzf\n",
                        "https://generativelanguage.googleapis.com/v1beta/files/vgvgdwjtncgu\n",
                        "https://generativelanguage.googleapis.com/v1beta/files/wfjn0q0jacnc\n",
                        "https://generativelanguage.googleapis.com/v1beta/files/hbc42v4ijkhi\n",
                        "https://generativelanguage.googleapis.com/v1beta/files/mc1vvj7kdtj1\n",
                        "https://generativelanguage.googleapis.com/v1beta/files/3n0ycfjge3uh\n",
                        "https://generativelanguage.googleapis.com/v1beta/files/qc67bsc0zz8p\n",
                        "https://generativelanguage.googleapis.com/v1beta/files/e3ngmaciibji\n",
                        "https://generativelanguage.googleapis.com/v1beta/files/exn3htu85tsn\n",
                        "https://generativelanguage.googleapis.com/v1beta/files/rjllvkzkw6hx\n",
                        "https://generativelanguage.googleapis.com/v1beta/files/xcqtu24h15m9\n",
                        "https://generativelanguage.googleapis.com/v1beta/files/1pox4jq01y08\n",
                        "https://generativelanguage.googleapis.com/v1beta/files/9v5aanj3amp\n",
                        "https://generativelanguage.googleapis.com/v1beta/files/tig21waucs2b\n",
                        "https://generativelanguage.googleapis.com/v1beta/files/69p8jsd779ez\n",
                        "https://generativelanguage.googleapis.com/v1beta/files/96d6od94jbiq\n",
                        "https://generativelanguage.googleapis.com/v1beta/files/qi6k4u1xsc3u\n",
                        "https://generativelanguage.googleapis.com/v1beta/files/84jmyzfmiko2\n",
                        "https://generativelanguage.googleapis.com/v1beta/files/1mtcn3dfjm25\n",
                        "https://generativelanguage.googleapis.com/v1beta/files/4kse6g86ip1z\n",
                        "https://generativelanguage.googleapis.com/v1beta/files/lfm9ckp6m44u\n",
                        "https://generativelanguage.googleapis.com/v1beta/files/lza4h1sql55p\n",
                        "https://generativelanguage.googleapis.com/v1beta/files/vuibzre1w3eh\n",
                        "https://generativelanguage.googleapis.com/v1beta/files/atnchuui6eed\n",
                        "https://generativelanguage.googleapis.com/v1beta/files/qst4xsk15pey\n",
                        "https://generativelanguage.googleapis.com/v1beta/files/tf2atzyu87p9\n",
                        "https://generativelanguage.googleapis.com/v1beta/files/jy0jwb5zsgh2\n"
                    ]
                }
            ],
            "source": [
                "# List files uploaded in the API\n",
                "for n, f in zip(range(len(uploaded_files)), genai.list_files()):\n",
                "  print(f.uri)"
            ]
        },
        {
            "cell_type": "code",
            "execution_count": null,
            "metadata": {},
            "outputs": [
                {
                    "name": "stdout",
                    "output_type": "stream",
                    "text": [
                        "[\n",
                        "  {\n",
                        "    \"start_timestamp\": \"00:08\",\n",
                        "    \"end_timestamp\": \"00:09\",\n",
                        "    \"location\": \"middle\",\n",
                        "    \"description\": \"The interviewee identifies as a UCI student.\"\n",
                        "  },\n",
                        "  {\n",
                        "    \"start_timestamp\": \"01:06\",\n",
                        "    \"end_timestamp\": \"01:07\",\n",
                        "    \"location\": \"middle-left\",\n",
                        "    \"description\": \"The interviewee states his name is Sasha.\"\n",
                        "  },\n",
                        "  {\n",
                        "    \"start_timestamp\": \"01:07\",\n",
                        "    \"end_timestamp\": \"01:08\",\n",
                        "    \"location\": \"middle-right\",\n",
                        "    \"description\": \"The interviewee states his name is Michael.\"\n",
                        "  },\n",
                        "  {\n",
                        "    \"start_timestamp\": \"02:12\",\n",
                        "    \"end_timestamp\": \"02:13\",\n",
                        "    \"location\": \"middle-left\",\n",
                        "    \"description\": \"The interviewee states her name is Katelyn.\"\n",
                        "  },\n",
                        "  {\n",
                        "    \"start_timestamp\": \"02:15\",\n",
                        "    \"end_timestamp\": \"02:16\",\n",
                        "    \"location\": \"middle-left\",\n",
                        "    \"description\": \"The interviewer states his name is Sasha.\"\n",
                        "  },\n",
                        "  {\n",
                        "    \"start_timestamp\": \"02:18\",\n",
                        "    \"end_timestamp\": \"02:21\",\n",
                        "    \"location\": \"middle\",\n",
                        "    \"description\": \"The interviewee states his name is Sam, clarifying pronunciation and making a joke about it.\"\n",
                        "  }\n",
                        "]\n",
                        "\n"
                    ]
                }
            ],
            "source": [
                "\n",
                "#Choose only clips that are entertaining or make for good b-roll.\n",
                "prompt = \"\"\"\n",
                "You are an expert video editor, helping us select clips for a video.\n",
                "Select only clips where someone tells us their name.\n",
                "Double check your work to ensure that the timestamps are correct.\n",
                "\n",
                "For each clip, provide a \"start_timestamp\", \"end_timestamp\", \"location\" (point of interest in the frame, either left, middle-left, middle, middle-right, or right), and \"description\" (a brief explanation of why you selected the clip).\n",
                "\"\"\"\n",
                "\n",
                "# Set the model to Gemini 1.5 Pro.\n",
                "model = genai.GenerativeModel(model_name=\"models/gemini-1.5-pro-latest\", generation_config={\"response_mime_type\": \"application/json\"})\n",
                "\n",
                "# Make GenerateContent request with the structure described above.\n",
                "def make_request(prompt, files):\n",
                "  request = [prompt]\n",
                "  for file in files:\n",
                "    request.append(file.timestamp)\n",
                "    print(file.timestamp)\n",
                "    request.append(file.response)\n",
                "  return request\n",
                "\n",
                "# Make the LLM request.\n",
                "request = make_request(prompt, uploaded_files) + [audio_file]\n",
                "response = model.generate_content(request,\n",
                "                                  request_options={\"timeout\": 600})\n",
                "print(response.text)"
            ]
        },
        {
            "cell_type": "code",
            "execution_count": 71,
            "metadata": {},
            "outputs": [],
            "source": [
                "from json import loads\n",
                "\n",
                "clip_details = loads(response.text)\n",
                "\n",
                "def get_seconds(time_string):\n",
                "    denoms = time_string.split(\":\")\n",
                "    secs = 0\n",
                "    for i, val in enumerate(denoms[::-1]):\n",
                "        secs += float(val) * 60 ** i \n",
                "    return secs\n",
                "\n",
                "def clip(start, end, mkv_filename, filename):\n",
                "    call_ffmpeg(f\"-ss {start} -i {mkv_filename} -c copy -t {end - start} {filename}\")\n",
                "\n",
                "for i, details in enumerate(clip_details, start=1):\n",
                "    clip_name = f\"frames/clip_{i}.mkv\"\n",
                "    clip(get_seconds(details['start_timestamp']), get_seconds(details['end_timestamp']), video_file_name, clip_name)"
            ]
        },
        {
            "cell_type": "code",
            "execution_count": null,
            "metadata": {},
            "outputs": [],
            "source": [
                "#print(f'Deleting {len(uploaded_files)} images. This might take a bit...')\n",
                "#for file in uploaded_files:\n",
                "#  genai.delete_file(file.response.name)\n",
                "#  print(f'Deleted {file.file_path} at URI {file.response.uri}')\n",
                "#print(f\"Completed deleting files!\\n\\nDeleted: {len(uploaded_files)} files\")"
            ]
        },
        {
            "cell_type": "code",
            "execution_count": 37,
            "metadata": {},
            "outputs": [
                {
                    "name": "stdout",
                    "output_type": "stream",
                    "text": [
                        "The total size of all files in the frames directory is: 139088916 bytes\n"
                    ]
                }
            ],
            "source": [
                "import os\n",
                "\n",
                "frames_directory = 'frames'\n",
                "total_size = 0\n",
                "\n",
                "for root, dirs, files in os.walk(frames_directory):\n",
                "    for file in files:\n",
                "        file_path = os.path.join(root, file)\n",
                "        total_size += os.path.getsize(file_path)\n",
                "\n",
                "print(f\"The total size of all files in the frames directory is: {total_size} bytes\")\n"
            ]
        }
    ],
    "metadata": {
        "kernelspec": {
            "display_name": "env",
            "language": "python",
            "name": "python3"
        },
        "language_info": {
            "codemirror_mode": {
                "name": "ipython",
                "version": 3
            },
            "file_extension": ".py",
            "mimetype": "text/x-python",
            "name": "python",
            "nbconvert_exporter": "python",
            "pygments_lexer": "ipython3",
            "version": "3.10.10"
        }
    },
    "nbformat": 4,
    "nbformat_minor": 2
}
