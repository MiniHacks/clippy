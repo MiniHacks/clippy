{
 "cells": [
  {
   "cell_type": "code",
   "execution_count": 1,
   "metadata": {},
   "outputs": [
    {
     "name": "stdout",
     "output_type": "stream",
     "text": [
      "Requirement already satisfied: opencv-python in /Users/shy/Projects/clippy/env/lib/python3.10/site-packages (4.9.0.80)\n",
      "Requirement already satisfied: numpy>=1.17.3 in /Users/shy/Projects/clippy/env/lib/python3.10/site-packages (from opencv-python) (1.26.4)\n",
      "\n",
      "\u001b[1m[\u001b[0m\u001b[34;49mnotice\u001b[0m\u001b[1;39;49m]\u001b[0m\u001b[39;49m A new release of pip available: \u001b[0m\u001b[31;49m22.3.1\u001b[0m\u001b[39;49m -> \u001b[0m\u001b[32;49m24.0\u001b[0m\n",
      "\u001b[1m[\u001b[0m\u001b[34;49mnotice\u001b[0m\u001b[1;39;49m]\u001b[0m\u001b[39;49m To update, run: \u001b[0m\u001b[32;49m/Users/shy/Projects/clippy/env/bin/python -m pip install --upgrade pip\u001b[0m\n"
     ]
    }
   ],
   "source": [
    "import sys\n",
    "!{sys.executable} -m pip install opencv-python"
   ]
  },
  {
   "cell_type": "code",
   "execution_count": 30,
   "metadata": {},
   "outputs": [],
   "source": [
    "from pathlib import Path\n",
    "import textwrap\n",
    "\n",
    "import google.generativeai as genai\n",
    "\n",
    "from IPython.display import display\n",
    "from IPython.display import Markdown\n",
    "import cv2\n",
    "import shutil\n",
    "import ffmpeg\n",
    "import subprocess\n",
    "import os\n",
    "from tqdm import tqdm\n",
    "\n",
    "def to_markdown(text):\n",
    "  text = text.replace('•', '  *')\n",
    "  return Markdown(textwrap.indent(text, '> ', predicate=lambda _: True))"
   ]
  },
  {
   "cell_type": "code",
   "execution_count": 3,
   "metadata": {},
   "outputs": [],
   "source": [
    "import os\n",
    "\n",
    "GOOGLE_API_KEY= os.environ['GOOGLE_API_KEY']\n",
    "genai.configure(api_key=GOOGLE_API_KEY)"
   ]
  },
  {
   "cell_type": "code",
   "execution_count": 4,
   "metadata": {},
   "outputs": [
    {
     "name": "stdout",
     "output_type": "stream",
     "text": [
      "models/gemini-1.0-pro\n",
      "models/gemini-1.0-pro-001\n",
      "models/gemini-1.0-pro-latest\n",
      "models/gemini-1.0-pro-vision-latest\n",
      "models/gemini-1.5-pro-latest\n",
      "models/gemini-pro\n",
      "models/gemini-pro-vision\n"
     ]
    }
   ],
   "source": [
    "for m in genai.list_models():\n",
    "  if 'generateContent' in m.supported_generation_methods:\n",
    "    print(m.name)\n"
   ]
  },
  {
   "cell_type": "code",
   "execution_count": 5,
   "metadata": {},
   "outputs": [],
   "source": [
    "model = genai.GenerativeModel('gemini-pro')"
   ]
  },
  {
   "cell_type": "code",
   "execution_count": 9,
   "metadata": {},
   "outputs": [],
   "source": [
    "response = model.generate_content(\"What is the meaning of life?\")"
   ]
  },
  {
   "cell_type": "code",
   "execution_count": 10,
   "metadata": {},
   "outputs": [
    {
     "data": {
      "text/markdown": [
       "> **Meaning of Life**\n",
       "> \n",
       "> The meaning of life is a philosophical question that has been pondered by humans for centuries. There is no definitive answer, but rather a multitude of perspectives and interpretations. Some common ideas include:\n",
       "> \n",
       "> * **Purpose and Fulfillment:**\n",
       ">     * Finding a purpose or mission that gives direction and motivation to one's life.\n",
       ">     * Achieving personal goals, dreams, and aspirations.\n",
       "> \n",
       "> * **Relationships and Connections:**\n",
       ">     * Establishing meaningful relationships with family, friends, and loved ones.\n",
       ">     * Contributing to society and making a positive impact on others.\n",
       "> \n",
       "> * **Growth and Learning:**\n",
       ">     * Pursuing knowledge, wisdom, and personal development.\n",
       ">     * Continuously improving oneself and striving for higher ideals.\n",
       "> \n",
       "> * **Ethics and Morals:**\n",
       ">     * Living a life guided by ethical principles and values.\n",
       ">     * Demonstrating compassion, empathy, and integrity.\n",
       "> \n",
       "> * **Purpose in Nature:**\n",
       ">     * Recognizing the interconnectedness of all life and the role humans play in the natural ecosystem.\n",
       ">     * Appreciating the beauty and wonder of the natural world.\n",
       "> \n",
       "> * **Personal Experiences:**\n",
       ">     * Embracing and savoring life's experiences, both positive and negative.\n",
       ">     * Recognizing the unique and subjective nature of meaning.\n",
       "> \n",
       "> * **Spiritual Beliefs:**\n",
       ">     * Connecting to a higher power or spiritual force.\n",
       ">     * Seeking guidance, purpose, and meaning through religious or spiritual practices.\n",
       "> \n",
       "> Ultimately, the meaning of life is a personal journey and discovery. It can be shaped by one's experiences, values, beliefs, and connections. While there may not be a universal answer, finding meaning in one's life can bring a sense of purpose, fulfillment, and peace."
      ],
      "text/plain": [
       "<IPython.core.display.Markdown object>"
      ]
     },
     "execution_count": 10,
     "metadata": {},
     "output_type": "execute_result"
    }
   ],
   "source": [
    "to_markdown(response.text)"
   ]
  },
  {
   "cell_type": "code",
   "execution_count": null,
   "metadata": {},
   "outputs": [],
   "source": [
    "response.prompt_feedback"
   ]
  },
  {
   "cell_type": "code",
   "execution_count": null,
   "metadata": {},
   "outputs": [],
   "source": [
    "response.candidates\n"
   ]
  },
  {
   "cell_type": "code",
   "execution_count": null,
   "metadata": {},
   "outputs": [],
   "source": [
    "response = model.generate_content(\"What is the meaning of life?\", stream=True)"
   ]
  },
  {
   "cell_type": "markdown",
   "metadata": {},
   "source": [
    "## Pro-Vision Video!"
   ]
  },
  {
   "cell_type": "code",
   "execution_count": 11,
   "metadata": {},
   "outputs": [],
   "source": [
    "model = genai.GenerativeModel('gemini-pro-vision')\n"
   ]
  },
  {
   "cell_type": "code",
   "execution_count": 12,
   "metadata": {},
   "outputs": [
    {
     "name": "stdout",
     "output_type": "stream",
     "text": [
      "\u001b[36m/Users/shy/Desktop/\u001b[1;32m4-19-Sasha-blocked.MP4\u001b[0m\n"
     ]
    }
   ],
   "source": [
    "!ls /Users/shy/Desktop/4-19-Sasha-blocked.MP4   "
   ]
  },
  {
   "cell_type": "code",
   "execution_count": 63,
   "metadata": {},
   "outputs": [],
   "source": [
    "FRAME_EXTRACTION_DIRECTORY = \"frames\"\n",
    "FRAME_PREFIX = \"_frame\"\n",
    "\n",
    "video_file_name = Path(\"/Users/shy/Desktop/4-19-Sasha-blocked.MP4\")\n",
    "video_file_name = Path(\"/Users/shy/Desktop/4-19-Sasha-dinner.MP4\")\n",
    "video_file_name = Path(\"/Users/shy/Desktop/test_clip.mp4\")\n",
    "video_file_name = Path(\"/Users/shy/Desktop/intros.mp4\")\n",
    "\n",
    "audio_file_name = Path(f\"{FRAME_EXTRACTION_DIRECTORY}/{video_file_name.stem}.mp3\")\n",
    "\n",
    "def call_ffmpeg(arg_string):\n",
    "    subprocess.call(['ffmpeg', \"-hide_banner\", \"-loglevel\", \"error\", \"-y\"] + arg_string.split())\n",
    "    \n",
    "def extract_mp3_from_mp4(video_file_name, audio_file_name):\n",
    "    call_ffmpeg(f\"-i {video_file_name} {audio_file_name}\")\n",
    "\n",
    "def convert_to_mp4(video_file_name):\n",
    "    mkv_name = video_file_name.with_suffix(\".mkv\")\n",
    "    call_ffmpeg(f\"-i {video_file_name} -c copy {mkv_name}\")\n",
    "\n",
    "\n",
    "extract_mp3_from_mp4(video_file_name, audio_file_name)\n",
    "convert_to_mp4(video_file_name)\n",
    "\n",
    "audio_file = genai.upload_file(path=audio_file_name)"
   ]
  },
  {
   "cell_type": "code",
   "execution_count": 62,
   "metadata": {},
   "outputs": [
    {
     "name": "stdout",
     "output_type": "stream",
     "text": [
      "Extracting /Users/shy/Desktop/intros.mp4 at 1 frame per second. This might take a bit...\n",
      "Completed video frame extraction!\n",
      "\n",
      "Extracted: 285 frames\n"
     ]
    }
   ],
   "source": [
    "def extract_frame_from_video(video_file_path):\n",
    "  print(f\"Extracting {video_file_path} at 1 frame per second. This might take a bit...\")\n",
    "  create_frame_output_dir(FRAME_EXTRACTION_DIRECTORY)\n",
    "  vidcap = cv2.VideoCapture(str(video_file_path))\n",
    "  fps = vidcap.get(cv2.CAP_PROP_FPS)\n",
    "  frame_duration = 1 / fps  # Time interval between frames (in seconds)\n",
    "  output_file_prefix = os.path.basename(video_file_path).replace('.', '_')\n",
    "  frame_count = 0\n",
    "  count = 0\n",
    "  while vidcap.isOpened():\n",
    "      success, frame = vidcap.read()\n",
    "      if not success: # End of video\n",
    "          break\n",
    "      if int(count / fps) == frame_count: # Extract a frame every second\n",
    "          min = frame_count // 60\n",
    "          sec = frame_count % 60\n",
    "          time_string = f\"{min:02d}:{sec:02d}\"\n",
    "          image_name = f\"{output_file_prefix}{FRAME_PREFIX}{time_string}.jpg\"\n",
    "          output_filename = os.path.join(FRAME_EXTRACTION_DIRECTORY, image_name)\n",
    "          cv2.imwrite(output_filename, frame)\n",
    "          frame_count += 1\n",
    "      count += 1\n",
    "  vidcap.release() # Release the capture object\\n\",\n",
    "  print(f\"Completed video frame extraction!\\n\\nExtracted: {frame_count} frames\")\n",
    "\n",
    "extract_frame_from_video(video_file_name)"
   ]
  },
  {
   "cell_type": "code",
   "execution_count": 64,
   "metadata": {},
   "outputs": [
    {
     "name": "stdout",
     "output_type": "stream",
     "text": [
      "Uploading 285 files. This might take a bit...\n"
     ]
    },
    {
     "name": "stderr",
     "output_type": "stream",
     "text": [
      "  0%|          | 0/285 [00:00<?, ?it/s]"
     ]
    },
    {
     "name": "stdout",
     "output_type": "stream",
     "text": [
      "Uploading: frames/intros_mp4_frame00:00.jpg...\n"
     ]
    },
    {
     "name": "stderr",
     "output_type": "stream",
     "text": [
      "  0%|          | 1/285 [00:01<05:09,  1.09s/it]"
     ]
    },
    {
     "name": "stdout",
     "output_type": "stream",
     "text": [
      "Uploading: frames/intros_mp4_frame00:01.jpg...\n"
     ]
    },
    {
     "name": "stderr",
     "output_type": "stream",
     "text": [
      "  1%|          | 2/285 [00:02<05:15,  1.11s/it]"
     ]
    },
    {
     "name": "stdout",
     "output_type": "stream",
     "text": [
      "Uploading: frames/intros_mp4_frame00:02.jpg...\n"
     ]
    },
    {
     "name": "stderr",
     "output_type": "stream",
     "text": [
      "  1%|          | 3/285 [00:03<05:25,  1.15s/it]"
     ]
    },
    {
     "name": "stdout",
     "output_type": "stream",
     "text": [
      "Uploading: frames/intros_mp4_frame00:03.jpg...\n"
     ]
    },
    {
     "name": "stderr",
     "output_type": "stream",
     "text": [
      "  1%|▏         | 4/285 [00:04<05:11,  1.11s/it]"
     ]
    },
    {
     "name": "stdout",
     "output_type": "stream",
     "text": [
      "Uploading: frames/intros_mp4_frame00:04.jpg...\n"
     ]
    },
    {
     "name": "stderr",
     "output_type": "stream",
     "text": [
      "  2%|▏         | 5/285 [00:05<05:11,  1.11s/it]"
     ]
    },
    {
     "name": "stdout",
     "output_type": "stream",
     "text": [
      "Uploading: frames/intros_mp4_frame00:05.jpg...\n"
     ]
    },
    {
     "name": "stderr",
     "output_type": "stream",
     "text": [
      "  2%|▏         | 6/285 [00:06<05:16,  1.13s/it]"
     ]
    },
    {
     "name": "stdout",
     "output_type": "stream",
     "text": [
      "Uploading: frames/intros_mp4_frame00:06.jpg...\n"
     ]
    },
    {
     "name": "stderr",
     "output_type": "stream",
     "text": [
      "  2%|▏         | 7/285 [00:07<05:19,  1.15s/it]"
     ]
    },
    {
     "name": "stdout",
     "output_type": "stream",
     "text": [
      "Uploading: frames/intros_mp4_frame00:07.jpg...\n"
     ]
    },
    {
     "name": "stderr",
     "output_type": "stream",
     "text": [
      "  3%|▎         | 8/285 [00:09<05:16,  1.14s/it]"
     ]
    },
    {
     "name": "stdout",
     "output_type": "stream",
     "text": [
      "Uploading: frames/intros_mp4_frame00:08.jpg...\n"
     ]
    },
    {
     "name": "stderr",
     "output_type": "stream",
     "text": [
      "  3%|▎         | 9/285 [00:10<05:40,  1.23s/it]"
     ]
    },
    {
     "name": "stdout",
     "output_type": "stream",
     "text": [
      "Uploading: frames/intros_mp4_frame00:09.jpg...\n"
     ]
    },
    {
     "name": "stderr",
     "output_type": "stream",
     "text": [
      "  4%|▎         | 10/285 [00:11<05:28,  1.19s/it]"
     ]
    },
    {
     "name": "stdout",
     "output_type": "stream",
     "text": [
      "Uploading: frames/intros_mp4_frame00:10.jpg...\n"
     ]
    },
    {
     "name": "stderr",
     "output_type": "stream",
     "text": [
      "  4%|▍         | 11/285 [00:12<05:14,  1.15s/it]"
     ]
    },
    {
     "name": "stdout",
     "output_type": "stream",
     "text": [
      "Uploading: frames/intros_mp4_frame00:11.jpg...\n"
     ]
    },
    {
     "name": "stderr",
     "output_type": "stream",
     "text": [
      "  4%|▍         | 12/285 [00:13<05:19,  1.17s/it]"
     ]
    },
    {
     "name": "stdout",
     "output_type": "stream",
     "text": [
      "Uploading: frames/intros_mp4_frame00:12.jpg...\n"
     ]
    },
    {
     "name": "stderr",
     "output_type": "stream",
     "text": [
      "  5%|▍         | 13/285 [00:14<05:09,  1.14s/it]"
     ]
    },
    {
     "name": "stdout",
     "output_type": "stream",
     "text": [
      "Uploading: frames/intros_mp4_frame00:13.jpg...\n"
     ]
    },
    {
     "name": "stderr",
     "output_type": "stream",
     "text": [
      "  5%|▍         | 14/285 [00:15<05:01,  1.11s/it]"
     ]
    },
    {
     "name": "stdout",
     "output_type": "stream",
     "text": [
      "Uploading: frames/intros_mp4_frame00:14.jpg...\n"
     ]
    },
    {
     "name": "stderr",
     "output_type": "stream",
     "text": [
      "  5%|▌         | 15/285 [00:17<04:53,  1.09s/it]"
     ]
    },
    {
     "name": "stdout",
     "output_type": "stream",
     "text": [
      "Uploading: frames/intros_mp4_frame00:15.jpg...\n"
     ]
    },
    {
     "name": "stderr",
     "output_type": "stream",
     "text": [
      "  6%|▌         | 16/285 [00:18<04:58,  1.11s/it]"
     ]
    },
    {
     "name": "stdout",
     "output_type": "stream",
     "text": [
      "Uploading: frames/intros_mp4_frame00:16.jpg...\n"
     ]
    },
    {
     "name": "stderr",
     "output_type": "stream",
     "text": [
      "  6%|▌         | 17/285 [00:19<05:06,  1.15s/it]"
     ]
    },
    {
     "name": "stdout",
     "output_type": "stream",
     "text": [
      "Uploading: frames/intros_mp4_frame00:17.jpg...\n"
     ]
    },
    {
     "name": "stderr",
     "output_type": "stream",
     "text": [
      "  6%|▋         | 18/285 [00:20<04:58,  1.12s/it]"
     ]
    },
    {
     "name": "stdout",
     "output_type": "stream",
     "text": [
      "Uploading: frames/intros_mp4_frame00:18.jpg...\n"
     ]
    },
    {
     "name": "stderr",
     "output_type": "stream",
     "text": [
      "  7%|▋         | 19/285 [00:21<04:55,  1.11s/it]"
     ]
    },
    {
     "name": "stdout",
     "output_type": "stream",
     "text": [
      "Uploading: frames/intros_mp4_frame00:19.jpg...\n"
     ]
    },
    {
     "name": "stderr",
     "output_type": "stream",
     "text": [
      "  7%|▋         | 20/285 [00:22<04:58,  1.13s/it]"
     ]
    },
    {
     "name": "stdout",
     "output_type": "stream",
     "text": [
      "Uploading: frames/intros_mp4_frame00:20.jpg...\n"
     ]
    },
    {
     "name": "stderr",
     "output_type": "stream",
     "text": [
      "  7%|▋         | 21/285 [00:23<04:54,  1.11s/it]"
     ]
    },
    {
     "name": "stdout",
     "output_type": "stream",
     "text": [
      "Uploading: frames/intros_mp4_frame00:21.jpg...\n"
     ]
    },
    {
     "name": "stderr",
     "output_type": "stream",
     "text": [
      "  8%|▊         | 22/285 [00:24<04:53,  1.12s/it]"
     ]
    },
    {
     "name": "stdout",
     "output_type": "stream",
     "text": [
      "Uploading: frames/intros_mp4_frame00:22.jpg...\n"
     ]
    },
    {
     "name": "stderr",
     "output_type": "stream",
     "text": [
      "  8%|▊         | 23/285 [00:26<05:01,  1.15s/it]"
     ]
    },
    {
     "name": "stdout",
     "output_type": "stream",
     "text": [
      "Uploading: frames/intros_mp4_frame00:23.jpg...\n"
     ]
    },
    {
     "name": "stderr",
     "output_type": "stream",
     "text": [
      "  8%|▊         | 24/285 [00:27<04:58,  1.14s/it]"
     ]
    },
    {
     "name": "stdout",
     "output_type": "stream",
     "text": [
      "Uploading: frames/intros_mp4_frame00:24.jpg...\n"
     ]
    },
    {
     "name": "stderr",
     "output_type": "stream",
     "text": [
      "  9%|▉         | 25/285 [00:28<05:04,  1.17s/it]"
     ]
    },
    {
     "name": "stdout",
     "output_type": "stream",
     "text": [
      "Uploading: frames/intros_mp4_frame00:25.jpg...\n"
     ]
    },
    {
     "name": "stderr",
     "output_type": "stream",
     "text": [
      "  9%|▉         | 26/285 [00:29<04:54,  1.14s/it]"
     ]
    },
    {
     "name": "stdout",
     "output_type": "stream",
     "text": [
      "Uploading: frames/intros_mp4_frame00:26.jpg...\n"
     ]
    },
    {
     "name": "stderr",
     "output_type": "stream",
     "text": [
      "  9%|▉         | 27/285 [00:30<04:49,  1.12s/it]"
     ]
    },
    {
     "name": "stdout",
     "output_type": "stream",
     "text": [
      "Uploading: frames/intros_mp4_frame00:27.jpg...\n"
     ]
    },
    {
     "name": "stderr",
     "output_type": "stream",
     "text": [
      " 10%|▉         | 28/285 [00:31<04:43,  1.10s/it]"
     ]
    },
    {
     "name": "stdout",
     "output_type": "stream",
     "text": [
      "Uploading: frames/intros_mp4_frame00:28.jpg...\n"
     ]
    },
    {
     "name": "stderr",
     "output_type": "stream",
     "text": [
      " 10%|█         | 29/285 [00:32<04:41,  1.10s/it]"
     ]
    },
    {
     "name": "stdout",
     "output_type": "stream",
     "text": [
      "Uploading: frames/intros_mp4_frame00:29.jpg...\n"
     ]
    },
    {
     "name": "stderr",
     "output_type": "stream",
     "text": [
      " 11%|█         | 30/285 [00:34<04:50,  1.14s/it]"
     ]
    },
    {
     "name": "stdout",
     "output_type": "stream",
     "text": [
      "Uploading: frames/intros_mp4_frame00:30.jpg...\n"
     ]
    },
    {
     "name": "stderr",
     "output_type": "stream",
     "text": [
      " 11%|█         | 31/285 [00:35<04:42,  1.11s/it]"
     ]
    },
    {
     "name": "stdout",
     "output_type": "stream",
     "text": [
      "Uploading: frames/intros_mp4_frame00:31.jpg...\n"
     ]
    },
    {
     "name": "stderr",
     "output_type": "stream",
     "text": [
      " 11%|█         | 32/285 [00:36<04:47,  1.14s/it]"
     ]
    },
    {
     "name": "stdout",
     "output_type": "stream",
     "text": [
      "Uploading: frames/intros_mp4_frame00:32.jpg...\n"
     ]
    },
    {
     "name": "stderr",
     "output_type": "stream",
     "text": [
      " 12%|█▏        | 33/285 [00:37<04:46,  1.14s/it]"
     ]
    },
    {
     "name": "stdout",
     "output_type": "stream",
     "text": [
      "Uploading: frames/intros_mp4_frame00:33.jpg...\n"
     ]
    },
    {
     "name": "stderr",
     "output_type": "stream",
     "text": [
      " 12%|█▏        | 34/285 [00:38<04:43,  1.13s/it]"
     ]
    },
    {
     "name": "stdout",
     "output_type": "stream",
     "text": [
      "Uploading: frames/intros_mp4_frame00:34.jpg...\n"
     ]
    },
    {
     "name": "stderr",
     "output_type": "stream",
     "text": [
      " 12%|█▏        | 35/285 [00:39<04:36,  1.10s/it]"
     ]
    },
    {
     "name": "stdout",
     "output_type": "stream",
     "text": [
      "Uploading: frames/intros_mp4_frame00:35.jpg...\n"
     ]
    },
    {
     "name": "stderr",
     "output_type": "stream",
     "text": [
      " 13%|█▎        | 36/285 [00:40<04:35,  1.11s/it]"
     ]
    },
    {
     "name": "stdout",
     "output_type": "stream",
     "text": [
      "Uploading: frames/intros_mp4_frame00:36.jpg...\n"
     ]
    },
    {
     "name": "stderr",
     "output_type": "stream",
     "text": [
      " 13%|█▎        | 37/285 [00:41<04:41,  1.14s/it]"
     ]
    },
    {
     "name": "stdout",
     "output_type": "stream",
     "text": [
      "Uploading: frames/intros_mp4_frame00:37.jpg...\n"
     ]
    },
    {
     "name": "stderr",
     "output_type": "stream",
     "text": [
      " 13%|█▎        | 38/285 [00:43<04:41,  1.14s/it]"
     ]
    },
    {
     "name": "stdout",
     "output_type": "stream",
     "text": [
      "Uploading: frames/intros_mp4_frame00:38.jpg...\n"
     ]
    },
    {
     "name": "stderr",
     "output_type": "stream",
     "text": [
      " 14%|█▎        | 39/285 [00:44<04:36,  1.13s/it]"
     ]
    },
    {
     "name": "stdout",
     "output_type": "stream",
     "text": [
      "Uploading: frames/intros_mp4_frame00:39.jpg...\n"
     ]
    },
    {
     "name": "stderr",
     "output_type": "stream",
     "text": [
      " 14%|█▍        | 40/285 [00:45<04:38,  1.14s/it]"
     ]
    },
    {
     "name": "stdout",
     "output_type": "stream",
     "text": [
      "Uploading: frames/intros_mp4_frame00:40.jpg...\n"
     ]
    },
    {
     "name": "stderr",
     "output_type": "stream",
     "text": [
      " 14%|█▍        | 41/285 [00:46<04:36,  1.13s/it]"
     ]
    },
    {
     "name": "stdout",
     "output_type": "stream",
     "text": [
      "Uploading: frames/intros_mp4_frame00:41.jpg...\n"
     ]
    },
    {
     "name": "stderr",
     "output_type": "stream",
     "text": [
      " 15%|█▍        | 42/285 [00:47<04:42,  1.16s/it]"
     ]
    },
    {
     "name": "stdout",
     "output_type": "stream",
     "text": [
      "Uploading: frames/intros_mp4_frame00:42.jpg...\n"
     ]
    },
    {
     "name": "stderr",
     "output_type": "stream",
     "text": [
      " 15%|█▌        | 43/285 [00:48<04:38,  1.15s/it]"
     ]
    },
    {
     "name": "stdout",
     "output_type": "stream",
     "text": [
      "Uploading: frames/intros_mp4_frame00:43.jpg...\n"
     ]
    },
    {
     "name": "stderr",
     "output_type": "stream",
     "text": [
      " 15%|█▌        | 44/285 [00:49<04:35,  1.15s/it]"
     ]
    },
    {
     "name": "stdout",
     "output_type": "stream",
     "text": [
      "Uploading: frames/intros_mp4_frame00:44.jpg...\n"
     ]
    },
    {
     "name": "stderr",
     "output_type": "stream",
     "text": [
      " 16%|█▌        | 45/285 [00:51<04:33,  1.14s/it]"
     ]
    },
    {
     "name": "stdout",
     "output_type": "stream",
     "text": [
      "Uploading: frames/intros_mp4_frame00:45.jpg...\n"
     ]
    },
    {
     "name": "stderr",
     "output_type": "stream",
     "text": [
      " 16%|█▌        | 46/285 [00:52<04:28,  1.12s/it]"
     ]
    },
    {
     "name": "stdout",
     "output_type": "stream",
     "text": [
      "Uploading: frames/intros_mp4_frame00:46.jpg...\n"
     ]
    },
    {
     "name": "stderr",
     "output_type": "stream",
     "text": [
      " 16%|█▋        | 47/285 [00:53<04:30,  1.14s/it]"
     ]
    },
    {
     "name": "stdout",
     "output_type": "stream",
     "text": [
      "Uploading: frames/intros_mp4_frame00:47.jpg...\n"
     ]
    },
    {
     "name": "stderr",
     "output_type": "stream",
     "text": [
      " 17%|█▋        | 48/285 [00:54<04:30,  1.14s/it]"
     ]
    },
    {
     "name": "stdout",
     "output_type": "stream",
     "text": [
      "Uploading: frames/intros_mp4_frame00:48.jpg...\n"
     ]
    },
    {
     "name": "stderr",
     "output_type": "stream",
     "text": [
      " 17%|█▋        | 49/285 [00:55<04:26,  1.13s/it]"
     ]
    },
    {
     "name": "stdout",
     "output_type": "stream",
     "text": [
      "Uploading: frames/intros_mp4_frame00:49.jpg...\n"
     ]
    },
    {
     "name": "stderr",
     "output_type": "stream",
     "text": [
      " 18%|█▊        | 50/285 [00:56<04:23,  1.12s/it]"
     ]
    },
    {
     "name": "stdout",
     "output_type": "stream",
     "text": [
      "Uploading: frames/intros_mp4_frame00:50.jpg...\n"
     ]
    },
    {
     "name": "stderr",
     "output_type": "stream",
     "text": [
      " 18%|█▊        | 51/285 [00:57<04:17,  1.10s/it]"
     ]
    },
    {
     "name": "stdout",
     "output_type": "stream",
     "text": [
      "Uploading: frames/intros_mp4_frame00:51.jpg...\n"
     ]
    },
    {
     "name": "stderr",
     "output_type": "stream",
     "text": [
      " 18%|█▊        | 52/285 [00:58<04:18,  1.11s/it]"
     ]
    },
    {
     "name": "stdout",
     "output_type": "stream",
     "text": [
      "Uploading: frames/intros_mp4_frame00:52.jpg...\n"
     ]
    },
    {
     "name": "stderr",
     "output_type": "stream",
     "text": [
      " 19%|█▊        | 53/285 [01:00<04:25,  1.14s/it]"
     ]
    },
    {
     "name": "stdout",
     "output_type": "stream",
     "text": [
      "Uploading: frames/intros_mp4_frame00:53.jpg...\n"
     ]
    },
    {
     "name": "stderr",
     "output_type": "stream",
     "text": [
      " 19%|█▉        | 54/285 [01:01<04:30,  1.17s/it]"
     ]
    },
    {
     "name": "stdout",
     "output_type": "stream",
     "text": [
      "Uploading: frames/intros_mp4_frame00:54.jpg...\n"
     ]
    },
    {
     "name": "stderr",
     "output_type": "stream",
     "text": [
      " 19%|█▉        | 55/285 [01:02<04:25,  1.16s/it]"
     ]
    },
    {
     "name": "stdout",
     "output_type": "stream",
     "text": [
      "Uploading: frames/intros_mp4_frame00:55.jpg...\n"
     ]
    },
    {
     "name": "stderr",
     "output_type": "stream",
     "text": [
      " 20%|█▉        | 56/285 [01:03<04:29,  1.18s/it]"
     ]
    },
    {
     "name": "stdout",
     "output_type": "stream",
     "text": [
      "Uploading: frames/intros_mp4_frame00:56.jpg...\n"
     ]
    },
    {
     "name": "stderr",
     "output_type": "stream",
     "text": [
      " 20%|██        | 57/285 [01:04<04:21,  1.15s/it]"
     ]
    },
    {
     "name": "stdout",
     "output_type": "stream",
     "text": [
      "Uploading: frames/intros_mp4_frame00:57.jpg...\n"
     ]
    },
    {
     "name": "stderr",
     "output_type": "stream",
     "text": [
      " 20%|██        | 58/285 [01:05<04:22,  1.16s/it]"
     ]
    },
    {
     "name": "stdout",
     "output_type": "stream",
     "text": [
      "Uploading: frames/intros_mp4_frame00:58.jpg...\n"
     ]
    },
    {
     "name": "stderr",
     "output_type": "stream",
     "text": [
      " 21%|██        | 59/285 [01:07<04:26,  1.18s/it]"
     ]
    },
    {
     "name": "stdout",
     "output_type": "stream",
     "text": [
      "Uploading: frames/intros_mp4_frame00:59.jpg...\n"
     ]
    },
    {
     "name": "stderr",
     "output_type": "stream",
     "text": [
      " 21%|██        | 60/285 [01:08<04:21,  1.16s/it]"
     ]
    },
    {
     "name": "stdout",
     "output_type": "stream",
     "text": [
      "Uploading: frames/intros_mp4_frame01:00.jpg...\n"
     ]
    },
    {
     "name": "stderr",
     "output_type": "stream",
     "text": [
      " 21%|██▏       | 61/285 [01:09<04:13,  1.13s/it]"
     ]
    },
    {
     "name": "stdout",
     "output_type": "stream",
     "text": [
      "Uploading: frames/intros_mp4_frame01:01.jpg...\n"
     ]
    },
    {
     "name": "stderr",
     "output_type": "stream",
     "text": [
      " 22%|██▏       | 62/285 [01:10<04:09,  1.12s/it]"
     ]
    },
    {
     "name": "stdout",
     "output_type": "stream",
     "text": [
      "Uploading: frames/intros_mp4_frame01:02.jpg...\n"
     ]
    },
    {
     "name": "stderr",
     "output_type": "stream",
     "text": [
      " 22%|██▏       | 63/285 [01:11<04:08,  1.12s/it]"
     ]
    },
    {
     "name": "stdout",
     "output_type": "stream",
     "text": [
      "Uploading: frames/intros_mp4_frame01:03.jpg...\n"
     ]
    },
    {
     "name": "stderr",
     "output_type": "stream",
     "text": [
      " 22%|██▏       | 64/285 [01:12<04:08,  1.12s/it]"
     ]
    },
    {
     "name": "stdout",
     "output_type": "stream",
     "text": [
      "Uploading: frames/intros_mp4_frame01:04.jpg...\n"
     ]
    },
    {
     "name": "stderr",
     "output_type": "stream",
     "text": [
      " 23%|██▎       | 65/285 [01:13<04:19,  1.18s/it]"
     ]
    },
    {
     "name": "stdout",
     "output_type": "stream",
     "text": [
      "Uploading: frames/intros_mp4_frame01:05.jpg...\n"
     ]
    },
    {
     "name": "stderr",
     "output_type": "stream",
     "text": [
      " 23%|██▎       | 66/285 [01:15<04:13,  1.16s/it]"
     ]
    },
    {
     "name": "stdout",
     "output_type": "stream",
     "text": [
      "Uploading: frames/intros_mp4_frame01:06.jpg...\n"
     ]
    },
    {
     "name": "stderr",
     "output_type": "stream",
     "text": [
      " 24%|██▎       | 67/285 [01:16<04:12,  1.16s/it]"
     ]
    },
    {
     "name": "stdout",
     "output_type": "stream",
     "text": [
      "Uploading: frames/intros_mp4_frame01:07.jpg...\n"
     ]
    },
    {
     "name": "stderr",
     "output_type": "stream",
     "text": [
      " 24%|██▍       | 68/285 [01:17<04:19,  1.20s/it]"
     ]
    },
    {
     "name": "stdout",
     "output_type": "stream",
     "text": [
      "Uploading: frames/intros_mp4_frame01:08.jpg...\n"
     ]
    },
    {
     "name": "stderr",
     "output_type": "stream",
     "text": [
      " 24%|██▍       | 69/285 [01:18<04:17,  1.19s/it]"
     ]
    },
    {
     "name": "stdout",
     "output_type": "stream",
     "text": [
      "Uploading: frames/intros_mp4_frame01:09.jpg...\n"
     ]
    },
    {
     "name": "stderr",
     "output_type": "stream",
     "text": [
      " 25%|██▍       | 70/285 [01:19<04:11,  1.17s/it]"
     ]
    },
    {
     "name": "stdout",
     "output_type": "stream",
     "text": [
      "Uploading: frames/intros_mp4_frame01:10.jpg...\n"
     ]
    },
    {
     "name": "stderr",
     "output_type": "stream",
     "text": [
      " 25%|██▍       | 71/285 [01:20<04:07,  1.16s/it]"
     ]
    },
    {
     "name": "stdout",
     "output_type": "stream",
     "text": [
      "Uploading: frames/intros_mp4_frame01:11.jpg...\n"
     ]
    },
    {
     "name": "stderr",
     "output_type": "stream",
     "text": [
      " 25%|██▌       | 72/285 [01:22<04:05,  1.15s/it]"
     ]
    },
    {
     "name": "stdout",
     "output_type": "stream",
     "text": [
      "Uploading: frames/intros_mp4_frame01:12.jpg...\n"
     ]
    },
    {
     "name": "stderr",
     "output_type": "stream",
     "text": [
      " 26%|██▌       | 73/285 [01:23<04:10,  1.18s/it]"
     ]
    },
    {
     "name": "stdout",
     "output_type": "stream",
     "text": [
      "Uploading: frames/intros_mp4_frame01:13.jpg...\n"
     ]
    },
    {
     "name": "stderr",
     "output_type": "stream",
     "text": [
      " 26%|██▌       | 74/285 [01:24<04:09,  1.18s/it]"
     ]
    },
    {
     "name": "stdout",
     "output_type": "stream",
     "text": [
      "Uploading: frames/intros_mp4_frame01:14.jpg...\n"
     ]
    },
    {
     "name": "stderr",
     "output_type": "stream",
     "text": [
      " 26%|██▋       | 75/285 [01:25<03:56,  1.13s/it]"
     ]
    },
    {
     "name": "stdout",
     "output_type": "stream",
     "text": [
      "Uploading: frames/intros_mp4_frame01:15.jpg...\n"
     ]
    },
    {
     "name": "stderr",
     "output_type": "stream",
     "text": [
      " 27%|██▋       | 76/285 [01:26<04:01,  1.15s/it]"
     ]
    },
    {
     "name": "stdout",
     "output_type": "stream",
     "text": [
      "Uploading: frames/intros_mp4_frame01:16.jpg...\n"
     ]
    },
    {
     "name": "stderr",
     "output_type": "stream",
     "text": [
      " 27%|██▋       | 77/285 [01:28<04:10,  1.21s/it]"
     ]
    },
    {
     "name": "stdout",
     "output_type": "stream",
     "text": [
      "Uploading: frames/intros_mp4_frame01:17.jpg...\n"
     ]
    },
    {
     "name": "stderr",
     "output_type": "stream",
     "text": [
      " 27%|██▋       | 78/285 [01:29<04:03,  1.17s/it]"
     ]
    },
    {
     "name": "stdout",
     "output_type": "stream",
     "text": [
      "Uploading: frames/intros_mp4_frame01:18.jpg...\n"
     ]
    },
    {
     "name": "stderr",
     "output_type": "stream",
     "text": [
      " 28%|██▊       | 79/285 [01:30<03:58,  1.16s/it]"
     ]
    },
    {
     "name": "stdout",
     "output_type": "stream",
     "text": [
      "Uploading: frames/intros_mp4_frame01:19.jpg...\n"
     ]
    },
    {
     "name": "stderr",
     "output_type": "stream",
     "text": [
      " 28%|██▊       | 80/285 [01:31<04:00,  1.17s/it]"
     ]
    },
    {
     "name": "stdout",
     "output_type": "stream",
     "text": [
      "Uploading: frames/intros_mp4_frame01:20.jpg...\n"
     ]
    },
    {
     "name": "stderr",
     "output_type": "stream",
     "text": [
      " 28%|██▊       | 81/285 [01:32<04:13,  1.24s/it]"
     ]
    },
    {
     "name": "stdout",
     "output_type": "stream",
     "text": [
      "Uploading: frames/intros_mp4_frame01:21.jpg...\n"
     ]
    },
    {
     "name": "stderr",
     "output_type": "stream",
     "text": [
      " 29%|██▉       | 82/285 [01:34<04:06,  1.22s/it]"
     ]
    },
    {
     "name": "stdout",
     "output_type": "stream",
     "text": [
      "Uploading: frames/intros_mp4_frame01:22.jpg...\n"
     ]
    },
    {
     "name": "stderr",
     "output_type": "stream",
     "text": [
      " 29%|██▉       | 83/285 [01:35<04:00,  1.19s/it]"
     ]
    },
    {
     "name": "stdout",
     "output_type": "stream",
     "text": [
      "Uploading: frames/intros_mp4_frame01:23.jpg...\n"
     ]
    },
    {
     "name": "stderr",
     "output_type": "stream",
     "text": [
      " 29%|██▉       | 84/285 [01:36<03:53,  1.16s/it]"
     ]
    },
    {
     "name": "stdout",
     "output_type": "stream",
     "text": [
      "Uploading: frames/intros_mp4_frame01:24.jpg...\n"
     ]
    },
    {
     "name": "stderr",
     "output_type": "stream",
     "text": [
      " 30%|██▉       | 85/285 [01:37<03:57,  1.19s/it]"
     ]
    },
    {
     "name": "stdout",
     "output_type": "stream",
     "text": [
      "Uploading: frames/intros_mp4_frame01:25.jpg...\n"
     ]
    },
    {
     "name": "stderr",
     "output_type": "stream",
     "text": [
      " 30%|███       | 86/285 [01:38<03:43,  1.12s/it]"
     ]
    },
    {
     "name": "stdout",
     "output_type": "stream",
     "text": [
      "Uploading: frames/intros_mp4_frame01:26.jpg...\n"
     ]
    },
    {
     "name": "stderr",
     "output_type": "stream",
     "text": [
      " 31%|███       | 87/285 [01:39<03:39,  1.11s/it]"
     ]
    },
    {
     "name": "stdout",
     "output_type": "stream",
     "text": [
      "Uploading: frames/intros_mp4_frame01:27.jpg...\n"
     ]
    },
    {
     "name": "stderr",
     "output_type": "stream",
     "text": [
      " 31%|███       | 88/285 [01:40<03:39,  1.11s/it]"
     ]
    },
    {
     "name": "stdout",
     "output_type": "stream",
     "text": [
      "Uploading: frames/intros_mp4_frame01:28.jpg...\n"
     ]
    },
    {
     "name": "stderr",
     "output_type": "stream",
     "text": [
      " 31%|███       | 89/285 [01:41<03:37,  1.11s/it]"
     ]
    },
    {
     "name": "stdout",
     "output_type": "stream",
     "text": [
      "Uploading: frames/intros_mp4_frame01:29.jpg...\n"
     ]
    },
    {
     "name": "stderr",
     "output_type": "stream",
     "text": [
      " 32%|███▏      | 90/285 [01:42<03:34,  1.10s/it]"
     ]
    },
    {
     "name": "stdout",
     "output_type": "stream",
     "text": [
      "Uploading: frames/intros_mp4_frame01:30.jpg...\n"
     ]
    },
    {
     "name": "stderr",
     "output_type": "stream",
     "text": [
      " 32%|███▏      | 91/285 [01:43<03:29,  1.08s/it]"
     ]
    },
    {
     "name": "stdout",
     "output_type": "stream",
     "text": [
      "Uploading: frames/intros_mp4_frame01:31.jpg...\n"
     ]
    },
    {
     "name": "stderr",
     "output_type": "stream",
     "text": [
      " 32%|███▏      | 92/285 [01:45<03:31,  1.09s/it]"
     ]
    },
    {
     "name": "stdout",
     "output_type": "stream",
     "text": [
      "Uploading: frames/intros_mp4_frame01:32.jpg...\n"
     ]
    },
    {
     "name": "stderr",
     "output_type": "stream",
     "text": [
      " 33%|███▎      | 93/285 [01:46<03:30,  1.10s/it]"
     ]
    },
    {
     "name": "stdout",
     "output_type": "stream",
     "text": [
      "Uploading: frames/intros_mp4_frame01:33.jpg...\n"
     ]
    },
    {
     "name": "stderr",
     "output_type": "stream",
     "text": [
      " 33%|███▎      | 94/285 [01:47<03:27,  1.09s/it]"
     ]
    },
    {
     "name": "stdout",
     "output_type": "stream",
     "text": [
      "Uploading: frames/intros_mp4_frame01:34.jpg...\n"
     ]
    },
    {
     "name": "stderr",
     "output_type": "stream",
     "text": [
      " 33%|███▎      | 95/285 [01:48<03:25,  1.08s/it]"
     ]
    },
    {
     "name": "stdout",
     "output_type": "stream",
     "text": [
      "Uploading: frames/intros_mp4_frame01:35.jpg...\n"
     ]
    },
    {
     "name": "stderr",
     "output_type": "stream",
     "text": [
      " 34%|███▎      | 96/285 [01:49<03:32,  1.12s/it]"
     ]
    },
    {
     "name": "stdout",
     "output_type": "stream",
     "text": [
      "Uploading: frames/intros_mp4_frame01:36.jpg...\n"
     ]
    },
    {
     "name": "stderr",
     "output_type": "stream",
     "text": [
      " 34%|███▍      | 97/285 [01:50<03:32,  1.13s/it]"
     ]
    },
    {
     "name": "stdout",
     "output_type": "stream",
     "text": [
      "Uploading: frames/intros_mp4_frame01:37.jpg...\n"
     ]
    },
    {
     "name": "stderr",
     "output_type": "stream",
     "text": [
      " 34%|███▍      | 98/285 [01:51<03:27,  1.11s/it]"
     ]
    },
    {
     "name": "stdout",
     "output_type": "stream",
     "text": [
      "Uploading: frames/intros_mp4_frame01:38.jpg...\n"
     ]
    },
    {
     "name": "stderr",
     "output_type": "stream",
     "text": [
      " 35%|███▍      | 99/285 [01:52<03:30,  1.13s/it]"
     ]
    },
    {
     "name": "stdout",
     "output_type": "stream",
     "text": [
      "Uploading: frames/intros_mp4_frame01:39.jpg...\n"
     ]
    },
    {
     "name": "stderr",
     "output_type": "stream",
     "text": [
      " 35%|███▌      | 100/285 [01:53<03:23,  1.10s/it]"
     ]
    },
    {
     "name": "stdout",
     "output_type": "stream",
     "text": [
      "Uploading: frames/intros_mp4_frame01:40.jpg...\n"
     ]
    },
    {
     "name": "stderr",
     "output_type": "stream",
     "text": [
      " 35%|███▌      | 101/285 [01:55<03:23,  1.11s/it]"
     ]
    },
    {
     "name": "stdout",
     "output_type": "stream",
     "text": [
      "Uploading: frames/intros_mp4_frame01:41.jpg...\n"
     ]
    },
    {
     "name": "stderr",
     "output_type": "stream",
     "text": [
      " 36%|███▌      | 102/285 [01:56<03:32,  1.16s/it]"
     ]
    },
    {
     "name": "stdout",
     "output_type": "stream",
     "text": [
      "Uploading: frames/intros_mp4_frame01:42.jpg...\n"
     ]
    },
    {
     "name": "stderr",
     "output_type": "stream",
     "text": [
      " 36%|███▌      | 103/285 [01:57<03:27,  1.14s/it]"
     ]
    },
    {
     "name": "stdout",
     "output_type": "stream",
     "text": [
      "Uploading: frames/intros_mp4_frame01:43.jpg...\n"
     ]
    },
    {
     "name": "stderr",
     "output_type": "stream",
     "text": [
      " 36%|███▋      | 104/285 [01:58<03:24,  1.13s/it]"
     ]
    },
    {
     "name": "stdout",
     "output_type": "stream",
     "text": [
      "Uploading: frames/intros_mp4_frame01:44.jpg...\n"
     ]
    },
    {
     "name": "stderr",
     "output_type": "stream",
     "text": [
      " 37%|███▋      | 105/285 [01:59<03:23,  1.13s/it]"
     ]
    },
    {
     "name": "stdout",
     "output_type": "stream",
     "text": [
      "Uploading: frames/intros_mp4_frame01:45.jpg...\n"
     ]
    },
    {
     "name": "stderr",
     "output_type": "stream",
     "text": [
      " 37%|███▋      | 106/285 [02:00<03:21,  1.13s/it]"
     ]
    },
    {
     "name": "stdout",
     "output_type": "stream",
     "text": [
      "Uploading: frames/intros_mp4_frame01:46.jpg...\n"
     ]
    },
    {
     "name": "stderr",
     "output_type": "stream",
     "text": [
      " 38%|███▊      | 107/285 [02:01<03:19,  1.12s/it]"
     ]
    },
    {
     "name": "stdout",
     "output_type": "stream",
     "text": [
      "Uploading: frames/intros_mp4_frame01:47.jpg...\n"
     ]
    },
    {
     "name": "stderr",
     "output_type": "stream",
     "text": [
      " 38%|███▊      | 108/285 [02:03<03:19,  1.13s/it]"
     ]
    },
    {
     "name": "stdout",
     "output_type": "stream",
     "text": [
      "Uploading: frames/intros_mp4_frame01:48.jpg...\n"
     ]
    },
    {
     "name": "stderr",
     "output_type": "stream",
     "text": [
      " 38%|███▊      | 109/285 [02:04<03:22,  1.15s/it]"
     ]
    },
    {
     "name": "stdout",
     "output_type": "stream",
     "text": [
      "Uploading: frames/intros_mp4_frame01:49.jpg...\n"
     ]
    },
    {
     "name": "stderr",
     "output_type": "stream",
     "text": [
      " 39%|███▊      | 110/285 [02:05<03:21,  1.15s/it]"
     ]
    },
    {
     "name": "stdout",
     "output_type": "stream",
     "text": [
      "Uploading: frames/intros_mp4_frame01:50.jpg...\n"
     ]
    },
    {
     "name": "stderr",
     "output_type": "stream",
     "text": [
      " 39%|███▉      | 111/285 [02:06<03:19,  1.14s/it]"
     ]
    },
    {
     "name": "stdout",
     "output_type": "stream",
     "text": [
      "Uploading: frames/intros_mp4_frame01:51.jpg...\n"
     ]
    },
    {
     "name": "stderr",
     "output_type": "stream",
     "text": [
      " 39%|███▉      | 112/285 [02:07<03:13,  1.12s/it]"
     ]
    },
    {
     "name": "stdout",
     "output_type": "stream",
     "text": [
      "Uploading: frames/intros_mp4_frame01:52.jpg...\n"
     ]
    },
    {
     "name": "stderr",
     "output_type": "stream",
     "text": [
      " 40%|███▉      | 113/285 [02:08<03:14,  1.13s/it]"
     ]
    },
    {
     "name": "stdout",
     "output_type": "stream",
     "text": [
      "Uploading: frames/intros_mp4_frame01:53.jpg...\n"
     ]
    },
    {
     "name": "stderr",
     "output_type": "stream",
     "text": [
      " 40%|████      | 114/285 [02:09<03:09,  1.11s/it]"
     ]
    },
    {
     "name": "stdout",
     "output_type": "stream",
     "text": [
      "Uploading: frames/intros_mp4_frame01:54.jpg...\n"
     ]
    },
    {
     "name": "stderr",
     "output_type": "stream",
     "text": [
      " 40%|████      | 115/285 [02:10<03:07,  1.11s/it]"
     ]
    },
    {
     "name": "stdout",
     "output_type": "stream",
     "text": [
      "Uploading: frames/intros_mp4_frame01:55.jpg...\n"
     ]
    },
    {
     "name": "stderr",
     "output_type": "stream",
     "text": [
      " 41%|████      | 116/285 [02:12<03:14,  1.15s/it]"
     ]
    },
    {
     "name": "stdout",
     "output_type": "stream",
     "text": [
      "Uploading: frames/intros_mp4_frame01:56.jpg...\n"
     ]
    },
    {
     "name": "stderr",
     "output_type": "stream",
     "text": [
      " 41%|████      | 117/285 [02:13<03:12,  1.14s/it]"
     ]
    },
    {
     "name": "stdout",
     "output_type": "stream",
     "text": [
      "Uploading: frames/intros_mp4_frame01:57.jpg...\n"
     ]
    },
    {
     "name": "stderr",
     "output_type": "stream",
     "text": [
      " 41%|████▏     | 118/285 [02:14<03:06,  1.11s/it]"
     ]
    },
    {
     "name": "stdout",
     "output_type": "stream",
     "text": [
      "Uploading: frames/intros_mp4_frame01:58.jpg...\n"
     ]
    },
    {
     "name": "stderr",
     "output_type": "stream",
     "text": [
      " 42%|████▏     | 119/285 [02:15<02:58,  1.08s/it]"
     ]
    },
    {
     "name": "stdout",
     "output_type": "stream",
     "text": [
      "Uploading: frames/intros_mp4_frame01:59.jpg...\n"
     ]
    },
    {
     "name": "stderr",
     "output_type": "stream",
     "text": [
      " 42%|████▏     | 120/285 [02:16<02:56,  1.07s/it]"
     ]
    },
    {
     "name": "stdout",
     "output_type": "stream",
     "text": [
      "Uploading: frames/intros_mp4_frame02:00.jpg...\n"
     ]
    },
    {
     "name": "stderr",
     "output_type": "stream",
     "text": [
      " 42%|████▏     | 121/285 [02:17<02:55,  1.07s/it]"
     ]
    },
    {
     "name": "stdout",
     "output_type": "stream",
     "text": [
      "Uploading: frames/intros_mp4_frame02:01.jpg...\n"
     ]
    },
    {
     "name": "stderr",
     "output_type": "stream",
     "text": [
      " 43%|████▎     | 122/285 [02:18<02:55,  1.08s/it]"
     ]
    },
    {
     "name": "stdout",
     "output_type": "stream",
     "text": [
      "Uploading: frames/intros_mp4_frame02:02.jpg...\n"
     ]
    },
    {
     "name": "stderr",
     "output_type": "stream",
     "text": [
      " 43%|████▎     | 123/285 [02:19<02:55,  1.08s/it]"
     ]
    },
    {
     "name": "stdout",
     "output_type": "stream",
     "text": [
      "Uploading: frames/intros_mp4_frame02:03.jpg...\n"
     ]
    },
    {
     "name": "stderr",
     "output_type": "stream",
     "text": [
      " 44%|████▎     | 124/285 [02:20<02:51,  1.07s/it]"
     ]
    },
    {
     "name": "stdout",
     "output_type": "stream",
     "text": [
      "Uploading: frames/intros_mp4_frame02:04.jpg...\n"
     ]
    },
    {
     "name": "stderr",
     "output_type": "stream",
     "text": [
      " 44%|████▍     | 125/285 [02:21<02:52,  1.08s/it]"
     ]
    },
    {
     "name": "stdout",
     "output_type": "stream",
     "text": [
      "Uploading: frames/intros_mp4_frame02:05.jpg...\n"
     ]
    },
    {
     "name": "stderr",
     "output_type": "stream",
     "text": [
      " 44%|████▍     | 126/285 [02:22<02:54,  1.10s/it]"
     ]
    },
    {
     "name": "stdout",
     "output_type": "stream",
     "text": [
      "Uploading: frames/intros_mp4_frame02:06.jpg...\n"
     ]
    },
    {
     "name": "stderr",
     "output_type": "stream",
     "text": [
      " 45%|████▍     | 127/285 [02:24<02:59,  1.14s/it]"
     ]
    },
    {
     "name": "stdout",
     "output_type": "stream",
     "text": [
      "Uploading: frames/intros_mp4_frame02:07.jpg...\n"
     ]
    },
    {
     "name": "stderr",
     "output_type": "stream",
     "text": [
      " 45%|████▍     | 128/285 [02:25<02:58,  1.13s/it]"
     ]
    },
    {
     "name": "stdout",
     "output_type": "stream",
     "text": [
      "Uploading: frames/intros_mp4_frame02:08.jpg...\n"
     ]
    },
    {
     "name": "stderr",
     "output_type": "stream",
     "text": [
      " 45%|████▌     | 129/285 [02:26<02:54,  1.12s/it]"
     ]
    },
    {
     "name": "stdout",
     "output_type": "stream",
     "text": [
      "Uploading: frames/intros_mp4_frame02:09.jpg...\n"
     ]
    },
    {
     "name": "stderr",
     "output_type": "stream",
     "text": [
      " 46%|████▌     | 130/285 [02:27<02:53,  1.12s/it]"
     ]
    },
    {
     "name": "stdout",
     "output_type": "stream",
     "text": [
      "Uploading: frames/intros_mp4_frame02:10.jpg...\n"
     ]
    },
    {
     "name": "stderr",
     "output_type": "stream",
     "text": [
      " 46%|████▌     | 131/285 [02:28<02:46,  1.08s/it]"
     ]
    },
    {
     "name": "stdout",
     "output_type": "stream",
     "text": [
      "Uploading: frames/intros_mp4_frame02:11.jpg...\n"
     ]
    },
    {
     "name": "stderr",
     "output_type": "stream",
     "text": [
      " 46%|████▋     | 132/285 [02:29<02:46,  1.09s/it]"
     ]
    },
    {
     "name": "stdout",
     "output_type": "stream",
     "text": [
      "Uploading: frames/intros_mp4_frame02:12.jpg...\n"
     ]
    },
    {
     "name": "stderr",
     "output_type": "stream",
     "text": [
      " 47%|████▋     | 133/285 [02:30<02:47,  1.10s/it]"
     ]
    },
    {
     "name": "stdout",
     "output_type": "stream",
     "text": [
      "Uploading: frames/intros_mp4_frame02:13.jpg...\n"
     ]
    },
    {
     "name": "stderr",
     "output_type": "stream",
     "text": [
      " 47%|████▋     | 134/285 [02:31<02:46,  1.10s/it]"
     ]
    },
    {
     "name": "stdout",
     "output_type": "stream",
     "text": [
      "Uploading: frames/intros_mp4_frame02:14.jpg...\n"
     ]
    },
    {
     "name": "stderr",
     "output_type": "stream",
     "text": [
      " 47%|████▋     | 135/285 [02:32<02:42,  1.08s/it]"
     ]
    },
    {
     "name": "stdout",
     "output_type": "stream",
     "text": [
      "Uploading: frames/intros_mp4_frame02:15.jpg...\n"
     ]
    },
    {
     "name": "stderr",
     "output_type": "stream",
     "text": [
      " 48%|████▊     | 136/285 [02:33<02:43,  1.10s/it]"
     ]
    },
    {
     "name": "stdout",
     "output_type": "stream",
     "text": [
      "Uploading: frames/intros_mp4_frame02:16.jpg...\n"
     ]
    },
    {
     "name": "stderr",
     "output_type": "stream",
     "text": [
      " 48%|████▊     | 137/285 [02:35<02:45,  1.12s/it]"
     ]
    },
    {
     "name": "stdout",
     "output_type": "stream",
     "text": [
      "Uploading: frames/intros_mp4_frame02:17.jpg...\n"
     ]
    },
    {
     "name": "stderr",
     "output_type": "stream",
     "text": [
      " 48%|████▊     | 138/285 [02:36<02:47,  1.14s/it]"
     ]
    },
    {
     "name": "stdout",
     "output_type": "stream",
     "text": [
      "Uploading: frames/intros_mp4_frame02:18.jpg...\n"
     ]
    },
    {
     "name": "stderr",
     "output_type": "stream",
     "text": [
      " 49%|████▉     | 139/285 [02:37<02:45,  1.13s/it]"
     ]
    },
    {
     "name": "stdout",
     "output_type": "stream",
     "text": [
      "Uploading: frames/intros_mp4_frame02:19.jpg...\n"
     ]
    },
    {
     "name": "stderr",
     "output_type": "stream",
     "text": [
      " 49%|████▉     | 140/285 [02:38<02:44,  1.14s/it]"
     ]
    },
    {
     "name": "stdout",
     "output_type": "stream",
     "text": [
      "Uploading: frames/intros_mp4_frame02:20.jpg...\n"
     ]
    },
    {
     "name": "stderr",
     "output_type": "stream",
     "text": [
      " 49%|████▉     | 141/285 [02:39<02:51,  1.19s/it]"
     ]
    },
    {
     "name": "stdout",
     "output_type": "stream",
     "text": [
      "Uploading: frames/intros_mp4_frame02:21.jpg...\n"
     ]
    },
    {
     "name": "stderr",
     "output_type": "stream",
     "text": [
      " 50%|████▉     | 142/285 [02:41<02:50,  1.19s/it]"
     ]
    },
    {
     "name": "stdout",
     "output_type": "stream",
     "text": [
      "Uploading: frames/intros_mp4_frame02:22.jpg...\n"
     ]
    },
    {
     "name": "stderr",
     "output_type": "stream",
     "text": [
      " 50%|█████     | 143/285 [02:42<02:44,  1.16s/it]"
     ]
    },
    {
     "name": "stdout",
     "output_type": "stream",
     "text": [
      "Uploading: frames/intros_mp4_frame02:23.jpg...\n"
     ]
    },
    {
     "name": "stderr",
     "output_type": "stream",
     "text": [
      " 51%|█████     | 144/285 [02:43<02:41,  1.14s/it]"
     ]
    },
    {
     "name": "stdout",
     "output_type": "stream",
     "text": [
      "Uploading: frames/intros_mp4_frame02:24.jpg...\n"
     ]
    },
    {
     "name": "stderr",
     "output_type": "stream",
     "text": [
      " 51%|█████     | 145/285 [02:44<02:39,  1.14s/it]"
     ]
    },
    {
     "name": "stdout",
     "output_type": "stream",
     "text": [
      "Uploading: frames/intros_mp4_frame02:25.jpg...\n"
     ]
    },
    {
     "name": "stderr",
     "output_type": "stream",
     "text": [
      " 51%|█████     | 146/285 [02:45<02:42,  1.17s/it]"
     ]
    },
    {
     "name": "stdout",
     "output_type": "stream",
     "text": [
      "Uploading: frames/intros_mp4_frame02:26.jpg...\n"
     ]
    },
    {
     "name": "stderr",
     "output_type": "stream",
     "text": [
      " 52%|█████▏    | 147/285 [02:46<02:35,  1.12s/it]"
     ]
    },
    {
     "name": "stdout",
     "output_type": "stream",
     "text": [
      "Uploading: frames/intros_mp4_frame02:27.jpg...\n"
     ]
    },
    {
     "name": "stderr",
     "output_type": "stream",
     "text": [
      " 52%|█████▏    | 148/285 [02:47<02:34,  1.12s/it]"
     ]
    },
    {
     "name": "stdout",
     "output_type": "stream",
     "text": [
      "Uploading: frames/intros_mp4_frame02:28.jpg...\n"
     ]
    },
    {
     "name": "stderr",
     "output_type": "stream",
     "text": [
      " 52%|█████▏    | 149/285 [02:48<02:32,  1.12s/it]"
     ]
    },
    {
     "name": "stdout",
     "output_type": "stream",
     "text": [
      "Uploading: frames/intros_mp4_frame02:29.jpg...\n"
     ]
    },
    {
     "name": "stderr",
     "output_type": "stream",
     "text": [
      " 53%|█████▎    | 150/285 [02:50<02:31,  1.13s/it]"
     ]
    },
    {
     "name": "stdout",
     "output_type": "stream",
     "text": [
      "Uploading: frames/intros_mp4_frame02:30.jpg...\n"
     ]
    },
    {
     "name": "stderr",
     "output_type": "stream",
     "text": [
      " 53%|█████▎    | 151/285 [02:51<02:31,  1.13s/it]"
     ]
    },
    {
     "name": "stdout",
     "output_type": "stream",
     "text": [
      "Uploading: frames/intros_mp4_frame02:31.jpg...\n"
     ]
    },
    {
     "name": "stderr",
     "output_type": "stream",
     "text": [
      " 53%|█████▎    | 152/285 [02:52<02:28,  1.11s/it]"
     ]
    },
    {
     "name": "stdout",
     "output_type": "stream",
     "text": [
      "Uploading: frames/intros_mp4_frame02:32.jpg...\n"
     ]
    },
    {
     "name": "stderr",
     "output_type": "stream",
     "text": [
      " 54%|█████▎    | 153/285 [02:53<02:33,  1.16s/it]"
     ]
    },
    {
     "name": "stdout",
     "output_type": "stream",
     "text": [
      "Uploading: frames/intros_mp4_frame02:33.jpg...\n"
     ]
    },
    {
     "name": "stderr",
     "output_type": "stream",
     "text": [
      " 54%|█████▍    | 154/285 [02:54<02:26,  1.12s/it]"
     ]
    },
    {
     "name": "stdout",
     "output_type": "stream",
     "text": [
      "Uploading: frames/intros_mp4_frame02:34.jpg...\n"
     ]
    },
    {
     "name": "stderr",
     "output_type": "stream",
     "text": [
      " 54%|█████▍    | 155/285 [02:55<02:25,  1.12s/it]"
     ]
    },
    {
     "name": "stdout",
     "output_type": "stream",
     "text": [
      "Uploading: frames/intros_mp4_frame02:35.jpg...\n"
     ]
    },
    {
     "name": "stderr",
     "output_type": "stream",
     "text": [
      " 55%|█████▍    | 156/285 [02:56<02:28,  1.15s/it]"
     ]
    },
    {
     "name": "stdout",
     "output_type": "stream",
     "text": [
      "Uploading: frames/intros_mp4_frame02:36.jpg...\n"
     ]
    },
    {
     "name": "stderr",
     "output_type": "stream",
     "text": [
      " 55%|█████▌    | 157/285 [02:58<02:26,  1.14s/it]"
     ]
    },
    {
     "name": "stdout",
     "output_type": "stream",
     "text": [
      "Uploading: frames/intros_mp4_frame02:37.jpg...\n"
     ]
    },
    {
     "name": "stderr",
     "output_type": "stream",
     "text": [
      " 55%|█████▌    | 158/285 [02:59<02:22,  1.12s/it]"
     ]
    },
    {
     "name": "stdout",
     "output_type": "stream",
     "text": [
      "Uploading: frames/intros_mp4_frame02:38.jpg...\n"
     ]
    },
    {
     "name": "stderr",
     "output_type": "stream",
     "text": [
      " 56%|█████▌    | 159/285 [03:00<02:27,  1.17s/it]"
     ]
    },
    {
     "name": "stdout",
     "output_type": "stream",
     "text": [
      "Uploading: frames/intros_mp4_frame02:39.jpg...\n"
     ]
    },
    {
     "name": "stderr",
     "output_type": "stream",
     "text": [
      " 56%|█████▌    | 160/285 [03:01<02:24,  1.16s/it]"
     ]
    },
    {
     "name": "stdout",
     "output_type": "stream",
     "text": [
      "Uploading: frames/intros_mp4_frame02:40.jpg...\n"
     ]
    },
    {
     "name": "stderr",
     "output_type": "stream",
     "text": [
      " 56%|█████▋    | 161/285 [03:02<02:22,  1.15s/it]"
     ]
    },
    {
     "name": "stdout",
     "output_type": "stream",
     "text": [
      "Uploading: frames/intros_mp4_frame02:41.jpg...\n"
     ]
    },
    {
     "name": "stderr",
     "output_type": "stream",
     "text": [
      " 57%|█████▋    | 162/285 [03:03<02:16,  1.11s/it]"
     ]
    },
    {
     "name": "stdout",
     "output_type": "stream",
     "text": [
      "Uploading: frames/intros_mp4_frame02:42.jpg...\n"
     ]
    },
    {
     "name": "stderr",
     "output_type": "stream",
     "text": [
      " 57%|█████▋    | 163/285 [03:04<02:20,  1.16s/it]"
     ]
    },
    {
     "name": "stdout",
     "output_type": "stream",
     "text": [
      "Uploading: frames/intros_mp4_frame02:43.jpg...\n"
     ]
    },
    {
     "name": "stderr",
     "output_type": "stream",
     "text": [
      " 58%|█████▊    | 164/285 [03:06<02:21,  1.17s/it]"
     ]
    },
    {
     "name": "stdout",
     "output_type": "stream",
     "text": [
      "Uploading: frames/intros_mp4_frame02:44.jpg...\n"
     ]
    },
    {
     "name": "stderr",
     "output_type": "stream",
     "text": [
      " 58%|█████▊    | 165/285 [03:07<02:18,  1.16s/it]"
     ]
    },
    {
     "name": "stdout",
     "output_type": "stream",
     "text": [
      "Uploading: frames/intros_mp4_frame02:45.jpg...\n"
     ]
    },
    {
     "name": "stderr",
     "output_type": "stream",
     "text": [
      " 58%|█████▊    | 166/285 [03:08<02:15,  1.14s/it]"
     ]
    },
    {
     "name": "stdout",
     "output_type": "stream",
     "text": [
      "Uploading: frames/intros_mp4_frame02:46.jpg...\n"
     ]
    },
    {
     "name": "stderr",
     "output_type": "stream",
     "text": [
      " 59%|█████▊    | 167/285 [03:09<02:11,  1.11s/it]"
     ]
    },
    {
     "name": "stdout",
     "output_type": "stream",
     "text": [
      "Uploading: frames/intros_mp4_frame02:47.jpg...\n"
     ]
    },
    {
     "name": "stderr",
     "output_type": "stream",
     "text": [
      " 59%|█████▉    | 168/285 [03:10<02:10,  1.12s/it]"
     ]
    },
    {
     "name": "stdout",
     "output_type": "stream",
     "text": [
      "Uploading: frames/intros_mp4_frame02:48.jpg...\n"
     ]
    },
    {
     "name": "stderr",
     "output_type": "stream",
     "text": [
      " 59%|█████▉    | 169/285 [03:11<02:06,  1.09s/it]"
     ]
    },
    {
     "name": "stdout",
     "output_type": "stream",
     "text": [
      "Uploading: frames/intros_mp4_frame02:49.jpg...\n"
     ]
    },
    {
     "name": "stderr",
     "output_type": "stream",
     "text": [
      " 60%|█████▉    | 170/285 [03:12<02:06,  1.10s/it]"
     ]
    },
    {
     "name": "stdout",
     "output_type": "stream",
     "text": [
      "Uploading: frames/intros_mp4_frame02:50.jpg...\n"
     ]
    },
    {
     "name": "stderr",
     "output_type": "stream",
     "text": [
      " 60%|██████    | 171/285 [03:13<02:07,  1.12s/it]"
     ]
    },
    {
     "name": "stdout",
     "output_type": "stream",
     "text": [
      "Uploading: frames/intros_mp4_frame02:51.jpg...\n"
     ]
    },
    {
     "name": "stderr",
     "output_type": "stream",
     "text": [
      " 60%|██████    | 172/285 [03:15<02:09,  1.15s/it]"
     ]
    },
    {
     "name": "stdout",
     "output_type": "stream",
     "text": [
      "Uploading: frames/intros_mp4_frame02:52.jpg...\n"
     ]
    },
    {
     "name": "stderr",
     "output_type": "stream",
     "text": [
      " 61%|██████    | 173/285 [03:16<02:07,  1.14s/it]"
     ]
    },
    {
     "name": "stdout",
     "output_type": "stream",
     "text": [
      "Uploading: frames/intros_mp4_frame02:53.jpg...\n"
     ]
    },
    {
     "name": "stderr",
     "output_type": "stream",
     "text": [
      " 61%|██████    | 174/285 [03:17<02:05,  1.13s/it]"
     ]
    },
    {
     "name": "stdout",
     "output_type": "stream",
     "text": [
      "Uploading: frames/intros_mp4_frame02:54.jpg...\n"
     ]
    },
    {
     "name": "stderr",
     "output_type": "stream",
     "text": [
      " 61%|██████▏   | 175/285 [03:18<02:04,  1.13s/it]"
     ]
    },
    {
     "name": "stdout",
     "output_type": "stream",
     "text": [
      "Uploading: frames/intros_mp4_frame02:55.jpg...\n"
     ]
    },
    {
     "name": "stderr",
     "output_type": "stream",
     "text": [
      " 62%|██████▏   | 176/285 [03:19<02:02,  1.13s/it]"
     ]
    },
    {
     "name": "stdout",
     "output_type": "stream",
     "text": [
      "Uploading: frames/intros_mp4_frame02:56.jpg...\n"
     ]
    },
    {
     "name": "stderr",
     "output_type": "stream",
     "text": [
      " 62%|██████▏   | 177/285 [03:20<02:05,  1.16s/it]"
     ]
    },
    {
     "name": "stdout",
     "output_type": "stream",
     "text": [
      "Uploading: frames/intros_mp4_frame02:57.jpg...\n"
     ]
    },
    {
     "name": "stderr",
     "output_type": "stream",
     "text": [
      " 62%|██████▏   | 178/285 [03:21<02:06,  1.18s/it]"
     ]
    },
    {
     "name": "stdout",
     "output_type": "stream",
     "text": [
      "Uploading: frames/intros_mp4_frame02:58.jpg...\n"
     ]
    },
    {
     "name": "stderr",
     "output_type": "stream",
     "text": [
      " 63%|██████▎   | 179/285 [03:23<02:02,  1.16s/it]"
     ]
    },
    {
     "name": "stdout",
     "output_type": "stream",
     "text": [
      "Uploading: frames/intros_mp4_frame02:59.jpg...\n"
     ]
    },
    {
     "name": "stderr",
     "output_type": "stream",
     "text": [
      " 63%|██████▎   | 180/285 [03:24<01:58,  1.13s/it]"
     ]
    },
    {
     "name": "stdout",
     "output_type": "stream",
     "text": [
      "Uploading: frames/intros_mp4_frame03:00.jpg...\n"
     ]
    },
    {
     "name": "stderr",
     "output_type": "stream",
     "text": [
      " 64%|██████▎   | 181/285 [03:25<01:57,  1.13s/it]"
     ]
    },
    {
     "name": "stdout",
     "output_type": "stream",
     "text": [
      "Uploading: frames/intros_mp4_frame03:01.jpg...\n"
     ]
    },
    {
     "name": "stderr",
     "output_type": "stream",
     "text": [
      " 64%|██████▍   | 182/285 [03:26<01:59,  1.16s/it]"
     ]
    },
    {
     "name": "stdout",
     "output_type": "stream",
     "text": [
      "Uploading: frames/intros_mp4_frame03:02.jpg...\n"
     ]
    },
    {
     "name": "stderr",
     "output_type": "stream",
     "text": [
      " 64%|██████▍   | 183/285 [03:27<01:57,  1.15s/it]"
     ]
    },
    {
     "name": "stdout",
     "output_type": "stream",
     "text": [
      "Uploading: frames/intros_mp4_frame03:03.jpg...\n"
     ]
    },
    {
     "name": "stderr",
     "output_type": "stream",
     "text": [
      " 65%|██████▍   | 184/285 [03:28<01:57,  1.16s/it]"
     ]
    },
    {
     "name": "stdout",
     "output_type": "stream",
     "text": [
      "Uploading: frames/intros_mp4_frame03:04.jpg...\n"
     ]
    },
    {
     "name": "stderr",
     "output_type": "stream",
     "text": [
      " 65%|██████▍   | 185/285 [03:29<01:52,  1.13s/it]"
     ]
    },
    {
     "name": "stdout",
     "output_type": "stream",
     "text": [
      "Uploading: frames/intros_mp4_frame03:05.jpg...\n"
     ]
    },
    {
     "name": "stderr",
     "output_type": "stream",
     "text": [
      " 65%|██████▌   | 186/285 [03:30<01:51,  1.13s/it]"
     ]
    },
    {
     "name": "stdout",
     "output_type": "stream",
     "text": [
      "Uploading: frames/intros_mp4_frame03:06.jpg...\n"
     ]
    },
    {
     "name": "stderr",
     "output_type": "stream",
     "text": [
      " 66%|██████▌   | 187/285 [03:32<01:57,  1.19s/it]"
     ]
    },
    {
     "name": "stdout",
     "output_type": "stream",
     "text": [
      "Uploading: frames/intros_mp4_frame03:07.jpg...\n"
     ]
    },
    {
     "name": "stderr",
     "output_type": "stream",
     "text": [
      " 66%|██████▌   | 188/285 [03:33<01:53,  1.17s/it]"
     ]
    },
    {
     "name": "stdout",
     "output_type": "stream",
     "text": [
      "Uploading: frames/intros_mp4_frame03:08.jpg...\n"
     ]
    },
    {
     "name": "stderr",
     "output_type": "stream",
     "text": [
      " 66%|██████▋   | 189/285 [03:34<02:00,  1.25s/it]"
     ]
    },
    {
     "name": "stdout",
     "output_type": "stream",
     "text": [
      "Uploading: frames/intros_mp4_frame03:09.jpg...\n"
     ]
    },
    {
     "name": "stderr",
     "output_type": "stream",
     "text": [
      " 67%|██████▋   | 190/285 [03:35<01:54,  1.20s/it]"
     ]
    },
    {
     "name": "stdout",
     "output_type": "stream",
     "text": [
      "Uploading: frames/intros_mp4_frame03:10.jpg...\n"
     ]
    },
    {
     "name": "stderr",
     "output_type": "stream",
     "text": [
      " 67%|██████▋   | 191/285 [03:37<01:50,  1.18s/it]"
     ]
    },
    {
     "name": "stdout",
     "output_type": "stream",
     "text": [
      "Uploading: frames/intros_mp4_frame03:11.jpg...\n"
     ]
    },
    {
     "name": "stderr",
     "output_type": "stream",
     "text": [
      " 67%|██████▋   | 192/285 [03:38<01:48,  1.17s/it]"
     ]
    },
    {
     "name": "stdout",
     "output_type": "stream",
     "text": [
      "Uploading: frames/intros_mp4_frame03:12.jpg...\n"
     ]
    },
    {
     "name": "stderr",
     "output_type": "stream",
     "text": [
      " 68%|██████▊   | 193/285 [03:39<01:46,  1.16s/it]"
     ]
    },
    {
     "name": "stdout",
     "output_type": "stream",
     "text": [
      "Uploading: frames/intros_mp4_frame03:13.jpg...\n"
     ]
    },
    {
     "name": "stderr",
     "output_type": "stream",
     "text": [
      " 68%|██████▊   | 194/285 [03:40<01:42,  1.13s/it]"
     ]
    },
    {
     "name": "stdout",
     "output_type": "stream",
     "text": [
      "Uploading: frames/intros_mp4_frame03:14.jpg...\n"
     ]
    },
    {
     "name": "stderr",
     "output_type": "stream",
     "text": [
      " 68%|██████▊   | 195/285 [03:41<01:42,  1.14s/it]"
     ]
    },
    {
     "name": "stdout",
     "output_type": "stream",
     "text": [
      "Uploading: frames/intros_mp4_frame03:15.jpg...\n"
     ]
    },
    {
     "name": "stderr",
     "output_type": "stream",
     "text": [
      " 69%|██████▉   | 196/285 [03:42<01:42,  1.15s/it]"
     ]
    },
    {
     "name": "stdout",
     "output_type": "stream",
     "text": [
      "Uploading: frames/intros_mp4_frame03:16.jpg...\n"
     ]
    },
    {
     "name": "stderr",
     "output_type": "stream",
     "text": [
      " 69%|██████▉   | 197/285 [03:43<01:40,  1.14s/it]"
     ]
    },
    {
     "name": "stdout",
     "output_type": "stream",
     "text": [
      "Uploading: frames/intros_mp4_frame03:17.jpg...\n"
     ]
    },
    {
     "name": "stderr",
     "output_type": "stream",
     "text": [
      " 69%|██████▉   | 198/285 [03:45<01:38,  1.13s/it]"
     ]
    },
    {
     "name": "stdout",
     "output_type": "stream",
     "text": [
      "Uploading: frames/intros_mp4_frame03:18.jpg...\n"
     ]
    },
    {
     "name": "stderr",
     "output_type": "stream",
     "text": [
      " 70%|██████▉   | 199/285 [03:46<01:42,  1.19s/it]"
     ]
    },
    {
     "name": "stdout",
     "output_type": "stream",
     "text": [
      "Uploading: frames/intros_mp4_frame03:19.jpg...\n"
     ]
    },
    {
     "name": "stderr",
     "output_type": "stream",
     "text": [
      " 70%|███████   | 200/285 [03:48<01:56,  1.37s/it]"
     ]
    },
    {
     "name": "stdout",
     "output_type": "stream",
     "text": [
      "Uploading: frames/intros_mp4_frame03:20.jpg...\n"
     ]
    },
    {
     "name": "stderr",
     "output_type": "stream",
     "text": [
      " 71%|███████   | 201/285 [03:49<01:50,  1.32s/it]"
     ]
    },
    {
     "name": "stdout",
     "output_type": "stream",
     "text": [
      "Uploading: frames/intros_mp4_frame03:21.jpg...\n"
     ]
    },
    {
     "name": "stderr",
     "output_type": "stream",
     "text": [
      " 71%|███████   | 202/285 [03:50<01:48,  1.31s/it]"
     ]
    },
    {
     "name": "stdout",
     "output_type": "stream",
     "text": [
      "Uploading: frames/intros_mp4_frame03:22.jpg...\n"
     ]
    },
    {
     "name": "stderr",
     "output_type": "stream",
     "text": [
      " 71%|███████   | 203/285 [03:51<01:42,  1.25s/it]"
     ]
    },
    {
     "name": "stdout",
     "output_type": "stream",
     "text": [
      "Uploading: frames/intros_mp4_frame03:23.jpg...\n"
     ]
    },
    {
     "name": "stderr",
     "output_type": "stream",
     "text": [
      " 72%|███████▏  | 204/285 [03:53<01:42,  1.26s/it]"
     ]
    },
    {
     "name": "stdout",
     "output_type": "stream",
     "text": [
      "Uploading: frames/intros_mp4_frame03:24.jpg...\n"
     ]
    },
    {
     "name": "stderr",
     "output_type": "stream",
     "text": [
      " 72%|███████▏  | 205/285 [03:54<01:41,  1.27s/it]"
     ]
    },
    {
     "name": "stdout",
     "output_type": "stream",
     "text": [
      "Uploading: frames/intros_mp4_frame03:25.jpg...\n"
     ]
    },
    {
     "name": "stderr",
     "output_type": "stream",
     "text": [
      " 72%|███████▏  | 206/285 [03:55<01:40,  1.27s/it]"
     ]
    },
    {
     "name": "stdout",
     "output_type": "stream",
     "text": [
      "Uploading: frames/intros_mp4_frame03:26.jpg...\n"
     ]
    },
    {
     "name": "stderr",
     "output_type": "stream",
     "text": [
      " 73%|███████▎  | 207/285 [03:56<01:35,  1.22s/it]"
     ]
    },
    {
     "name": "stdout",
     "output_type": "stream",
     "text": [
      "Uploading: frames/intros_mp4_frame03:27.jpg...\n"
     ]
    },
    {
     "name": "stderr",
     "output_type": "stream",
     "text": [
      " 73%|███████▎  | 208/285 [03:58<01:37,  1.27s/it]"
     ]
    },
    {
     "name": "stdout",
     "output_type": "stream",
     "text": [
      "Uploading: frames/intros_mp4_frame03:28.jpg...\n"
     ]
    },
    {
     "name": "stderr",
     "output_type": "stream",
     "text": [
      " 73%|███████▎  | 209/285 [03:59<01:36,  1.27s/it]"
     ]
    },
    {
     "name": "stdout",
     "output_type": "stream",
     "text": [
      "Uploading: frames/intros_mp4_frame03:29.jpg...\n"
     ]
    },
    {
     "name": "stderr",
     "output_type": "stream",
     "text": [
      " 74%|███████▎  | 210/285 [04:00<01:29,  1.20s/it]"
     ]
    },
    {
     "name": "stdout",
     "output_type": "stream",
     "text": [
      "Uploading: frames/intros_mp4_frame03:30.jpg...\n"
     ]
    },
    {
     "name": "stderr",
     "output_type": "stream",
     "text": [
      " 74%|███████▍  | 211/285 [04:01<01:30,  1.22s/it]"
     ]
    },
    {
     "name": "stdout",
     "output_type": "stream",
     "text": [
      "Uploading: frames/intros_mp4_frame03:31.jpg...\n"
     ]
    },
    {
     "name": "stderr",
     "output_type": "stream",
     "text": [
      " 74%|███████▍  | 212/285 [04:02<01:28,  1.21s/it]"
     ]
    },
    {
     "name": "stdout",
     "output_type": "stream",
     "text": [
      "Uploading: frames/intros_mp4_frame03:32.jpg...\n"
     ]
    },
    {
     "name": "stderr",
     "output_type": "stream",
     "text": [
      " 75%|███████▍  | 213/285 [04:04<01:31,  1.27s/it]"
     ]
    },
    {
     "name": "stdout",
     "output_type": "stream",
     "text": [
      "Uploading: frames/intros_mp4_frame03:33.jpg...\n"
     ]
    },
    {
     "name": "stderr",
     "output_type": "stream",
     "text": [
      " 75%|███████▌  | 214/285 [04:05<01:27,  1.23s/it]"
     ]
    },
    {
     "name": "stdout",
     "output_type": "stream",
     "text": [
      "Uploading: frames/intros_mp4_frame03:34.jpg...\n"
     ]
    },
    {
     "name": "stderr",
     "output_type": "stream",
     "text": [
      " 75%|███████▌  | 215/285 [04:06<01:26,  1.24s/it]"
     ]
    },
    {
     "name": "stdout",
     "output_type": "stream",
     "text": [
      "Uploading: frames/intros_mp4_frame03:35.jpg...\n"
     ]
    },
    {
     "name": "stderr",
     "output_type": "stream",
     "text": [
      " 76%|███████▌  | 216/285 [04:07<01:22,  1.19s/it]"
     ]
    },
    {
     "name": "stdout",
     "output_type": "stream",
     "text": [
      "Uploading: frames/intros_mp4_frame03:36.jpg...\n"
     ]
    },
    {
     "name": "stderr",
     "output_type": "stream",
     "text": [
      " 76%|███████▌  | 217/285 [04:08<01:22,  1.21s/it]"
     ]
    },
    {
     "name": "stdout",
     "output_type": "stream",
     "text": [
      "Uploading: frames/intros_mp4_frame03:37.jpg...\n"
     ]
    },
    {
     "name": "stderr",
     "output_type": "stream",
     "text": [
      " 76%|███████▋  | 218/285 [04:10<01:19,  1.19s/it]"
     ]
    },
    {
     "name": "stdout",
     "output_type": "stream",
     "text": [
      "Uploading: frames/intros_mp4_frame03:38.jpg...\n"
     ]
    },
    {
     "name": "stderr",
     "output_type": "stream",
     "text": [
      " 77%|███████▋  | 219/285 [04:11<01:17,  1.17s/it]"
     ]
    },
    {
     "name": "stdout",
     "output_type": "stream",
     "text": [
      "Uploading: frames/intros_mp4_frame03:39.jpg...\n"
     ]
    },
    {
     "name": "stderr",
     "output_type": "stream",
     "text": [
      " 77%|███████▋  | 220/285 [04:12<01:23,  1.29s/it]"
     ]
    },
    {
     "name": "stdout",
     "output_type": "stream",
     "text": [
      "Uploading: frames/intros_mp4_frame03:40.jpg...\n"
     ]
    },
    {
     "name": "stderr",
     "output_type": "stream",
     "text": [
      " 78%|███████▊  | 221/285 [04:14<01:20,  1.26s/it]"
     ]
    },
    {
     "name": "stdout",
     "output_type": "stream",
     "text": [
      "Uploading: frames/intros_mp4_frame03:41.jpg...\n"
     ]
    },
    {
     "name": "stderr",
     "output_type": "stream",
     "text": [
      " 78%|███████▊  | 222/285 [04:15<01:22,  1.31s/it]"
     ]
    },
    {
     "name": "stdout",
     "output_type": "stream",
     "text": [
      "Uploading: frames/intros_mp4_frame03:42.jpg...\n"
     ]
    },
    {
     "name": "stderr",
     "output_type": "stream",
     "text": [
      " 78%|███████▊  | 223/285 [04:16<01:25,  1.38s/it]"
     ]
    },
    {
     "name": "stdout",
     "output_type": "stream",
     "text": [
      "Uploading: frames/intros_mp4_frame03:43.jpg...\n"
     ]
    },
    {
     "name": "stderr",
     "output_type": "stream",
     "text": [
      " 79%|███████▊  | 224/285 [04:18<01:25,  1.39s/it]"
     ]
    },
    {
     "name": "stdout",
     "output_type": "stream",
     "text": [
      "Uploading: frames/intros_mp4_frame03:44.jpg...\n"
     ]
    },
    {
     "name": "stderr",
     "output_type": "stream",
     "text": [
      " 79%|███████▉  | 225/285 [04:19<01:21,  1.35s/it]"
     ]
    },
    {
     "name": "stdout",
     "output_type": "stream",
     "text": [
      "Uploading: frames/intros_mp4_frame03:45.jpg...\n"
     ]
    },
    {
     "name": "stderr",
     "output_type": "stream",
     "text": [
      " 79%|███████▉  | 226/285 [04:20<01:16,  1.29s/it]"
     ]
    },
    {
     "name": "stdout",
     "output_type": "stream",
     "text": [
      "Uploading: frames/intros_mp4_frame03:46.jpg...\n"
     ]
    },
    {
     "name": "stderr",
     "output_type": "stream",
     "text": [
      " 80%|███████▉  | 227/285 [04:22<01:14,  1.28s/it]"
     ]
    },
    {
     "name": "stdout",
     "output_type": "stream",
     "text": [
      "Uploading: frames/intros_mp4_frame03:47.jpg...\n"
     ]
    },
    {
     "name": "stderr",
     "output_type": "stream",
     "text": [
      " 80%|████████  | 228/285 [04:23<01:10,  1.24s/it]"
     ]
    },
    {
     "name": "stdout",
     "output_type": "stream",
     "text": [
      "Uploading: frames/intros_mp4_frame03:48.jpg...\n"
     ]
    },
    {
     "name": "stderr",
     "output_type": "stream",
     "text": [
      " 80%|████████  | 229/285 [04:24<01:06,  1.18s/it]"
     ]
    },
    {
     "name": "stdout",
     "output_type": "stream",
     "text": [
      "Uploading: frames/intros_mp4_frame03:49.jpg...\n"
     ]
    },
    {
     "name": "stderr",
     "output_type": "stream",
     "text": [
      " 81%|████████  | 230/285 [04:25<01:05,  1.19s/it]"
     ]
    },
    {
     "name": "stdout",
     "output_type": "stream",
     "text": [
      "Uploading: frames/intros_mp4_frame03:50.jpg...\n"
     ]
    },
    {
     "name": "stderr",
     "output_type": "stream",
     "text": [
      " 81%|████████  | 231/285 [04:26<01:04,  1.20s/it]"
     ]
    },
    {
     "name": "stdout",
     "output_type": "stream",
     "text": [
      "Uploading: frames/intros_mp4_frame03:51.jpg...\n"
     ]
    },
    {
     "name": "stderr",
     "output_type": "stream",
     "text": [
      " 81%|████████▏ | 232/285 [04:28<01:09,  1.30s/it]"
     ]
    },
    {
     "name": "stdout",
     "output_type": "stream",
     "text": [
      "Uploading: frames/intros_mp4_frame03:52.jpg...\n"
     ]
    },
    {
     "name": "stderr",
     "output_type": "stream",
     "text": [
      " 82%|████████▏ | 233/285 [04:29<01:06,  1.28s/it]"
     ]
    },
    {
     "name": "stdout",
     "output_type": "stream",
     "text": [
      "Uploading: frames/intros_mp4_frame03:53.jpg...\n"
     ]
    },
    {
     "name": "stderr",
     "output_type": "stream",
     "text": [
      " 82%|████████▏ | 234/285 [04:30<01:05,  1.29s/it]"
     ]
    },
    {
     "name": "stdout",
     "output_type": "stream",
     "text": [
      "Uploading: frames/intros_mp4_frame03:54.jpg...\n"
     ]
    },
    {
     "name": "stderr",
     "output_type": "stream",
     "text": [
      " 82%|████████▏ | 235/285 [04:32<01:05,  1.31s/it]"
     ]
    },
    {
     "name": "stdout",
     "output_type": "stream",
     "text": [
      "Uploading: frames/intros_mp4_frame03:55.jpg...\n"
     ]
    },
    {
     "name": "stderr",
     "output_type": "stream",
     "text": [
      " 83%|████████▎ | 236/285 [04:33<01:01,  1.26s/it]"
     ]
    },
    {
     "name": "stdout",
     "output_type": "stream",
     "text": [
      "Uploading: frames/intros_mp4_frame03:56.jpg...\n"
     ]
    },
    {
     "name": "stderr",
     "output_type": "stream",
     "text": [
      " 83%|████████▎ | 237/285 [04:34<00:58,  1.21s/it]"
     ]
    },
    {
     "name": "stdout",
     "output_type": "stream",
     "text": [
      "Uploading: frames/intros_mp4_frame03:57.jpg...\n"
     ]
    },
    {
     "name": "stderr",
     "output_type": "stream",
     "text": [
      " 84%|████████▎ | 238/285 [04:35<00:57,  1.22s/it]"
     ]
    },
    {
     "name": "stdout",
     "output_type": "stream",
     "text": [
      "Uploading: frames/intros_mp4_frame03:58.jpg...\n"
     ]
    },
    {
     "name": "stderr",
     "output_type": "stream",
     "text": [
      " 84%|████████▍ | 239/285 [04:36<00:56,  1.22s/it]"
     ]
    },
    {
     "name": "stdout",
     "output_type": "stream",
     "text": [
      "Uploading: frames/intros_mp4_frame03:59.jpg...\n"
     ]
    },
    {
     "name": "stderr",
     "output_type": "stream",
     "text": [
      " 84%|████████▍ | 240/285 [04:37<00:53,  1.19s/it]"
     ]
    },
    {
     "name": "stdout",
     "output_type": "stream",
     "text": [
      "Uploading: frames/intros_mp4_frame04:00.jpg...\n"
     ]
    },
    {
     "name": "stderr",
     "output_type": "stream",
     "text": [
      " 85%|████████▍ | 241/285 [04:39<00:52,  1.20s/it]"
     ]
    },
    {
     "name": "stdout",
     "output_type": "stream",
     "text": [
      "Uploading: frames/intros_mp4_frame04:01.jpg...\n"
     ]
    },
    {
     "name": "stderr",
     "output_type": "stream",
     "text": [
      " 85%|████████▍ | 242/285 [04:40<00:50,  1.18s/it]"
     ]
    },
    {
     "name": "stdout",
     "output_type": "stream",
     "text": [
      "Uploading: frames/intros_mp4_frame04:02.jpg...\n"
     ]
    },
    {
     "name": "stderr",
     "output_type": "stream",
     "text": [
      " 85%|████████▌ | 243/285 [04:41<00:49,  1.17s/it]"
     ]
    },
    {
     "name": "stdout",
     "output_type": "stream",
     "text": [
      "Uploading: frames/intros_mp4_frame04:03.jpg...\n"
     ]
    },
    {
     "name": "stderr",
     "output_type": "stream",
     "text": [
      " 86%|████████▌ | 244/285 [04:42<00:47,  1.16s/it]"
     ]
    },
    {
     "name": "stdout",
     "output_type": "stream",
     "text": [
      "Uploading: frames/intros_mp4_frame04:04.jpg...\n"
     ]
    },
    {
     "name": "stderr",
     "output_type": "stream",
     "text": [
      " 86%|████████▌ | 245/285 [04:44<00:50,  1.26s/it]"
     ]
    },
    {
     "name": "stdout",
     "output_type": "stream",
     "text": [
      "Uploading: frames/intros_mp4_frame04:05.jpg...\n"
     ]
    },
    {
     "name": "stderr",
     "output_type": "stream",
     "text": [
      " 86%|████████▋ | 246/285 [04:45<00:47,  1.21s/it]"
     ]
    },
    {
     "name": "stdout",
     "output_type": "stream",
     "text": [
      "Uploading: frames/intros_mp4_frame04:06.jpg...\n"
     ]
    },
    {
     "name": "stderr",
     "output_type": "stream",
     "text": [
      " 87%|████████▋ | 247/285 [04:46<00:45,  1.21s/it]"
     ]
    },
    {
     "name": "stdout",
     "output_type": "stream",
     "text": [
      "Uploading: frames/intros_mp4_frame04:07.jpg...\n"
     ]
    },
    {
     "name": "stderr",
     "output_type": "stream",
     "text": [
      " 87%|████████▋ | 248/285 [04:47<00:43,  1.17s/it]"
     ]
    },
    {
     "name": "stdout",
     "output_type": "stream",
     "text": [
      "Uploading: frames/intros_mp4_frame04:08.jpg...\n"
     ]
    },
    {
     "name": "stderr",
     "output_type": "stream",
     "text": [
      " 87%|████████▋ | 249/285 [04:48<00:41,  1.16s/it]"
     ]
    },
    {
     "name": "stdout",
     "output_type": "stream",
     "text": [
      "Uploading: frames/intros_mp4_frame04:09.jpg...\n"
     ]
    },
    {
     "name": "stderr",
     "output_type": "stream",
     "text": [
      " 88%|████████▊ | 250/285 [04:49<00:41,  1.18s/it]"
     ]
    },
    {
     "name": "stdout",
     "output_type": "stream",
     "text": [
      "Uploading: frames/intros_mp4_frame04:10.jpg...\n"
     ]
    },
    {
     "name": "stderr",
     "output_type": "stream",
     "text": [
      " 88%|████████▊ | 251/285 [04:50<00:39,  1.17s/it]"
     ]
    },
    {
     "name": "stdout",
     "output_type": "stream",
     "text": [
      "Uploading: frames/intros_mp4_frame04:11.jpg...\n"
     ]
    },
    {
     "name": "stderr",
     "output_type": "stream",
     "text": [
      " 88%|████████▊ | 252/285 [04:52<00:38,  1.17s/it]"
     ]
    },
    {
     "name": "stdout",
     "output_type": "stream",
     "text": [
      "Uploading: frames/intros_mp4_frame04:12.jpg...\n"
     ]
    },
    {
     "name": "stderr",
     "output_type": "stream",
     "text": [
      " 89%|████████▉ | 253/285 [04:53<00:37,  1.17s/it]"
     ]
    },
    {
     "name": "stdout",
     "output_type": "stream",
     "text": [
      "Uploading: frames/intros_mp4_frame04:13.jpg...\n"
     ]
    },
    {
     "name": "stderr",
     "output_type": "stream",
     "text": [
      " 89%|████████▉ | 254/285 [04:54<00:35,  1.15s/it]"
     ]
    },
    {
     "name": "stdout",
     "output_type": "stream",
     "text": [
      "Uploading: frames/intros_mp4_frame04:14.jpg...\n"
     ]
    },
    {
     "name": "stderr",
     "output_type": "stream",
     "text": [
      " 89%|████████▉ | 255/285 [04:55<00:35,  1.18s/it]"
     ]
    },
    {
     "name": "stdout",
     "output_type": "stream",
     "text": [
      "Uploading: frames/intros_mp4_frame04:15.jpg...\n"
     ]
    },
    {
     "name": "stderr",
     "output_type": "stream",
     "text": [
      " 90%|████████▉ | 256/285 [04:56<00:33,  1.16s/it]"
     ]
    },
    {
     "name": "stdout",
     "output_type": "stream",
     "text": [
      "Uploading: frames/intros_mp4_frame04:16.jpg...\n"
     ]
    },
    {
     "name": "stderr",
     "output_type": "stream",
     "text": [
      " 90%|█████████ | 257/285 [04:57<00:31,  1.14s/it]"
     ]
    },
    {
     "name": "stdout",
     "output_type": "stream",
     "text": [
      "Uploading: frames/intros_mp4_frame04:17.jpg...\n"
     ]
    },
    {
     "name": "stderr",
     "output_type": "stream",
     "text": [
      " 91%|█████████ | 258/285 [04:59<00:30,  1.15s/it]"
     ]
    },
    {
     "name": "stdout",
     "output_type": "stream",
     "text": [
      "Uploading: frames/intros_mp4_frame04:18.jpg...\n"
     ]
    },
    {
     "name": "stderr",
     "output_type": "stream",
     "text": [
      " 91%|█████████ | 259/285 [05:00<00:29,  1.14s/it]"
     ]
    },
    {
     "name": "stdout",
     "output_type": "stream",
     "text": [
      "Uploading: frames/intros_mp4_frame04:19.jpg...\n"
     ]
    },
    {
     "name": "stderr",
     "output_type": "stream",
     "text": [
      " 91%|█████████ | 260/285 [05:01<00:29,  1.16s/it]"
     ]
    },
    {
     "name": "stdout",
     "output_type": "stream",
     "text": [
      "Uploading: frames/intros_mp4_frame04:20.jpg...\n"
     ]
    },
    {
     "name": "stderr",
     "output_type": "stream",
     "text": [
      " 92%|█████████▏| 261/285 [05:02<00:27,  1.13s/it]"
     ]
    },
    {
     "name": "stdout",
     "output_type": "stream",
     "text": [
      "Uploading: frames/intros_mp4_frame04:21.jpg...\n"
     ]
    },
    {
     "name": "stderr",
     "output_type": "stream",
     "text": [
      " 92%|█████████▏| 262/285 [05:03<00:25,  1.13s/it]"
     ]
    },
    {
     "name": "stdout",
     "output_type": "stream",
     "text": [
      "Uploading: frames/intros_mp4_frame04:22.jpg...\n"
     ]
    },
    {
     "name": "stderr",
     "output_type": "stream",
     "text": [
      " 92%|█████████▏| 263/285 [05:04<00:24,  1.12s/it]"
     ]
    },
    {
     "name": "stdout",
     "output_type": "stream",
     "text": [
      "Uploading: frames/intros_mp4_frame04:23.jpg...\n"
     ]
    },
    {
     "name": "stderr",
     "output_type": "stream",
     "text": [
      " 93%|█████████▎| 264/285 [05:05<00:23,  1.13s/it]"
     ]
    },
    {
     "name": "stdout",
     "output_type": "stream",
     "text": [
      "Uploading: frames/intros_mp4_frame04:24.jpg...\n"
     ]
    },
    {
     "name": "stderr",
     "output_type": "stream",
     "text": [
      " 93%|█████████▎| 265/285 [05:07<00:23,  1.16s/it]"
     ]
    },
    {
     "name": "stdout",
     "output_type": "stream",
     "text": [
      "Uploading: frames/intros_mp4_frame04:25.jpg...\n"
     ]
    },
    {
     "name": "stderr",
     "output_type": "stream",
     "text": [
      " 93%|█████████▎| 266/285 [05:08<00:22,  1.16s/it]"
     ]
    },
    {
     "name": "stdout",
     "output_type": "stream",
     "text": [
      "Uploading: frames/intros_mp4_frame04:26.jpg...\n"
     ]
    },
    {
     "name": "stderr",
     "output_type": "stream",
     "text": [
      " 94%|█████████▎| 267/285 [05:09<00:20,  1.14s/it]"
     ]
    },
    {
     "name": "stdout",
     "output_type": "stream",
     "text": [
      "Uploading: frames/intros_mp4_frame04:27.jpg...\n"
     ]
    },
    {
     "name": "stderr",
     "output_type": "stream",
     "text": [
      " 94%|█████████▍| 268/285 [05:10<00:19,  1.13s/it]"
     ]
    },
    {
     "name": "stdout",
     "output_type": "stream",
     "text": [
      "Uploading: frames/intros_mp4_frame04:28.jpg...\n"
     ]
    },
    {
     "name": "stderr",
     "output_type": "stream",
     "text": [
      " 94%|█████████▍| 269/285 [05:11<00:18,  1.16s/it]"
     ]
    },
    {
     "name": "stdout",
     "output_type": "stream",
     "text": [
      "Uploading: frames/intros_mp4_frame04:29.jpg...\n"
     ]
    },
    {
     "name": "stderr",
     "output_type": "stream",
     "text": [
      " 95%|█████████▍| 270/285 [05:12<00:18,  1.21s/it]"
     ]
    },
    {
     "name": "stdout",
     "output_type": "stream",
     "text": [
      "Uploading: frames/intros_mp4_frame04:30.jpg...\n"
     ]
    },
    {
     "name": "stderr",
     "output_type": "stream",
     "text": [
      " 95%|█████████▌| 271/285 [05:14<00:16,  1.19s/it]"
     ]
    },
    {
     "name": "stdout",
     "output_type": "stream",
     "text": [
      "Uploading: frames/intros_mp4_frame04:31.jpg...\n"
     ]
    },
    {
     "name": "stderr",
     "output_type": "stream",
     "text": [
      " 95%|█████████▌| 272/285 [05:15<00:15,  1.18s/it]"
     ]
    },
    {
     "name": "stdout",
     "output_type": "stream",
     "text": [
      "Uploading: frames/intros_mp4_frame04:32.jpg...\n"
     ]
    },
    {
     "name": "stderr",
     "output_type": "stream",
     "text": [
      " 96%|█████████▌| 273/285 [05:16<00:14,  1.18s/it]"
     ]
    },
    {
     "name": "stdout",
     "output_type": "stream",
     "text": [
      "Uploading: frames/intros_mp4_frame04:33.jpg...\n"
     ]
    },
    {
     "name": "stderr",
     "output_type": "stream",
     "text": [
      " 96%|█████████▌| 274/285 [05:17<00:12,  1.18s/it]"
     ]
    },
    {
     "name": "stdout",
     "output_type": "stream",
     "text": [
      "Uploading: frames/intros_mp4_frame04:34.jpg...\n"
     ]
    },
    {
     "name": "stderr",
     "output_type": "stream",
     "text": [
      " 96%|█████████▋| 275/285 [05:18<00:11,  1.19s/it]"
     ]
    },
    {
     "name": "stdout",
     "output_type": "stream",
     "text": [
      "Uploading: frames/intros_mp4_frame04:35.jpg...\n"
     ]
    },
    {
     "name": "stderr",
     "output_type": "stream",
     "text": [
      " 97%|█████████▋| 276/285 [05:20<00:10,  1.19s/it]"
     ]
    },
    {
     "name": "stdout",
     "output_type": "stream",
     "text": [
      "Uploading: frames/intros_mp4_frame04:36.jpg...\n"
     ]
    },
    {
     "name": "stderr",
     "output_type": "stream",
     "text": [
      " 97%|█████████▋| 277/285 [05:21<00:09,  1.16s/it]"
     ]
    },
    {
     "name": "stdout",
     "output_type": "stream",
     "text": [
      "Uploading: frames/intros_mp4_frame04:37.jpg...\n"
     ]
    },
    {
     "name": "stderr",
     "output_type": "stream",
     "text": [
      " 98%|█████████▊| 278/285 [05:22<00:08,  1.14s/it]"
     ]
    },
    {
     "name": "stdout",
     "output_type": "stream",
     "text": [
      "Uploading: frames/intros_mp4_frame04:38.jpg...\n"
     ]
    },
    {
     "name": "stderr",
     "output_type": "stream",
     "text": [
      " 98%|█████████▊| 279/285 [05:23<00:07,  1.19s/it]"
     ]
    },
    {
     "name": "stdout",
     "output_type": "stream",
     "text": [
      "Uploading: frames/intros_mp4_frame04:39.jpg...\n"
     ]
    },
    {
     "name": "stderr",
     "output_type": "stream",
     "text": [
      " 98%|█████████▊| 280/285 [05:24<00:05,  1.20s/it]"
     ]
    },
    {
     "name": "stdout",
     "output_type": "stream",
     "text": [
      "Uploading: frames/intros_mp4_frame04:40.jpg...\n"
     ]
    },
    {
     "name": "stderr",
     "output_type": "stream",
     "text": [
      " 99%|█████████▊| 281/285 [05:25<00:04,  1.17s/it]"
     ]
    },
    {
     "name": "stdout",
     "output_type": "stream",
     "text": [
      "Uploading: frames/intros_mp4_frame04:41.jpg...\n"
     ]
    },
    {
     "name": "stderr",
     "output_type": "stream",
     "text": [
      " 99%|█████████▉| 282/285 [05:26<00:03,  1.13s/it]"
     ]
    },
    {
     "name": "stdout",
     "output_type": "stream",
     "text": [
      "Uploading: frames/intros_mp4_frame04:42.jpg...\n"
     ]
    },
    {
     "name": "stderr",
     "output_type": "stream",
     "text": [
      " 99%|█████████▉| 283/285 [05:28<00:02,  1.16s/it]"
     ]
    },
    {
     "name": "stdout",
     "output_type": "stream",
     "text": [
      "Uploading: frames/intros_mp4_frame04:43.jpg...\n"
     ]
    },
    {
     "name": "stderr",
     "output_type": "stream",
     "text": [
      "100%|█████████▉| 284/285 [05:29<00:01,  1.18s/it]"
     ]
    },
    {
     "name": "stdout",
     "output_type": "stream",
     "text": [
      "Uploading: frames/intros_mp4_frame04:44.jpg...\n"
     ]
    },
    {
     "name": "stderr",
     "output_type": "stream",
     "text": [
      "100%|██████████| 285/285 [05:30<00:00,  1.16s/it]"
     ]
    },
    {
     "name": "stdout",
     "output_type": "stream",
     "text": [
      "Completed file uploads!\n",
      "\n",
      "Uploaded: 285 files\n"
     ]
    },
    {
     "name": "stderr",
     "output_type": "stream",
     "text": [
      "\n"
     ]
    }
   ],
   "source": [
    "class File:\n",
    "  def __init__(self, file_path: str, display_name: str = None):\n",
    "    self.file_path = file_path\n",
    "    if display_name:\n",
    "      self.display_name = display_name\n",
    "    self.timestamp = get_timestamp(file_path)\n",
    "\n",
    "  def set_file_response(self, response):\n",
    "    self.response = response\n",
    "\n",
    "def get_timestamp(filename):\n",
    "  \"\"\"Extracts the frame count (as an integer) from a filename with the format\n",
    "     'output_file_prefix_frame00:00.jpg'.\n",
    "  \"\"\"\n",
    "  parts = filename.split(FRAME_PREFIX)\n",
    "  if len(parts) != 2:\n",
    "      return None  # Indicates the filename might be incorrectly formatted\n",
    "  return parts[1].split('.')[0]\n",
    "\n",
    "# Process each frame in the output directory\n",
    "files = os.listdir(FRAME_EXTRACTION_DIRECTORY)\n",
    "files = sorted(files)\n",
    "files_to_upload = []\n",
    "for file in files:\n",
    "  if not file.endswith('.jpg'):\n",
    "    continue\n",
    "  files_to_upload.append(\n",
    "      File(file_path=os.path.join(FRAME_EXTRACTION_DIRECTORY, file)))\n",
    "\n",
    "# Upload the files to the API\n",
    "uploaded_files = []\n",
    "print(f'Uploading {len(files_to_upload)} files. This might take a bit...')\n",
    "\n",
    "for file in tqdm(files_to_upload):\n",
    "  print(f'Uploading: {file.file_path}...')\n",
    "  response = genai.upload_file(path=file.file_path)\n",
    "  file.set_file_response(response)\n",
    "  uploaded_files.append(file)\n",
    "\n",
    "print(f\"Completed file uploads!\\n\\nUploaded: {len(uploaded_files)} files\")\n",
    "     "
   ]
  },
  {
   "cell_type": "code",
   "execution_count": 31,
   "metadata": {},
   "outputs": [
    {
     "name": "stdout",
     "output_type": "stream",
     "text": [
      "https://generativelanguage.googleapis.com/v1beta/files/azdrk4nqp6h4\n",
      "https://generativelanguage.googleapis.com/v1beta/files/441sdko7004y\n",
      "https://generativelanguage.googleapis.com/v1beta/files/ww6t49xai1aq\n",
      "https://generativelanguage.googleapis.com/v1beta/files/kex2mt6fj95q\n",
      "https://generativelanguage.googleapis.com/v1beta/files/y6dqer0o1iu\n",
      "https://generativelanguage.googleapis.com/v1beta/files/nbl1mnisnh3x\n",
      "https://generativelanguage.googleapis.com/v1beta/files/ipks3dpdtbe0\n",
      "https://generativelanguage.googleapis.com/v1beta/files/yxbcndrk75gw\n",
      "https://generativelanguage.googleapis.com/v1beta/files/7lm7qjj8wuz7\n",
      "https://generativelanguage.googleapis.com/v1beta/files/l7b0ucuerzo6\n",
      "https://generativelanguage.googleapis.com/v1beta/files/26mv984nqckj\n",
      "https://generativelanguage.googleapis.com/v1beta/files/k9ja26v70gdh\n",
      "https://generativelanguage.googleapis.com/v1beta/files/9fj87gr7gepx\n",
      "https://generativelanguage.googleapis.com/v1beta/files/3hgvph1fzmdj\n",
      "https://generativelanguage.googleapis.com/v1beta/files/pco06r82ltk7\n",
      "https://generativelanguage.googleapis.com/v1beta/files/rh7v3jnit6nv\n",
      "https://generativelanguage.googleapis.com/v1beta/files/qlyepkegeqqv\n",
      "https://generativelanguage.googleapis.com/v1beta/files/azs7krptnj1x\n",
      "https://generativelanguage.googleapis.com/v1beta/files/fnm3padj23d0\n",
      "https://generativelanguage.googleapis.com/v1beta/files/j1e2k32qkgh\n",
      "https://generativelanguage.googleapis.com/v1beta/files/5bdoyw9xwwxy\n",
      "https://generativelanguage.googleapis.com/v1beta/files/3xzksksxhsig\n",
      "https://generativelanguage.googleapis.com/v1beta/files/vkwhl46vixad\n",
      "https://generativelanguage.googleapis.com/v1beta/files/m0bztd2djc7l\n",
      "https://generativelanguage.googleapis.com/v1beta/files/278gr39bmaaw\n",
      "https://generativelanguage.googleapis.com/v1beta/files/ky82ui68mnej\n",
      "https://generativelanguage.googleapis.com/v1beta/files/fwnzoubi24bm\n",
      "https://generativelanguage.googleapis.com/v1beta/files/yjk3ww7iui32\n",
      "https://generativelanguage.googleapis.com/v1beta/files/s5ric1gdgs2j\n",
      "https://generativelanguage.googleapis.com/v1beta/files/xq7gw5hq4oci\n",
      "https://generativelanguage.googleapis.com/v1beta/files/485lq9tqewos\n",
      "https://generativelanguage.googleapis.com/v1beta/files/is3qltmr4o30\n",
      "https://generativelanguage.googleapis.com/v1beta/files/z9aybin6mlxg\n",
      "https://generativelanguage.googleapis.com/v1beta/files/v84fex18yvzd\n",
      "https://generativelanguage.googleapis.com/v1beta/files/u6cjis86exus\n",
      "https://generativelanguage.googleapis.com/v1beta/files/2wmixl7tfnc7\n",
      "https://generativelanguage.googleapis.com/v1beta/files/ma8pyab1u2x8\n",
      "https://generativelanguage.googleapis.com/v1beta/files/243hofkc3pmu\n",
      "https://generativelanguage.googleapis.com/v1beta/files/jr1ihg3hffqt\n",
      "https://generativelanguage.googleapis.com/v1beta/files/nvn9ymg3m7o9\n",
      "https://generativelanguage.googleapis.com/v1beta/files/vpuk4g1flymi\n",
      "https://generativelanguage.googleapis.com/v1beta/files/phfmzzbu0akr\n",
      "https://generativelanguage.googleapis.com/v1beta/files/gzh8itkby4v3\n",
      "https://generativelanguage.googleapis.com/v1beta/files/n36lpys7q6qo\n",
      "https://generativelanguage.googleapis.com/v1beta/files/mair8nw1fv5k\n",
      "https://generativelanguage.googleapis.com/v1beta/files/i3mn4as708w9\n",
      "https://generativelanguage.googleapis.com/v1beta/files/np099frq0pi7\n",
      "https://generativelanguage.googleapis.com/v1beta/files/msbgtk8stnn4\n",
      "https://generativelanguage.googleapis.com/v1beta/files/ygkpwjml5z4v\n",
      "https://generativelanguage.googleapis.com/v1beta/files/5bvsu3ohu3ba\n",
      "https://generativelanguage.googleapis.com/v1beta/files/mxj5a0mv4uyr\n",
      "https://generativelanguage.googleapis.com/v1beta/files/g7tgkbnyynhu\n",
      "https://generativelanguage.googleapis.com/v1beta/files/w88269a9qaae\n",
      "https://generativelanguage.googleapis.com/v1beta/files/h2nabuajc0qq\n",
      "https://generativelanguage.googleapis.com/v1beta/files/ziodxi8n084k\n",
      "https://generativelanguage.googleapis.com/v1beta/files/yepy3thmy73x\n",
      "https://generativelanguage.googleapis.com/v1beta/files/z16ldiifg2zg\n",
      "https://generativelanguage.googleapis.com/v1beta/files/q3dfqugridta\n",
      "https://generativelanguage.googleapis.com/v1beta/files/rauk8x3u6ifa\n",
      "https://generativelanguage.googleapis.com/v1beta/files/l1iu79qrsiud\n",
      "https://generativelanguage.googleapis.com/v1beta/files/x6grecgvq3bv\n",
      "https://generativelanguage.googleapis.com/v1beta/files/mxsj7p103ygs\n",
      "https://generativelanguage.googleapis.com/v1beta/files/5qyebbea7n0a\n",
      "https://generativelanguage.googleapis.com/v1beta/files/qxe0vo48i58u\n",
      "https://generativelanguage.googleapis.com/v1beta/files/hubwtz76ovcz\n",
      "https://generativelanguage.googleapis.com/v1beta/files/73du1gf8kq41\n",
      "https://generativelanguage.googleapis.com/v1beta/files/tijgfjxw4h8p\n",
      "https://generativelanguage.googleapis.com/v1beta/files/xx5bzw60wfeo\n",
      "https://generativelanguage.googleapis.com/v1beta/files/pccv2eqoi1ng\n",
      "https://generativelanguage.googleapis.com/v1beta/files/ojjnutu2zayr\n",
      "https://generativelanguage.googleapis.com/v1beta/files/skhwk9bfh4go\n",
      "https://generativelanguage.googleapis.com/v1beta/files/dzww8xvppqby\n",
      "https://generativelanguage.googleapis.com/v1beta/files/8ph4ehevl9k\n",
      "https://generativelanguage.googleapis.com/v1beta/files/co9h4mfrsdbg\n",
      "https://generativelanguage.googleapis.com/v1beta/files/s7f9f1wusu1n\n",
      "https://generativelanguage.googleapis.com/v1beta/files/wzj1k0jwlp94\n",
      "https://generativelanguage.googleapis.com/v1beta/files/fr36q9b3gqe4\n",
      "https://generativelanguage.googleapis.com/v1beta/files/1rndlc50yxex\n",
      "https://generativelanguage.googleapis.com/v1beta/files/y6qy79l1fsp2\n",
      "https://generativelanguage.googleapis.com/v1beta/files/ftjf0291u8on\n",
      "https://generativelanguage.googleapis.com/v1beta/files/iy3cx4e80tqr\n",
      "https://generativelanguage.googleapis.com/v1beta/files/h0uhwf8u6396\n",
      "https://generativelanguage.googleapis.com/v1beta/files/diook6tvcdte\n",
      "https://generativelanguage.googleapis.com/v1beta/files/cwlhlp4f8bdx\n",
      "https://generativelanguage.googleapis.com/v1beta/files/n4e6gbpvppoj\n",
      "https://generativelanguage.googleapis.com/v1beta/files/s6y2jqx31fu\n",
      "https://generativelanguage.googleapis.com/v1beta/files/vxyg54dkk3x8\n",
      "https://generativelanguage.googleapis.com/v1beta/files/jdidt8hlh4m9\n",
      "https://generativelanguage.googleapis.com/v1beta/files/mf1e3mukvg6b\n",
      "https://generativelanguage.googleapis.com/v1beta/files/6z6gbfp2x56v\n",
      "https://generativelanguage.googleapis.com/v1beta/files/ao4m5zwf14xe\n",
      "https://generativelanguage.googleapis.com/v1beta/files/r8rsf3vyxlhp\n",
      "https://generativelanguage.googleapis.com/v1beta/files/ulmdqaj2wqt2\n",
      "https://generativelanguage.googleapis.com/v1beta/files/550pf0swvh8p\n",
      "https://generativelanguage.googleapis.com/v1beta/files/yklobdb0k5qa\n",
      "https://generativelanguage.googleapis.com/v1beta/files/rgnoc85pq0er\n",
      "https://generativelanguage.googleapis.com/v1beta/files/d5rnf4s974tn\n",
      "https://generativelanguage.googleapis.com/v1beta/files/hsei4q1n6gb3\n",
      "https://generativelanguage.googleapis.com/v1beta/files/5xr65spys099\n",
      "https://generativelanguage.googleapis.com/v1beta/files/h45ancjwyxz7\n",
      "https://generativelanguage.googleapis.com/v1beta/files/4thy37btac0p\n",
      "https://generativelanguage.googleapis.com/v1beta/files/va4dbe9fm11x\n",
      "https://generativelanguage.googleapis.com/v1beta/files/znqt7ese20zk\n",
      "https://generativelanguage.googleapis.com/v1beta/files/n1l8dujobt43\n",
      "https://generativelanguage.googleapis.com/v1beta/files/khgqwmdzlo4r\n",
      "https://generativelanguage.googleapis.com/v1beta/files/p1oivuv8b1sj\n",
      "https://generativelanguage.googleapis.com/v1beta/files/duhztfb9pl7a\n",
      "https://generativelanguage.googleapis.com/v1beta/files/4kvwmj2foxwl\n",
      "https://generativelanguage.googleapis.com/v1beta/files/o4biyp4ocmvl\n",
      "https://generativelanguage.googleapis.com/v1beta/files/15pma9v7hpnm\n",
      "https://generativelanguage.googleapis.com/v1beta/files/v6728xtg4hc9\n",
      "https://generativelanguage.googleapis.com/v1beta/files/p9erciv58cto\n",
      "https://generativelanguage.googleapis.com/v1beta/files/b7p6b543qqha\n",
      "https://generativelanguage.googleapis.com/v1beta/files/47rgv2l23snf\n",
      "https://generativelanguage.googleapis.com/v1beta/files/qax2bgfnpz30\n",
      "https://generativelanguage.googleapis.com/v1beta/files/ne0k8q6z490\n",
      "https://generativelanguage.googleapis.com/v1beta/files/y3z3n9s0rcvt\n",
      "https://generativelanguage.googleapis.com/v1beta/files/qpbuwx6t2tp6\n",
      "https://generativelanguage.googleapis.com/v1beta/files/vwppa9maeduy\n",
      "https://generativelanguage.googleapis.com/v1beta/files/cxdlkzly1y6f\n",
      "https://generativelanguage.googleapis.com/v1beta/files/6y9zl4ax1pgk\n",
      "https://generativelanguage.googleapis.com/v1beta/files/20kol96nhnoo\n",
      "https://generativelanguage.googleapis.com/v1beta/files/gav4x04uwv9i\n",
      "https://generativelanguage.googleapis.com/v1beta/files/j9cig8bijszf\n",
      "https://generativelanguage.googleapis.com/v1beta/files/pngu6f4dqrh5\n",
      "https://generativelanguage.googleapis.com/v1beta/files/u50ihyycawb8\n",
      "https://generativelanguage.googleapis.com/v1beta/files/jzmhj1umdbnx\n",
      "https://generativelanguage.googleapis.com/v1beta/files/va5b7oatdaf0\n",
      "https://generativelanguage.googleapis.com/v1beta/files/nfukio487boq\n",
      "https://generativelanguage.googleapis.com/v1beta/files/sbxhvtehji46\n",
      "https://generativelanguage.googleapis.com/v1beta/files/p377x332p1p9\n",
      "https://generativelanguage.googleapis.com/v1beta/files/1qigk5gswpbu\n",
      "https://generativelanguage.googleapis.com/v1beta/files/btyv5x7hcupk\n",
      "https://generativelanguage.googleapis.com/v1beta/files/khu6y452e0gm\n",
      "https://generativelanguage.googleapis.com/v1beta/files/2w9pdxr5ujri\n",
      "https://generativelanguage.googleapis.com/v1beta/files/2hm5nczt1ocx\n",
      "https://generativelanguage.googleapis.com/v1beta/files/8x6gpq75qysg\n",
      "https://generativelanguage.googleapis.com/v1beta/files/wzzen8gpo0z5\n",
      "https://generativelanguage.googleapis.com/v1beta/files/l6pshnb1aexq\n",
      "https://generativelanguage.googleapis.com/v1beta/files/rtcdtjfkr3fx\n",
      "https://generativelanguage.googleapis.com/v1beta/files/v916cjq0g3dn\n",
      "https://generativelanguage.googleapis.com/v1beta/files/eqe3um4xfsln\n",
      "https://generativelanguage.googleapis.com/v1beta/files/rfq5v685wycn\n",
      "https://generativelanguage.googleapis.com/v1beta/files/2dlxamho5sxs\n",
      "https://generativelanguage.googleapis.com/v1beta/files/piod67hpn7c4\n",
      "https://generativelanguage.googleapis.com/v1beta/files/33yezo2zr2kg\n",
      "https://generativelanguage.googleapis.com/v1beta/files/1aws3ez1ekv8\n",
      "https://generativelanguage.googleapis.com/v1beta/files/y58gjd08qpcb\n",
      "https://generativelanguage.googleapis.com/v1beta/files/kmgcyksffl9t\n",
      "https://generativelanguage.googleapis.com/v1beta/files/o6q5ao95sak9\n",
      "https://generativelanguage.googleapis.com/v1beta/files/dpinl1v5z0oh\n",
      "https://generativelanguage.googleapis.com/v1beta/files/yan194hw6izf\n",
      "https://generativelanguage.googleapis.com/v1beta/files/us2gxv2mh8s0\n",
      "https://generativelanguage.googleapis.com/v1beta/files/hnvgp0uo7ueh\n",
      "https://generativelanguage.googleapis.com/v1beta/files/7vpcwjoihw4g\n",
      "https://generativelanguage.googleapis.com/v1beta/files/m26hi83lmwu5\n",
      "https://generativelanguage.googleapis.com/v1beta/files/ln9hskvsjega\n",
      "https://generativelanguage.googleapis.com/v1beta/files/speugizslb1w\n",
      "https://generativelanguage.googleapis.com/v1beta/files/lvgfw17pts89\n",
      "https://generativelanguage.googleapis.com/v1beta/files/um4xrcf34lh2\n",
      "https://generativelanguage.googleapis.com/v1beta/files/dej37p1ug07f\n",
      "https://generativelanguage.googleapis.com/v1beta/files/lnujrcekhgui\n",
      "https://generativelanguage.googleapis.com/v1beta/files/b9q531v0xfvk\n",
      "https://generativelanguage.googleapis.com/v1beta/files/piqli4q4vkb3\n",
      "https://generativelanguage.googleapis.com/v1beta/files/jv7yfvnm80wi\n",
      "https://generativelanguage.googleapis.com/v1beta/files/2ozlekggfa0m\n",
      "https://generativelanguage.googleapis.com/v1beta/files/xl36uoayfefh\n",
      "https://generativelanguage.googleapis.com/v1beta/files/h47ugw62dwnj\n",
      "https://generativelanguage.googleapis.com/v1beta/files/k35tl5g1o2y1\n",
      "https://generativelanguage.googleapis.com/v1beta/files/umm8laiegb0l\n",
      "https://generativelanguage.googleapis.com/v1beta/files/uxga29t68ed2\n",
      "https://generativelanguage.googleapis.com/v1beta/files/8szj52jefhvb\n",
      "https://generativelanguage.googleapis.com/v1beta/files/i1zrgv3p6urn\n",
      "https://generativelanguage.googleapis.com/v1beta/files/mun2417w61hp\n",
      "https://generativelanguage.googleapis.com/v1beta/files/yor9w7j2hlex\n",
      "https://generativelanguage.googleapis.com/v1beta/files/7h3ijfli2b77\n",
      "https://generativelanguage.googleapis.com/v1beta/files/2fn7pgvmizm6\n",
      "https://generativelanguage.googleapis.com/v1beta/files/a2tif8upfvtw\n",
      "https://generativelanguage.googleapis.com/v1beta/files/5qgx8v3rirxj\n",
      "https://generativelanguage.googleapis.com/v1beta/files/re6x4wefbohk\n",
      "https://generativelanguage.googleapis.com/v1beta/files/a8ctnrqdy4j\n",
      "https://generativelanguage.googleapis.com/v1beta/files/yeujuyhvgn5y\n",
      "https://generativelanguage.googleapis.com/v1beta/files/5v276idbvuhk\n",
      "https://generativelanguage.googleapis.com/v1beta/files/151320tufl98\n",
      "https://generativelanguage.googleapis.com/v1beta/files/nit7tgsrdq0t\n",
      "https://generativelanguage.googleapis.com/v1beta/files/8whrxwild85p\n",
      "https://generativelanguage.googleapis.com/v1beta/files/833pdsq8vcq7\n",
      "https://generativelanguage.googleapis.com/v1beta/files/jcsezox82rvg\n",
      "https://generativelanguage.googleapis.com/v1beta/files/kb1h0vubnj80\n",
      "https://generativelanguage.googleapis.com/v1beta/files/9uesxwck5tgl\n",
      "https://generativelanguage.googleapis.com/v1beta/files/hvry00mb17z2\n",
      "https://generativelanguage.googleapis.com/v1beta/files/dg5xlxlczck1\n",
      "https://generativelanguage.googleapis.com/v1beta/files/ux14k6vgqm42\n",
      "https://generativelanguage.googleapis.com/v1beta/files/rju3dvl0026t\n",
      "https://generativelanguage.googleapis.com/v1beta/files/3tdgify5xpes\n",
      "https://generativelanguage.googleapis.com/v1beta/files/xy1j78hk2al2\n",
      "https://generativelanguage.googleapis.com/v1beta/files/mzz2muzhn1lc\n",
      "https://generativelanguage.googleapis.com/v1beta/files/r4bsyh6a7sg0\n",
      "https://generativelanguage.googleapis.com/v1beta/files/dgiqlu5jsw9b\n",
      "https://generativelanguage.googleapis.com/v1beta/files/rmg1bag90kh7\n",
      "https://generativelanguage.googleapis.com/v1beta/files/73nwueu69sbo\n",
      "https://generativelanguage.googleapis.com/v1beta/files/kf9rglhzca5w\n",
      "https://generativelanguage.googleapis.com/v1beta/files/7rnukbj6rgb8\n",
      "https://generativelanguage.googleapis.com/v1beta/files/r4r3ghx5qf2z\n",
      "https://generativelanguage.googleapis.com/v1beta/files/767n905h3o7j\n",
      "https://generativelanguage.googleapis.com/v1beta/files/c39ltjpvehoh\n",
      "https://generativelanguage.googleapis.com/v1beta/files/nru3dqlig084\n",
      "https://generativelanguage.googleapis.com/v1beta/files/cfp10dw5l1qv\n",
      "https://generativelanguage.googleapis.com/v1beta/files/ynmmq0zwq5zu\n",
      "https://generativelanguage.googleapis.com/v1beta/files/aw8t110fsx2j\n",
      "https://generativelanguage.googleapis.com/v1beta/files/avsflkm6kkd9\n",
      "https://generativelanguage.googleapis.com/v1beta/files/i0di3e5cd8dy\n",
      "https://generativelanguage.googleapis.com/v1beta/files/fc43yor7zgxb\n",
      "https://generativelanguage.googleapis.com/v1beta/files/5d59jdncbq5a\n",
      "https://generativelanguage.googleapis.com/v1beta/files/tjlcrwgru13r\n",
      "https://generativelanguage.googleapis.com/v1beta/files/wctznbv7u4aj\n",
      "https://generativelanguage.googleapis.com/v1beta/files/pabl5e0mbgsk\n",
      "https://generativelanguage.googleapis.com/v1beta/files/m89dutxpqwyd\n",
      "https://generativelanguage.googleapis.com/v1beta/files/5v78f30p95ad\n",
      "https://generativelanguage.googleapis.com/v1beta/files/t3eloaal8v7k\n",
      "https://generativelanguage.googleapis.com/v1beta/files/s94hulmspxj9\n",
      "https://generativelanguage.googleapis.com/v1beta/files/b3vzlr65icd9\n",
      "https://generativelanguage.googleapis.com/v1beta/files/4otpuqat7387\n",
      "https://generativelanguage.googleapis.com/v1beta/files/s7p58anvcvs1\n",
      "https://generativelanguage.googleapis.com/v1beta/files/mn7jsa5hdk4w\n",
      "https://generativelanguage.googleapis.com/v1beta/files/cnyan2lzlmq0\n",
      "https://generativelanguage.googleapis.com/v1beta/files/zpthqe74zppj\n",
      "https://generativelanguage.googleapis.com/v1beta/files/xaqrzdt6vx0x\n",
      "https://generativelanguage.googleapis.com/v1beta/files/hdwvdc8oajzf\n",
      "https://generativelanguage.googleapis.com/v1beta/files/vgvgdwjtncgu\n",
      "https://generativelanguage.googleapis.com/v1beta/files/wfjn0q0jacnc\n",
      "https://generativelanguage.googleapis.com/v1beta/files/hbc42v4ijkhi\n",
      "https://generativelanguage.googleapis.com/v1beta/files/mc1vvj7kdtj1\n",
      "https://generativelanguage.googleapis.com/v1beta/files/3n0ycfjge3uh\n",
      "https://generativelanguage.googleapis.com/v1beta/files/qc67bsc0zz8p\n",
      "https://generativelanguage.googleapis.com/v1beta/files/e3ngmaciibji\n",
      "https://generativelanguage.googleapis.com/v1beta/files/exn3htu85tsn\n",
      "https://generativelanguage.googleapis.com/v1beta/files/rjllvkzkw6hx\n",
      "https://generativelanguage.googleapis.com/v1beta/files/xcqtu24h15m9\n",
      "https://generativelanguage.googleapis.com/v1beta/files/1pox4jq01y08\n",
      "https://generativelanguage.googleapis.com/v1beta/files/9v5aanj3amp\n",
      "https://generativelanguage.googleapis.com/v1beta/files/tig21waucs2b\n",
      "https://generativelanguage.googleapis.com/v1beta/files/69p8jsd779ez\n",
      "https://generativelanguage.googleapis.com/v1beta/files/96d6od94jbiq\n",
      "https://generativelanguage.googleapis.com/v1beta/files/qi6k4u1xsc3u\n",
      "https://generativelanguage.googleapis.com/v1beta/files/84jmyzfmiko2\n",
      "https://generativelanguage.googleapis.com/v1beta/files/1mtcn3dfjm25\n",
      "https://generativelanguage.googleapis.com/v1beta/files/4kse6g86ip1z\n",
      "https://generativelanguage.googleapis.com/v1beta/files/lfm9ckp6m44u\n",
      "https://generativelanguage.googleapis.com/v1beta/files/lza4h1sql55p\n",
      "https://generativelanguage.googleapis.com/v1beta/files/vuibzre1w3eh\n",
      "https://generativelanguage.googleapis.com/v1beta/files/atnchuui6eed\n",
      "https://generativelanguage.googleapis.com/v1beta/files/qst4xsk15pey\n",
      "https://generativelanguage.googleapis.com/v1beta/files/tf2atzyu87p9\n",
      "https://generativelanguage.googleapis.com/v1beta/files/jy0jwb5zsgh2\n"
     ]
    }
   ],
   "source": [
    "# List files uploaded in the API\n",
    "for n, f in zip(range(len(uploaded_files)), genai.list_files()):\n",
    "  print(f.uri)"
   ]
  },
  {
   "cell_type": "code",
   "execution_count": 70,
   "metadata": {},
   "outputs": [
    {
     "name": "stdout",
     "output_type": "stream",
     "text": [
      "[\n",
      "  {\n",
      "    \"start_timestamp\": \"00:08\",\n",
      "    \"end_timestamp\": \"00:09\",\n",
      "    \"location\": \"middle\",\n",
      "    \"description\": \"The interviewee identifies as a UCI student.\"\n",
      "  },\n",
      "  {\n",
      "    \"start_timestamp\": \"01:06\",\n",
      "    \"end_timestamp\": \"01:07\",\n",
      "    \"location\": \"middle-left\",\n",
      "    \"description\": \"The interviewee states his name is Sasha.\"\n",
      "  },\n",
      "  {\n",
      "    \"start_timestamp\": \"01:07\",\n",
      "    \"end_timestamp\": \"01:08\",\n",
      "    \"location\": \"middle-right\",\n",
      "    \"description\": \"The interviewee states his name is Michael.\"\n",
      "  },\n",
      "  {\n",
      "    \"start_timestamp\": \"02:12\",\n",
      "    \"end_timestamp\": \"02:13\",\n",
      "    \"location\": \"middle-left\",\n",
      "    \"description\": \"The interviewee states her name is Katelyn.\"\n",
      "  },\n",
      "  {\n",
      "    \"start_timestamp\": \"02:15\",\n",
      "    \"end_timestamp\": \"02:16\",\n",
      "    \"location\": \"middle-left\",\n",
      "    \"description\": \"The interviewer states his name is Sasha.\"\n",
      "  },\n",
      "  {\n",
      "    \"start_timestamp\": \"02:18\",\n",
      "    \"end_timestamp\": \"02:21\",\n",
      "    \"location\": \"middle\",\n",
      "    \"description\": \"The interviewee states his name is Sam, clarifying pronunciation and making a joke about it.\"\n",
      "  }\n",
      "]\n",
      "\n"
     ]
    }
   ],
   "source": [
    "\n",
    "#Choose only clips that are entertaining or make for good b-roll.\n",
    "prompt = \"\"\"\n",
    "You are an expert video editor, helping us select clips for a video.\n",
    "Select only clips where someone tells us their name.\n",
    "Double check your work to ensure that the timestamps are correct.\n",
    "\n",
    "For each clip, provide a \"start_timestamp\", \"end_timestamp\", \"location\" (point of interest in the frame, either left, middle-left, middle, middle-right, or right), and \"description\" (a brief explanation of why you selected the clip).\n",
    "\"\"\"\n",
    "\n",
    "# Set the model to Gemini 1.5 Pro.\n",
    "model = genai.GenerativeModel(model_name=\"models/gemini-1.5-pro-latest\", generation_config={\"response_mime_type\": \"application/json\"})\n",
    "\n",
    "# Make GenerateContent request with the structure described above.\n",
    "def make_request(prompt, files):\n",
    "  request = [prompt]\n",
    "  for file in files:\n",
    "    request.append(file.timestamp)\n",
    "    request.append(file.response)\n",
    "  return request\n",
    "\n",
    "# Make the LLM request.\n",
    "request = make_request(prompt, uploaded_files) + [audio_file]\n",
    "response = model.generate_content(request,\n",
    "                                  request_options={\"timeout\": 600})\n",
    "print(response.text)"
   ]
  },
  {
   "cell_type": "code",
   "execution_count": 71,
   "metadata": {},
   "outputs": [],
   "source": [
    "from json import loads\n",
    "\n",
    "clip_details = loads(response.text)\n",
    "\n",
    "def get_seconds(time_string):\n",
    "    denoms = time_string.split(\":\")\n",
    "    secs = 0\n",
    "    for i, val in enumerate(denoms[::-1]):\n",
    "        secs += float(val) * 60 ** i \n",
    "    return secs\n",
    "\n",
    "def clip(start, end, mkv_filename, filename):\n",
    "    call_ffmpeg(f\"-ss {start} -i {mkv_filename} -c copy -t {end - start} {filename}\")\n",
    "\n",
    "for i, details in enumerate(clip_details, start=1):\n",
    "    clip_name = f\"frames/clip_{i}.mkv\"\n",
    "    clip(get_seconds(details['start_timestamp']), get_seconds(details['end_timestamp']), video_file_name, clip_name)"
   ]
  },
  {
   "cell_type": "code",
   "execution_count": null,
   "metadata": {},
   "outputs": [],
   "source": [
    "#print(f'Deleting {len(uploaded_files)} images. This might take a bit...')\n",
    "#for file in uploaded_files:\n",
    "#  genai.delete_file(file.response.name)\n",
    "#  print(f'Deleted {file.file_path} at URI {file.response.uri}')\n",
    "#print(f\"Completed deleting files!\\n\\nDeleted: {len(uploaded_files)} files\")"
   ]
  },
  {
   "cell_type": "code",
   "execution_count": 37,
   "metadata": {},
   "outputs": [
    {
     "name": "stdout",
     "output_type": "stream",
     "text": [
      "The total size of all files in the frames directory is: 139088916 bytes\n"
     ]
    }
   ],
   "source": [
    "import os\n",
    "\n",
    "frames_directory = 'frames'\n",
    "total_size = 0\n",
    "\n",
    "for root, dirs, files in os.walk(frames_directory):\n",
    "    for file in files:\n",
    "        file_path = os.path.join(root, file)\n",
    "        total_size += os.path.getsize(file_path)\n",
    "\n",
    "print(f\"The total size of all files in the frames directory is: {total_size} bytes\")\n"
   ]
  }
 ],
 "metadata": {
  "kernelspec": {
   "display_name": "env",
   "language": "python",
   "name": "python3"
  },
  "language_info": {
   "codemirror_mode": {
    "name": "ipython",
    "version": 3
   },
   "file_extension": ".py",
   "mimetype": "text/x-python",
   "name": "python",
   "nbconvert_exporter": "python",
   "pygments_lexer": "ipython3",
   "version": "3.10.10"
  }
 },
 "nbformat": 4,
 "nbformat_minor": 2
}
