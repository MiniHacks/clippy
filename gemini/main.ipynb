{
 "cells": [
  {
   "cell_type": "code",
   "execution_count": 1,
   "metadata": {},
   "outputs": [
    {
     "name": "stdout",
     "output_type": "stream",
     "text": [
      "Requirement already satisfied: opencv-python in /Users/shy/Projects/clippy/env/lib/python3.10/site-packages (4.9.0.80)\n",
      "Requirement already satisfied: numpy>=1.17.3 in /Users/shy/Projects/clippy/env/lib/python3.10/site-packages (from opencv-python) (1.26.4)\n",
      "\n",
      "\u001b[1m[\u001b[0m\u001b[34;49mnotice\u001b[0m\u001b[1;39;49m]\u001b[0m\u001b[39;49m A new release of pip available: \u001b[0m\u001b[31;49m22.3.1\u001b[0m\u001b[39;49m -> \u001b[0m\u001b[32;49m24.0\u001b[0m\n",
      "\u001b[1m[\u001b[0m\u001b[34;49mnotice\u001b[0m\u001b[1;39;49m]\u001b[0m\u001b[39;49m To update, run: \u001b[0m\u001b[32;49m/Users/shy/Projects/clippy/env/bin/python -m pip install --upgrade pip\u001b[0m\n"
     ]
    }
   ],
   "source": [
    "import sys\n",
    "!{sys.executable} -m pip install opencv-python"
   ]
  },
  {
   "cell_type": "code",
   "execution_count": null,
   "metadata": {},
   "outputs": [
    {
     "name": "stderr",
     "output_type": "stream",
     "text": [
      "/Users/shy/Projects/clippy/env/lib/python3.10/site-packages/tqdm/auto.py:21: TqdmWarning: IProgress not found. Please update jupyter and ipywidgets. See https://ipywidgets.readthedocs.io/en/stable/user_install.html\n",
      "  from .autonotebook import tqdm as notebook_tqdm\n"
     ]
    }
   ],
   "source": [
    "from pathlib import Path\n",
    "import textwrap\n",
    "\n",
    "import google.generativeai as genai\n",
    "\n",
    "from IPython.display import display\n",
    "from IPython.display import Markdown\n",
    "import cv2\n",
    "import shutil\n",
    "import ffmpeg\n",
    "import subprocess\n",
    "import os\n",
    "from tqdm import tqdm\n",
    "\n",
    "def to_markdown(text):\n",
    "  text = text.replace('•', '  *')\n",
    "  return Markdown(textwrap.indent(text, '> ', predicate=lambda _: True))"
   ]
  },
  {
   "cell_type": "code",
   "execution_count": 3,
   "metadata": {},
   "outputs": [],
   "source": [
    "import os\n",
    "\n",
    "GOOGLE_API_KEY= os.environ['GOOGLE_API_KEY']\n",
    "genai.configure(api_key=GOOGLE_API_KEY)"
   ]
  },
  {
   "cell_type": "code",
   "execution_count": 4,
   "metadata": {},
   "outputs": [
    {
     "name": "stdout",
     "output_type": "stream",
     "text": [
      "models/gemini-1.0-pro\n",
      "models/gemini-1.0-pro-001\n",
      "models/gemini-1.0-pro-latest\n",
      "models/gemini-1.0-pro-vision-latest\n",
      "models/gemini-1.5-pro-latest\n",
      "models/gemini-pro\n",
      "models/gemini-pro-vision\n"
     ]
    }
   ],
   "source": [
    "for m in genai.list_models():\n",
    "  if 'generateContent' in m.supported_generation_methods:\n",
    "    print(m.name)\n"
   ]
  },
  {
   "cell_type": "code",
   "execution_count": 5,
   "metadata": {},
   "outputs": [],
   "source": [
    "model = genai.GenerativeModel('gemini-pro')"
   ]
  },
  {
   "cell_type": "code",
   "execution_count": 9,
   "metadata": {},
   "outputs": [],
   "source": [
    "response = model.generate_content(\"What is the meaning of life?\")"
   ]
  },
  {
   "cell_type": "code",
   "execution_count": 10,
   "metadata": {},
   "outputs": [
    {
     "data": {
      "text/markdown": [
       "> **Meaning of Life**\n",
       "> \n",
       "> The meaning of life is a philosophical question that has been pondered by humans for centuries. There is no definitive answer, but rather a multitude of perspectives and interpretations. Some common ideas include:\n",
       "> \n",
       "> * **Purpose and Fulfillment:**\n",
       ">     * Finding a purpose or mission that gives direction and motivation to one's life.\n",
       ">     * Achieving personal goals, dreams, and aspirations.\n",
       "> \n",
       "> * **Relationships and Connections:**\n",
       ">     * Establishing meaningful relationships with family, friends, and loved ones.\n",
       ">     * Contributing to society and making a positive impact on others.\n",
       "> \n",
       "> * **Growth and Learning:**\n",
       ">     * Pursuing knowledge, wisdom, and personal development.\n",
       ">     * Continuously improving oneself and striving for higher ideals.\n",
       "> \n",
       "> * **Ethics and Morals:**\n",
       ">     * Living a life guided by ethical principles and values.\n",
       ">     * Demonstrating compassion, empathy, and integrity.\n",
       "> \n",
       "> * **Purpose in Nature:**\n",
       ">     * Recognizing the interconnectedness of all life and the role humans play in the natural ecosystem.\n",
       ">     * Appreciating the beauty and wonder of the natural world.\n",
       "> \n",
       "> * **Personal Experiences:**\n",
       ">     * Embracing and savoring life's experiences, both positive and negative.\n",
       ">     * Recognizing the unique and subjective nature of meaning.\n",
       "> \n",
       "> * **Spiritual Beliefs:**\n",
       ">     * Connecting to a higher power or spiritual force.\n",
       ">     * Seeking guidance, purpose, and meaning through religious or spiritual practices.\n",
       "> \n",
       "> Ultimately, the meaning of life is a personal journey and discovery. It can be shaped by one's experiences, values, beliefs, and connections. While there may not be a universal answer, finding meaning in one's life can bring a sense of purpose, fulfillment, and peace."
      ],
      "text/plain": [
       "<IPython.core.display.Markdown object>"
      ]
     },
     "execution_count": 10,
     "metadata": {},
     "output_type": "execute_result"
    }
   ],
   "source": [
    "to_markdown(response.text)"
   ]
  },
  {
   "cell_type": "code",
   "execution_count": null,
   "metadata": {},
   "outputs": [],
   "source": [
    "response.prompt_feedback"
   ]
  },
  {
   "cell_type": "code",
   "execution_count": null,
   "metadata": {},
   "outputs": [],
   "source": [
    "response.candidates\n"
   ]
  },
  {
   "cell_type": "code",
   "execution_count": null,
   "metadata": {},
   "outputs": [],
   "source": [
    "response = model.generate_content(\"What is the meaning of life?\", stream=True)"
   ]
  },
  {
   "cell_type": "markdown",
   "metadata": {},
   "source": [
    "## Pro-Vision Video!"
   ]
  },
  {
   "cell_type": "code",
   "execution_count": 11,
   "metadata": {},
   "outputs": [],
   "source": [
    "model = genai.GenerativeModel('gemini-pro-vision')\n"
   ]
  },
  {
   "cell_type": "code",
   "execution_count": 12,
   "metadata": {},
   "outputs": [
    {
     "name": "stdout",
     "output_type": "stream",
     "text": [
      "\u001b[36m/Users/shy/Desktop/\u001b[1;32m4-19-Sasha-blocked.MP4\u001b[0m\n"
     ]
    }
   ],
   "source": [
    "!ls /Users/shy/Desktop/4-19-Sasha-blocked.MP4   "
   ]
  },
  {
   "cell_type": "code",
   "execution_count": 26,
   "metadata": {},
   "outputs": [],
   "source": [
    "FRAME_EXTRACTION_DIRECTORY = \"frames\"\n",
    "FRAME_PREFIX = \"_frame\"\n",
    "\n",
    "video_file_name = Path(\"/Users/shy/Desktop/4-19-Sasha-blocked.MP4\")\n",
    "video_file_name = Path(\"/Users/shy/Desktop/4-19-Sasha-dinner.MP4\")\n",
    "video_file_name = Path(\"/Users/shy/Desktop/test_clip.mp4\")\n",
    "\n",
    "audio_file_name = Path(f\"{FRAME_EXTRACTION_DIRECTORY}/{video_file_name.stem}.mp3\")\n",
    "\n",
    "def call_ffmpeg(arg_string):\n",
    "    subprocess.call(['ffmpeg', \"-hide_banner\", \"-loglevel\", \"error\", \"-y\"] + arg_string.split())\n",
    "    \n",
    "def extract_mp3_from_mp4(video_file_name, audio_file_name):\n",
    "    call_ffmpeg(f\"-i {video_file_name} {audio_file_name}\")\n",
    "\n",
    "extract_mp3_from_mp4(video_file_name, audio_file_name)\n",
    "\n",
    "audio_file = genai.upload_file(path=audio_file_name)"
   ]
  },
  {
   "cell_type": "code",
   "execution_count": 27,
   "metadata": {},
   "outputs": [
    {
     "name": "stdout",
     "output_type": "stream",
     "text": [
      "Extracting /Users/shy/Desktop/test_clip.mp4 at 1 frame per second. This might take a bit...\n",
      "Completed video frame extraction!\n",
      "\n",
      "Extracted: 255 frames\n"
     ]
    }
   ],
   "source": [
    "\n",
    "# Create or cleanup existing extracted image frames directory.\n",
    "def create_frame_output_dir(output_dir):\n",
    "  if not os.path.exists(output_dir):\n",
    "    os.makedirs(output_dir)\n",
    "  else:\n",
    "    shutil.rmtree(output_dir)\n",
    "    os.makedirs(output_dir)\n",
    "\n",
    "def extract_frame_from_video(video_file_path):\n",
    "  print(f\"Extracting {video_file_path} at 1 frame per second. This might take a bit...\")\n",
    "  create_frame_output_dir(FRAME_EXTRACTION_DIRECTORY)\n",
    "  vidcap = cv2.VideoCapture(str(video_file_path))\n",
    "  fps = vidcap.get(cv2.CAP_PROP_FPS)\n",
    "  frame_duration = 1 / fps  # Time interval between frames (in seconds)\n",
    "  output_file_prefix = os.path.basename(video_file_path).replace('.', '_')\n",
    "  frame_count = 0\n",
    "  count = 0\n",
    "  while vidcap.isOpened():\n",
    "      success, frame = vidcap.read()\n",
    "      if not success: # End of video\n",
    "          break\n",
    "      if int(count / fps) == frame_count: # Extract a frame every second\n",
    "          min = frame_count // 60\n",
    "          sec = frame_count % 60\n",
    "          time_string = f\"{min:02d}:{sec:02d}\"\n",
    "          image_name = f\"{output_file_prefix}{FRAME_PREFIX}{time_string}.jpg\"\n",
    "          output_filename = os.path.join(FRAME_EXTRACTION_DIRECTORY, image_name)\n",
    "          cv2.imwrite(output_filename, frame)\n",
    "          frame_count += 1\n",
    "      count += 1\n",
    "  vidcap.release() # Release the capture object\\n\",\n",
    "  print(f\"Completed video frame extraction!\\n\\nExtracted: {frame_count} frames\")\n",
    "\n",
    "extract_frame_from_video(video_file_name)"
   ]
  },
  {
   "cell_type": "code",
   "execution_count": 29,
   "metadata": {},
   "outputs": [
    {
     "name": "stdout",
     "output_type": "stream",
     "text": [
      "Uploading 255 files. This might take a bit...\n",
      "Uploading: frames/test_clip_mp4_frame00:00.jpg...\n",
      "Uploading: frames/test_clip_mp4_frame00:01.jpg...\n",
      "Uploading: frames/test_clip_mp4_frame00:02.jpg...\n",
      "Uploading: frames/test_clip_mp4_frame00:03.jpg...\n",
      "Uploading: frames/test_clip_mp4_frame00:04.jpg...\n",
      "Uploading: frames/test_clip_mp4_frame00:05.jpg...\n",
      "Uploading: frames/test_clip_mp4_frame00:06.jpg...\n",
      "Uploading: frames/test_clip_mp4_frame00:07.jpg...\n",
      "Uploading: frames/test_clip_mp4_frame00:08.jpg...\n",
      "Uploading: frames/test_clip_mp4_frame00:09.jpg...\n",
      "Uploading: frames/test_clip_mp4_frame00:10.jpg...\n",
      "Uploading: frames/test_clip_mp4_frame00:11.jpg...\n",
      "Uploading: frames/test_clip_mp4_frame00:12.jpg...\n",
      "Uploading: frames/test_clip_mp4_frame00:13.jpg...\n",
      "Uploading: frames/test_clip_mp4_frame00:14.jpg...\n",
      "Uploading: frames/test_clip_mp4_frame00:15.jpg...\n",
      "Uploading: frames/test_clip_mp4_frame00:16.jpg...\n",
      "Uploading: frames/test_clip_mp4_frame00:17.jpg...\n",
      "Uploading: frames/test_clip_mp4_frame00:18.jpg...\n",
      "Uploading: frames/test_clip_mp4_frame00:19.jpg...\n",
      "Uploading: frames/test_clip_mp4_frame00:20.jpg...\n",
      "Uploading: frames/test_clip_mp4_frame00:21.jpg...\n",
      "Uploading: frames/test_clip_mp4_frame00:22.jpg...\n",
      "Uploading: frames/test_clip_mp4_frame00:23.jpg...\n",
      "Uploading: frames/test_clip_mp4_frame00:24.jpg...\n",
      "Uploading: frames/test_clip_mp4_frame00:25.jpg...\n",
      "Uploading: frames/test_clip_mp4_frame00:26.jpg...\n",
      "Uploading: frames/test_clip_mp4_frame00:27.jpg...\n",
      "Uploading: frames/test_clip_mp4_frame00:28.jpg...\n",
      "Uploading: frames/test_clip_mp4_frame00:29.jpg...\n",
      "Uploading: frames/test_clip_mp4_frame00:30.jpg...\n",
      "Uploading: frames/test_clip_mp4_frame00:31.jpg...\n",
      "Uploading: frames/test_clip_mp4_frame00:32.jpg...\n",
      "Uploading: frames/test_clip_mp4_frame00:33.jpg...\n",
      "Uploading: frames/test_clip_mp4_frame00:34.jpg...\n",
      "Uploading: frames/test_clip_mp4_frame00:35.jpg...\n",
      "Uploading: frames/test_clip_mp4_frame00:36.jpg...\n",
      "Uploading: frames/test_clip_mp4_frame00:37.jpg...\n",
      "Uploading: frames/test_clip_mp4_frame00:38.jpg...\n",
      "Uploading: frames/test_clip_mp4_frame00:39.jpg...\n",
      "Uploading: frames/test_clip_mp4_frame00:40.jpg...\n",
      "Uploading: frames/test_clip_mp4_frame00:41.jpg...\n",
      "Uploading: frames/test_clip_mp4_frame00:42.jpg...\n",
      "Uploading: frames/test_clip_mp4_frame00:43.jpg...\n",
      "Uploading: frames/test_clip_mp4_frame00:44.jpg...\n",
      "Uploading: frames/test_clip_mp4_frame00:45.jpg...\n",
      "Uploading: frames/test_clip_mp4_frame00:46.jpg...\n",
      "Uploading: frames/test_clip_mp4_frame00:47.jpg...\n",
      "Uploading: frames/test_clip_mp4_frame00:48.jpg...\n",
      "Uploading: frames/test_clip_mp4_frame00:49.jpg...\n",
      "Uploading: frames/test_clip_mp4_frame00:50.jpg...\n",
      "Uploading: frames/test_clip_mp4_frame00:51.jpg...\n",
      "Uploading: frames/test_clip_mp4_frame00:52.jpg...\n",
      "Uploading: frames/test_clip_mp4_frame00:53.jpg...\n",
      "Uploading: frames/test_clip_mp4_frame00:54.jpg...\n",
      "Uploading: frames/test_clip_mp4_frame00:55.jpg...\n",
      "Uploading: frames/test_clip_mp4_frame00:56.jpg...\n",
      "Uploading: frames/test_clip_mp4_frame00:57.jpg...\n",
      "Uploading: frames/test_clip_mp4_frame00:58.jpg...\n",
      "Uploading: frames/test_clip_mp4_frame00:59.jpg...\n",
      "Uploading: frames/test_clip_mp4_frame01:00.jpg...\n",
      "Uploading: frames/test_clip_mp4_frame01:01.jpg...\n",
      "Uploading: frames/test_clip_mp4_frame01:02.jpg...\n",
      "Uploading: frames/test_clip_mp4_frame01:03.jpg...\n",
      "Uploading: frames/test_clip_mp4_frame01:04.jpg...\n",
      "Uploading: frames/test_clip_mp4_frame01:05.jpg...\n",
      "Uploading: frames/test_clip_mp4_frame01:06.jpg...\n",
      "Uploading: frames/test_clip_mp4_frame01:07.jpg...\n",
      "Uploading: frames/test_clip_mp4_frame01:08.jpg...\n",
      "Uploading: frames/test_clip_mp4_frame01:09.jpg...\n",
      "Uploading: frames/test_clip_mp4_frame01:10.jpg...\n",
      "Uploading: frames/test_clip_mp4_frame01:11.jpg...\n",
      "Uploading: frames/test_clip_mp4_frame01:12.jpg...\n",
      "Uploading: frames/test_clip_mp4_frame01:13.jpg...\n",
      "Uploading: frames/test_clip_mp4_frame01:14.jpg...\n",
      "Uploading: frames/test_clip_mp4_frame01:15.jpg...\n",
      "Uploading: frames/test_clip_mp4_frame01:16.jpg...\n",
      "Uploading: frames/test_clip_mp4_frame01:17.jpg...\n",
      "Uploading: frames/test_clip_mp4_frame01:18.jpg...\n",
      "Uploading: frames/test_clip_mp4_frame01:19.jpg...\n",
      "Uploading: frames/test_clip_mp4_frame01:20.jpg...\n",
      "Uploading: frames/test_clip_mp4_frame01:21.jpg...\n",
      "Uploading: frames/test_clip_mp4_frame01:22.jpg...\n",
      "Uploading: frames/test_clip_mp4_frame01:23.jpg...\n",
      "Uploading: frames/test_clip_mp4_frame01:24.jpg...\n",
      "Uploading: frames/test_clip_mp4_frame01:25.jpg...\n",
      "Uploading: frames/test_clip_mp4_frame01:26.jpg...\n",
      "Uploading: frames/test_clip_mp4_frame01:27.jpg...\n",
      "Uploading: frames/test_clip_mp4_frame01:28.jpg...\n",
      "Uploading: frames/test_clip_mp4_frame01:29.jpg...\n",
      "Uploading: frames/test_clip_mp4_frame01:30.jpg...\n",
      "Uploading: frames/test_clip_mp4_frame01:31.jpg...\n",
      "Uploading: frames/test_clip_mp4_frame01:32.jpg...\n",
      "Uploading: frames/test_clip_mp4_frame01:33.jpg...\n",
      "Uploading: frames/test_clip_mp4_frame01:34.jpg...\n",
      "Uploading: frames/test_clip_mp4_frame01:35.jpg...\n",
      "Uploading: frames/test_clip_mp4_frame01:36.jpg...\n",
      "Uploading: frames/test_clip_mp4_frame01:37.jpg...\n",
      "Uploading: frames/test_clip_mp4_frame01:38.jpg...\n",
      "Uploading: frames/test_clip_mp4_frame01:39.jpg...\n",
      "Uploading: frames/test_clip_mp4_frame01:40.jpg...\n",
      "Uploading: frames/test_clip_mp4_frame01:41.jpg...\n",
      "Uploading: frames/test_clip_mp4_frame01:42.jpg...\n",
      "Uploading: frames/test_clip_mp4_frame01:43.jpg...\n",
      "Uploading: frames/test_clip_mp4_frame01:44.jpg...\n",
      "Uploading: frames/test_clip_mp4_frame01:45.jpg...\n",
      "Uploading: frames/test_clip_mp4_frame01:46.jpg...\n",
      "Uploading: frames/test_clip_mp4_frame01:47.jpg...\n",
      "Uploading: frames/test_clip_mp4_frame01:48.jpg...\n",
      "Uploading: frames/test_clip_mp4_frame01:49.jpg...\n",
      "Uploading: frames/test_clip_mp4_frame01:50.jpg...\n",
      "Uploading: frames/test_clip_mp4_frame01:51.jpg...\n",
      "Uploading: frames/test_clip_mp4_frame01:52.jpg...\n",
      "Uploading: frames/test_clip_mp4_frame01:53.jpg...\n",
      "Uploading: frames/test_clip_mp4_frame01:54.jpg...\n",
      "Uploading: frames/test_clip_mp4_frame01:55.jpg...\n",
      "Uploading: frames/test_clip_mp4_frame01:56.jpg...\n",
      "Uploading: frames/test_clip_mp4_frame01:57.jpg...\n",
      "Uploading: frames/test_clip_mp4_frame01:58.jpg...\n",
      "Uploading: frames/test_clip_mp4_frame01:59.jpg...\n",
      "Uploading: frames/test_clip_mp4_frame02:00.jpg...\n",
      "Uploading: frames/test_clip_mp4_frame02:01.jpg...\n",
      "Uploading: frames/test_clip_mp4_frame02:02.jpg...\n",
      "Uploading: frames/test_clip_mp4_frame02:03.jpg...\n",
      "Uploading: frames/test_clip_mp4_frame02:04.jpg...\n",
      "Uploading: frames/test_clip_mp4_frame02:05.jpg...\n",
      "Uploading: frames/test_clip_mp4_frame02:06.jpg...\n",
      "Uploading: frames/test_clip_mp4_frame02:07.jpg...\n",
      "Uploading: frames/test_clip_mp4_frame02:08.jpg...\n",
      "Uploading: frames/test_clip_mp4_frame02:09.jpg...\n",
      "Uploading: frames/test_clip_mp4_frame02:10.jpg...\n",
      "Uploading: frames/test_clip_mp4_frame02:11.jpg...\n",
      "Uploading: frames/test_clip_mp4_frame02:12.jpg...\n",
      "Uploading: frames/test_clip_mp4_frame02:13.jpg...\n",
      "Uploading: frames/test_clip_mp4_frame02:14.jpg...\n",
      "Uploading: frames/test_clip_mp4_frame02:15.jpg...\n",
      "Uploading: frames/test_clip_mp4_frame02:16.jpg...\n",
      "Uploading: frames/test_clip_mp4_frame02:17.jpg...\n",
      "Uploading: frames/test_clip_mp4_frame02:18.jpg...\n",
      "Uploading: frames/test_clip_mp4_frame02:19.jpg...\n",
      "Uploading: frames/test_clip_mp4_frame02:20.jpg...\n",
      "Uploading: frames/test_clip_mp4_frame02:21.jpg...\n"
     ]
    }
   ],
   "source": [
    "class File:\n",
    "  def __init__(self, file_path: str, display_name: str = None):\n",
    "    self.file_path = file_path\n",
    "    if display_name:\n",
    "      self.display_name = display_name\n",
    "    self.timestamp = get_timestamp(file_path)\n",
    "\n",
    "  def set_file_response(self, response):\n",
    "    self.response = response\n",
    "\n",
    "def get_timestamp(filename):\n",
    "  \"\"\"Extracts the frame count (as an integer) from a filename with the format\n",
    "     'output_file_prefix_frame00:00.jpg'.\n",
    "  \"\"\"\n",
    "  parts = filename.split(FRAME_PREFIX)\n",
    "  if len(parts) != 2:\n",
    "      return None  # Indicates the filename might be incorrectly formatted\n",
    "  return parts[1].split('.')[0]\n",
    "\n",
    "# Process each frame in the output directory\n",
    "files = os.listdir(FRAME_EXTRACTION_DIRECTORY)\n",
    "files = sorted(files)\n",
    "files_to_upload = []\n",
    "for file in files:\n",
    "  if not file.endswith('.jpg'):\n",
    "    continue\n",
    "  files_to_upload.append(\n",
    "      File(file_path=os.path.join(FRAME_EXTRACTION_DIRECTORY, file)))\n",
    "\n",
    "# Upload the files to the API\n",
    "uploaded_files = []\n",
    "print(f'Uploading {len(files_to_upload)} files. This might take a bit...')\n",
    "\n",
    "for file in tqdm(files_to_upload):\n",
    "  print(f'Uploading: {file.file_path}...')\n",
    "  response = genai.upload_file(path=file.file_path)\n",
    "  file.set_file_response(response)\n",
    "  uploaded_files.append(file)\n",
    "\n",
    "print(f\"Completed file uploads!\\n\\nUploaded: {len(uploaded_files)} files\")\n",
    "     "
   ]
  },
  {
   "cell_type": "code",
   "execution_count": null,
   "metadata": {},
   "outputs": [
    {
     "name": "stdout",
     "output_type": "stream",
     "text": [
      "https://generativelanguage.googleapis.com/v1beta/files/8kh3z8o62llp\n",
      "https://generativelanguage.googleapis.com/v1beta/files/3zrba5l7rcpb\n",
      "https://generativelanguage.googleapis.com/v1beta/files/zjb65hq5cxxw\n",
      "https://generativelanguage.googleapis.com/v1beta/files/8hjfiv9sq49f\n",
      "https://generativelanguage.googleapis.com/v1beta/files/8ixtlya0pk7h\n",
      "https://generativelanguage.googleapis.com/v1beta/files/i733aa4u976a\n",
      "https://generativelanguage.googleapis.com/v1beta/files/eoh4yk9re5h0\n",
      "https://generativelanguage.googleapis.com/v1beta/files/xe1rcep4w9fc\n"
     ]
    }
   ],
   "source": [
    "# List files uploaded in the API\n",
    "for n, f in zip(range(len(uploaded_files)), genai.list_files()):\n",
    "  print(f.uri)"
   ]
  },
  {
   "cell_type": "code",
   "execution_count": null,
   "metadata": {},
   "outputs": [
    {
     "name": "stdout",
     "output_type": "stream",
     "text": [
      "The video starts with a blurry image of a light gray background. The audio contains two people talking about using the \"magic of Gemini\" to edit a video into a highlight reel.\n"
     ]
    }
   ],
   "source": [
    "# Create the prompt.\n",
    "prompt = \"Describe this video.\"\n",
    "\n",
    "# Set the model to Gemini 1.5 Pro.\n",
    "model = genai.GenerativeModel(model_name=\"models/gemini-1.5-pro-latest\")\n",
    "\n",
    "# Make GenerateContent request with the structure described above.\n",
    "def make_request(prompt, files):\n",
    "  request = [prompt]\n",
    "  for file in files:\n",
    "    request.append(file.timestamp)\n",
    "    request.append(file.response)\n",
    "  return request\n",
    "\n",
    "# Make the LLM request.\n",
    "request = make_request(prompt, uploaded_files) + [audio_file]\n",
    "response = model.generate_content(request,\n",
    "                                  request_options={\"timeout\": 600})\n",
    "print(response.text)"
   ]
  },
  {
   "cell_type": "code",
   "execution_count": null,
   "metadata": {},
   "outputs": [],
   "source": [
    "#print(f'Deleting {len(uploaded_files)} images. This might take a bit...')\n",
    "#for file in uploaded_files:\n",
    "#  genai.delete_file(file.response.name)\n",
    "#  print(f'Deleted {file.file_path} at URI {file.response.uri}')\n",
    "#print(f\"Completed deleting files!\\n\\nDeleted: {len(uploaded_files)} files\")"
   ]
  },
  {
   "cell_type": "code",
   "execution_count": null,
   "metadata": {},
   "outputs": [],
   "source": []
  }
 ],
 "metadata": {
  "kernelspec": {
   "display_name": "env",
   "language": "python",
   "name": "python3"
  },
  "language_info": {
   "codemirror_mode": {
    "name": "ipython",
    "version": 3
   },
   "file_extension": ".py",
   "mimetype": "text/x-python",
   "name": "python",
   "nbconvert_exporter": "python",
   "pygments_lexer": "ipython3",
   "version": "3.10.10"
  }
 },
 "nbformat": 4,
 "nbformat_minor": 2
}
